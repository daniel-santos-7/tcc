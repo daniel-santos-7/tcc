{
 "cells": [
  {
   "cell_type": "markdown",
   "metadata": {},
   "source": [
    "## UNIVERSIDADE FEDERAL RURAL DO SEMI-ÁRIDO"
   ]
  },
  {
   "cell_type": "markdown",
   "metadata": {},
   "source": [
    "## ANÁLISE DE ACIDENTES EM RODOVIAS FEDERAIS DO RN\n"
   ]
  },
  {
   "cell_type": "markdown",
   "metadata": {},
   "source": [
    "**Trabalho Desenvolvido Por: Daniel da Silva Santos**"
   ]
  },
  {
   "cell_type": "markdown",
   "metadata": {},
   "source": [
    "**Caraúbas - 2019**"
   ]
  },
  {
   "cell_type": "markdown",
   "metadata": {},
   "source": [
    "Abaixo estão as importações de módulos necessários para a análise de dados."
   ]
  },
  {
   "cell_type": "code",
   "execution_count": 1,
   "metadata": {},
   "outputs": [],
   "source": [
    "# importações\n",
    "import pandas as pd,os,warnings"
   ]
  },
  {
   "cell_type": "markdown",
   "metadata": {},
   "source": [
    "Algumas configurações pouco relevantes para o trabalho."
   ]
  },
  {
   "cell_type": "code",
   "execution_count": 2,
   "metadata": {},
   "outputs": [],
   "source": [
    "# ignorar menssagens de warnings\n",
    "warnings.filterwarnings('ignore')"
   ]
  },
  {
   "cell_type": "markdown",
   "metadata": {},
   "source": [
    "**1. Seleção de Dados**"
   ]
  },
  {
   "cell_type": "markdown",
   "metadata": {},
   "source": [
    "O conjunto de dados obtidos no site do detran se encontram em uma pasta local datatran, o código abaixo encontra esses arquivos."
   ]
  },
  {
   "cell_type": "code",
   "execution_count": 3,
   "metadata": {},
   "outputs": [],
   "source": [
    "# lista de fontes de dados (arquivos .csv)\n",
    "datatran_fontes = os.listdir('datatran')"
   ]
  },
  {
   "cell_type": "markdown",
   "metadata": {},
   "source": [
    "Devido a razões de desempenho e ao propósito do trabalho, somente alguns atributos (listados abaixo) foram selecionados."
   ]
  },
  {
   "cell_type": "code",
   "execution_count": 4,
   "metadata": {},
   "outputs": [],
   "source": [
    "# somente colunas consideradas relevantes para o trabalho\n",
    "colunas_a_estudar = ['data_inversa','uf','br','municipio','causa_acidente','tipo_acidente','classificacao_acidente','fase_dia','condicao_metereologica','tipo_pista','uso_solo']"
   ]
  },
  {
   "cell_type": "markdown",
   "metadata": {},
   "source": [
    "O código abaixo carrega as fontes de dados e seleciona os registros ocorridos no estado do RN, de acordo com os atributos julgados relevantes."
   ]
  },
  {
   "cell_type": "code",
   "execution_count": 5,
   "metadata": {},
   "outputs": [],
   "source": [
    "# ler cada arquivo de fonte de dados, selecionar apenas registros ocorridos no RN com os atributos de interesse\n",
    "datatran_rn_sep = [pd.read_csv('datatran/'+df,sep=';',encoding='ansi',usecols=colunas_a_estudar).query('uf==\"RN\"').drop('uf',axis=1) for df in datatran_fontes]"
   ]
  },
  {
   "cell_type": "markdown",
   "metadata": {},
   "source": [
    "**2. Pré-processamento**"
   ]
  },
  {
   "cell_type": "markdown",
   "metadata": {},
   "source": [
    "Os conjuntos de dados estão separados de acordo com o ano, o código abaixo integra, em um único *Data Frame*, todos os registros. "
   ]
  },
  {
   "cell_type": "code",
   "execution_count": 6,
   "metadata": {},
   "outputs": [],
   "source": [
    "# integração de dados\n",
    "datatran_rn = pd.concat(datatran_rn_sep,ignore_index=True)"
   ]
  },
  {
   "cell_type": "markdown",
   "metadata": {},
   "source": [
    "O comando seguinte exibe os primeiros registros do conjunto de dado integrado."
   ]
  },
  {
   "cell_type": "code",
   "execution_count": 7,
   "metadata": {},
   "outputs": [
    {
     "data": {
      "text/html": [
       "<div>\n",
       "<style scoped>\n",
       "    .dataframe tbody tr th:only-of-type {\n",
       "        vertical-align: middle;\n",
       "    }\n",
       "\n",
       "    .dataframe tbody tr th {\n",
       "        vertical-align: top;\n",
       "    }\n",
       "\n",
       "    .dataframe thead th {\n",
       "        text-align: right;\n",
       "    }\n",
       "</style>\n",
       "<table border=\"1\" class=\"dataframe\">\n",
       "  <thead>\n",
       "    <tr style=\"text-align: right;\">\n",
       "      <th></th>\n",
       "      <th>data_inversa</th>\n",
       "      <th>br</th>\n",
       "      <th>municipio</th>\n",
       "      <th>causa_acidente</th>\n",
       "      <th>tipo_acidente</th>\n",
       "      <th>classificacao_acidente</th>\n",
       "      <th>fase_dia</th>\n",
       "      <th>condicao_metereologica</th>\n",
       "      <th>tipo_pista</th>\n",
       "      <th>uso_solo</th>\n",
       "    </tr>\n",
       "  </thead>\n",
       "  <tbody>\n",
       "    <tr>\n",
       "      <th>0</th>\n",
       "      <td>01/01/2007</td>\n",
       "      <td>101</td>\n",
       "      <td>EXTREMOZ</td>\n",
       "      <td>Falta de atenção</td>\n",
       "      <td>Saída de Pista</td>\n",
       "      <td>Sem Vítimas</td>\n",
       "      <td>Plena noite</td>\n",
       "      <td>Ceu Claro</td>\n",
       "      <td>Simples</td>\n",
       "      <td>Rural</td>\n",
       "    </tr>\n",
       "    <tr>\n",
       "      <th>1</th>\n",
       "      <td>01/01/2007</td>\n",
       "      <td>304</td>\n",
       "      <td>MACAIBA</td>\n",
       "      <td>Outras</td>\n",
       "      <td>Colisão com objeto móvel</td>\n",
       "      <td>Com Vítimas Feridas</td>\n",
       "      <td>Plena noite</td>\n",
       "      <td>Ceu Claro</td>\n",
       "      <td>Simples</td>\n",
       "      <td>Rural</td>\n",
       "    </tr>\n",
       "    <tr>\n",
       "      <th>2</th>\n",
       "      <td>01/01/2007</td>\n",
       "      <td>101</td>\n",
       "      <td>SAO GONCALO DO AMARANTE</td>\n",
       "      <td>Não guardar distância de segurança</td>\n",
       "      <td>Colisão traseira</td>\n",
       "      <td>Sem Vítimas</td>\n",
       "      <td>Anoitecer</td>\n",
       "      <td>Ceu Claro</td>\n",
       "      <td>Dupla</td>\n",
       "      <td>Urbano</td>\n",
       "    </tr>\n",
       "    <tr>\n",
       "      <th>3</th>\n",
       "      <td>01/01/2007</td>\n",
       "      <td>101</td>\n",
       "      <td>PARNAMIRIM</td>\n",
       "      <td>Ingestão de álcool</td>\n",
       "      <td>Colisão traseira</td>\n",
       "      <td>Sem Vítimas</td>\n",
       "      <td>Pleno dia</td>\n",
       "      <td>Ceu Claro</td>\n",
       "      <td>Dupla</td>\n",
       "      <td>Rural</td>\n",
       "    </tr>\n",
       "    <tr>\n",
       "      <th>4</th>\n",
       "      <td>01/01/2007</td>\n",
       "      <td>304</td>\n",
       "      <td>MOSSORO</td>\n",
       "      <td>Não guardar distância de segurança</td>\n",
       "      <td>Colisão traseira</td>\n",
       "      <td>Sem Vítimas</td>\n",
       "      <td>Pleno dia</td>\n",
       "      <td>Ceu Claro</td>\n",
       "      <td>Simples</td>\n",
       "      <td>Urbano</td>\n",
       "    </tr>\n",
       "  </tbody>\n",
       "</table>\n",
       "</div>"
      ],
      "text/plain": [
       "  data_inversa   br                municipio  \\\n",
       "0   01/01/2007  101                 EXTREMOZ   \n",
       "1   01/01/2007  304                  MACAIBA   \n",
       "2   01/01/2007  101  SAO GONCALO DO AMARANTE   \n",
       "3   01/01/2007  101               PARNAMIRIM   \n",
       "4   01/01/2007  304                  MOSSORO   \n",
       "\n",
       "                       causa_acidente             tipo_acidente  \\\n",
       "0                    Falta de atenção            Saída de Pista   \n",
       "1                              Outras  Colisão com objeto móvel   \n",
       "2  Não guardar distância de segurança          Colisão traseira   \n",
       "3                  Ingestão de álcool          Colisão traseira   \n",
       "4  Não guardar distância de segurança          Colisão traseira   \n",
       "\n",
       "  classificacao_acidente     fase_dia condicao_metereologica tipo_pista  \\\n",
       "0            Sem Vítimas  Plena noite              Ceu Claro    Simples   \n",
       "1    Com Vítimas Feridas  Plena noite              Ceu Claro    Simples   \n",
       "2            Sem Vítimas    Anoitecer              Ceu Claro      Dupla   \n",
       "3            Sem Vítimas    Pleno dia              Ceu Claro      Dupla   \n",
       "4            Sem Vítimas    Pleno dia              Ceu Claro    Simples   \n",
       "\n",
       "  uso_solo  \n",
       "0    Rural  \n",
       "1    Rural  \n",
       "2   Urbano  \n",
       "3    Rural  \n",
       "4   Urbano  "
      ]
     },
     "execution_count": 7,
     "metadata": {},
     "output_type": "execute_result"
    }
   ],
   "source": [
    "# observar início do conjunto de dados\n",
    "datatran_rn.head()"
   ]
  },
  {
   "cell_type": "markdown",
   "metadata": {},
   "source": [
    "A quantidade de registos (linhas) e de atributos (colunas) é obtido como se segue."
   ]
  },
  {
   "cell_type": "code",
   "execution_count": 8,
   "metadata": {},
   "outputs": [
    {
     "name": "stdout",
     "output_type": "stream",
     "text": [
      "registros:  35809  atributos:  10\n"
     ]
    }
   ],
   "source": [
    "# quantidade de registros e de atributos\n",
    "registros,atributos = datatran_rn.shape\n",
    "\n",
    "print('registros: ',registros,' atributos: ',atributos)"
   ]
  },
  {
   "cell_type": "markdown",
   "metadata": {},
   "source": [
    "Verificar em quais atributos há valores nulos (não presentes), como se pode observar, aparentemente, apenas a coluna *br* apresenta esse problema."
   ]
  },
  {
   "cell_type": "code",
   "execution_count": 9,
   "metadata": {},
   "outputs": [
    {
     "data": {
      "text/plain": [
       "data_inversa              False\n",
       "br                         True\n",
       "municipio                 False\n",
       "causa_acidente            False\n",
       "tipo_acidente             False\n",
       "classificacao_acidente    False\n",
       "fase_dia                  False\n",
       "condicao_metereologica    False\n",
       "tipo_pista                False\n",
       "uso_solo                  False\n",
       "dtype: bool"
      ]
     },
     "execution_count": 9,
     "metadata": {},
     "output_type": "execute_result"
    }
   ],
   "source": [
    "# verificar valores nulos\n",
    "datatran_rn.isnull().any()"
   ]
  },
  {
   "cell_type": "markdown",
   "metadata": {},
   "source": [
    "O atributo *data_inversa* é muito importante para uma análise histórica dos acidentes, felizmente, não há valores ausentes nessa coluna, por isso, não se encontra impasse na manipulção desse atributo, contudo, para simplificar ainda mais esse processo, o comando abaixo foi executado, o qual converte os valores cronológicos em objetos facilmente manipuláveis."
   ]
  },
  {
   "cell_type": "code",
   "execution_count": 10,
   "metadata": {},
   "outputs": [],
   "source": [
    "# converter coluna 'data_inversa' para um objeto que o pandas manipula facilmente\n",
    "datatran_rn['data_inversa']=pd.to_datetime(datatran_rn['data_inversa'],dayfirst=True)"
   ]
  },
  {
   "cell_type": "markdown",
   "metadata": {},
   "source": [
    "Agora, extrair informações como dia, mês e ano do acidente se torna fácil a partir da coluna *data_inversa*. "
   ]
  },
  {
   "cell_type": "code",
   "execution_count": 11,
   "metadata": {},
   "outputs": [],
   "source": [
    "# dias da semana em que os acidentes ocorreram\n",
    "dias = datatran_rn['data_inversa'].dt.day_name(locale='pt').rename('dia')\n",
    "\n",
    "# meses em que os acidentes ocorreram\n",
    "meses = datatran_rn['data_inversa'].dt.month_name(locale='pt').rename('mes')\n",
    "\n",
    "# anos em que os acidentes ocorreram\n",
    "anos = datatran_rn['data_inversa'].dt.year.rename('ano')"
   ]
  },
  {
   "cell_type": "markdown",
   "metadata": {},
   "source": [
    "O código abaixo remove o atributo *data_inversa* (que se torna obsoleta) e insere dias, meses e anos de ocorrência."
   ]
  },
  {
   "cell_type": "code",
   "execution_count": 12,
   "metadata": {},
   "outputs": [],
   "source": [
    "# remover coluna 'data_inversa'\n",
    "datatran_rn.drop('data_inversa',axis=1,inplace=True)\n",
    "\n",
    "# inserir colunas dia, mes, ano\n",
    "datatran_rn =pd.concat([anos,meses,dias,datatran_rn],axis=1)"
   ]
  },
  {
   "cell_type": "markdown",
   "metadata": {},
   "source": [
    "O comando abaixo, novamente, exibe os primeiros registros do *Data Frame* principal, percebe-se a presença das novas colunas."
   ]
  },
  {
   "cell_type": "code",
   "execution_count": 13,
   "metadata": {},
   "outputs": [
    {
     "data": {
      "text/html": [
       "<div>\n",
       "<style scoped>\n",
       "    .dataframe tbody tr th:only-of-type {\n",
       "        vertical-align: middle;\n",
       "    }\n",
       "\n",
       "    .dataframe tbody tr th {\n",
       "        vertical-align: top;\n",
       "    }\n",
       "\n",
       "    .dataframe thead th {\n",
       "        text-align: right;\n",
       "    }\n",
       "</style>\n",
       "<table border=\"1\" class=\"dataframe\">\n",
       "  <thead>\n",
       "    <tr style=\"text-align: right;\">\n",
       "      <th></th>\n",
       "      <th>ano</th>\n",
       "      <th>mes</th>\n",
       "      <th>dia</th>\n",
       "      <th>br</th>\n",
       "      <th>municipio</th>\n",
       "      <th>causa_acidente</th>\n",
       "      <th>tipo_acidente</th>\n",
       "      <th>classificacao_acidente</th>\n",
       "      <th>fase_dia</th>\n",
       "      <th>condicao_metereologica</th>\n",
       "      <th>tipo_pista</th>\n",
       "      <th>uso_solo</th>\n",
       "    </tr>\n",
       "  </thead>\n",
       "  <tbody>\n",
       "    <tr>\n",
       "      <th>0</th>\n",
       "      <td>2007</td>\n",
       "      <td>Janeiro</td>\n",
       "      <td>Segunda-feira</td>\n",
       "      <td>101</td>\n",
       "      <td>EXTREMOZ</td>\n",
       "      <td>Falta de atenção</td>\n",
       "      <td>Saída de Pista</td>\n",
       "      <td>Sem Vítimas</td>\n",
       "      <td>Plena noite</td>\n",
       "      <td>Ceu Claro</td>\n",
       "      <td>Simples</td>\n",
       "      <td>Rural</td>\n",
       "    </tr>\n",
       "    <tr>\n",
       "      <th>1</th>\n",
       "      <td>2007</td>\n",
       "      <td>Janeiro</td>\n",
       "      <td>Segunda-feira</td>\n",
       "      <td>304</td>\n",
       "      <td>MACAIBA</td>\n",
       "      <td>Outras</td>\n",
       "      <td>Colisão com objeto móvel</td>\n",
       "      <td>Com Vítimas Feridas</td>\n",
       "      <td>Plena noite</td>\n",
       "      <td>Ceu Claro</td>\n",
       "      <td>Simples</td>\n",
       "      <td>Rural</td>\n",
       "    </tr>\n",
       "    <tr>\n",
       "      <th>2</th>\n",
       "      <td>2007</td>\n",
       "      <td>Janeiro</td>\n",
       "      <td>Segunda-feira</td>\n",
       "      <td>101</td>\n",
       "      <td>SAO GONCALO DO AMARANTE</td>\n",
       "      <td>Não guardar distância de segurança</td>\n",
       "      <td>Colisão traseira</td>\n",
       "      <td>Sem Vítimas</td>\n",
       "      <td>Anoitecer</td>\n",
       "      <td>Ceu Claro</td>\n",
       "      <td>Dupla</td>\n",
       "      <td>Urbano</td>\n",
       "    </tr>\n",
       "    <tr>\n",
       "      <th>3</th>\n",
       "      <td>2007</td>\n",
       "      <td>Janeiro</td>\n",
       "      <td>Segunda-feira</td>\n",
       "      <td>101</td>\n",
       "      <td>PARNAMIRIM</td>\n",
       "      <td>Ingestão de álcool</td>\n",
       "      <td>Colisão traseira</td>\n",
       "      <td>Sem Vítimas</td>\n",
       "      <td>Pleno dia</td>\n",
       "      <td>Ceu Claro</td>\n",
       "      <td>Dupla</td>\n",
       "      <td>Rural</td>\n",
       "    </tr>\n",
       "    <tr>\n",
       "      <th>4</th>\n",
       "      <td>2007</td>\n",
       "      <td>Janeiro</td>\n",
       "      <td>Segunda-feira</td>\n",
       "      <td>304</td>\n",
       "      <td>MOSSORO</td>\n",
       "      <td>Não guardar distância de segurança</td>\n",
       "      <td>Colisão traseira</td>\n",
       "      <td>Sem Vítimas</td>\n",
       "      <td>Pleno dia</td>\n",
       "      <td>Ceu Claro</td>\n",
       "      <td>Simples</td>\n",
       "      <td>Urbano</td>\n",
       "    </tr>\n",
       "  </tbody>\n",
       "</table>\n",
       "</div>"
      ],
      "text/plain": [
       "    ano      mes            dia   br                municipio  \\\n",
       "0  2007  Janeiro  Segunda-feira  101                 EXTREMOZ   \n",
       "1  2007  Janeiro  Segunda-feira  304                  MACAIBA   \n",
       "2  2007  Janeiro  Segunda-feira  101  SAO GONCALO DO AMARANTE   \n",
       "3  2007  Janeiro  Segunda-feira  101               PARNAMIRIM   \n",
       "4  2007  Janeiro  Segunda-feira  304                  MOSSORO   \n",
       "\n",
       "                       causa_acidente             tipo_acidente  \\\n",
       "0                    Falta de atenção            Saída de Pista   \n",
       "1                              Outras  Colisão com objeto móvel   \n",
       "2  Não guardar distância de segurança          Colisão traseira   \n",
       "3                  Ingestão de álcool          Colisão traseira   \n",
       "4  Não guardar distância de segurança          Colisão traseira   \n",
       "\n",
       "  classificacao_acidente     fase_dia condicao_metereologica tipo_pista  \\\n",
       "0            Sem Vítimas  Plena noite              Ceu Claro    Simples   \n",
       "1    Com Vítimas Feridas  Plena noite              Ceu Claro    Simples   \n",
       "2            Sem Vítimas    Anoitecer              Ceu Claro      Dupla   \n",
       "3            Sem Vítimas    Pleno dia              Ceu Claro      Dupla   \n",
       "4            Sem Vítimas    Pleno dia              Ceu Claro    Simples   \n",
       "\n",
       "  uso_solo  \n",
       "0    Rural  \n",
       "1    Rural  \n",
       "2   Urbano  \n",
       "3    Rural  \n",
       "4   Urbano  "
      ]
     },
     "execution_count": 13,
     "metadata": {},
     "output_type": "execute_result"
    }
   ],
   "source": [
    "datatran_rn.head()"
   ]
  },
  {
   "cell_type": "markdown",
   "metadata": {},
   "source": [
    "Alguns registros, por algum motivo, não indicam a BR do estado na qual ocorreu o acidente, isso pode ser um grande problema para análise, felizmente, o número de registros sem essa informação é mínimo - como se pode observar abaixo."
   ]
  },
  {
   "cell_type": "code",
   "execution_count": 14,
   "metadata": {},
   "outputs": [
    {
     "data": {
      "text/html": [
       "<div>\n",
       "<style scoped>\n",
       "    .dataframe tbody tr th:only-of-type {\n",
       "        vertical-align: middle;\n",
       "    }\n",
       "\n",
       "    .dataframe tbody tr th {\n",
       "        vertical-align: top;\n",
       "    }\n",
       "\n",
       "    .dataframe thead th {\n",
       "        text-align: right;\n",
       "    }\n",
       "</style>\n",
       "<table border=\"1\" class=\"dataframe\">\n",
       "  <thead>\n",
       "    <tr style=\"text-align: right;\">\n",
       "      <th></th>\n",
       "      <th>ano</th>\n",
       "      <th>mes</th>\n",
       "      <th>dia</th>\n",
       "      <th>br</th>\n",
       "      <th>municipio</th>\n",
       "      <th>causa_acidente</th>\n",
       "      <th>tipo_acidente</th>\n",
       "      <th>classificacao_acidente</th>\n",
       "      <th>fase_dia</th>\n",
       "      <th>condicao_metereologica</th>\n",
       "      <th>tipo_pista</th>\n",
       "      <th>uso_solo</th>\n",
       "    </tr>\n",
       "  </thead>\n",
       "  <tbody>\n",
       "    <tr>\n",
       "      <th>33541</th>\n",
       "      <td>2017</td>\n",
       "      <td>Junho</td>\n",
       "      <td>Domingo</td>\n",
       "      <td>NaN</td>\n",
       "      <td>MOSSORO                                       ...</td>\n",
       "      <td>Defeito na Via                                ...</td>\n",
       "      <td>Colisão transversal                           ...</td>\n",
       "      <td>Com Vítimas Feridas</td>\n",
       "      <td>Plena Noite</td>\n",
       "      <td>Céu Claro</td>\n",
       "      <td>Simples</td>\n",
       "      <td>Sim</td>\n",
       "    </tr>\n",
       "    <tr>\n",
       "      <th>33859</th>\n",
       "      <td>2017</td>\n",
       "      <td>Agosto</td>\n",
       "      <td>Domingo</td>\n",
       "      <td>NaN</td>\n",
       "      <td>MOSSORO                                       ...</td>\n",
       "      <td>Ingestão de Álcool                            ...</td>\n",
       "      <td>Colisão com objeto em movimento               ...</td>\n",
       "      <td>Com Vítimas Feridas</td>\n",
       "      <td>Plena Noite</td>\n",
       "      <td>Céu Claro</td>\n",
       "      <td>Simples</td>\n",
       "      <td>Não</td>\n",
       "    </tr>\n",
       "    <tr>\n",
       "      <th>34037</th>\n",
       "      <td>2017</td>\n",
       "      <td>Outubro</td>\n",
       "      <td>Sábado</td>\n",
       "      <td>NaN</td>\n",
       "      <td>EXTREMOZ                                      ...</td>\n",
       "      <td>Falta de Atenção à Condução                   ...</td>\n",
       "      <td>Colisão frontal                               ...</td>\n",
       "      <td>Com Vítimas Feridas</td>\n",
       "      <td>Pleno dia</td>\n",
       "      <td>Céu Claro</td>\n",
       "      <td>Dupla</td>\n",
       "      <td>Não</td>\n",
       "    </tr>\n",
       "    <tr>\n",
       "      <th>34508</th>\n",
       "      <td>2018</td>\n",
       "      <td>Fevereiro</td>\n",
       "      <td>Sexta-feira</td>\n",
       "      <td>NaN</td>\n",
       "      <td>AUGUSTO SEVERO</td>\n",
       "      <td>Defeito na Via</td>\n",
       "      <td>Colisão com objeto estático</td>\n",
       "      <td>Com Vítimas Feridas</td>\n",
       "      <td>Pleno dia</td>\n",
       "      <td>Céu Claro</td>\n",
       "      <td>Simples</td>\n",
       "      <td>Sim</td>\n",
       "    </tr>\n",
       "    <tr>\n",
       "      <th>34832</th>\n",
       "      <td>2018</td>\n",
       "      <td>Abril</td>\n",
       "      <td>Quinta-feira</td>\n",
       "      <td>NaN</td>\n",
       "      <td>JOAO CAMARA</td>\n",
       "      <td>Defeito na Via</td>\n",
       "      <td>Colisão com objeto estático</td>\n",
       "      <td>Com Vítimas Feridas</td>\n",
       "      <td>Plena Noite</td>\n",
       "      <td>Céu Claro</td>\n",
       "      <td>Simples</td>\n",
       "      <td>Sim</td>\n",
       "    </tr>\n",
       "  </tbody>\n",
       "</table>\n",
       "</div>"
      ],
      "text/plain": [
       "        ano        mes           dia   br  \\\n",
       "33541  2017      Junho       Domingo  NaN   \n",
       "33859  2017     Agosto       Domingo  NaN   \n",
       "34037  2017    Outubro        Sábado  NaN   \n",
       "34508  2018  Fevereiro   Sexta-feira  NaN   \n",
       "34832  2018      Abril  Quinta-feira  NaN   \n",
       "\n",
       "                                               municipio  \\\n",
       "33541  MOSSORO                                       ...   \n",
       "33859  MOSSORO                                       ...   \n",
       "34037  EXTREMOZ                                      ...   \n",
       "34508                                     AUGUSTO SEVERO   \n",
       "34832                                        JOAO CAMARA   \n",
       "\n",
       "                                          causa_acidente  \\\n",
       "33541  Defeito na Via                                ...   \n",
       "33859  Ingestão de Álcool                            ...   \n",
       "34037  Falta de Atenção à Condução                   ...   \n",
       "34508                                     Defeito na Via   \n",
       "34832                                     Defeito na Via   \n",
       "\n",
       "                                           tipo_acidente  \\\n",
       "33541  Colisão transversal                           ...   \n",
       "33859  Colisão com objeto em movimento               ...   \n",
       "34037  Colisão frontal                               ...   \n",
       "34508                        Colisão com objeto estático   \n",
       "34832                        Colisão com objeto estático   \n",
       "\n",
       "      classificacao_acidente              fase_dia condicao_metereologica  \\\n",
       "33541    Com Vítimas Feridas  Plena Noite            Céu Claro              \n",
       "33859    Com Vítimas Feridas  Plena Noite            Céu Claro              \n",
       "34037    Com Vítimas Feridas  Pleno dia              Céu Claro              \n",
       "34508    Com Vítimas Feridas             Pleno dia              Céu Claro   \n",
       "34832    Com Vítimas Feridas           Plena Noite              Céu Claro   \n",
       "\n",
       "                 tipo_pista    uso_solo  \n",
       "33541  Simples               Sim         \n",
       "33859  Simples               Não         \n",
       "34037  Dupla                 Não         \n",
       "34508               Simples         Sim  \n",
       "34832               Simples         Sim  "
      ]
     },
     "execution_count": 14,
     "metadata": {},
     "output_type": "execute_result"
    }
   ],
   "source": [
    "# registros sem informação da br\n",
    "br_nulos = datatran_rn[datatran_rn['br'].isnull()]\n",
    "\n",
    "# exibir registros\n",
    "br_nulos"
   ]
  },
  {
   "cell_type": "markdown",
   "metadata": {},
   "source": [
    "Como a quantidade de elementos com ausência do atributo *br* é muito pequena, decidiu-se atribuir manualmente esses valores. Obviamente, o melhor recurso disponível na fonte de dados para estimar esses valores ausentes é o atributo dos municípios. Desse modo, os campos faltosos foram preenchidos com o número da *br* com maior quantidade de registros em cada município (moda)."
   ]
  },
  {
   "cell_type": "code",
   "execution_count": 15,
   "metadata": {},
   "outputs": [],
   "source": [
    "# calcular modas da quantidade de ocorrências em cada município.\n",
    "br_modas = datatran_rn['br'].groupby(datatran_rn['municipio']).agg(pd.Series.mode)\n",
    "\n",
    "# receber modas dos municípios presentes nos registros com dados faltosos\n",
    "br_nulos_modas = br_modas[br_nulos['municipio']]\n",
    "\n",
    "# exibir modas\n",
    "br_nulos_modas\n",
    "\n",
    "# modificar índice\n",
    "br_nulos_modas.index = br_nulos.index\n",
    "\n",
    "# substituir valores nulos\n",
    "datatran_rn['br'].fillna(br_nulos_modas,inplace=True)"
   ]
  },
  {
   "cell_type": "markdown",
   "metadata": {},
   "source": [
    "Pode-se observar que agora não é mais encontrado valores ausentes na coluna *br*."
   ]
  },
  {
   "cell_type": "code",
   "execution_count": 16,
   "metadata": {},
   "outputs": [
    {
     "data": {
      "text/plain": [
       "ano                       False\n",
       "mes                       False\n",
       "dia                       False\n",
       "br                        False\n",
       "municipio                 False\n",
       "causa_acidente            False\n",
       "tipo_acidente             False\n",
       "classificacao_acidente    False\n",
       "fase_dia                  False\n",
       "condicao_metereologica    False\n",
       "tipo_pista                False\n",
       "uso_solo                  False\n",
       "dtype: bool"
      ]
     },
     "execution_count": 16,
     "metadata": {},
     "output_type": "execute_result"
    }
   ],
   "source": [
    "datatran_rn.isnull().any()"
   ]
  },
  {
   "cell_type": "markdown",
   "metadata": {},
   "source": [
    "Deseja-se verficiar quais são as rodovias federais do Rio Grande do Norte presentes nos registros, a seguinte linha realiza isso."
   ]
  },
  {
   "cell_type": "code",
   "execution_count": 17,
   "metadata": {},
   "outputs": [
    {
     "data": {
      "text/plain": [
       "array([101, 304, 226, 110, 406, 405, 427, '304', '226', '406', '101',\n",
       "       '405', '427', '110', '343', '501', 268, 104.0], dtype=object)"
      ]
     },
     "execution_count": 17,
     "metadata": {},
     "output_type": "execute_result"
    }
   ],
   "source": [
    "# verificar quais rodovias estão envolvidas nos acidentes\n",
    "datatran_rn['br'].unique()"
   ]
  },
  {
   "cell_type": "markdown",
   "metadata": {},
   "source": [
    "Como se observa, as classes - número da rodovia - não estão bem formatadas, uma inclusive possui ponto flutuante como se fosse um valor decimal, algumas são consideradas números outras cadeias de caracteres. Necessita-se, portanto, padronizar essas classes, os próximos comandos resolverão isso."
   ]
  },
  {
   "cell_type": "code",
   "execution_count": 18,
   "metadata": {},
   "outputs": [
    {
     "data": {
      "text/plain": [
       "array(['101', '304', '226', '110', '406', '405', '427', '343', '501',\n",
       "       '268', '104'], dtype=object)"
      ]
     },
     "execution_count": 18,
     "metadata": {},
     "output_type": "execute_result"
    }
   ],
   "source": [
    "# considerar, inicialmente, a coluna como um conjunto de valores inteiros\n",
    "datatran_rn['br'] = datatran_rn['br'].astype('int')\n",
    "\n",
    "# em seguida, convertê-los como cadeias de caracteres\n",
    "datatran_rn['br'] = datatran_rn['br'].astype('str')\n",
    "\n",
    "# observar resultado\n",
    "datatran_rn['br'].unique()"
   ]
  },
  {
   "cell_type": "markdown",
   "metadata": {},
   "source": [
    "Nota-se, ainda sobre a coluna *br*, que há classes inconsistentes, no estado do Rio Grande do Norte estão presentes apenas 9 rodovias federais, não 11, além disso, segundo o DNIT, não existe uma **BR-501** e as **BR-268**, **BR-343** não atravessam o território potiguar."
   ]
  },
  {
   "cell_type": "code",
   "execution_count": 19,
   "metadata": {},
   "outputs": [
    {
     "data": {
      "text/html": [
       "<div>\n",
       "<style scoped>\n",
       "    .dataframe tbody tr th:only-of-type {\n",
       "        vertical-align: middle;\n",
       "    }\n",
       "\n",
       "    .dataframe tbody tr th {\n",
       "        vertical-align: top;\n",
       "    }\n",
       "\n",
       "    .dataframe thead th {\n",
       "        text-align: right;\n",
       "    }\n",
       "</style>\n",
       "<table border=\"1\" class=\"dataframe\">\n",
       "  <thead>\n",
       "    <tr style=\"text-align: right;\">\n",
       "      <th></th>\n",
       "      <th>ano</th>\n",
       "      <th>mes</th>\n",
       "      <th>dia</th>\n",
       "      <th>br</th>\n",
       "      <th>municipio</th>\n",
       "      <th>causa_acidente</th>\n",
       "      <th>tipo_acidente</th>\n",
       "      <th>classificacao_acidente</th>\n",
       "      <th>fase_dia</th>\n",
       "      <th>condicao_metereologica</th>\n",
       "      <th>tipo_pista</th>\n",
       "      <th>uso_solo</th>\n",
       "    </tr>\n",
       "  </thead>\n",
       "  <tbody>\n",
       "    <tr>\n",
       "      <th>18973</th>\n",
       "      <td>2012</td>\n",
       "      <td>Maio</td>\n",
       "      <td>Sábado</td>\n",
       "      <td>343</td>\n",
       "      <td>MOSSORO</td>\n",
       "      <td>Outras</td>\n",
       "      <td>Atropelamento de pessoa</td>\n",
       "      <td>Com Vítimas Feridas</td>\n",
       "      <td>Pleno dia</td>\n",
       "      <td>Sol</td>\n",
       "      <td>Dupla</td>\n",
       "      <td>Urbano</td>\n",
       "    </tr>\n",
       "    <tr>\n",
       "      <th>19230</th>\n",
       "      <td>2012</td>\n",
       "      <td>Julho</td>\n",
       "      <td>Domingo</td>\n",
       "      <td>501</td>\n",
       "      <td>NATAL</td>\n",
       "      <td>Desobediência à sinalização</td>\n",
       "      <td>Colisão Transversal</td>\n",
       "      <td>Sem Vítimas</td>\n",
       "      <td>Plena noite</td>\n",
       "      <td>Nublado</td>\n",
       "      <td>Dupla</td>\n",
       "      <td>Urbano</td>\n",
       "    </tr>\n",
       "    <tr>\n",
       "      <th>23313</th>\n",
       "      <td>2013</td>\n",
       "      <td>Julho</td>\n",
       "      <td>Sábado</td>\n",
       "      <td>268</td>\n",
       "      <td>CEARA-MIRIM</td>\n",
       "      <td>Outras</td>\n",
       "      <td>Colisão frontal</td>\n",
       "      <td>Com Vítimas Feridas</td>\n",
       "      <td>Plena noite</td>\n",
       "      <td>Ceu Claro</td>\n",
       "      <td>Simples</td>\n",
       "      <td>Rural</td>\n",
       "    </tr>\n",
       "  </tbody>\n",
       "</table>\n",
       "</div>"
      ],
      "text/plain": [
       "        ano    mes      dia   br    municipio               causa_acidente  \\\n",
       "18973  2012   Maio   Sábado  343      MOSSORO                       Outras   \n",
       "19230  2012  Julho  Domingo  501        NATAL  Desobediência à sinalização   \n",
       "23313  2013  Julho   Sábado  268  CEARA-MIRIM                       Outras   \n",
       "\n",
       "                 tipo_acidente classificacao_acidente     fase_dia  \\\n",
       "18973  Atropelamento de pessoa    Com Vítimas Feridas    Pleno dia   \n",
       "19230      Colisão Transversal            Sem Vítimas  Plena noite   \n",
       "23313          Colisão frontal    Com Vítimas Feridas  Plena noite   \n",
       "\n",
       "      condicao_metereologica tipo_pista uso_solo  \n",
       "18973                    Sol      Dupla   Urbano  \n",
       "19230                Nublado      Dupla   Urbano  \n",
       "23313              Ceu Claro    Simples    Rural  "
      ]
     },
     "execution_count": 19,
     "metadata": {},
     "output_type": "execute_result"
    }
   ],
   "source": [
    "# registros com valores inconsistentes\n",
    "br_inconsistentes = datatran_rn[datatran_rn['br'].isin(['268','343','501'])]\n",
    "\n",
    "# exibir esses registros\n",
    "br_inconsistentes"
   ]
  },
  {
   "cell_type": "markdown",
   "metadata": {},
   "source": [
    "Os valores inconsistentes para o atributo *br* foram tratados como se fossem dados incompletos, isto é nulos, portanto, utilizou-se novamente a moda estatística para estimar esses valores."
   ]
  },
  {
   "cell_type": "code",
   "execution_count": 20,
   "metadata": {},
   "outputs": [],
   "source": [
    "# receber modas dos municípios presentes nos registros com dados inconsistentes\n",
    "br_inconsistentes_modas = br_modas[br_inconsistentes['municipio']]\n",
    "\n",
    "# exibir modas\n",
    "br_inconsistentes_modas\n",
    "\n",
    "# modificar index\n",
    "br_inconsistentes_modas.index = br_inconsistentes.index\n",
    "\n",
    "# substituir valores inconsistentes\n",
    "datatran_rn.loc[br_inconsistentes.index.array,'br'] = br_inconsistentes_modas.astype('str')"
   ]
  },
  {
   "cell_type": "markdown",
   "metadata": {},
   "source": [
    "Para padronizar os demais atributos, a linha abaixo foi executada, como antes, isso evita erros."
   ]
  },
  {
   "cell_type": "code",
   "execution_count": 21,
   "metadata": {},
   "outputs": [],
   "source": [
    "# padronizar todos os atributos exceto os já tratados ano,mes,dia,br\n",
    "datatran_rn.loc[:,'municipio':'uso_solo'] = datatran_rn.loc[:,'municipio':'uso_solo'].applymap(str.title).applymap(str.strip)"
   ]
  },
  {
   "cell_type": "markdown",
   "metadata": {},
   "source": [
    "Verificar municípios presentes nos registros."
   ]
  },
  {
   "cell_type": "code",
   "execution_count": 22,
   "metadata": {},
   "outputs": [
    {
     "data": {
      "text/plain": [
       "array(['Extremoz', 'Macaiba', 'Sao Goncalo Do Amarante', 'Parnamirim',\n",
       "       'Mossoro', 'Ares', 'Ceara-Mirim', 'Natal', 'Sao Jose De Mipibu',\n",
       "       'Guamare', 'Jandaira', 'Bom Jesus', 'Senador Eloi De Souza',\n",
       "       'Lajes', 'Currais Novos', 'Assu', 'Severiano Melo', 'Apodi',\n",
       "       'Jardim Do Serido', 'Macau', 'Angicos', 'Acari', 'Canguaretama',\n",
       "       'Caicara Do Rio Do Vento', 'Governador Dix-Sept Rosado', 'Itaja',\n",
       "       'Rio Do Fogo', 'Ipanguacu', 'Baia Formosa', 'Tangara',\n",
       "       'Santa Cruz', 'Fernando Pedroza', 'Goianinha', 'Jose Da Penha',\n",
       "       'Sao Pedro', 'Areia Branca', 'Riachuelo', 'Taipu', 'Caico',\n",
       "       'Joao Camara', 'Maxaranguape', 'Ielmo Marinho',\n",
       "       'Sao Francisco Do Oeste', 'Serra Caiada', 'Campo Redondo',\n",
       "       'Santa Maria', 'Serra Negra Do Norte', 'Upanema', 'Poco Branco',\n",
       "       'Caicara Do Norte', 'Pedro Avelino', 'Sao Paulo Do Potengi',\n",
       "       'Sao Rafael', 'Itau', 'Triunfo Potiguar', 'Touros',\n",
       "       'Lajes Pintadas', 'Jucurutu', 'Felipe Guerra', 'Pau Dos Ferros',\n",
       "       'Sao Vicente', 'Campo Grande', 'Parau', 'Florania', 'Major Sales',\n",
       "       'Riacho De Santana', 'Santana Do Matos', 'Nisia Floresta',\n",
       "       'Rodolfo Fernandes', 'Senador Georgino Avelino',\n",
       "       'Timbauba Dos Batistas', 'Tenente Laurentino Cruz',\n",
       "       'Rafael Fernandes', 'Patu', 'Almino Afonso', 'Janduis',\n",
       "       'Taboleiro Grande', 'Messias Targino', 'Antonio Martins',\n",
       "       'Luis Gomes', 'Serrinha Dos Pintos', 'Serrinha', 'Martins', 'Acu',\n",
       "       'Sao Tome', 'Augusto Severo', 'Marcelino Vieira', 'Sao Fernando'],\n",
       "      dtype=object)"
      ]
     },
     "execution_count": 22,
     "metadata": {},
     "output_type": "execute_result"
    }
   ],
   "source": [
    "# exibir municípios para verificar se estão padronizados\n",
    "datatran_rn['municipio'].unique()"
   ]
  },
  {
   "cell_type": "markdown",
   "metadata": {},
   "source": [
    "Verificar as causas de acidentes atribuidas as ocorrências."
   ]
  },
  {
   "cell_type": "code",
   "execution_count": 23,
   "metadata": {},
   "outputs": [
    {
     "data": {
      "text/plain": [
       "array(['Falta De Atenção', 'Outras', 'Não Guardar Distância De Segurança',\n",
       "       'Ingestão De Álcool', 'Defeito Na Via', 'Animais Na Pista',\n",
       "       'Desobediência À Sinalização', 'Dormindo',\n",
       "       'Ultrapassagem Indevida', 'Defeito Mecânico Em Veículo',\n",
       "       'Velocidade Incompatível', 'Falta De Atenção À Condução',\n",
       "       'Desobediência Às Normas De Trânsito Pelo Condutor',\n",
       "       'Avarias E/Ou Desgaste Excessivo No Pneu',\n",
       "       'Falta De Atenção Do Pedestre', 'Pista Escorregadia', 'Mal Súbito',\n",
       "       'Defeito Mecânico No Veículo', 'Condutor Dormindo',\n",
       "       'Restrição De Visibilidade',\n",
       "       'Sinalização Da Via Insuficiente Ou Inadequada',\n",
       "       'Objeto Estático Sobre O Leito Carroçável',\n",
       "       'Deficiência Ou Não Acionamento Do Sistema De Iluminação/Sinalização Do Veículo',\n",
       "       'Fenômenos Da Natureza', 'Carga Excessiva E/Ou Mal Acondicionada',\n",
       "       'Ingestão De Substâncias Psicoativas',\n",
       "       'Ingestão De Álcool E/Ou Substâncias Psicoativas Pelo Pedestre',\n",
       "       'Agressão Externa',\n",
       "       'Desobediência Às Normas De Trânsito Pelo Pedestre'], dtype=object)"
      ]
     },
     "execution_count": 23,
     "metadata": {},
     "output_type": "execute_result"
    }
   ],
   "source": [
    "# exibir as causas de acidentes compiladas a partir dos dados\n",
    "datatran_rn['causa_acidente'].unique()"
   ]
  },
  {
   "cell_type": "markdown",
   "metadata": {},
   "source": [
    "Observar os tipos de acidentes ocorridos."
   ]
  },
  {
   "cell_type": "code",
   "execution_count": 24,
   "metadata": {},
   "outputs": [
    {
     "data": {
      "text/plain": [
       "array(['Saída De Pista', 'Colisão Com Objeto Móvel', 'Colisão Traseira',\n",
       "       'Colisão Lateral', 'Colisão Transversal',\n",
       "       'Atropelamento De Animal', 'Capotamento', 'Colisão Frontal',\n",
       "       'Colisão Com Bicicleta', 'Colisão Com Objeto Fixo',\n",
       "       'Queda De Motocicleta / Bicicleta / Veículo', 'Tombamento',\n",
       "       'Atropelamento De Pessoa', 'Incêndio', 'Danos Eventuais',\n",
       "       'Derramamento De Carga', 'Engavetamento',\n",
       "       'Colisão Com Objeto Estático', 'Colisão Com Objeto Em Movimento',\n",
       "       'Atropelamento De Pedestre', 'Queda De Ocupante De Veículo',\n",
       "       'Saída De Leito Carroçável'], dtype=object)"
      ]
     },
     "execution_count": 24,
     "metadata": {},
     "output_type": "execute_result"
    }
   ],
   "source": [
    "# exibir os tipos de acidentes\n",
    "datatran_rn['tipo_acidente'].unique()"
   ]
  },
  {
   "cell_type": "markdown",
   "metadata": {},
   "source": [
    "Observar as classificações atribuidas aos acidentes."
   ]
  },
  {
   "cell_type": "code",
   "execution_count": 25,
   "metadata": {},
   "outputs": [
    {
     "data": {
      "text/plain": [
       "array(['Sem Vítimas', 'Com Vítimas Feridas', 'Com Vítimas Fatais',\n",
       "       'Ignorado'], dtype=object)"
      ]
     },
     "execution_count": 25,
     "metadata": {},
     "output_type": "execute_result"
    }
   ],
   "source": [
    "# exibir classificações dos acidentes\n",
    "datatran_rn['classificacao_acidente'].unique()"
   ]
  },
  {
   "cell_type": "markdown",
   "metadata": {},
   "source": [
    "Horários categóricos nos quais os acidentes ocorreram."
   ]
  },
  {
   "cell_type": "code",
   "execution_count": 26,
   "metadata": {},
   "outputs": [
    {
     "data": {
      "text/plain": [
       "array(['Plena Noite', 'Anoitecer', 'Pleno Dia', 'Amanhecer', '(Null)'],\n",
       "      dtype=object)"
      ]
     },
     "execution_count": 26,
     "metadata": {},
     "output_type": "execute_result"
    }
   ],
   "source": [
    "# exibir as fases do dias\n",
    "datatran_rn['fase_dia'].unique()"
   ]
  },
  {
   "cell_type": "markdown",
   "metadata": {},
   "source": [
    "Percebe-se que mesmo não detectado anteriormente, a coluna *fase_dia* possui um valor nulo, provavelmente isso ocorreu pois esse dado foi considerado uma cadeia de caracteres. Pode-se observar que somente uma linha possui esse atrbuto nulo, além disso, na fonte de dados original há o horário exato em que o acidente ocorreu (**14:50 h**), dessa maneira é fácil a esse elemento atribuir um valor manualmente como **PLENO DIA**."
   ]
  },
  {
   "cell_type": "code",
   "execution_count": 27,
   "metadata": {},
   "outputs": [],
   "source": [
    "# definir valor com fase de dia nulo como 'Pleno Dia'\n",
    "datatran_rn[datatran_rn['fase_dia']=='(Null)']['fase_dia'] = 'Pleno Dia'"
   ]
  },
  {
   "cell_type": "markdown",
   "metadata": {},
   "source": [
    "Observar as condicões metereológicas sobre as quais os acidentes ocorreram"
   ]
  },
  {
   "cell_type": "code",
   "execution_count": 28,
   "metadata": {},
   "outputs": [
    {
     "data": {
      "text/plain": [
       "array(['Ceu Claro', 'Nublado', 'Chuva', 'Sol', 'Ignorada', 'Vento',\n",
       "       'Nevoeiro/Neblina', 'Granizo', '(Null)', 'Céu Claro',\n",
       "       'Garoa/Chuvisco', 'Ignorado'], dtype=object)"
      ]
     },
     "execution_count": 28,
     "metadata": {},
     "output_type": "execute_result"
    }
   ],
   "source": [
    "# exibir condições metereológicas dos acidentes\n",
    "datatran_rn['condicao_metereologica'].unique()"
   ]
  },
  {
   "cell_type": "markdown",
   "metadata": {},
   "source": [
    "O mesmo problema se apresenta novamente, há valores ausentes no atributo considerado, além disso, houve acidentes que ocorreram sob a codição metereológica **GRANIZO**, considerando o clima do estado do RN é possível considerar as ocorrências dessa classe como dados ruidosos. O comando abaixo exibe os registros com essas classificações, como se pode observar apenas dois foram encontradas, como é um grupo muito pequeno, foi atribuida manualmente a essas linha a classificação **IGNORADO**."
   ]
  },
  {
   "cell_type": "code",
   "execution_count": 29,
   "metadata": {},
   "outputs": [
    {
     "data": {
      "text/html": [
       "<div>\n",
       "<style scoped>\n",
       "    .dataframe tbody tr th:only-of-type {\n",
       "        vertical-align: middle;\n",
       "    }\n",
       "\n",
       "    .dataframe tbody tr th {\n",
       "        vertical-align: top;\n",
       "    }\n",
       "\n",
       "    .dataframe thead th {\n",
       "        text-align: right;\n",
       "    }\n",
       "</style>\n",
       "<table border=\"1\" class=\"dataframe\">\n",
       "  <thead>\n",
       "    <tr style=\"text-align: right;\">\n",
       "      <th></th>\n",
       "      <th>ano</th>\n",
       "      <th>mes</th>\n",
       "      <th>dia</th>\n",
       "      <th>br</th>\n",
       "      <th>municipio</th>\n",
       "      <th>causa_acidente</th>\n",
       "      <th>tipo_acidente</th>\n",
       "      <th>classificacao_acidente</th>\n",
       "      <th>fase_dia</th>\n",
       "      <th>condicao_metereologica</th>\n",
       "      <th>tipo_pista</th>\n",
       "      <th>uso_solo</th>\n",
       "    </tr>\n",
       "  </thead>\n",
       "  <tbody>\n",
       "    <tr>\n",
       "      <th>27118</th>\n",
       "      <td>2014</td>\n",
       "      <td>Julho</td>\n",
       "      <td>Segunda-feira</td>\n",
       "      <td>226</td>\n",
       "      <td>Currais Novos</td>\n",
       "      <td>Outras</td>\n",
       "      <td>Atropelamento De Pessoa</td>\n",
       "      <td>Com Vítimas Feridas</td>\n",
       "      <td>Pleno Dia</td>\n",
       "      <td>Granizo</td>\n",
       "      <td>Dupla</td>\n",
       "      <td>Urbano</td>\n",
       "    </tr>\n",
       "    <tr>\n",
       "      <th>30901</th>\n",
       "      <td>2015</td>\n",
       "      <td>Outubro</td>\n",
       "      <td>Quarta-feira</td>\n",
       "      <td>110</td>\n",
       "      <td>Mossoro</td>\n",
       "      <td>Outras</td>\n",
       "      <td>Queda De Motocicleta / Bicicleta / Veículo</td>\n",
       "      <td>Com Vítimas Feridas</td>\n",
       "      <td>Plena Noite</td>\n",
       "      <td>(Null)</td>\n",
       "      <td>Dupla</td>\n",
       "      <td>Urbano</td>\n",
       "    </tr>\n",
       "  </tbody>\n",
       "</table>\n",
       "</div>"
      ],
      "text/plain": [
       "        ano      mes            dia   br      municipio causa_acidente  \\\n",
       "27118  2014    Julho  Segunda-feira  226  Currais Novos         Outras   \n",
       "30901  2015  Outubro   Quarta-feira  110        Mossoro         Outras   \n",
       "\n",
       "                                    tipo_acidente classificacao_acidente  \\\n",
       "27118                     Atropelamento De Pessoa    Com Vítimas Feridas   \n",
       "30901  Queda De Motocicleta / Bicicleta / Veículo    Com Vítimas Feridas   \n",
       "\n",
       "          fase_dia condicao_metereologica tipo_pista uso_solo  \n",
       "27118    Pleno Dia                Granizo      Dupla   Urbano  \n",
       "30901  Plena Noite                 (Null)      Dupla   Urbano  "
      ]
     },
     "execution_count": 29,
     "metadata": {},
     "output_type": "execute_result"
    }
   ],
   "source": [
    "# exibir linhas com condição metereológica nula ou granizo\n",
    "datatran_rn[datatran_rn['condicao_metereologica'].isin(['(Null)','Granizo'])]"
   ]
  },
  {
   "cell_type": "code",
   "execution_count": 30,
   "metadata": {},
   "outputs": [],
   "source": [
    "# atribuir classe 'Ignorado' a esses registros\n",
    "datatran_rn[datatran_rn['condicao_metereologica'].isin(['(Null)','Granizo'])]['condicao_metereologica'] = 'Ignorado'"
   ]
  },
  {
   "cell_type": "markdown",
   "metadata": {},
   "source": [
    "Percebe-se, ainda, que há outro problema no atributo de condição metereológica, os valores **CEU CLARO** e **CÉU CLARO** são considerados distintos somente devido ao acento, a linha a seguir resolve essa situação."
   ]
  },
  {
   "cell_type": "code",
   "execution_count": 31,
   "metadata": {},
   "outputs": [],
   "source": [
    "datatran_rn['condicao_metereologica'].replace('Ceu Claro','Céu Claro',inplace=True)"
   ]
  },
  {
   "cell_type": "markdown",
   "metadata": {},
   "source": [
    "Examinar os tipos de pistas"
   ]
  },
  {
   "cell_type": "code",
   "execution_count": 32,
   "metadata": {},
   "outputs": [
    {
     "data": {
      "text/plain": [
       "array(['Simples', 'Dupla', 'Múltipla'], dtype=object)"
      ]
     },
     "execution_count": 32,
     "metadata": {},
     "output_type": "execute_result"
    }
   ],
   "source": [
    "datatran_rn['tipo_pista'].unique()"
   ]
  },
  {
   "cell_type": "markdown",
   "metadata": {},
   "source": [
    "O atributo **uso_solo** indica se o acidente ocorreu com solo **URBANO** ou **RURAL**, alguns registros possuem o valor **SIM** para indicar se o acidente ocorreu em solo urbano e, logicamente, **NÃO**, para o rural. Os próximos comandos exibe isso e em seguida padroniza esses dados."
   ]
  },
  {
   "cell_type": "code",
   "execution_count": 33,
   "metadata": {},
   "outputs": [
    {
     "data": {
      "text/plain": [
       "array(['Rural', 'Urbano', 'Não', 'Sim'], dtype=object)"
      ]
     },
     "execution_count": 33,
     "metadata": {},
     "output_type": "execute_result"
    }
   ],
   "source": [
    "# exibir valores possíveis\n",
    "datatran_rn['uso_solo'].unique()"
   ]
  },
  {
   "cell_type": "code",
   "execution_count": 34,
   "metadata": {},
   "outputs": [],
   "source": [
    "# padronizar valores\n",
    "datatran_rn['uso_solo'].replace(['Sim','Não'],['Urbano','Rural'],inplace=True)"
   ]
  },
  {
   "cell_type": "markdown",
   "metadata": {},
   "source": [
    "O próximo código exibe novamente os primeiros registros presentes no *Data Frame*, agora processado."
   ]
  },
  {
   "cell_type": "code",
   "execution_count": 39,
   "metadata": {},
   "outputs": [
    {
     "data": {
      "text/html": [
       "<div>\n",
       "<style scoped>\n",
       "    .dataframe tbody tr th:only-of-type {\n",
       "        vertical-align: middle;\n",
       "    }\n",
       "\n",
       "    .dataframe tbody tr th {\n",
       "        vertical-align: top;\n",
       "    }\n",
       "\n",
       "    .dataframe thead th {\n",
       "        text-align: right;\n",
       "    }\n",
       "</style>\n",
       "<table border=\"1\" class=\"dataframe\">\n",
       "  <thead>\n",
       "    <tr style=\"text-align: right;\">\n",
       "      <th></th>\n",
       "      <th>ano</th>\n",
       "      <th>mes</th>\n",
       "      <th>dia</th>\n",
       "      <th>br</th>\n",
       "      <th>municipio</th>\n",
       "      <th>causa_acidente</th>\n",
       "      <th>tipo_acidente</th>\n",
       "      <th>classificacao_acidente</th>\n",
       "      <th>fase_dia</th>\n",
       "      <th>condicao_metereologica</th>\n",
       "      <th>tipo_pista</th>\n",
       "      <th>uso_solo</th>\n",
       "    </tr>\n",
       "  </thead>\n",
       "  <tbody>\n",
       "    <tr>\n",
       "      <th>0</th>\n",
       "      <td>2007</td>\n",
       "      <td>Janeiro</td>\n",
       "      <td>Segunda-feira</td>\n",
       "      <td>101</td>\n",
       "      <td>Extremoz</td>\n",
       "      <td>Falta De Atenção</td>\n",
       "      <td>Saída De Pista</td>\n",
       "      <td>Sem Vítimas</td>\n",
       "      <td>Plena Noite</td>\n",
       "      <td>Céu Claro</td>\n",
       "      <td>Simples</td>\n",
       "      <td>Rural</td>\n",
       "    </tr>\n",
       "    <tr>\n",
       "      <th>1</th>\n",
       "      <td>2007</td>\n",
       "      <td>Janeiro</td>\n",
       "      <td>Segunda-feira</td>\n",
       "      <td>304</td>\n",
       "      <td>Macaiba</td>\n",
       "      <td>Outras</td>\n",
       "      <td>Colisão Com Objeto Móvel</td>\n",
       "      <td>Com Vítimas Feridas</td>\n",
       "      <td>Plena Noite</td>\n",
       "      <td>Céu Claro</td>\n",
       "      <td>Simples</td>\n",
       "      <td>Rural</td>\n",
       "    </tr>\n",
       "    <tr>\n",
       "      <th>2</th>\n",
       "      <td>2007</td>\n",
       "      <td>Janeiro</td>\n",
       "      <td>Segunda-feira</td>\n",
       "      <td>101</td>\n",
       "      <td>Sao Goncalo Do Amarante</td>\n",
       "      <td>Não Guardar Distância De Segurança</td>\n",
       "      <td>Colisão Traseira</td>\n",
       "      <td>Sem Vítimas</td>\n",
       "      <td>Anoitecer</td>\n",
       "      <td>Céu Claro</td>\n",
       "      <td>Dupla</td>\n",
       "      <td>Urbano</td>\n",
       "    </tr>\n",
       "    <tr>\n",
       "      <th>3</th>\n",
       "      <td>2007</td>\n",
       "      <td>Janeiro</td>\n",
       "      <td>Segunda-feira</td>\n",
       "      <td>101</td>\n",
       "      <td>Parnamirim</td>\n",
       "      <td>Ingestão De Álcool</td>\n",
       "      <td>Colisão Traseira</td>\n",
       "      <td>Sem Vítimas</td>\n",
       "      <td>Pleno Dia</td>\n",
       "      <td>Céu Claro</td>\n",
       "      <td>Dupla</td>\n",
       "      <td>Rural</td>\n",
       "    </tr>\n",
       "    <tr>\n",
       "      <th>4</th>\n",
       "      <td>2007</td>\n",
       "      <td>Janeiro</td>\n",
       "      <td>Segunda-feira</td>\n",
       "      <td>304</td>\n",
       "      <td>Mossoro</td>\n",
       "      <td>Não Guardar Distância De Segurança</td>\n",
       "      <td>Colisão Traseira</td>\n",
       "      <td>Sem Vítimas</td>\n",
       "      <td>Pleno Dia</td>\n",
       "      <td>Céu Claro</td>\n",
       "      <td>Simples</td>\n",
       "      <td>Urbano</td>\n",
       "    </tr>\n",
       "  </tbody>\n",
       "</table>\n",
       "</div>"
      ],
      "text/plain": [
       "    ano      mes            dia   br                municipio  \\\n",
       "0  2007  Janeiro  Segunda-feira  101                 Extremoz   \n",
       "1  2007  Janeiro  Segunda-feira  304                  Macaiba   \n",
       "2  2007  Janeiro  Segunda-feira  101  Sao Goncalo Do Amarante   \n",
       "3  2007  Janeiro  Segunda-feira  101               Parnamirim   \n",
       "4  2007  Janeiro  Segunda-feira  304                  Mossoro   \n",
       "\n",
       "                       causa_acidente             tipo_acidente  \\\n",
       "0                    Falta De Atenção            Saída De Pista   \n",
       "1                              Outras  Colisão Com Objeto Móvel   \n",
       "2  Não Guardar Distância De Segurança          Colisão Traseira   \n",
       "3                  Ingestão De Álcool          Colisão Traseira   \n",
       "4  Não Guardar Distância De Segurança          Colisão Traseira   \n",
       "\n",
       "  classificacao_acidente     fase_dia condicao_metereologica tipo_pista  \\\n",
       "0            Sem Vítimas  Plena Noite              Céu Claro    Simples   \n",
       "1    Com Vítimas Feridas  Plena Noite              Céu Claro    Simples   \n",
       "2            Sem Vítimas    Anoitecer              Céu Claro      Dupla   \n",
       "3            Sem Vítimas    Pleno Dia              Céu Claro      Dupla   \n",
       "4            Sem Vítimas    Pleno Dia              Céu Claro    Simples   \n",
       "\n",
       "  uso_solo  \n",
       "0    Rural  \n",
       "1    Rural  \n",
       "2   Urbano  \n",
       "3    Rural  \n",
       "4   Urbano  "
      ]
     },
     "execution_count": 39,
     "metadata": {},
     "output_type": "execute_result"
    }
   ],
   "source": [
    "# exibir linhas iniciais de registros após todo processamento\n",
    "datatran_rn.head()"
   ]
  },
  {
   "cell_type": "markdown",
   "metadata": {},
   "source": [
    "Para salvar esse conjunto de dados processado, o bloco abaixo foi executado, um arquivo 'datatran-rn.csv' será criado."
   ]
  },
  {
   "cell_type": "code",
   "execution_count": 40,
   "metadata": {},
   "outputs": [],
   "source": [
    "# salvar conjunto de dados processados como um arquivo .csv\n",
    "datatran_rn.to_csv('datatran-rn.csv')"
   ]
  },
  {
   "cell_type": "markdown",
   "metadata": {},
   "source": [
    "**3. Exploração**"
   ]
  },
  {
   "cell_type": "markdown",
   "metadata": {},
   "source": [
    "Quantidade numérica de acidentes ocorridos em todo o RN em cada ano a partir de 2007."
   ]
  },
  {
   "cell_type": "code",
   "execution_count": 35,
   "metadata": {},
   "outputs": [],
   "source": [
    "# plotar gráfico de barras\n",
    "datatran_rn['ano'].value_counts().plot(kind='bar',color='darkred',title='Acidentes por Ano',rot='45').set(ylabel='n° de acidentes');"
   ]
  },
  {
   "cell_type": "markdown",
   "metadata": {},
   "source": [
    "Tabela com a quantidade de acidentes registrados ocorridos em cada mês de cada ano"
   ]
  },
  {
   "cell_type": "code",
   "execution_count": 36,
   "metadata": {},
   "outputs": [
    {
     "data": {
      "text/html": [
       "<div>\n",
       "<style scoped>\n",
       "    .dataframe tbody tr th:only-of-type {\n",
       "        vertical-align: middle;\n",
       "    }\n",
       "\n",
       "    .dataframe tbody tr th {\n",
       "        vertical-align: top;\n",
       "    }\n",
       "\n",
       "    .dataframe thead th {\n",
       "        text-align: right;\n",
       "    }\n",
       "</style>\n",
       "<table border=\"1\" class=\"dataframe\">\n",
       "  <thead>\n",
       "    <tr style=\"text-align: right;\">\n",
       "      <th>ano</th>\n",
       "      <th>2007</th>\n",
       "      <th>2008</th>\n",
       "      <th>2009</th>\n",
       "      <th>2010</th>\n",
       "      <th>2011</th>\n",
       "      <th>2012</th>\n",
       "      <th>2013</th>\n",
       "      <th>2014</th>\n",
       "      <th>2015</th>\n",
       "      <th>2016</th>\n",
       "      <th>2017</th>\n",
       "      <th>2018</th>\n",
       "    </tr>\n",
       "    <tr>\n",
       "      <th>mes</th>\n",
       "      <th></th>\n",
       "      <th></th>\n",
       "      <th></th>\n",
       "      <th></th>\n",
       "      <th></th>\n",
       "      <th></th>\n",
       "      <th></th>\n",
       "      <th></th>\n",
       "      <th></th>\n",
       "      <th></th>\n",
       "      <th></th>\n",
       "      <th></th>\n",
       "    </tr>\n",
       "  </thead>\n",
       "  <tbody>\n",
       "    <tr>\n",
       "      <th>Janeiro</th>\n",
       "      <td>262</td>\n",
       "      <td>241</td>\n",
       "      <td>251</td>\n",
       "      <td>319</td>\n",
       "      <td>361</td>\n",
       "      <td>354</td>\n",
       "      <td>331</td>\n",
       "      <td>328</td>\n",
       "      <td>257</td>\n",
       "      <td>167</td>\n",
       "      <td>105</td>\n",
       "      <td>113</td>\n",
       "    </tr>\n",
       "    <tr>\n",
       "      <th>Fevereiro</th>\n",
       "      <td>219</td>\n",
       "      <td>267</td>\n",
       "      <td>254</td>\n",
       "      <td>262</td>\n",
       "      <td>298</td>\n",
       "      <td>332</td>\n",
       "      <td>299</td>\n",
       "      <td>271</td>\n",
       "      <td>239</td>\n",
       "      <td>126</td>\n",
       "      <td>107</td>\n",
       "      <td>128</td>\n",
       "    </tr>\n",
       "    <tr>\n",
       "      <th>Março</th>\n",
       "      <td>223</td>\n",
       "      <td>275</td>\n",
       "      <td>230</td>\n",
       "      <td>338</td>\n",
       "      <td>323</td>\n",
       "      <td>293</td>\n",
       "      <td>370</td>\n",
       "      <td>334</td>\n",
       "      <td>290</td>\n",
       "      <td>128</td>\n",
       "      <td>133</td>\n",
       "      <td>148</td>\n",
       "    </tr>\n",
       "    <tr>\n",
       "      <th>Abril</th>\n",
       "      <td>253</td>\n",
       "      <td>301</td>\n",
       "      <td>263</td>\n",
       "      <td>271</td>\n",
       "      <td>342</td>\n",
       "      <td>339</td>\n",
       "      <td>330</td>\n",
       "      <td>326</td>\n",
       "      <td>284</td>\n",
       "      <td>123</td>\n",
       "      <td>140</td>\n",
       "      <td>118</td>\n",
       "    </tr>\n",
       "    <tr>\n",
       "      <th>Maio</th>\n",
       "      <td>221</td>\n",
       "      <td>290</td>\n",
       "      <td>293</td>\n",
       "      <td>351</td>\n",
       "      <td>351</td>\n",
       "      <td>330</td>\n",
       "      <td>310</td>\n",
       "      <td>308</td>\n",
       "      <td>273</td>\n",
       "      <td>128</td>\n",
       "      <td>123</td>\n",
       "      <td>121</td>\n",
       "    </tr>\n",
       "    <tr>\n",
       "      <th>Junho</th>\n",
       "      <td>246</td>\n",
       "      <td>97</td>\n",
       "      <td>248</td>\n",
       "      <td>291</td>\n",
       "      <td>295</td>\n",
       "      <td>287</td>\n",
       "      <td>303</td>\n",
       "      <td>270</td>\n",
       "      <td>269</td>\n",
       "      <td>138</td>\n",
       "      <td>119</td>\n",
       "      <td>102</td>\n",
       "    </tr>\n",
       "    <tr>\n",
       "      <th>Julho</th>\n",
       "      <td>223</td>\n",
       "      <td>96</td>\n",
       "      <td>307</td>\n",
       "      <td>311</td>\n",
       "      <td>351</td>\n",
       "      <td>313</td>\n",
       "      <td>315</td>\n",
       "      <td>263</td>\n",
       "      <td>153</td>\n",
       "      <td>165</td>\n",
       "      <td>114</td>\n",
       "      <td>108</td>\n",
       "    </tr>\n",
       "    <tr>\n",
       "      <th>Agosto</th>\n",
       "      <td>274</td>\n",
       "      <td>242</td>\n",
       "      <td>290</td>\n",
       "      <td>331</td>\n",
       "      <td>367</td>\n",
       "      <td>306</td>\n",
       "      <td>337</td>\n",
       "      <td>329</td>\n",
       "      <td>144</td>\n",
       "      <td>137</td>\n",
       "      <td>111</td>\n",
       "      <td>127</td>\n",
       "    </tr>\n",
       "    <tr>\n",
       "      <th>Setembro</th>\n",
       "      <td>266</td>\n",
       "      <td>237</td>\n",
       "      <td>284</td>\n",
       "      <td>369</td>\n",
       "      <td>319</td>\n",
       "      <td>335</td>\n",
       "      <td>317</td>\n",
       "      <td>315</td>\n",
       "      <td>148</td>\n",
       "      <td>137</td>\n",
       "      <td>114</td>\n",
       "      <td>110</td>\n",
       "    </tr>\n",
       "    <tr>\n",
       "      <th>Outubro</th>\n",
       "      <td>276</td>\n",
       "      <td>278</td>\n",
       "      <td>292</td>\n",
       "      <td>375</td>\n",
       "      <td>371</td>\n",
       "      <td>358</td>\n",
       "      <td>325</td>\n",
       "      <td>297</td>\n",
       "      <td>164</td>\n",
       "      <td>140</td>\n",
       "      <td>130</td>\n",
       "      <td>105</td>\n",
       "    </tr>\n",
       "    <tr>\n",
       "      <th>Novembro</th>\n",
       "      <td>284</td>\n",
       "      <td>269</td>\n",
       "      <td>259</td>\n",
       "      <td>351</td>\n",
       "      <td>338</td>\n",
       "      <td>315</td>\n",
       "      <td>379</td>\n",
       "      <td>333</td>\n",
       "      <td>153</td>\n",
       "      <td>121</td>\n",
       "      <td>103</td>\n",
       "      <td>106</td>\n",
       "    </tr>\n",
       "    <tr>\n",
       "      <th>Dezembro</th>\n",
       "      <td>320</td>\n",
       "      <td>281</td>\n",
       "      <td>344</td>\n",
       "      <td>366</td>\n",
       "      <td>367</td>\n",
       "      <td>306</td>\n",
       "      <td>359</td>\n",
       "      <td>301</td>\n",
       "      <td>147</td>\n",
       "      <td>116</td>\n",
       "      <td>157</td>\n",
       "      <td>128</td>\n",
       "    </tr>\n",
       "  </tbody>\n",
       "</table>\n",
       "</div>"
      ],
      "text/plain": [
       "ano        2007  2008  2009  2010  2011  2012  2013  2014  2015  2016  2017  \\\n",
       "mes                                                                           \n",
       "Janeiro     262   241   251   319   361   354   331   328   257   167   105   \n",
       "Fevereiro   219   267   254   262   298   332   299   271   239   126   107   \n",
       "Março       223   275   230   338   323   293   370   334   290   128   133   \n",
       "Abril       253   301   263   271   342   339   330   326   284   123   140   \n",
       "Maio        221   290   293   351   351   330   310   308   273   128   123   \n",
       "Junho       246    97   248   291   295   287   303   270   269   138   119   \n",
       "Julho       223    96   307   311   351   313   315   263   153   165   114   \n",
       "Agosto      274   242   290   331   367   306   337   329   144   137   111   \n",
       "Setembro    266   237   284   369   319   335   317   315   148   137   114   \n",
       "Outubro     276   278   292   375   371   358   325   297   164   140   130   \n",
       "Novembro    284   269   259   351   338   315   379   333   153   121   103   \n",
       "Dezembro    320   281   344   366   367   306   359   301   147   116   157   \n",
       "\n",
       "ano        2018  \n",
       "mes              \n",
       "Janeiro     113  \n",
       "Fevereiro   128  \n",
       "Março       148  \n",
       "Abril       118  \n",
       "Maio        121  \n",
       "Junho       102  \n",
       "Julho       108  \n",
       "Agosto      127  \n",
       "Setembro    110  \n",
       "Outubro     105  \n",
       "Novembro    106  \n",
       "Dezembro    128  "
      ]
     },
     "execution_count": 36,
     "metadata": {},
     "output_type": "execute_result"
    }
   ],
   "source": [
    "# construir tabela\n",
    "acidentes_ano_mes = pd.crosstab(datatran_rn['mes'].astype(pd.CategoricalDtype(datatran_rn['mes'].unique(),ordered=True)),datatran_rn['ano'])\n",
    "\n",
    "# exibir tabela\n",
    "acidentes_ano_mes"
   ]
  },
  {
   "cell_type": "code",
   "execution_count": 37,
   "metadata": {},
   "outputs": [
    {
     "data": {
      "image/png": "[encoded data removed]",
      "text/plain": [
       "<Figure size 1080x1080 with 12 Axes>"
      ]
     },
     "metadata": {
      "needs_background": "light"
     },
     "output_type": "display_data"
    }
   ],
   "source": [
    "# construir plotagem\n",
    "acidentes_ano_mes.plot(kind='bar',subplots=True,sharey=True,layout=(4,3), figsize=(15,15), legend=False,title='Acidentes por Ano e Mês');"
   ]
  },
  {
   "cell_type": "code",
   "execution_count": 38,
   "metadata": {},
   "outputs": [
    {
     "data": {
      "image/png": "[encoded data removed]",
      "text/plain": [
       "<Figure size 432x288 with 1 Axes>"
      ]
     },
     "metadata": {
      "needs_background": "light"
     },
     "output_type": "display_data"
    }
   ],
   "source": [
    "datatran_rn['municipio'].value_counts().head(10).plot(kind='bar');"
   ]
  }
 ],
 "metadata": {
  "kernelspec": {
   "display_name": "Python 3",
   "language": "python",
   "name": "python3"
  },
  "language_info": {
   "codemirror_mode": {
    "name": "ipython",
    "version": 3
   },
   "file_extension": ".py",
   "mimetype": "text/x-python",
   "name": "python",
   "nbconvert_exporter": "python",
   "pygments_lexer": "ipython3",
   "version": "3.7.0"
  }
 },
 "nbformat": 4,
 "nbformat_minor": 2
}
