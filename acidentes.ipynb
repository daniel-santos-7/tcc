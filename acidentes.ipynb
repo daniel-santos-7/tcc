{
 "cells": [
  {
   "cell_type": "markdown",
   "metadata": {},
   "source": [
    "## UNIVERSIDADE FEDERAL RURAL DO SEMI-ÁRIDO"
   ]
  },
  {
   "cell_type": "markdown",
   "metadata": {},
   "source": [
    "## ANÁLISE DE ACIDENTES EM RODOVIAS FEDERAIS DO RN\n"
   ]
  },
  {
   "cell_type": "markdown",
   "metadata": {},
   "source": [
    "**Trabalho Desenvolvido Por: Daniel da Silva Santos**"
   ]
  },
  {
   "cell_type": "markdown",
   "metadata": {},
   "source": [
    "**Caraúbas - 2019**"
   ]
  },
  {
   "cell_type": "markdown",
   "metadata": {},
   "source": [
    "**Índice**:\n",
    "1. [Seleção de Dados](#1.-Sele%C3%A7%C3%A3o-de-Dados)\n",
    "2. [Pré-processamento](#2.-Pr%C3%A9-processamento)\n",
    "3. [Exploração](#3.-Explora%C3%A7%C3%A3o)\n",
    "4. [Transformação](#4.-Transforma%C3%A7%C3%A3o)"
   ]
  },
  {
   "cell_type": "markdown",
   "metadata": {},
   "source": [
    "Abaixo estão as importações de módulos necessários para a análise de dados."
   ]
  },
  {
   "cell_type": "code",
   "execution_count": 1,
   "metadata": {},
   "outputs": [],
   "source": [
    "# importações\n",
    "import pandas as pd, seaborn as sns,matplotlib.pyplot as plt,os,warnings"
   ]
  },
  {
   "cell_type": "markdown",
   "metadata": {},
   "source": [
    "Algumas configurações pouco relevantes para o trabalho."
   ]
  },
  {
   "cell_type": "code",
   "execution_count": 2,
   "metadata": {},
   "outputs": [],
   "source": [
    "# ignorar menssagens de warnings\n",
    "warnings.filterwarnings('ignore')"
   ]
  },
  {
   "cell_type": "markdown",
   "metadata": {},
   "source": [
    "### 1. Seleção de Dados"
   ]
  },
  {
   "cell_type": "markdown",
   "metadata": {},
   "source": [
    "O conjunto de dados obtidos no site da PRF se encontram em uma pasta local datatran, o código abaixo encontra esses arquivos."
   ]
  },
  {
   "cell_type": "code",
   "execution_count": 3,
   "metadata": {},
   "outputs": [],
   "source": [
    "# lista de fontes de dados (arquivos .csv)\n",
    "acidentes_fontes = os.listdir('acidentes')"
   ]
  },
  {
   "cell_type": "markdown",
   "metadata": {},
   "source": [
    "Devido a razões de desempenho e ao propósito do trabalho, somente alguns atributos (listados abaixo) foram selecionados."
   ]
  },
  {
   "cell_type": "code",
   "execution_count": 4,
   "metadata": {},
   "outputs": [],
   "source": [
    "# somente colunas consideradas relevantes para o trabalho\n",
    "colunas_a_estudar = ['id','data_inversa','uf','br','municipio','causa_acidente','tipo_acidente','classificacao_acidente','fase_dia','condicao_metereologica','tipo_pista','uso_solo','idade','sexo']"
   ]
  },
  {
   "cell_type": "markdown",
   "metadata": {},
   "source": [
    "O código abaixo carrega as fontes de dados e extrai os registros ocorridos no RN de acordo com atributos julgados relevantes."
   ]
  },
  {
   "cell_type": "code",
   "execution_count": 5,
   "metadata": {},
   "outputs": [],
   "source": [
    "# ler cada arquivo de fonte de dados, selecionar os atributos de interesse dos registros ocorridos no RN\n",
    "acidentes_rn_sep = [pd.read_csv('acidentes/'+df,sep=None,encoding='ansi',usecols=colunas_a_estudar).query('uf==\"RN\"') for df in acidentes_fontes]"
   ]
  },
  {
   "cell_type": "markdown",
   "metadata": {},
   "source": [
    "Salvar registros ocorridos no estado do Rio Grande do Norte com os atributos relevantes em uma pasta local *acidentes-rn*"
   ]
  },
  {
   "cell_type": "code",
   "execution_count": 6,
   "metadata": {},
   "outputs": [],
   "source": [
    "# salvar registros ocorridos no RN como arquivos .csv\n",
    "for ano,arquivo in enumerate(acidentes_rn_sep,2007):\n",
    "    arquivo.to_csv('acidentes-rn/acidentesrn'+str(ano)+'.csv',index=False)"
   ]
  },
  {
   "cell_type": "markdown",
   "metadata": {},
   "source": [
    "### 2. Pré-processamento"
   ]
  },
  {
   "cell_type": "markdown",
   "metadata": {},
   "source": [
    "Ler arquivos com registros e atributos selecionados na seção [anterior](#1.-Sele%C3%A7%C3%A3o-de-Dados)."
   ]
  },
  {
   "cell_type": "code",
   "execution_count": 7,
   "metadata": {},
   "outputs": [],
   "source": [
    "acidentes_rn = [pd.read_csv('acidentes-rn/'+df) for df in os.listdir('acidentes-rn')]"
   ]
  },
  {
   "cell_type": "markdown",
   "metadata": {},
   "source": [
    "Os conjuntos de dados estão separados de acordo com o ano, o código abaixo integra, em um único *Data Frame*, todos os registros. "
   ]
  },
  {
   "cell_type": "code",
   "execution_count": 8,
   "metadata": {},
   "outputs": [],
   "source": [
    "# integração de dados\n",
    "acidentes_rn = pd.concat(acidentes_rn,ignore_index=True)"
   ]
  },
  {
   "cell_type": "markdown",
   "metadata": {},
   "source": [
    "O comando seguinte exibe os primeiros registros do conjunto de dado integrado."
   ]
  },
  {
   "cell_type": "code",
   "execution_count": 9,
   "metadata": {},
   "outputs": [
    {
     "data": {
      "text/html": [
       "<div>\n",
       "<style scoped>\n",
       "    .dataframe tbody tr th:only-of-type {\n",
       "        vertical-align: middle;\n",
       "    }\n",
       "\n",
       "    .dataframe tbody tr th {\n",
       "        vertical-align: top;\n",
       "    }\n",
       "\n",
       "    .dataframe thead th {\n",
       "        text-align: right;\n",
       "    }\n",
       "</style>\n",
       "<table border=\"1\" class=\"dataframe\">\n",
       "  <thead>\n",
       "    <tr style=\"text-align: right;\">\n",
       "      <th></th>\n",
       "      <th>id</th>\n",
       "      <th>data_inversa</th>\n",
       "      <th>uf</th>\n",
       "      <th>br</th>\n",
       "      <th>municipio</th>\n",
       "      <th>causa_acidente</th>\n",
       "      <th>tipo_acidente</th>\n",
       "      <th>classificacao_acidente</th>\n",
       "      <th>fase_dia</th>\n",
       "      <th>condicao_metereologica</th>\n",
       "      <th>tipo_pista</th>\n",
       "      <th>uso_solo</th>\n",
       "      <th>idade</th>\n",
       "      <th>sexo</th>\n",
       "    </tr>\n",
       "  </thead>\n",
       "  <tbody>\n",
       "    <tr>\n",
       "      <th>0</th>\n",
       "      <td>173746.0</td>\n",
       "      <td>01/01/2007</td>\n",
       "      <td>RN</td>\n",
       "      <td>101.0</td>\n",
       "      <td>EXTREMOZ</td>\n",
       "      <td>Falta de atenção</td>\n",
       "      <td>Saída de Pista</td>\n",
       "      <td>Sem Vítimas</td>\n",
       "      <td>Plena noite</td>\n",
       "      <td>Ceu Claro</td>\n",
       "      <td>Simples</td>\n",
       "      <td>Rural</td>\n",
       "      <td>40.0</td>\n",
       "      <td>Masculino</td>\n",
       "    </tr>\n",
       "    <tr>\n",
       "      <th>1</th>\n",
       "      <td>173937.0</td>\n",
       "      <td>01/01/2007</td>\n",
       "      <td>RN</td>\n",
       "      <td>304.0</td>\n",
       "      <td>MACAIBA</td>\n",
       "      <td>Outras</td>\n",
       "      <td>Colisão com objeto móvel</td>\n",
       "      <td>Com Vítimas Feridas</td>\n",
       "      <td>Plena noite</td>\n",
       "      <td>Ceu Claro</td>\n",
       "      <td>Simples</td>\n",
       "      <td>Rural</td>\n",
       "      <td>23.0</td>\n",
       "      <td>Masculino</td>\n",
       "    </tr>\n",
       "    <tr>\n",
       "      <th>2</th>\n",
       "      <td>173943.0</td>\n",
       "      <td>01/01/2007</td>\n",
       "      <td>RN</td>\n",
       "      <td>101.0</td>\n",
       "      <td>SAO GONCALO DO AMARANTE</td>\n",
       "      <td>Não guardar distância de segurança</td>\n",
       "      <td>Colisão traseira</td>\n",
       "      <td>Sem Vítimas</td>\n",
       "      <td>Anoitecer</td>\n",
       "      <td>Ceu Claro</td>\n",
       "      <td>Dupla</td>\n",
       "      <td>Urbano</td>\n",
       "      <td>-1.0</td>\n",
       "      <td>Masculino</td>\n",
       "    </tr>\n",
       "    <tr>\n",
       "      <th>3</th>\n",
       "      <td>173943.0</td>\n",
       "      <td>01/01/2007</td>\n",
       "      <td>RN</td>\n",
       "      <td>101.0</td>\n",
       "      <td>SAO GONCALO DO AMARANTE</td>\n",
       "      <td>Não guardar distância de segurança</td>\n",
       "      <td>Colisão traseira</td>\n",
       "      <td>Sem Vítimas</td>\n",
       "      <td>Anoitecer</td>\n",
       "      <td>Ceu Claro</td>\n",
       "      <td>Dupla</td>\n",
       "      <td>Urbano</td>\n",
       "      <td>-1.0</td>\n",
       "      <td>Masculino</td>\n",
       "    </tr>\n",
       "    <tr>\n",
       "      <th>4</th>\n",
       "      <td>173965.0</td>\n",
       "      <td>01/01/2007</td>\n",
       "      <td>RN</td>\n",
       "      <td>101.0</td>\n",
       "      <td>PARNAMIRIM</td>\n",
       "      <td>Ingestão de álcool</td>\n",
       "      <td>Colisão traseira</td>\n",
       "      <td>Sem Vítimas</td>\n",
       "      <td>Pleno dia</td>\n",
       "      <td>Ceu Claro</td>\n",
       "      <td>Dupla</td>\n",
       "      <td>Rural</td>\n",
       "      <td>32.0</td>\n",
       "      <td>Masculino</td>\n",
       "    </tr>\n",
       "  </tbody>\n",
       "</table>\n",
       "</div>"
      ],
      "text/plain": [
       "         id data_inversa  uf     br                municipio  \\\n",
       "0  173746.0   01/01/2007  RN  101.0                 EXTREMOZ   \n",
       "1  173937.0   01/01/2007  RN  304.0                  MACAIBA   \n",
       "2  173943.0   01/01/2007  RN  101.0  SAO GONCALO DO AMARANTE   \n",
       "3  173943.0   01/01/2007  RN  101.0  SAO GONCALO DO AMARANTE   \n",
       "4  173965.0   01/01/2007  RN  101.0               PARNAMIRIM   \n",
       "\n",
       "                       causa_acidente             tipo_acidente  \\\n",
       "0                    Falta de atenção            Saída de Pista   \n",
       "1                              Outras  Colisão com objeto móvel   \n",
       "2  Não guardar distância de segurança          Colisão traseira   \n",
       "3  Não guardar distância de segurança          Colisão traseira   \n",
       "4                  Ingestão de álcool          Colisão traseira   \n",
       "\n",
       "  classificacao_acidente     fase_dia condicao_metereologica tipo_pista  \\\n",
       "0    Sem Vítimas          Plena noite              Ceu Claro   Simples    \n",
       "1    Com Vítimas Feridas  Plena noite              Ceu Claro   Simples    \n",
       "2    Sem Vítimas            Anoitecer              Ceu Claro   Dupla      \n",
       "3    Sem Vítimas            Anoitecer              Ceu Claro   Dupla      \n",
       "4    Sem Vítimas            Pleno dia              Ceu Claro   Dupla      \n",
       "\n",
       "  uso_solo  idade       sexo  \n",
       "0   Rural    40.0  Masculino  \n",
       "1   Rural    23.0  Masculino  \n",
       "2   Urbano   -1.0  Masculino  \n",
       "3   Urbano   -1.0  Masculino  \n",
       "4   Rural    32.0  Masculino  "
      ]
     },
     "execution_count": 9,
     "metadata": {},
     "output_type": "execute_result"
    }
   ],
   "source": [
    "# observar início do conjunto de dados\n",
    "acidentes_rn.head()"
   ]
  },
  {
   "cell_type": "markdown",
   "metadata": {},
   "source": [
    "Verificar atributos e os tipos desses, presentes na tabela."
   ]
  },
  {
   "cell_type": "code",
   "execution_count": 10,
   "metadata": {},
   "outputs": [
    {
     "data": {
      "text/plain": [
       "id                        float64\n",
       "data_inversa               object\n",
       "uf                         object\n",
       "br                        float64\n",
       "municipio                  object\n",
       "causa_acidente             object\n",
       "tipo_acidente              object\n",
       "classificacao_acidente     object\n",
       "fase_dia                   object\n",
       "condicao_metereologica     object\n",
       "tipo_pista                 object\n",
       "uso_solo                   object\n",
       "idade                     float64\n",
       "sexo                       object\n",
       "dtype: object"
      ]
     },
     "execution_count": 10,
     "metadata": {},
     "output_type": "execute_result"
    }
   ],
   "source": [
    "# tipos dos atributos\n",
    "acidentes_rn.dtypes"
   ]
  },
  {
   "cell_type": "markdown",
   "metadata": {},
   "source": [
    "A quantidade de registos (linhas) e de atributos (colunas) é obtido como se segue."
   ]
  },
  {
   "cell_type": "code",
   "execution_count": 11,
   "metadata": {},
   "outputs": [
    {
     "name": "stdout",
     "output_type": "stream",
     "text": [
      "registros:  78356  atributos:  14\n"
     ]
    }
   ],
   "source": [
    "# quantidade de registros e de atributos\n",
    "registros,atributos = acidentes_rn.shape\n",
    "\n",
    "print('registros: ',registros,' atributos: ',atributos)"
   ]
  },
  {
   "cell_type": "markdown",
   "metadata": {},
   "source": [
    "Verificar em quais atributos há valores nulos (não presentes)."
   ]
  },
  {
   "cell_type": "code",
   "execution_count": 12,
   "metadata": {},
   "outputs": [
    {
     "data": {
      "text/plain": [
       "id                        False\n",
       "data_inversa              False\n",
       "uf                        False\n",
       "br                         True\n",
       "municipio                 False\n",
       "causa_acidente            False\n",
       "tipo_acidente             False\n",
       "classificacao_acidente    False\n",
       "fase_dia                  False\n",
       "condicao_metereologica    False\n",
       "tipo_pista                False\n",
       "uso_solo                  False\n",
       "idade                      True\n",
       "sexo                       True\n",
       "dtype: bool"
      ]
     },
     "execution_count": 12,
     "metadata": {},
     "output_type": "execute_result"
    }
   ],
   "source": [
    "# verificar valores nulos\n",
    "acidentes_rn.isnull().any()"
   ]
  },
  {
   "cell_type": "markdown",
   "metadata": {},
   "source": [
    "É preferível que a coluna *id* presente no conjunto de dados seja tratada como índice, pois essa variável diferencia as ocorrências de acidentes. Para que isso seja realizado, primeiramente essa coluna será considerada um tipo categórico."
   ]
  },
  {
   "cell_type": "code",
   "execution_count": 13,
   "metadata": {},
   "outputs": [
    {
     "data": {
      "text/plain": [
       "dtype('O')"
      ]
     },
     "execution_count": 13,
     "metadata": {},
     "output_type": "execute_result"
    }
   ],
   "source": [
    "# definir o id dos acidentes como um tipo de categoria (str)\n",
    "acidentes_rn['id'] = acidentes_rn['id'].astype('int32').astype('str')\n",
    "\n",
    "# verificar resultado\n",
    "acidentes_rn['id'].dtype"
   ]
  },
  {
   "cell_type": "markdown",
   "metadata": {},
   "source": [
    "O comando abaixo seleciona, então, a coluna *id* para ser o *index* da tabela."
   ]
  },
  {
   "cell_type": "code",
   "execution_count": 14,
   "metadata": {},
   "outputs": [
    {
     "data": {
      "text/plain": [
       "Index(['173746', '173937', '173943', '173943', '173965', '173965', '173965',\n",
       "       '173991', '173991', '174009',\n",
       "       ...\n",
       "       '186997', '187108', '187108', '187108', '187108', '188265', '188265',\n",
       "       '188460', '188460', '191176'],\n",
       "      dtype='object', name='id', length=78356)"
      ]
     },
     "execution_count": 14,
     "metadata": {},
     "output_type": "execute_result"
    }
   ],
   "source": [
    "# definir coluna 'id' como índice da tabela\n",
    "acidentes_rn.set_index('id',inplace=True)\n",
    "\n",
    "# exibir novo índice\n",
    "acidentes_rn.index"
   ]
  },
  {
   "cell_type": "markdown",
   "metadata": {},
   "source": [
    "Ao analisar os atributos, verifica-se que a variável *uf* se torna irrelevante, haja vista que há apenas registros ocorridos no RN agora. O comando abaixo remove essa coluna do conjunto de dados."
   ]
  },
  {
   "cell_type": "code",
   "execution_count": 15,
   "metadata": {},
   "outputs": [
    {
     "data": {
      "text/plain": [
       "Index(['data_inversa', 'br', 'municipio', 'causa_acidente', 'tipo_acidente',\n",
       "       'classificacao_acidente', 'fase_dia', 'condicao_metereologica',\n",
       "       'tipo_pista', 'uso_solo', 'idade', 'sexo'],\n",
       "      dtype='object')"
      ]
     },
     "execution_count": 15,
     "metadata": {},
     "output_type": "execute_result"
    }
   ],
   "source": [
    "# remover coluna 'uf'\n",
    "acidentes_rn.drop('uf',axis=1,inplace=True)\n",
    "\n",
    "# verificar colunas da base de dados, percebe-se a ausência da coluna removida.\n",
    "acidentes_rn.columns"
   ]
  },
  {
   "cell_type": "markdown",
   "metadata": {},
   "source": [
    "O atributo *data_inversa* é muito importante para uma análise histórica dos acidentes, felizmente, não há valores ausentes nessa coluna, por isso, não se encontra impasse na manipulção desse atributo, contudo, para simplificar ainda mais esse processo, o comando abaixo foi executado, o qual converte os valores cronológicos em objetos facilmente manipuláveis."
   ]
  },
  {
   "cell_type": "code",
   "execution_count": 16,
   "metadata": {},
   "outputs": [],
   "source": [
    "# converter coluna 'data_inversa' para um objeto que o pandas manipula facilmente\n",
    "acidentes_rn['data_inversa']=pd.to_datetime(acidentes_rn['data_inversa'],dayfirst=True)"
   ]
  },
  {
   "cell_type": "markdown",
   "metadata": {},
   "source": [
    "Agora, extrair informações como dia, mês e ano do acidente se torna fácil a partir da coluna *data_inversa*. "
   ]
  },
  {
   "cell_type": "code",
   "execution_count": 17,
   "metadata": {},
   "outputs": [],
   "source": [
    "# dias da semana em que os acidentes ocorreram\n",
    "dias = acidentes_rn['data_inversa'].dt.day_name(locale='pt').rename('dia')\n",
    "\n",
    "# meses em que os acidentes ocorreram\n",
    "meses = acidentes_rn['data_inversa'].dt.month_name(locale='pt').rename('mes')\n",
    "\n",
    "# anos em que os acidentes ocorreram\n",
    "anos = acidentes_rn['data_inversa'].dt.year.rename('ano').astype('str')"
   ]
  },
  {
   "cell_type": "markdown",
   "metadata": {},
   "source": [
    "O código abaixo remove o atributo *data_inversa* (que se torna obsoleto) e insere dias, meses e anos de ocorrência."
   ]
  },
  {
   "cell_type": "code",
   "execution_count": 18,
   "metadata": {},
   "outputs": [],
   "source": [
    "# remover coluna 'data_inversa'\n",
    "acidentes_rn.drop('data_inversa',axis=1,inplace=True)\n",
    "\n",
    "# inserir colunas dia, mes, ano\n",
    "acidentes_rn =pd.concat([anos,meses,dias,acidentes_rn],axis=1)"
   ]
  },
  {
   "cell_type": "markdown",
   "metadata": {},
   "source": [
    "O comando abaixo, novamente, exibe os primeiros registros do *Data Frame* principal, percebe-se a presença das novas colunas."
   ]
  },
  {
   "cell_type": "code",
   "execution_count": 19,
   "metadata": {},
   "outputs": [
    {
     "data": {
      "text/html": [
       "<div>\n",
       "<style scoped>\n",
       "    .dataframe tbody tr th:only-of-type {\n",
       "        vertical-align: middle;\n",
       "    }\n",
       "\n",
       "    .dataframe tbody tr th {\n",
       "        vertical-align: top;\n",
       "    }\n",
       "\n",
       "    .dataframe thead th {\n",
       "        text-align: right;\n",
       "    }\n",
       "</style>\n",
       "<table border=\"1\" class=\"dataframe\">\n",
       "  <thead>\n",
       "    <tr style=\"text-align: right;\">\n",
       "      <th></th>\n",
       "      <th>ano</th>\n",
       "      <th>mes</th>\n",
       "      <th>dia</th>\n",
       "      <th>br</th>\n",
       "      <th>municipio</th>\n",
       "      <th>causa_acidente</th>\n",
       "      <th>tipo_acidente</th>\n",
       "      <th>classificacao_acidente</th>\n",
       "      <th>fase_dia</th>\n",
       "      <th>condicao_metereologica</th>\n",
       "      <th>tipo_pista</th>\n",
       "      <th>uso_solo</th>\n",
       "      <th>idade</th>\n",
       "      <th>sexo</th>\n",
       "    </tr>\n",
       "    <tr>\n",
       "      <th>id</th>\n",
       "      <th></th>\n",
       "      <th></th>\n",
       "      <th></th>\n",
       "      <th></th>\n",
       "      <th></th>\n",
       "      <th></th>\n",
       "      <th></th>\n",
       "      <th></th>\n",
       "      <th></th>\n",
       "      <th></th>\n",
       "      <th></th>\n",
       "      <th></th>\n",
       "      <th></th>\n",
       "      <th></th>\n",
       "    </tr>\n",
       "  </thead>\n",
       "  <tbody>\n",
       "    <tr>\n",
       "      <th>173746</th>\n",
       "      <td>2007</td>\n",
       "      <td>Janeiro</td>\n",
       "      <td>Segunda-feira</td>\n",
       "      <td>101.0</td>\n",
       "      <td>EXTREMOZ</td>\n",
       "      <td>Falta de atenção</td>\n",
       "      <td>Saída de Pista</td>\n",
       "      <td>Sem Vítimas</td>\n",
       "      <td>Plena noite</td>\n",
       "      <td>Ceu Claro</td>\n",
       "      <td>Simples</td>\n",
       "      <td>Rural</td>\n",
       "      <td>40.0</td>\n",
       "      <td>Masculino</td>\n",
       "    </tr>\n",
       "    <tr>\n",
       "      <th>173937</th>\n",
       "      <td>2007</td>\n",
       "      <td>Janeiro</td>\n",
       "      <td>Segunda-feira</td>\n",
       "      <td>304.0</td>\n",
       "      <td>MACAIBA</td>\n",
       "      <td>Outras</td>\n",
       "      <td>Colisão com objeto móvel</td>\n",
       "      <td>Com Vítimas Feridas</td>\n",
       "      <td>Plena noite</td>\n",
       "      <td>Ceu Claro</td>\n",
       "      <td>Simples</td>\n",
       "      <td>Rural</td>\n",
       "      <td>23.0</td>\n",
       "      <td>Masculino</td>\n",
       "    </tr>\n",
       "    <tr>\n",
       "      <th>173943</th>\n",
       "      <td>2007</td>\n",
       "      <td>Janeiro</td>\n",
       "      <td>Segunda-feira</td>\n",
       "      <td>101.0</td>\n",
       "      <td>SAO GONCALO DO AMARANTE</td>\n",
       "      <td>Não guardar distância de segurança</td>\n",
       "      <td>Colisão traseira</td>\n",
       "      <td>Sem Vítimas</td>\n",
       "      <td>Anoitecer</td>\n",
       "      <td>Ceu Claro</td>\n",
       "      <td>Dupla</td>\n",
       "      <td>Urbano</td>\n",
       "      <td>-1.0</td>\n",
       "      <td>Masculino</td>\n",
       "    </tr>\n",
       "    <tr>\n",
       "      <th>173943</th>\n",
       "      <td>2007</td>\n",
       "      <td>Janeiro</td>\n",
       "      <td>Segunda-feira</td>\n",
       "      <td>101.0</td>\n",
       "      <td>SAO GONCALO DO AMARANTE</td>\n",
       "      <td>Não guardar distância de segurança</td>\n",
       "      <td>Colisão traseira</td>\n",
       "      <td>Sem Vítimas</td>\n",
       "      <td>Anoitecer</td>\n",
       "      <td>Ceu Claro</td>\n",
       "      <td>Dupla</td>\n",
       "      <td>Urbano</td>\n",
       "      <td>-1.0</td>\n",
       "      <td>Masculino</td>\n",
       "    </tr>\n",
       "    <tr>\n",
       "      <th>173965</th>\n",
       "      <td>2007</td>\n",
       "      <td>Janeiro</td>\n",
       "      <td>Segunda-feira</td>\n",
       "      <td>101.0</td>\n",
       "      <td>PARNAMIRIM</td>\n",
       "      <td>Ingestão de álcool</td>\n",
       "      <td>Colisão traseira</td>\n",
       "      <td>Sem Vítimas</td>\n",
       "      <td>Pleno dia</td>\n",
       "      <td>Ceu Claro</td>\n",
       "      <td>Dupla</td>\n",
       "      <td>Rural</td>\n",
       "      <td>32.0</td>\n",
       "      <td>Masculino</td>\n",
       "    </tr>\n",
       "  </tbody>\n",
       "</table>\n",
       "</div>"
      ],
      "text/plain": [
       "         ano      mes            dia     br                municipio  \\\n",
       "id                                                                     \n",
       "173746  2007  Janeiro  Segunda-feira  101.0                 EXTREMOZ   \n",
       "173937  2007  Janeiro  Segunda-feira  304.0                  MACAIBA   \n",
       "173943  2007  Janeiro  Segunda-feira  101.0  SAO GONCALO DO AMARANTE   \n",
       "173943  2007  Janeiro  Segunda-feira  101.0  SAO GONCALO DO AMARANTE   \n",
       "173965  2007  Janeiro  Segunda-feira  101.0               PARNAMIRIM   \n",
       "\n",
       "                            causa_acidente             tipo_acidente  \\\n",
       "id                                                                     \n",
       "173746                    Falta de atenção            Saída de Pista   \n",
       "173937                              Outras  Colisão com objeto móvel   \n",
       "173943  Não guardar distância de segurança          Colisão traseira   \n",
       "173943  Não guardar distância de segurança          Colisão traseira   \n",
       "173965                  Ingestão de álcool          Colisão traseira   \n",
       "\n",
       "       classificacao_acidente     fase_dia condicao_metereologica tipo_pista  \\\n",
       "id                                                                             \n",
       "173746    Sem Vítimas          Plena noite              Ceu Claro   Simples    \n",
       "173937    Com Vítimas Feridas  Plena noite              Ceu Claro   Simples    \n",
       "173943    Sem Vítimas            Anoitecer              Ceu Claro   Dupla      \n",
       "173943    Sem Vítimas            Anoitecer              Ceu Claro   Dupla      \n",
       "173965    Sem Vítimas            Pleno dia              Ceu Claro   Dupla      \n",
       "\n",
       "       uso_solo  idade       sexo  \n",
       "id                                 \n",
       "173746   Rural    40.0  Masculino  \n",
       "173937   Rural    23.0  Masculino  \n",
       "173943   Urbano   -1.0  Masculino  \n",
       "173943   Urbano   -1.0  Masculino  \n",
       "173965   Rural    32.0  Masculino  "
      ]
     },
     "execution_count": 19,
     "metadata": {},
     "output_type": "execute_result"
    }
   ],
   "source": [
    "acidentes_rn.head()"
   ]
  },
  {
   "cell_type": "markdown",
   "metadata": {},
   "source": [
    "Alguns registros, por algum motivo, não indicam a BR do estado na qual ocorreu o acidente, isso pode ser um grande problema para análise, felizmente, o número de registros sem essa informação é mínimo - como se pode observar abaixo."
   ]
  },
  {
   "cell_type": "code",
   "execution_count": 20,
   "metadata": {},
   "outputs": [
    {
     "data": {
      "text/html": [
       "<div>\n",
       "<style scoped>\n",
       "    .dataframe tbody tr th:only-of-type {\n",
       "        vertical-align: middle;\n",
       "    }\n",
       "\n",
       "    .dataframe tbody tr th {\n",
       "        vertical-align: top;\n",
       "    }\n",
       "\n",
       "    .dataframe thead th {\n",
       "        text-align: right;\n",
       "    }\n",
       "</style>\n",
       "<table border=\"1\" class=\"dataframe\">\n",
       "  <thead>\n",
       "    <tr style=\"text-align: right;\">\n",
       "      <th></th>\n",
       "      <th>ano</th>\n",
       "      <th>mes</th>\n",
       "      <th>dia</th>\n",
       "      <th>br</th>\n",
       "      <th>municipio</th>\n",
       "      <th>causa_acidente</th>\n",
       "      <th>tipo_acidente</th>\n",
       "      <th>classificacao_acidente</th>\n",
       "      <th>fase_dia</th>\n",
       "      <th>condicao_metereologica</th>\n",
       "      <th>tipo_pista</th>\n",
       "      <th>uso_solo</th>\n",
       "      <th>idade</th>\n",
       "      <th>sexo</th>\n",
       "    </tr>\n",
       "    <tr>\n",
       "      <th>id</th>\n",
       "      <th></th>\n",
       "      <th></th>\n",
       "      <th></th>\n",
       "      <th></th>\n",
       "      <th></th>\n",
       "      <th></th>\n",
       "      <th></th>\n",
       "      <th></th>\n",
       "      <th></th>\n",
       "      <th></th>\n",
       "      <th></th>\n",
       "      <th></th>\n",
       "      <th></th>\n",
       "      <th></th>\n",
       "    </tr>\n",
       "  </thead>\n",
       "  <tbody>\n",
       "    <tr>\n",
       "      <th>43336</th>\n",
       "      <td>2017</td>\n",
       "      <td>Junho</td>\n",
       "      <td>Domingo</td>\n",
       "      <td>NaN</td>\n",
       "      <td>MOSSORO                                       ...</td>\n",
       "      <td>Defeito na Via                                ...</td>\n",
       "      <td>Colisão transversal                           ...</td>\n",
       "      <td>Com Vítimas Feridas</td>\n",
       "      <td>Plena Noite</td>\n",
       "      <td>Céu Claro</td>\n",
       "      <td>Simples</td>\n",
       "      <td>Sim</td>\n",
       "      <td>28.0</td>\n",
       "      <td>Masculino</td>\n",
       "    </tr>\n",
       "    <tr>\n",
       "      <th>43336</th>\n",
       "      <td>2017</td>\n",
       "      <td>Junho</td>\n",
       "      <td>Domingo</td>\n",
       "      <td>NaN</td>\n",
       "      <td>MOSSORO                                       ...</td>\n",
       "      <td>Defeito na Via                                ...</td>\n",
       "      <td>Colisão transversal                           ...</td>\n",
       "      <td>Com Vítimas Feridas</td>\n",
       "      <td>Plena Noite</td>\n",
       "      <td>Céu Claro</td>\n",
       "      <td>Simples</td>\n",
       "      <td>Sim</td>\n",
       "      <td>NaN</td>\n",
       "      <td>Não Informado</td>\n",
       "    </tr>\n",
       "    <tr>\n",
       "      <th>43336</th>\n",
       "      <td>2017</td>\n",
       "      <td>Junho</td>\n",
       "      <td>Domingo</td>\n",
       "      <td>NaN</td>\n",
       "      <td>MOSSORO                                       ...</td>\n",
       "      <td>Defeito na Via                                ...</td>\n",
       "      <td>Colisão transversal                           ...</td>\n",
       "      <td>Com Vítimas Feridas</td>\n",
       "      <td>Plena Noite</td>\n",
       "      <td>Céu Claro</td>\n",
       "      <td>Simples</td>\n",
       "      <td>Sim</td>\n",
       "      <td>NaN</td>\n",
       "      <td>Não Informado</td>\n",
       "    </tr>\n",
       "    <tr>\n",
       "      <th>43336</th>\n",
       "      <td>2017</td>\n",
       "      <td>Junho</td>\n",
       "      <td>Domingo</td>\n",
       "      <td>NaN</td>\n",
       "      <td>MOSSORO                                       ...</td>\n",
       "      <td>Defeito na Via                                ...</td>\n",
       "      <td>Colisão transversal                           ...</td>\n",
       "      <td>Com Vítimas Feridas</td>\n",
       "      <td>Plena Noite</td>\n",
       "      <td>Céu Claro</td>\n",
       "      <td>Simples</td>\n",
       "      <td>Sim</td>\n",
       "      <td>45.0</td>\n",
       "      <td>Masculino</td>\n",
       "    </tr>\n",
       "    <tr>\n",
       "      <th>43336</th>\n",
       "      <td>2017</td>\n",
       "      <td>Junho</td>\n",
       "      <td>Domingo</td>\n",
       "      <td>NaN</td>\n",
       "      <td>MOSSORO                                       ...</td>\n",
       "      <td>Defeito na Via                                ...</td>\n",
       "      <td>Colisão transversal                           ...</td>\n",
       "      <td>Com Vítimas Feridas</td>\n",
       "      <td>Plena Noite</td>\n",
       "      <td>Céu Claro</td>\n",
       "      <td>Simples</td>\n",
       "      <td>Sim</td>\n",
       "      <td>37.0</td>\n",
       "      <td>Masculino</td>\n",
       "    </tr>\n",
       "    <tr>\n",
       "      <th>43336</th>\n",
       "      <td>2017</td>\n",
       "      <td>Junho</td>\n",
       "      <td>Domingo</td>\n",
       "      <td>NaN</td>\n",
       "      <td>MOSSORO                                       ...</td>\n",
       "      <td>Defeito na Via                                ...</td>\n",
       "      <td>Colisão transversal                           ...</td>\n",
       "      <td>Com Vítimas Feridas</td>\n",
       "      <td>Plena Noite</td>\n",
       "      <td>Céu Claro</td>\n",
       "      <td>Simples</td>\n",
       "      <td>Sim</td>\n",
       "      <td>38.0</td>\n",
       "      <td>Masculino</td>\n",
       "    </tr>\n",
       "    <tr>\n",
       "      <th>65637</th>\n",
       "      <td>2017</td>\n",
       "      <td>Agosto</td>\n",
       "      <td>Domingo</td>\n",
       "      <td>NaN</td>\n",
       "      <td>MOSSORO                                       ...</td>\n",
       "      <td>Ingestão de Álcool                            ...</td>\n",
       "      <td>Colisão com objeto em movimento               ...</td>\n",
       "      <td>Com Vítimas Feridas</td>\n",
       "      <td>Plena Noite</td>\n",
       "      <td>Céu Claro</td>\n",
       "      <td>Simples</td>\n",
       "      <td>Não</td>\n",
       "      <td>NaN</td>\n",
       "      <td>Não Informado</td>\n",
       "    </tr>\n",
       "    <tr>\n",
       "      <th>65637</th>\n",
       "      <td>2017</td>\n",
       "      <td>Agosto</td>\n",
       "      <td>Domingo</td>\n",
       "      <td>NaN</td>\n",
       "      <td>MOSSORO                                       ...</td>\n",
       "      <td>Ingestão de Álcool                            ...</td>\n",
       "      <td>Colisão com objeto em movimento               ...</td>\n",
       "      <td>Com Vítimas Feridas</td>\n",
       "      <td>Plena Noite</td>\n",
       "      <td>Céu Claro</td>\n",
       "      <td>Simples</td>\n",
       "      <td>Não</td>\n",
       "      <td>31.0</td>\n",
       "      <td>Masculino</td>\n",
       "    </tr>\n",
       "    <tr>\n",
       "      <th>78134</th>\n",
       "      <td>2017</td>\n",
       "      <td>Outubro</td>\n",
       "      <td>Sábado</td>\n",
       "      <td>NaN</td>\n",
       "      <td>EXTREMOZ                                      ...</td>\n",
       "      <td>Falta de Atenção à Condução                   ...</td>\n",
       "      <td>Colisão frontal                               ...</td>\n",
       "      <td>Com Vítimas Feridas</td>\n",
       "      <td>Pleno dia</td>\n",
       "      <td>Céu Claro</td>\n",
       "      <td>Dupla</td>\n",
       "      <td>Não</td>\n",
       "      <td>23.0</td>\n",
       "      <td>Masculino</td>\n",
       "    </tr>\n",
       "    <tr>\n",
       "      <th>78134</th>\n",
       "      <td>2017</td>\n",
       "      <td>Outubro</td>\n",
       "      <td>Sábado</td>\n",
       "      <td>NaN</td>\n",
       "      <td>EXTREMOZ                                      ...</td>\n",
       "      <td>Falta de Atenção à Condução                   ...</td>\n",
       "      <td>Colisão frontal                               ...</td>\n",
       "      <td>Com Vítimas Feridas</td>\n",
       "      <td>Pleno dia</td>\n",
       "      <td>Céu Claro</td>\n",
       "      <td>Dupla</td>\n",
       "      <td>Não</td>\n",
       "      <td>33.0</td>\n",
       "      <td>Masculino</td>\n",
       "    </tr>\n",
       "    <tr>\n",
       "      <th>108110</th>\n",
       "      <td>2018</td>\n",
       "      <td>Fevereiro</td>\n",
       "      <td>Sexta-feira</td>\n",
       "      <td>NaN</td>\n",
       "      <td>AUGUSTO SEVERO</td>\n",
       "      <td>Defeito na Via</td>\n",
       "      <td>Colisão com objeto estático</td>\n",
       "      <td>Com Vítimas Feridas</td>\n",
       "      <td>Pleno dia</td>\n",
       "      <td>Céu Claro</td>\n",
       "      <td>Simples</td>\n",
       "      <td>Sim</td>\n",
       "      <td>30.0</td>\n",
       "      <td>Masculino</td>\n",
       "    </tr>\n",
       "    <tr>\n",
       "      <th>108110</th>\n",
       "      <td>2018</td>\n",
       "      <td>Fevereiro</td>\n",
       "      <td>Sexta-feira</td>\n",
       "      <td>NaN</td>\n",
       "      <td>AUGUSTO SEVERO</td>\n",
       "      <td>Defeito na Via</td>\n",
       "      <td>Colisão com objeto estático</td>\n",
       "      <td>Com Vítimas Feridas</td>\n",
       "      <td>Pleno dia</td>\n",
       "      <td>Céu Claro</td>\n",
       "      <td>Simples</td>\n",
       "      <td>Sim</td>\n",
       "      <td>36.0</td>\n",
       "      <td>Masculino</td>\n",
       "    </tr>\n",
       "    <tr>\n",
       "      <th>129115</th>\n",
       "      <td>2018</td>\n",
       "      <td>Abril</td>\n",
       "      <td>Quinta-feira</td>\n",
       "      <td>NaN</td>\n",
       "      <td>JOAO CAMARA</td>\n",
       "      <td>Defeito na Via</td>\n",
       "      <td>Colisão com objeto estático</td>\n",
       "      <td>Com Vítimas Feridas</td>\n",
       "      <td>Plena Noite</td>\n",
       "      <td>Céu Claro</td>\n",
       "      <td>Simples</td>\n",
       "      <td>Sim</td>\n",
       "      <td>38.0</td>\n",
       "      <td>Masculino</td>\n",
       "    </tr>\n",
       "  </tbody>\n",
       "</table>\n",
       "</div>"
      ],
      "text/plain": [
       "         ano        mes           dia  br  \\\n",
       "id                                          \n",
       "43336   2017      Junho       Domingo NaN   \n",
       "43336   2017      Junho       Domingo NaN   \n",
       "43336   2017      Junho       Domingo NaN   \n",
       "43336   2017      Junho       Domingo NaN   \n",
       "43336   2017      Junho       Domingo NaN   \n",
       "43336   2017      Junho       Domingo NaN   \n",
       "65637   2017     Agosto       Domingo NaN   \n",
       "65637   2017     Agosto       Domingo NaN   \n",
       "78134   2017    Outubro        Sábado NaN   \n",
       "78134   2017    Outubro        Sábado NaN   \n",
       "108110  2018  Fevereiro   Sexta-feira NaN   \n",
       "108110  2018  Fevereiro   Sexta-feira NaN   \n",
       "129115  2018      Abril  Quinta-feira NaN   \n",
       "\n",
       "                                                municipio  \\\n",
       "id                                                          \n",
       "43336   MOSSORO                                       ...   \n",
       "43336   MOSSORO                                       ...   \n",
       "43336   MOSSORO                                       ...   \n",
       "43336   MOSSORO                                       ...   \n",
       "43336   MOSSORO                                       ...   \n",
       "43336   MOSSORO                                       ...   \n",
       "65637   MOSSORO                                       ...   \n",
       "65637   MOSSORO                                       ...   \n",
       "78134   EXTREMOZ                                      ...   \n",
       "78134   EXTREMOZ                                      ...   \n",
       "108110                                     AUGUSTO SEVERO   \n",
       "108110                                     AUGUSTO SEVERO   \n",
       "129115                                        JOAO CAMARA   \n",
       "\n",
       "                                           causa_acidente  \\\n",
       "id                                                          \n",
       "43336   Defeito na Via                                ...   \n",
       "43336   Defeito na Via                                ...   \n",
       "43336   Defeito na Via                                ...   \n",
       "43336   Defeito na Via                                ...   \n",
       "43336   Defeito na Via                                ...   \n",
       "43336   Defeito na Via                                ...   \n",
       "65637   Ingestão de Álcool                            ...   \n",
       "65637   Ingestão de Álcool                            ...   \n",
       "78134   Falta de Atenção à Condução                   ...   \n",
       "78134   Falta de Atenção à Condução                   ...   \n",
       "108110                                     Defeito na Via   \n",
       "108110                                     Defeito na Via   \n",
       "129115                                     Defeito na Via   \n",
       "\n",
       "                                            tipo_acidente  \\\n",
       "id                                                          \n",
       "43336   Colisão transversal                           ...   \n",
       "43336   Colisão transversal                           ...   \n",
       "43336   Colisão transversal                           ...   \n",
       "43336   Colisão transversal                           ...   \n",
       "43336   Colisão transversal                           ...   \n",
       "43336   Colisão transversal                           ...   \n",
       "65637   Colisão com objeto em movimento               ...   \n",
       "65637   Colisão com objeto em movimento               ...   \n",
       "78134   Colisão frontal                               ...   \n",
       "78134   Colisão frontal                               ...   \n",
       "108110                        Colisão com objeto estático   \n",
       "108110                        Colisão com objeto estático   \n",
       "129115                        Colisão com objeto estático   \n",
       "\n",
       "       classificacao_acidente              fase_dia condicao_metereologica  \\\n",
       "id                                                                           \n",
       "43336     Com Vítimas Feridas  Plena Noite            Céu Claro              \n",
       "43336     Com Vítimas Feridas  Plena Noite            Céu Claro              \n",
       "43336     Com Vítimas Feridas  Plena Noite            Céu Claro              \n",
       "43336     Com Vítimas Feridas  Plena Noite            Céu Claro              \n",
       "43336     Com Vítimas Feridas  Plena Noite            Céu Claro              \n",
       "43336     Com Vítimas Feridas  Plena Noite            Céu Claro              \n",
       "65637     Com Vítimas Feridas  Plena Noite            Céu Claro              \n",
       "65637     Com Vítimas Feridas  Plena Noite            Céu Claro              \n",
       "78134     Com Vítimas Feridas  Pleno dia              Céu Claro              \n",
       "78134     Com Vítimas Feridas  Pleno dia              Céu Claro              \n",
       "108110    Com Vítimas Feridas             Pleno dia              Céu Claro   \n",
       "108110    Com Vítimas Feridas             Pleno dia              Céu Claro   \n",
       "129115    Com Vítimas Feridas           Plena Noite              Céu Claro   \n",
       "\n",
       "                  tipo_pista    uso_solo  idade                  sexo  \n",
       "id                                                                     \n",
       "43336   Simples               Sim          28.0  Masculino             \n",
       "43336   Simples               Sim           NaN  Não Informado         \n",
       "43336   Simples               Sim           NaN  Não Informado         \n",
       "43336   Simples               Sim          45.0  Masculino             \n",
       "43336   Simples               Sim          37.0  Masculino             \n",
       "43336   Simples               Sim          38.0  Masculino             \n",
       "65637   Simples               Não           NaN  Não Informado         \n",
       "65637   Simples               Não          31.0  Masculino             \n",
       "78134   Dupla                 Não          23.0  Masculino             \n",
       "78134   Dupla                 Não          33.0  Masculino             \n",
       "108110               Simples         Sim   30.0             Masculino  \n",
       "108110               Simples         Sim   36.0             Masculino  \n",
       "129115               Simples         Sim   38.0             Masculino  "
      ]
     },
     "execution_count": 20,
     "metadata": {},
     "output_type": "execute_result"
    }
   ],
   "source": [
    "# registros sem informação da br\n",
    "br_nulos = acidentes_rn[acidentes_rn['br'].isnull()]\n",
    "\n",
    "# exibir registros\n",
    "br_nulos"
   ]
  },
  {
   "cell_type": "markdown",
   "metadata": {},
   "source": [
    "Como a quantidade de elementos com ausência do atributo *br* é muito pequena, decidiu-se atribuir manualmente esses valores. Obviamente, o melhor recurso disponível na fonte de dados para estimar esses valores ausentes é o atributo dos municípios. Desse modo, os campos faltosos foram preenchidos com o número da *br* com maior quantidade de registros em cada município (moda)."
   ]
  },
  {
   "cell_type": "code",
   "execution_count": 21,
   "metadata": {},
   "outputs": [],
   "source": [
    "# calcular modas da quantidade de ocorrências em cada município.\n",
    "br_modas = acidentes_rn['br'].groupby(acidentes_rn['municipio']).agg(pd.Series.mode)\n",
    "\n",
    "# receber modas dos municípios presentes nos registros com dados faltosos\n",
    "br_nulos_modas = br_modas[br_nulos['municipio']]\n",
    "\n",
    "# modificar índice\n",
    "br_nulos_modas.index = br_nulos.index\n",
    "\n",
    "# modificar valores\n",
    "acidentes_rn.loc[br_nulos.index.unique(),'br'] = br_nulos_modas"
   ]
  },
  {
   "cell_type": "markdown",
   "metadata": {},
   "source": [
    "Pode-se observar que agora não é mais encontrado valores ausentes na coluna *br*."
   ]
  },
  {
   "cell_type": "code",
   "execution_count": 22,
   "metadata": {},
   "outputs": [
    {
     "data": {
      "text/plain": [
       "ano                       False\n",
       "mes                       False\n",
       "dia                       False\n",
       "br                        False\n",
       "municipio                 False\n",
       "causa_acidente            False\n",
       "tipo_acidente             False\n",
       "classificacao_acidente    False\n",
       "fase_dia                  False\n",
       "condicao_metereologica    False\n",
       "tipo_pista                False\n",
       "uso_solo                  False\n",
       "idade                      True\n",
       "sexo                       True\n",
       "dtype: bool"
      ]
     },
     "execution_count": 22,
     "metadata": {},
     "output_type": "execute_result"
    }
   ],
   "source": [
    "acidentes_rn.isnull().any()"
   ]
  },
  {
   "cell_type": "markdown",
   "metadata": {},
   "source": [
    "Deseja-se verficiar quais são as rodovias federais do Rio Grande do Norte presentes nos registros, a seguinte linha realiza isso."
   ]
  },
  {
   "cell_type": "code",
   "execution_count": 23,
   "metadata": {},
   "outputs": [
    {
     "data": {
      "text/plain": [
       "array([101., 304., 226., 110., 406., 405., 427., 343., 501., 268., 104.])"
      ]
     },
     "execution_count": 23,
     "metadata": {},
     "output_type": "execute_result"
    }
   ],
   "source": [
    "# verificar quais rodovias estão envolvidas nos acidentes\n",
    "acidentes_rn['br'].unique()"
   ]
  },
  {
   "cell_type": "markdown",
   "metadata": {},
   "source": [
    "Como se observa, a coluna - número da rodovia - não está bem formatada, pois os valores dessas estão sendo considerados números de ponto flutuante, a seguir, esses valores serão convertidos para tipos categóricos."
   ]
  },
  {
   "cell_type": "code",
   "execution_count": 24,
   "metadata": {},
   "outputs": [
    {
     "data": {
      "text/plain": [
       "array(['101', '304', '226', '110', '406', '405', '427', '343', '501',\n",
       "       '268', '104'], dtype=object)"
      ]
     },
     "execution_count": 24,
     "metadata": {},
     "output_type": "execute_result"
    }
   ],
   "source": [
    "# conversão para inteiros e, em seguida, para caracteres\n",
    "acidentes_rn['br'] = acidentes_rn['br'].astype('int').astype('str')\n",
    "\n",
    "# observar resultado\n",
    "acidentes_rn['br'].unique()"
   ]
  },
  {
   "cell_type": "markdown",
   "metadata": {},
   "source": [
    "Nota-se, ainda sobre a coluna *br*, que há classes inconsistentes, no estado do Rio Grande do Norte estão presentes apenas 9 rodovias federais, não 11, além disso, segundo o DNIT, não existe uma **BR-501** e as **BR-268**, **BR-343** não atravessam o território potiguar."
   ]
  },
  {
   "cell_type": "code",
   "execution_count": 25,
   "metadata": {},
   "outputs": [
    {
     "data": {
      "text/html": [
       "<div>\n",
       "<style scoped>\n",
       "    .dataframe tbody tr th:only-of-type {\n",
       "        vertical-align: middle;\n",
       "    }\n",
       "\n",
       "    .dataframe tbody tr th {\n",
       "        vertical-align: top;\n",
       "    }\n",
       "\n",
       "    .dataframe thead th {\n",
       "        text-align: right;\n",
       "    }\n",
       "</style>\n",
       "<table border=\"1\" class=\"dataframe\">\n",
       "  <thead>\n",
       "    <tr style=\"text-align: right;\">\n",
       "      <th></th>\n",
       "      <th>ano</th>\n",
       "      <th>mes</th>\n",
       "      <th>dia</th>\n",
       "      <th>br</th>\n",
       "      <th>municipio</th>\n",
       "      <th>causa_acidente</th>\n",
       "      <th>tipo_acidente</th>\n",
       "      <th>classificacao_acidente</th>\n",
       "      <th>fase_dia</th>\n",
       "      <th>condicao_metereologica</th>\n",
       "      <th>tipo_pista</th>\n",
       "      <th>uso_solo</th>\n",
       "      <th>idade</th>\n",
       "      <th>sexo</th>\n",
       "    </tr>\n",
       "    <tr>\n",
       "      <th>id</th>\n",
       "      <th></th>\n",
       "      <th></th>\n",
       "      <th></th>\n",
       "      <th></th>\n",
       "      <th></th>\n",
       "      <th></th>\n",
       "      <th></th>\n",
       "      <th></th>\n",
       "      <th></th>\n",
       "      <th></th>\n",
       "      <th></th>\n",
       "      <th></th>\n",
       "      <th></th>\n",
       "      <th></th>\n",
       "    </tr>\n",
       "  </thead>\n",
       "  <tbody>\n",
       "    <tr>\n",
       "      <th>1121095</th>\n",
       "      <td>2012</td>\n",
       "      <td>Maio</td>\n",
       "      <td>Sábado</td>\n",
       "      <td>343</td>\n",
       "      <td>MOSSORO</td>\n",
       "      <td>Outras</td>\n",
       "      <td>Atropelamento de pessoa</td>\n",
       "      <td>Com Vítimas Feridas</td>\n",
       "      <td>Pleno dia</td>\n",
       "      <td>Sol</td>\n",
       "      <td>Dupla</td>\n",
       "      <td>Urbano</td>\n",
       "      <td>36.0</td>\n",
       "      <td>Feminino</td>\n",
       "    </tr>\n",
       "    <tr>\n",
       "      <th>1121095</th>\n",
       "      <td>2012</td>\n",
       "      <td>Maio</td>\n",
       "      <td>Sábado</td>\n",
       "      <td>343</td>\n",
       "      <td>MOSSORO</td>\n",
       "      <td>Outras</td>\n",
       "      <td>Atropelamento de pessoa</td>\n",
       "      <td>Com Vítimas Feridas</td>\n",
       "      <td>Pleno dia</td>\n",
       "      <td>Sol</td>\n",
       "      <td>Dupla</td>\n",
       "      <td>Urbano</td>\n",
       "      <td>30.0</td>\n",
       "      <td>Feminino</td>\n",
       "    </tr>\n",
       "    <tr>\n",
       "      <th>1121095</th>\n",
       "      <td>2012</td>\n",
       "      <td>Maio</td>\n",
       "      <td>Sábado</td>\n",
       "      <td>343</td>\n",
       "      <td>MOSSORO</td>\n",
       "      <td>Outras</td>\n",
       "      <td>Atropelamento de pessoa</td>\n",
       "      <td>Com Vítimas Feridas</td>\n",
       "      <td>Pleno dia</td>\n",
       "      <td>Sol</td>\n",
       "      <td>Dupla</td>\n",
       "      <td>Urbano</td>\n",
       "      <td>70.0</td>\n",
       "      <td>Masculino</td>\n",
       "    </tr>\n",
       "    <tr>\n",
       "      <th>1135692</th>\n",
       "      <td>2012</td>\n",
       "      <td>Julho</td>\n",
       "      <td>Domingo</td>\n",
       "      <td>501</td>\n",
       "      <td>NATAL</td>\n",
       "      <td>Desobediência à sinalização</td>\n",
       "      <td>Colisão Transversal</td>\n",
       "      <td>Sem Vítimas</td>\n",
       "      <td>Plena noite</td>\n",
       "      <td>Nublado</td>\n",
       "      <td>Dupla</td>\n",
       "      <td>Urbano</td>\n",
       "      <td>73.0</td>\n",
       "      <td>Masculino</td>\n",
       "    </tr>\n",
       "    <tr>\n",
       "      <th>1135692</th>\n",
       "      <td>2012</td>\n",
       "      <td>Julho</td>\n",
       "      <td>Domingo</td>\n",
       "      <td>501</td>\n",
       "      <td>NATAL</td>\n",
       "      <td>Desobediência à sinalização</td>\n",
       "      <td>Colisão Transversal</td>\n",
       "      <td>Sem Vítimas</td>\n",
       "      <td>Plena noite</td>\n",
       "      <td>Nublado</td>\n",
       "      <td>Dupla</td>\n",
       "      <td>Urbano</td>\n",
       "      <td>-1.0</td>\n",
       "      <td>Masculino</td>\n",
       "    </tr>\n",
       "    <tr>\n",
       "      <th>1337667</th>\n",
       "      <td>2013</td>\n",
       "      <td>Julho</td>\n",
       "      <td>Sábado</td>\n",
       "      <td>268</td>\n",
       "      <td>CEARA-MIRIM</td>\n",
       "      <td>Outras</td>\n",
       "      <td>Colisão frontal</td>\n",
       "      <td>Com Vítimas Feridas</td>\n",
       "      <td>Plena noite</td>\n",
       "      <td>Ceu Claro</td>\n",
       "      <td>Simples</td>\n",
       "      <td>Rural</td>\n",
       "      <td>33.0</td>\n",
       "      <td>Masculino</td>\n",
       "    </tr>\n",
       "    <tr>\n",
       "      <th>1337667</th>\n",
       "      <td>2013</td>\n",
       "      <td>Julho</td>\n",
       "      <td>Sábado</td>\n",
       "      <td>268</td>\n",
       "      <td>CEARA-MIRIM</td>\n",
       "      <td>Outras</td>\n",
       "      <td>Colisão frontal</td>\n",
       "      <td>Com Vítimas Feridas</td>\n",
       "      <td>Plena noite</td>\n",
       "      <td>Ceu Claro</td>\n",
       "      <td>Simples</td>\n",
       "      <td>Rural</td>\n",
       "      <td>-1.0</td>\n",
       "      <td>Masculino</td>\n",
       "    </tr>\n",
       "  </tbody>\n",
       "</table>\n",
       "</div>"
      ],
      "text/plain": [
       "          ano    mes      dia   br    municipio               causa_acidente  \\\n",
       "id                                                                             \n",
       "1121095  2012   Maio   Sábado  343      MOSSORO                       Outras   \n",
       "1121095  2012   Maio   Sábado  343      MOSSORO                       Outras   \n",
       "1121095  2012   Maio   Sábado  343      MOSSORO                       Outras   \n",
       "1135692  2012  Julho  Domingo  501        NATAL  Desobediência à sinalização   \n",
       "1135692  2012  Julho  Domingo  501        NATAL  Desobediência à sinalização   \n",
       "1337667  2013  Julho   Sábado  268  CEARA-MIRIM                       Outras   \n",
       "1337667  2013  Julho   Sábado  268  CEARA-MIRIM                       Outras   \n",
       "\n",
       "                   tipo_acidente classificacao_acidente     fase_dia  \\\n",
       "id                                                                     \n",
       "1121095  Atropelamento de pessoa    Com Vítimas Feridas    Pleno dia   \n",
       "1121095  Atropelamento de pessoa    Com Vítimas Feridas    Pleno dia   \n",
       "1121095  Atropelamento de pessoa    Com Vítimas Feridas    Pleno dia   \n",
       "1135692      Colisão Transversal    Sem Vítimas          Plena noite   \n",
       "1135692      Colisão Transversal    Sem Vítimas          Plena noite   \n",
       "1337667          Colisão frontal    Com Vítimas Feridas  Plena noite   \n",
       "1337667          Colisão frontal    Com Vítimas Feridas  Plena noite   \n",
       "\n",
       "        condicao_metereologica tipo_pista uso_solo  idade       sexo  \n",
       "id                                                                    \n",
       "1121095                    Sol   Dupla      Urbano   36.0   Feminino  \n",
       "1121095                    Sol   Dupla      Urbano   30.0   Feminino  \n",
       "1121095                    Sol   Dupla      Urbano   70.0  Masculino  \n",
       "1135692                Nublado   Dupla      Urbano   73.0  Masculino  \n",
       "1135692                Nublado   Dupla      Urbano   -1.0  Masculino  \n",
       "1337667              Ceu Claro   Simples    Rural    33.0  Masculino  \n",
       "1337667              Ceu Claro   Simples    Rural    -1.0  Masculino  "
      ]
     },
     "execution_count": 25,
     "metadata": {},
     "output_type": "execute_result"
    }
   ],
   "source": [
    "# registros com valores inconsistentes\n",
    "br_inconsistentes = acidentes_rn[acidentes_rn['br'].isin(['268','343','501'])]\n",
    "\n",
    "# exibir esses registros\n",
    "br_inconsistentes"
   ]
  },
  {
   "cell_type": "markdown",
   "metadata": {},
   "source": [
    "Os valores inconsistentes para o atributo *br* foram tratados como se fossem dados incompletos, isto é nulos, portanto, utilizou-se novamente a moda estatística para estimar esses valores."
   ]
  },
  {
   "cell_type": "code",
   "execution_count": 26,
   "metadata": {},
   "outputs": [
    {
     "data": {
      "text/plain": [
       "array(['101', '304', '226', '110', '406', '405', '427', '104'],\n",
       "      dtype=object)"
      ]
     },
     "execution_count": 26,
     "metadata": {},
     "output_type": "execute_result"
    }
   ],
   "source": [
    "# receber modas dos municípios presentes nos registros com dados inconsistentes\n",
    "br_inconsistentes_modas = br_modas[br_inconsistentes['municipio']]\n",
    "\n",
    "# modificar index\n",
    "br_inconsistentes_modas.index = br_inconsistentes.index\n",
    "\n",
    "# substituir valores inconsistentes\n",
    "acidentes_rn.loc[br_inconsistentes.index.unique(),'br'] = br_inconsistentes_modas.astype('int').astype('str')\n",
    "\n",
    "# observar resultado novamente\n",
    "acidentes_rn['br'].unique()"
   ]
  },
  {
   "cell_type": "markdown",
   "metadata": {},
   "source": [
    "A variável *idade* é um importante atributo para se montar o perfil das vítimas de acidentes, como visto anteriormente, nessa coluna, alguns valores estão ausentes, o número de registros com esse problema é significativo, por isso, a esses foram atribuidos o valor *-1* para que sejam tratados posteriormente."
   ]
  },
  {
   "cell_type": "code",
   "execution_count": 27,
   "metadata": {},
   "outputs": [
    {
     "data": {
      "text/plain": [
       "11524"
      ]
     },
     "execution_count": 27,
     "metadata": {},
     "output_type": "execute_result"
    }
   ],
   "source": [
    "# substituir valores núlos por -1\n",
    "acidentes_rn['idade'].fillna(-1,inplace=True)\n",
    "\n",
    "# considerar idades como valores inteiros\n",
    "acidentes_rn['idade'] = acidentes_rn['idade'].astype('int')\n",
    "\n",
    "# exibir quantidade de registros nulos\n",
    "acidentes_rn[acidentes_rn['idade']==-1].shape[0]"
   ]
  },
  {
   "cell_type": "markdown",
   "metadata": {},
   "source": [
    "O bloco a seguir revela quais os valores assumidos pelas idades das vítimas, observa-se valores ruidosos como idades muito acima de 100 anos, esses valores foram tratados como nulos (maiores que 110 anos)."
   ]
  },
  {
   "cell_type": "code",
   "execution_count": 28,
   "metadata": {},
   "outputs": [
    {
     "data": {
      "text/plain": [
       "array([  40,   23,   -1,   32,   24,   28,   42,   33,   26,   21,   55,\n",
       "         20,   71,   49,   41,   46,   58,   63,   51,   15,   17,   44,\n",
       "         25,   35,   45,   34,   68,   31,   27,   66,   47,   14,   19,\n",
       "         48,   50,   43,   22,   29,   64,   30,   38,   36,   52,   37,\n",
       "         53,   70,   54,   59,   65,   39,   56,   57,    5,   60,   61,\n",
       "         18,    0,   13,   69,   62,   67,   16,   77,   76,   10,   11,\n",
       "         12,   75,    9,   80,   81,    2,   90,   86,    6,    3,   74,\n",
       "         78,   72,    7,    4,   73,   79,   88,    1,    8,   84,   82,\n",
       "         87,   91,   83,  109,   94,   85,  125,   89,  111,  127,  106,\n",
       "         95,  128,  906, 1916,  117,  939], dtype=int64)"
      ]
     },
     "execution_count": 28,
     "metadata": {},
     "output_type": "execute_result"
    }
   ],
   "source": [
    "# observar valores de idades\n",
    "acidentes_rn['idade'].unique()"
   ]
  },
  {
   "cell_type": "code",
   "execution_count": 29,
   "metadata": {},
   "outputs": [
    {
     "data": {
      "text/plain": [
       "array([ 40,  23,  -1,  32,  24,  28,  42,  33,  26,  21,  55,  20,  71,\n",
       "        49,  41,  46,  58,  63,  51,  15,  17,  44,  25,  35,  45,  34,\n",
       "        68,  31,  27,  66,  47,  14,  19,  48,  50,  43,  22,  29,  64,\n",
       "        30,  38,  36,  52,  37,  53,  70,  54,  59,  65,  39,  56,  57,\n",
       "         5,  60,  61,  18,   0,  13,  69,  62,  67,  16,  77,  76,  10,\n",
       "        11,  12,  75,   9,  80,  81,   2,  90,  86,   6,   3,  74,  78,\n",
       "        72,   7,   4,  73,  79,  88,   1,   8,  84,  82,  87,  91,  83,\n",
       "       109,  94,  85,  89, 106,  95], dtype=int64)"
      ]
     },
     "execution_count": 29,
     "metadata": {},
     "output_type": "execute_result"
    }
   ],
   "source": [
    "# modificar valores de idades maiores que 110 anos para -1 (valor desconhecido)\n",
    "acidentes_rn.loc[acidentes_rn['idade']>=110,'idade'] = -1\n",
    "\n",
    "# observar resultado\n",
    "acidentes_rn['idade'].unique()"
   ]
  },
  {
   "cell_type": "markdown",
   "metadata": {},
   "source": [
    "O sexo é mais um atributo relevante relativo ao estudo do perfil dos acidentados. Com há valores nulos presentes nessa coluna também, um tratamento semelhante ao das idades será realizado, os valores nulos serão categorizados como **IGNORADO**, dessa maneira esses dados serão tratados posteriormente com mais facilidade."
   ]
  },
  {
   "cell_type": "code",
   "execution_count": 30,
   "metadata": {},
   "outputs": [],
   "source": [
    "# considerar valores nulos como Ignorado\n",
    "acidentes_rn['sexo'].fillna('Ignorado',inplace=True)"
   ]
  },
  {
   "cell_type": "markdown",
   "metadata": {},
   "source": [
    "O bloco abaixo é responsável por exibir os valores presentes na coluna *sexo*. Como esperado, essa coluna também possui uma má formatação, exemplo, alguns valores são categorizados como **Masculino** ou **Feminino**, outros pelas letras **F** e **M**, ademais, algumas categorias estão com espaços em brancos o que causa distinção mesmo de items iguais, todos esses problemas serão resolvidos em seguida. "
   ]
  },
  {
   "cell_type": "code",
   "execution_count": 31,
   "metadata": {},
   "outputs": [
    {
     "data": {
      "text/plain": [
       "array(['Masculino', 'Não Informado', 'Feminino', 'Ignorado', 'Inválido',\n",
       "       'M', 'F', 'I', 'Masculino           ', 'Feminino            ',\n",
       "       'Não Informado       ', 'Ignorado            '], dtype=object)"
      ]
     },
     "execution_count": 31,
     "metadata": {},
     "output_type": "execute_result"
    }
   ],
   "source": [
    "# valores da coluna sexo\n",
    "acidentes_rn['sexo'].unique()"
   ]
  },
  {
   "cell_type": "markdown",
   "metadata": {},
   "source": [
    "Os valores **Não Informado**,**I** e **Inválido** serão genericamente considerados **Ignorado**."
   ]
  },
  {
   "cell_type": "code",
   "execution_count": 32,
   "metadata": {},
   "outputs": [],
   "source": [
    "# padronizar caracteres dos atributos\n",
    "acidentes_rn.loc[:,'sexo'] = acidentes_rn.loc[:,'sexo'].map(str.title).map(str.strip)\n",
    "\n",
    "# considerar M como Masculino e F como feminino\n",
    "acidentes_rn['sexo'].replace(['M','F'],['Masculino','Feminino'],inplace=True)\n",
    "\n",
    "# considerar não informado, I e inválido como Ignorado\n",
    "acidentes_rn['sexo'].replace(['Não Informado','I','Inválido'],'Ignorado',inplace=True)"
   ]
  },
  {
   "cell_type": "markdown",
   "metadata": {},
   "source": [
    "O seguinte bloco verifica se os problemas relacionados a coluna *sexo* foram corrigidos."
   ]
  },
  {
   "cell_type": "code",
   "execution_count": 33,
   "metadata": {},
   "outputs": [
    {
     "data": {
      "text/plain": [
       "array(['Masculino', 'Ignorado', 'Feminino'], dtype=object)"
      ]
     },
     "execution_count": 33,
     "metadata": {},
     "output_type": "execute_result"
    }
   ],
   "source": [
    "acidentes_rn['sexo'].unique()"
   ]
  },
  {
   "cell_type": "markdown",
   "metadata": {},
   "source": [
    "Para padronizar os caracteres dos demais atributos, a linha abaixo foi executada, como antes, isso evita erros."
   ]
  },
  {
   "cell_type": "code",
   "execution_count": 34,
   "metadata": {},
   "outputs": [],
   "source": [
    "# padronizar todos os atributos exceto os já tratados ano,mes,dia,br,idade,sexo\n",
    "acidentes_rn.loc[:,'municipio':'uso_solo'] = acidentes_rn.loc[:,'municipio':'uso_solo'].applymap(str.title).applymap(str.strip)"
   ]
  },
  {
   "cell_type": "markdown",
   "metadata": {},
   "source": [
    "Verificar municípios presentes nos registros."
   ]
  },
  {
   "cell_type": "code",
   "execution_count": 35,
   "metadata": {},
   "outputs": [
    {
     "data": {
      "text/plain": [
       "array(['Acari', 'Acu', 'Almino Afonso', 'Angicos', 'Antonio Martins',\n",
       "       'Apodi', 'Areia Branca', 'Ares', 'Assu', 'Augusto Severo',\n",
       "       'Baia Formosa', 'Bom Jesus', 'Caicara Do Norte',\n",
       "       'Caicara Do Rio Do Vento', 'Caico', 'Campo Grande',\n",
       "       'Campo Redondo', 'Canguaretama', 'Ceara-Mirim', 'Currais Novos',\n",
       "       'Extremoz', 'Felipe Guerra', 'Fernando Pedroza', 'Florania',\n",
       "       'Goianinha', 'Governador Dix-Sept Rosado', 'Guamare',\n",
       "       'Ielmo Marinho', 'Ipanguacu', 'Itaja', 'Itau', 'Jandaira',\n",
       "       'Janduis', 'Jardim Do Serido', 'Joao Camara', 'Jose Da Penha',\n",
       "       'Jucurutu', 'Lajes', 'Lajes Pintadas', 'Luis Gomes', 'Macaiba',\n",
       "       'Macau', 'Major Sales', 'Marcelino Vieira', 'Martins',\n",
       "       'Maxaranguape', 'Messias Targino', 'Mossoro', 'Natal',\n",
       "       'Nisia Floresta', 'Parau', 'Parnamirim', 'Patu', 'Pau Dos Ferros',\n",
       "       'Pedro Avelino', 'Poco Branco', 'Rafael Fernandes',\n",
       "       'Riacho De Santana', 'Riachuelo', 'Rio Do Fogo',\n",
       "       'Rodolfo Fernandes', 'Santa Cruz', 'Santa Maria',\n",
       "       'Santana Do Matos', 'Sao Fernando', 'Sao Francisco Do Oeste',\n",
       "       'Sao Goncalo Do Amarante', 'Sao Jose De Mipibu',\n",
       "       'Sao Paulo Do Potengi', 'Sao Pedro', 'Sao Rafael', 'Sao Tome',\n",
       "       'Sao Vicente', 'Senador Eloi De Souza', 'Senador Georgino Avelino',\n",
       "       'Serra Caiada', 'Serra Negra Do Norte', 'Serrinha',\n",
       "       'Serrinha Dos Pintos', 'Severiano Melo', 'Taboleiro Grande',\n",
       "       'Taipu', 'Tangara', 'Tenente Laurentino Cruz',\n",
       "       'Timbauba Dos Batistas', 'Touros', 'Triunfo Potiguar', 'Upanema'],\n",
       "      dtype=object)"
      ]
     },
     "execution_count": 35,
     "metadata": {},
     "output_type": "execute_result"
    }
   ],
   "source": [
    "# exibir municípios para verificar se estão padronizados\n",
    "acidentes_rn['municipio'].sort_values().unique()"
   ]
  },
  {
   "cell_type": "markdown",
   "metadata": {},
   "source": [
    "Verificar as causas de acidentes atribuidas as ocorrências."
   ]
  },
  {
   "cell_type": "code",
   "execution_count": 36,
   "metadata": {},
   "outputs": [
    {
     "data": {
      "text/plain": [
       "array(['Agressão Externa', 'Animais Na Pista',\n",
       "       'Avarias E/Ou Desgaste Excessivo No Pneu',\n",
       "       'Carga Excessiva E/Ou Mal Acondicionada', 'Condutor Dormindo',\n",
       "       'Defeito Mecânico Em Veículo', 'Defeito Mecânico No Veículo',\n",
       "       'Defeito Na Via',\n",
       "       'Deficiência Ou Não Acionamento Do Sistema De Iluminação/Sinalização Do Veículo',\n",
       "       'Desobediência À Sinalização',\n",
       "       'Desobediência Às Normas De Trânsito Pelo Condutor',\n",
       "       'Desobediência Às Normas De Trânsito Pelo Pedestre', 'Dormindo',\n",
       "       'Falta De Atenção', 'Falta De Atenção Do Pedestre',\n",
       "       'Falta De Atenção À Condução', 'Fenômenos Da Natureza',\n",
       "       'Ingestão De Substâncias Psicoativas', 'Ingestão De Álcool',\n",
       "       'Ingestão De Álcool E/Ou Substâncias Psicoativas Pelo Pedestre',\n",
       "       'Mal Súbito', 'Não Guardar Distância De Segurança',\n",
       "       'Objeto Estático Sobre O Leito Carroçável', 'Outras',\n",
       "       'Pista Escorregadia', 'Restrição De Visibilidade',\n",
       "       'Sinalização Da Via Insuficiente Ou Inadequada',\n",
       "       'Ultrapassagem Indevida', 'Velocidade Incompatível'], dtype=object)"
      ]
     },
     "execution_count": 36,
     "metadata": {},
     "output_type": "execute_result"
    }
   ],
   "source": [
    "# exibir as causas de acidentes compiladas a partir dos dados\n",
    "acidentes_rn['causa_acidente'].sort_values().unique()"
   ]
  },
  {
   "cell_type": "markdown",
   "metadata": {},
   "source": [
    "Observar os tipos de acidentes ocorridos."
   ]
  },
  {
   "cell_type": "code",
   "execution_count": 37,
   "metadata": {},
   "outputs": [
    {
     "data": {
      "text/plain": [
       "array(['Atropelamento De Animal', 'Atropelamento De Pedestre',\n",
       "       'Atropelamento De Pessoa', 'Capotamento', 'Colisão Com Bicicleta',\n",
       "       'Colisão Com Objeto Em Movimento', 'Colisão Com Objeto Estático',\n",
       "       'Colisão Com Objeto Fixo', 'Colisão Com Objeto Móvel',\n",
       "       'Colisão Frontal', 'Colisão Lateral', 'Colisão Transversal',\n",
       "       'Colisão Traseira', 'Danos Eventuais', 'Derramamento De Carga',\n",
       "       'Engavetamento', 'Incêndio',\n",
       "       'Queda De Motocicleta / Bicicleta / Veículo',\n",
       "       'Queda De Ocupante De Veículo', 'Saída De Leito Carroçável',\n",
       "       'Saída De Pista', 'Tombamento'], dtype=object)"
      ]
     },
     "execution_count": 37,
     "metadata": {},
     "output_type": "execute_result"
    }
   ],
   "source": [
    "# exibir os tipos de acidentes\n",
    "acidentes_rn['tipo_acidente'].sort_values().unique()"
   ]
  },
  {
   "cell_type": "markdown",
   "metadata": {},
   "source": [
    "Observar as classificações atribuidas aos acidentes."
   ]
  },
  {
   "cell_type": "code",
   "execution_count": 38,
   "metadata": {},
   "outputs": [
    {
     "data": {
      "text/plain": [
       "array(['Com Vítimas Fatais', 'Com Vítimas Feridas', 'Ignorado',\n",
       "       'Sem Vítimas'], dtype=object)"
      ]
     },
     "execution_count": 38,
     "metadata": {},
     "output_type": "execute_result"
    }
   ],
   "source": [
    "# exibir classificações dos acidentes\n",
    "acidentes_rn['classificacao_acidente'].sort_values().unique()"
   ]
  },
  {
   "cell_type": "markdown",
   "metadata": {},
   "source": [
    "Horários categóricos nos quais os acidentes ocorreram."
   ]
  },
  {
   "cell_type": "code",
   "execution_count": 39,
   "metadata": {},
   "outputs": [
    {
     "data": {
      "text/plain": [
       "array(['(Null)', 'Amanhecer', 'Anoitecer', 'Plena Noite', 'Pleno Dia'],\n",
       "      dtype=object)"
      ]
     },
     "execution_count": 39,
     "metadata": {},
     "output_type": "execute_result"
    }
   ],
   "source": [
    "# exibir as fases do dias\n",
    "acidentes_rn['fase_dia'].sort_values().unique()"
   ]
  },
  {
   "cell_type": "markdown",
   "metadata": {},
   "source": [
    "Percebe-se que mesmo não detectado anteriormente, a coluna *fase_dia* possui valores nulos, provavelmente isso ocorreu pois esses dados foram considerados cadeias de caracteres. Pode-se observar que somente um registro de acidente possui esse atrbuto nulo, além disso, na fonte de dados original há o horário exato em que o acidente ocorreu (**14:50 h**), dessa maneira é fácil a esse elemento atribuir um valor manualmente como **PLENO DIA**."
   ]
  },
  {
   "cell_type": "code",
   "execution_count": 40,
   "metadata": {},
   "outputs": [
    {
     "data": {
      "text/plain": [
       "array(['Amanhecer', 'Anoitecer', 'Plena Noite', 'Pleno Dia'], dtype=object)"
      ]
     },
     "execution_count": 40,
     "metadata": {},
     "output_type": "execute_result"
    }
   ],
   "source": [
    "# definir valor com fase de dia nulo como 'Pleno Dia'\n",
    "acidentes_rn.loc[acidentes_rn['fase_dia']=='(Null)','fase_dia'] = 'Pleno Dia'\n",
    "\n",
    "# observar o resultado\n",
    "acidentes_rn['fase_dia'].sort_values().unique()"
   ]
  },
  {
   "cell_type": "markdown",
   "metadata": {},
   "source": [
    "Observar as condicões metereológicas sobre as quais os acidentes ocorreram"
   ]
  },
  {
   "cell_type": "code",
   "execution_count": 41,
   "metadata": {},
   "outputs": [
    {
     "data": {
      "text/plain": [
       "array(['(Null)', 'Ceu Claro', 'Chuva', 'Céu Claro', 'Garoa/Chuvisco',\n",
       "       'Granizo', 'Ignorada', 'Ignorado', 'Nevoeiro/Neblina', 'Nublado',\n",
       "       'Sol', 'Vento'], dtype=object)"
      ]
     },
     "execution_count": 41,
     "metadata": {},
     "output_type": "execute_result"
    }
   ],
   "source": [
    "# exibir condições metereológicas dos acidentes\n",
    "acidentes_rn['condicao_metereologica'].sort_values().unique()"
   ]
  },
  {
   "cell_type": "markdown",
   "metadata": {},
   "source": [
    "O mesmo problema se apresenta novamente, há valores ausentes no atributo considerado, além disso, houve acidentes que ocorreram sob a codição metereológica **GRANIZO**, considerando o clima do estado do RN é possível considerar as ocorrências dessa classe como dados ruidosos. O comando abaixo exibe os registros com essas classificações, como se pode observar apenas quatro foram encontradas, como é um grupo muito pequeno, foi atribuida manualmente a essas linhas a classificação **IGNORADO**."
   ]
  },
  {
   "cell_type": "code",
   "execution_count": 42,
   "metadata": {},
   "outputs": [
    {
     "data": {
      "text/html": [
       "<div>\n",
       "<style scoped>\n",
       "    .dataframe tbody tr th:only-of-type {\n",
       "        vertical-align: middle;\n",
       "    }\n",
       "\n",
       "    .dataframe tbody tr th {\n",
       "        vertical-align: top;\n",
       "    }\n",
       "\n",
       "    .dataframe thead th {\n",
       "        text-align: right;\n",
       "    }\n",
       "</style>\n",
       "<table border=\"1\" class=\"dataframe\">\n",
       "  <thead>\n",
       "    <tr style=\"text-align: right;\">\n",
       "      <th></th>\n",
       "      <th>ano</th>\n",
       "      <th>mes</th>\n",
       "      <th>dia</th>\n",
       "      <th>br</th>\n",
       "      <th>municipio</th>\n",
       "      <th>causa_acidente</th>\n",
       "      <th>tipo_acidente</th>\n",
       "      <th>classificacao_acidente</th>\n",
       "      <th>fase_dia</th>\n",
       "      <th>condicao_metereologica</th>\n",
       "      <th>tipo_pista</th>\n",
       "      <th>uso_solo</th>\n",
       "      <th>idade</th>\n",
       "      <th>sexo</th>\n",
       "    </tr>\n",
       "    <tr>\n",
       "      <th>id</th>\n",
       "      <th></th>\n",
       "      <th></th>\n",
       "      <th></th>\n",
       "      <th></th>\n",
       "      <th></th>\n",
       "      <th></th>\n",
       "      <th></th>\n",
       "      <th></th>\n",
       "      <th></th>\n",
       "      <th></th>\n",
       "      <th></th>\n",
       "      <th></th>\n",
       "      <th></th>\n",
       "      <th></th>\n",
       "    </tr>\n",
       "  </thead>\n",
       "  <tbody>\n",
       "    <tr>\n",
       "      <th>83224358</th>\n",
       "      <td>2014</td>\n",
       "      <td>Julho</td>\n",
       "      <td>Segunda-feira</td>\n",
       "      <td>226</td>\n",
       "      <td>Currais Novos</td>\n",
       "      <td>Outras</td>\n",
       "      <td>Atropelamento De Pessoa</td>\n",
       "      <td>Com Vítimas Feridas</td>\n",
       "      <td>Pleno Dia</td>\n",
       "      <td>Granizo</td>\n",
       "      <td>Dupla</td>\n",
       "      <td>Urbano</td>\n",
       "      <td>19</td>\n",
       "      <td>Feminino</td>\n",
       "    </tr>\n",
       "    <tr>\n",
       "      <th>83224358</th>\n",
       "      <td>2014</td>\n",
       "      <td>Julho</td>\n",
       "      <td>Segunda-feira</td>\n",
       "      <td>226</td>\n",
       "      <td>Currais Novos</td>\n",
       "      <td>Outras</td>\n",
       "      <td>Atropelamento De Pessoa</td>\n",
       "      <td>Com Vítimas Feridas</td>\n",
       "      <td>Pleno Dia</td>\n",
       "      <td>Granizo</td>\n",
       "      <td>Dupla</td>\n",
       "      <td>Urbano</td>\n",
       "      <td>64</td>\n",
       "      <td>Feminino</td>\n",
       "    </tr>\n",
       "    <tr>\n",
       "      <th>83402950</th>\n",
       "      <td>2015</td>\n",
       "      <td>Outubro</td>\n",
       "      <td>Quarta-feira</td>\n",
       "      <td>110</td>\n",
       "      <td>Mossoro</td>\n",
       "      <td>Outras</td>\n",
       "      <td>Queda De Motocicleta / Bicicleta / Veículo</td>\n",
       "      <td>Com Vítimas Feridas</td>\n",
       "      <td>Plena Noite</td>\n",
       "      <td>(Null)</td>\n",
       "      <td>Dupla</td>\n",
       "      <td>Urbano</td>\n",
       "      <td>47</td>\n",
       "      <td>Masculino</td>\n",
       "    </tr>\n",
       "    <tr>\n",
       "      <th>83402950</th>\n",
       "      <td>2015</td>\n",
       "      <td>Outubro</td>\n",
       "      <td>Quarta-feira</td>\n",
       "      <td>110</td>\n",
       "      <td>Mossoro</td>\n",
       "      <td>Outras</td>\n",
       "      <td>Queda De Motocicleta / Bicicleta / Veículo</td>\n",
       "      <td>Com Vítimas Feridas</td>\n",
       "      <td>Plena Noite</td>\n",
       "      <td>(Null)</td>\n",
       "      <td>Dupla</td>\n",
       "      <td>Urbano</td>\n",
       "      <td>38</td>\n",
       "      <td>Masculino</td>\n",
       "    </tr>\n",
       "  </tbody>\n",
       "</table>\n",
       "</div>"
      ],
      "text/plain": [
       "           ano      mes            dia   br      municipio causa_acidente  \\\n",
       "id                                                                          \n",
       "83224358  2014    Julho  Segunda-feira  226  Currais Novos         Outras   \n",
       "83224358  2014    Julho  Segunda-feira  226  Currais Novos         Outras   \n",
       "83402950  2015  Outubro   Quarta-feira  110        Mossoro         Outras   \n",
       "83402950  2015  Outubro   Quarta-feira  110        Mossoro         Outras   \n",
       "\n",
       "                                       tipo_acidente classificacao_acidente  \\\n",
       "id                                                                            \n",
       "83224358                     Atropelamento De Pessoa    Com Vítimas Feridas   \n",
       "83224358                     Atropelamento De Pessoa    Com Vítimas Feridas   \n",
       "83402950  Queda De Motocicleta / Bicicleta / Veículo    Com Vítimas Feridas   \n",
       "83402950  Queda De Motocicleta / Bicicleta / Veículo    Com Vítimas Feridas   \n",
       "\n",
       "             fase_dia condicao_metereologica tipo_pista uso_solo  idade  \\\n",
       "id                                                                        \n",
       "83224358    Pleno Dia                Granizo      Dupla   Urbano     19   \n",
       "83224358    Pleno Dia                Granizo      Dupla   Urbano     64   \n",
       "83402950  Plena Noite                 (Null)      Dupla   Urbano     47   \n",
       "83402950  Plena Noite                 (Null)      Dupla   Urbano     38   \n",
       "\n",
       "               sexo  \n",
       "id                   \n",
       "83224358   Feminino  \n",
       "83224358   Feminino  \n",
       "83402950  Masculino  \n",
       "83402950  Masculino  "
      ]
     },
     "execution_count": 42,
     "metadata": {},
     "output_type": "execute_result"
    }
   ],
   "source": [
    "# exibir linhas com condição metereológica nula ou granizo\n",
    "acidentes_rn[acidentes_rn['condicao_metereologica'].isin(['(Null)','Granizo'])]"
   ]
  },
  {
   "cell_type": "code",
   "execution_count": 43,
   "metadata": {},
   "outputs": [],
   "source": [
    "# atribuir classe 'Ignorado' a esses registros\n",
    "acidentes_rn.loc[acidentes_rn['condicao_metereologica'].isin(['(Null)','Granizo']),'condicao_metereologica'] = 'Ignorado'"
   ]
  },
  {
   "cell_type": "markdown",
   "metadata": {},
   "source": [
    "Percebe-se, ainda, que há outros problemas no atributo de condição metereológica, os valores **CEU CLARO** e **CÉU CLARO** são considerados distintos somente devido ao acento além disso, existe também um classe **IGNORADA**, a linha a seguir resolve essa situação."
   ]
  },
  {
   "cell_type": "code",
   "execution_count": 44,
   "metadata": {},
   "outputs": [
    {
     "data": {
      "text/plain": [
       "array(['Chuva', 'Céu Claro', 'Garoa/Chuvisco', 'Ignorado',\n",
       "       'Nevoeiro/Neblina', 'Nublado', 'Sol', 'Vento'], dtype=object)"
      ]
     },
     "execution_count": 44,
     "metadata": {},
     "output_type": "execute_result"
    }
   ],
   "source": [
    "# trocar valores problemáticos\n",
    "acidentes_rn['condicao_metereologica'].replace(['Ceu Claro','Ignorada'],['Céu Claro','Ignorado'],inplace=True)\n",
    "\n",
    "# verificar se os problemas foram corrigidos\n",
    "acidentes_rn['condicao_metereologica'].sort_values().unique()"
   ]
  },
  {
   "cell_type": "markdown",
   "metadata": {},
   "source": [
    "Examinar os tipos de pistas"
   ]
  },
  {
   "cell_type": "code",
   "execution_count": 45,
   "metadata": {},
   "outputs": [
    {
     "data": {
      "text/plain": [
       "array(['Simples', 'Dupla', 'Múltipla'], dtype=object)"
      ]
     },
     "execution_count": 45,
     "metadata": {},
     "output_type": "execute_result"
    }
   ],
   "source": [
    "acidentes_rn['tipo_pista'].unique()"
   ]
  },
  {
   "cell_type": "markdown",
   "metadata": {},
   "source": [
    "O atributo **uso_solo** indica se o acidente ocorreu com solo **URBANO** ou **RURAL**, alguns registros possuem o valor **SIM** para indicar se o acidente ocorreu em solo urbano e, logicamente, **NÃO**, para o rural. Os próximos comandos exibe isso e em seguida padroniza esses dados."
   ]
  },
  {
   "cell_type": "code",
   "execution_count": 46,
   "metadata": {},
   "outputs": [
    {
     "data": {
      "text/plain": [
       "array(['Rural', 'Urbano', 'Não', 'Sim'], dtype=object)"
      ]
     },
     "execution_count": 46,
     "metadata": {},
     "output_type": "execute_result"
    }
   ],
   "source": [
    "# exibir valores possíveis\n",
    "acidentes_rn['uso_solo'].unique()"
   ]
  },
  {
   "cell_type": "code",
   "execution_count": 47,
   "metadata": {},
   "outputs": [
    {
     "data": {
      "text/plain": [
       "array(['Rural', 'Urbano'], dtype=object)"
      ]
     },
     "execution_count": 47,
     "metadata": {},
     "output_type": "execute_result"
    }
   ],
   "source": [
    "# padronizar valores\n",
    "acidentes_rn['uso_solo'].replace(['Sim','Não'],['Urbano','Rural'],inplace=True)\n",
    "\n",
    "# exibir resultado\n",
    "acidentes_rn['uso_solo'].unique()"
   ]
  },
  {
   "cell_type": "markdown",
   "metadata": {},
   "source": [
    "O próximo código exibe novamente os primeiros registros presentes no *Data Frame*, agora processado."
   ]
  },
  {
   "cell_type": "code",
   "execution_count": 48,
   "metadata": {},
   "outputs": [
    {
     "data": {
      "text/html": [
       "<div>\n",
       "<style scoped>\n",
       "    .dataframe tbody tr th:only-of-type {\n",
       "        vertical-align: middle;\n",
       "    }\n",
       "\n",
       "    .dataframe tbody tr th {\n",
       "        vertical-align: top;\n",
       "    }\n",
       "\n",
       "    .dataframe thead th {\n",
       "        text-align: right;\n",
       "    }\n",
       "</style>\n",
       "<table border=\"1\" class=\"dataframe\">\n",
       "  <thead>\n",
       "    <tr style=\"text-align: right;\">\n",
       "      <th></th>\n",
       "      <th>ano</th>\n",
       "      <th>mes</th>\n",
       "      <th>dia</th>\n",
       "      <th>br</th>\n",
       "      <th>municipio</th>\n",
       "      <th>causa_acidente</th>\n",
       "      <th>tipo_acidente</th>\n",
       "      <th>classificacao_acidente</th>\n",
       "      <th>fase_dia</th>\n",
       "      <th>condicao_metereologica</th>\n",
       "      <th>tipo_pista</th>\n",
       "      <th>uso_solo</th>\n",
       "      <th>idade</th>\n",
       "      <th>sexo</th>\n",
       "    </tr>\n",
       "    <tr>\n",
       "      <th>id</th>\n",
       "      <th></th>\n",
       "      <th></th>\n",
       "      <th></th>\n",
       "      <th></th>\n",
       "      <th></th>\n",
       "      <th></th>\n",
       "      <th></th>\n",
       "      <th></th>\n",
       "      <th></th>\n",
       "      <th></th>\n",
       "      <th></th>\n",
       "      <th></th>\n",
       "      <th></th>\n",
       "      <th></th>\n",
       "    </tr>\n",
       "  </thead>\n",
       "  <tbody>\n",
       "    <tr>\n",
       "      <th>173746</th>\n",
       "      <td>2007</td>\n",
       "      <td>Janeiro</td>\n",
       "      <td>Segunda-feira</td>\n",
       "      <td>101</td>\n",
       "      <td>Extremoz</td>\n",
       "      <td>Falta De Atenção</td>\n",
       "      <td>Saída De Pista</td>\n",
       "      <td>Sem Vítimas</td>\n",
       "      <td>Plena Noite</td>\n",
       "      <td>Céu Claro</td>\n",
       "      <td>Simples</td>\n",
       "      <td>Rural</td>\n",
       "      <td>40</td>\n",
       "      <td>Masculino</td>\n",
       "    </tr>\n",
       "    <tr>\n",
       "      <th>173937</th>\n",
       "      <td>2007</td>\n",
       "      <td>Janeiro</td>\n",
       "      <td>Segunda-feira</td>\n",
       "      <td>304</td>\n",
       "      <td>Macaiba</td>\n",
       "      <td>Outras</td>\n",
       "      <td>Colisão Com Objeto Móvel</td>\n",
       "      <td>Com Vítimas Feridas</td>\n",
       "      <td>Plena Noite</td>\n",
       "      <td>Céu Claro</td>\n",
       "      <td>Simples</td>\n",
       "      <td>Rural</td>\n",
       "      <td>23</td>\n",
       "      <td>Masculino</td>\n",
       "    </tr>\n",
       "    <tr>\n",
       "      <th>173943</th>\n",
       "      <td>2007</td>\n",
       "      <td>Janeiro</td>\n",
       "      <td>Segunda-feira</td>\n",
       "      <td>101</td>\n",
       "      <td>Sao Goncalo Do Amarante</td>\n",
       "      <td>Não Guardar Distância De Segurança</td>\n",
       "      <td>Colisão Traseira</td>\n",
       "      <td>Sem Vítimas</td>\n",
       "      <td>Anoitecer</td>\n",
       "      <td>Céu Claro</td>\n",
       "      <td>Dupla</td>\n",
       "      <td>Urbano</td>\n",
       "      <td>-1</td>\n",
       "      <td>Masculino</td>\n",
       "    </tr>\n",
       "    <tr>\n",
       "      <th>173943</th>\n",
       "      <td>2007</td>\n",
       "      <td>Janeiro</td>\n",
       "      <td>Segunda-feira</td>\n",
       "      <td>101</td>\n",
       "      <td>Sao Goncalo Do Amarante</td>\n",
       "      <td>Não Guardar Distância De Segurança</td>\n",
       "      <td>Colisão Traseira</td>\n",
       "      <td>Sem Vítimas</td>\n",
       "      <td>Anoitecer</td>\n",
       "      <td>Céu Claro</td>\n",
       "      <td>Dupla</td>\n",
       "      <td>Urbano</td>\n",
       "      <td>-1</td>\n",
       "      <td>Masculino</td>\n",
       "    </tr>\n",
       "    <tr>\n",
       "      <th>173965</th>\n",
       "      <td>2007</td>\n",
       "      <td>Janeiro</td>\n",
       "      <td>Segunda-feira</td>\n",
       "      <td>101</td>\n",
       "      <td>Parnamirim</td>\n",
       "      <td>Ingestão De Álcool</td>\n",
       "      <td>Colisão Traseira</td>\n",
       "      <td>Sem Vítimas</td>\n",
       "      <td>Pleno Dia</td>\n",
       "      <td>Céu Claro</td>\n",
       "      <td>Dupla</td>\n",
       "      <td>Rural</td>\n",
       "      <td>32</td>\n",
       "      <td>Masculino</td>\n",
       "    </tr>\n",
       "  </tbody>\n",
       "</table>\n",
       "</div>"
      ],
      "text/plain": [
       "         ano      mes            dia   br                municipio  \\\n",
       "id                                                                   \n",
       "173746  2007  Janeiro  Segunda-feira  101                 Extremoz   \n",
       "173937  2007  Janeiro  Segunda-feira  304                  Macaiba   \n",
       "173943  2007  Janeiro  Segunda-feira  101  Sao Goncalo Do Amarante   \n",
       "173943  2007  Janeiro  Segunda-feira  101  Sao Goncalo Do Amarante   \n",
       "173965  2007  Janeiro  Segunda-feira  101               Parnamirim   \n",
       "\n",
       "                            causa_acidente             tipo_acidente  \\\n",
       "id                                                                     \n",
       "173746                    Falta De Atenção            Saída De Pista   \n",
       "173937                              Outras  Colisão Com Objeto Móvel   \n",
       "173943  Não Guardar Distância De Segurança          Colisão Traseira   \n",
       "173943  Não Guardar Distância De Segurança          Colisão Traseira   \n",
       "173965                  Ingestão De Álcool          Colisão Traseira   \n",
       "\n",
       "       classificacao_acidente     fase_dia condicao_metereologica tipo_pista  \\\n",
       "id                                                                             \n",
       "173746            Sem Vítimas  Plena Noite              Céu Claro    Simples   \n",
       "173937    Com Vítimas Feridas  Plena Noite              Céu Claro    Simples   \n",
       "173943            Sem Vítimas    Anoitecer              Céu Claro      Dupla   \n",
       "173943            Sem Vítimas    Anoitecer              Céu Claro      Dupla   \n",
       "173965            Sem Vítimas    Pleno Dia              Céu Claro      Dupla   \n",
       "\n",
       "       uso_solo  idade       sexo  \n",
       "id                                 \n",
       "173746    Rural     40  Masculino  \n",
       "173937    Rural     23  Masculino  \n",
       "173943   Urbano     -1  Masculino  \n",
       "173943   Urbano     -1  Masculino  \n",
       "173965    Rural     32  Masculino  "
      ]
     },
     "execution_count": 48,
     "metadata": {},
     "output_type": "execute_result"
    }
   ],
   "source": [
    "# exibir linhas iniciais de registros após todo processamento\n",
    "acidentes_rn.head()"
   ]
  },
  {
   "cell_type": "markdown",
   "metadata": {},
   "source": [
    "Para salvar esse conjunto de dados processado, o bloco abaixo foi executado, um arquivo 'datatran-rn.csv' será criado."
   ]
  },
  {
   "cell_type": "code",
   "execution_count": 49,
   "metadata": {},
   "outputs": [],
   "source": [
    "# salvar conjunto de dados processados como um arquivo .csv\n",
    "acidentes_rn.to_csv('acidentes-rn.csv',index=False)"
   ]
  },
  {
   "cell_type": "markdown",
   "metadata": {},
   "source": [
    "### 3. Exploração"
   ]
  },
  {
   "cell_type": "markdown",
   "metadata": {},
   "source": [
    "O arquivo *datatran_rn.csv* contém os dados devidamente processados, procedimento realizado na seção de [pré-processamento](#2.-Pr%C3%A9-processamento)."
   ]
  },
  {
   "cell_type": "code",
   "execution_count": null,
   "metadata": {},
   "outputs": [],
   "source": [
    "# ler arquivo com dados processados\n",
    "datatran_rn = pd.read_csv('datatran-rn.csv')"
   ]
  },
  {
   "cell_type": "markdown",
   "metadata": {},
   "source": [
    "Exibir primeiros registros da fonte de dados pré-processado."
   ]
  },
  {
   "cell_type": "code",
   "execution_count": null,
   "metadata": {},
   "outputs": [],
   "source": [
    "# exibir primeiros resultados\n",
    "datatran_rn.head()"
   ]
  },
  {
   "cell_type": "markdown",
   "metadata": {},
   "source": [
    "Quantidade numérica de acidentes ocorridos em todo o RN em cada ano a partir de 2007."
   ]
  },
  {
   "cell_type": "code",
   "execution_count": null,
   "metadata": {},
   "outputs": [],
   "source": [
    "# plotar gráfico de barras\n",
    "datatran_rn['ano'].value_counts().plot(kind='bar',color='darkred',title='Acidentes por Ano',rot='45').set(ylabel='n° de acidentes');"
   ]
  },
  {
   "cell_type": "markdown",
   "metadata": {},
   "source": [
    "Mapa de calor com a quantidade de acidentes registrados ocorridos em cada mês de cada ano"
   ]
  },
  {
   "cell_type": "code",
   "execution_count": null,
   "metadata": {},
   "outputs": [],
   "source": [
    "# construir tabela\n",
    "acidentes_ano_mes = pd.crosstab(datatran_rn['mes'].astype(pd.CategoricalDtype(datatran_rn['mes'].unique(),ordered=True)),datatran_rn['ano'])\n",
    "\n",
    "# construir figura\n",
    "f, ax = plt.subplots(figsize=(9, 6))\n",
    "\n",
    "# título\n",
    "ax.set_title('Matriz Cronológica de Acidentes')\n",
    "\n",
    "# plotar mapa de calor\n",
    "sns.heatmap(acidentes_ano_mes, annot=True, fmt=\"d\", linewidths=.5, ax=ax,cmap='Reds');"
   ]
  },
  {
   "cell_type": "markdown",
   "metadata": {},
   "source": [
    "Construir um gráficos de setores que indicam como os acidentes estão distribuidos em relação aos dias da semana e aos meses."
   ]
  },
  {
   "cell_type": "code",
   "execution_count": null,
   "metadata": {},
   "outputs": [],
   "source": [
    "# construir figura\n",
    "fig, axes = plt.subplots(nrows=1, ncols=2,figsize=(12,5))\n",
    "\n",
    "# plotagem do gráfico pizza para dias\n",
    "datatran_rn['dia'].value_counts().plot(kind='pie',title='Acidentes em Dias da Semana',autopct='%.2f%%',colormap='tab20',ax=axes[0]);\n",
    "\n",
    "# plotagem do gráfico pizza para meses\n",
    "datatran_rn['mes'].value_counts().plot(kind='pie',title='Acidentes em Cada Mês',autopct='%.2f%%',colormap='tab20b',ax=axes[1]);\n",
    "\n",
    "fig.subplots_adjust(wspace=0.4)"
   ]
  },
  {
   "cell_type": "markdown",
   "metadata": {},
   "source": [
    "Explorar ocorrências por municípios e rodovias."
   ]
  },
  {
   "cell_type": "code",
   "execution_count": null,
   "metadata": {},
   "outputs": [],
   "source": [
    "# municipios com maior número de ocorrências registradas\n",
    "municipios_acidentes = datatran_rn['municipio'].value_counts().head(10)\n",
    "\n",
    "# realizar plotagem\n",
    "pd.crosstab(datatran_rn['municipio'],datatran_rn['br']).loc[municipios_acidentes.index].plot(kind='barh',stacked=True,title='Municipios Com Mais Acidentes Registrados');"
   ]
  },
  {
   "cell_type": "markdown",
   "metadata": {},
   "source": [
    "Observar as causas de acidentes mais importantes e tipos de acidentes mais frequentes."
   ]
  },
  {
   "cell_type": "code",
   "execution_count": null,
   "metadata": {},
   "outputs": [],
   "source": [
    "# construir figura\n",
    "fig, axes = plt.subplots(nrows=1, ncols=2,figsize=(15,5))\n",
    "\n",
    "# plotar gráfico de setores com as 10 causas mais frequentes\n",
    "datatran_rn['causa_acidente'].value_counts().head(10).rename('').plot(kind='pie',colormap='tab20c',title='Causas Mais Frequentes',ax=axes[0]);\n",
    "\n",
    "# plotar gráfico de setores com os tipos de acidentes mais frequentes\n",
    "datatran_rn['tipo_acidente'].value_counts().head(10).rename('').plot(kind='pie',colormap='tab10',title='Tipos Mais Frequentes',ax=axes[1]);\n",
    "\n",
    "# ajustar plotagens\n",
    "fig.subplots_adjust(wspace=1)"
   ]
  },
  {
   "cell_type": "markdown",
   "metadata": {},
   "source": [
    "Estudar a relação entre as causas e a classificação quando houve vítimas."
   ]
  },
  {
   "cell_type": "code",
   "execution_count": null,
   "metadata": {},
   "outputs": [],
   "source": [
    "# plotar gráfico normalizado\n",
    "ax = pd.crosstab(datatran_rn['classificacao_acidente'],datatran_rn['causa_acidente']).apply(lambda r: r/r.sum(), axis=1).iloc[0:2].plot(kind='bar',rot=360,stacked=True,colormap='tab20c');\n",
    "ax.legend(bbox_to_anchor = (1.51, 1));"
   ]
  },
  {
   "cell_type": "markdown",
   "metadata": {},
   "source": [
    "Estudar a relação entre os tipos e a classificação quando houve vítimas."
   ]
  },
  {
   "cell_type": "code",
   "execution_count": null,
   "metadata": {},
   "outputs": [],
   "source": [
    "ax = pd.crosstab(datatran_rn['classificacao_acidente'],datatran_rn['tipo_acidente']).apply(lambda r: r/r.sum(), axis=1).iloc[0:2].plot(kind='bar',rot=360,stacked=True);\n",
    "ax.legend(bbox_to_anchor = (1.51, 1));"
   ]
  },
  {
   "cell_type": "markdown",
   "metadata": {},
   "source": [
    "Comportamento cronológico das classificações dos acidentes."
   ]
  },
  {
   "cell_type": "code",
   "execution_count": null,
   "metadata": {},
   "outputs": [],
   "source": [
    "# construir figura\n",
    "fig, axes = plt.subplots(nrows=1, ncols=2,figsize=(11,5))\n",
    "\n",
    "# plotagem de gráfico linear\n",
    "pd.crosstab(datatran_rn['ano'],datatran_rn['classificacao_acidente']).plot(kind='line',title='Classificação dos Acidentes',ax=axes[0]);\n",
    "\n",
    "# plotagem de gráfico de barras\n",
    "pd.crosstab(datatran_rn['ano'],datatran_rn['classificacao_acidente']).plot(kind='bar',title='Classificação dos Acidentes',stacked=True,ax=axes[1]);"
   ]
  },
  {
   "cell_type": "markdown",
   "metadata": {},
   "source": [
    "### 4. Transformação"
   ]
  },
  {
   "cell_type": "markdown",
   "metadata": {},
   "source": [
    "O arquivo *datatran_rn.csv* contém os dados devidamente processados, procedimento realizado na seção de [pré-processamento](#2.-Pr%C3%A9-processamento)."
   ]
  },
  {
   "cell_type": "code",
   "execution_count": null,
   "metadata": {},
   "outputs": [],
   "source": [
    "# ler arquivo com dados processados\n",
    "datatran_rn = pd.read_csv('datatran-rn.csv')"
   ]
  }
 ],
 "metadata": {
  "kernelspec": {
   "display_name": "Python 3",
   "language": "python",
   "name": "python3"
  },
  "language_info": {
   "codemirror_mode": {
    "name": "ipython",
    "version": 3
   },
   "file_extension": ".py",
   "mimetype": "text/x-python",
   "name": "python",
   "nbconvert_exporter": "python",
   "pygments_lexer": "ipython3",
   "version": "3.7.0"
  }
 },
 "nbformat": 4,
 "nbformat_minor": 2
}
