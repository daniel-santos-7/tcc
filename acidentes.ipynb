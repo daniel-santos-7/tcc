{
 "cells": [
  {
   "cell_type": "markdown",
   "metadata": {
    "slideshow": {
     "slide_type": "slide"
    }
   },
   "source": [
    "## UNIVERSIDADE FEDERAL RURAL DO SEMI-ÁRIDO"
   ]
  },
  {
   "cell_type": "markdown",
   "metadata": {
    "slideshow": {
     "slide_type": "slide"
    }
   },
   "source": [
    "## ANÁLISE DE ACIDENTES EM RODOVIAS FEDERAIS DO RN\n"
   ]
  },
  {
   "cell_type": "markdown",
   "metadata": {
    "slideshow": {
     "slide_type": "slide"
    }
   },
   "source": [
    "**Trabalho Desenvolvido Por: Daniel da Silva Santos**"
   ]
  },
  {
   "cell_type": "markdown",
   "metadata": {
    "slideshow": {
     "slide_type": "slide"
    }
   },
   "source": [
    "**Caraúbas - 2019**"
   ]
  },
  {
   "cell_type": "markdown",
   "metadata": {
    "slideshow": {
     "slide_type": "slide"
    }
   },
   "source": [
    "### Índice\n",
    "1. [Seleção de Dados](#1.-Sele%C3%A7%C3%A3o-de-Dados)\n",
    "2. [Pré-processamento](#2.-Pr%C3%A9-processamento)\n",
    "3. [Exploração](#3.-Explora%C3%A7%C3%A3o)\n",
    "4. [Transformação](#4.-Transforma%C3%A7%C3%A3o)\n",
    "5. [Mineração de Padrões Frequentes](#5.-Minera%C3%A7%C3%A3o-de-Padr%C3%B5es-Frequentes)\n",
    "6. [Exploração dos Resultados da Mineração](#6.-Explora%C3%A7%C3%A3o-dos-Resultados-da-Minera%C3%A7%C3%A3o)"
   ]
  },
  {
   "cell_type": "markdown",
   "metadata": {},
   "source": [
    "Módulos necessários para a análise de dados."
   ]
  },
  {
   "cell_type": "code",
   "execution_count": 2,
   "metadata": {},
   "outputs": [],
   "source": [
    "# importações\n",
    "import pandas as pd, seaborn as sns,matplotlib.pyplot as plt, mlxtend.frequent_patterns, mlxtend.preprocessing, os,warnings"
   ]
  },
  {
   "cell_type": "markdown",
   "metadata": {},
   "source": [
    "Algumas configurações pouco relevantes para o trabalho."
   ]
  },
  {
   "cell_type": "code",
   "execution_count": 3,
   "metadata": {},
   "outputs": [],
   "source": [
    "# ignorar menssagens de warnings\n",
    "warnings.filterwarnings('ignore')"
   ]
  },
  {
   "cell_type": "markdown",
   "metadata": {},
   "source": [
    "### 1. Seleção de Dados"
   ]
  },
  {
   "cell_type": "markdown",
   "metadata": {},
   "source": [
    "O conjunto de dados obtidos no site da PRF se encontram em uma pasta local, o código abaixo encontra esses arquivos."
   ]
  },
  {
   "cell_type": "code",
   "execution_count": 3,
   "metadata": {},
   "outputs": [],
   "source": [
    "# lista de fontes de dados (arquivos .csv)\n",
    "acidentes_fontes = os.listdir('acidentes')"
   ]
  },
  {
   "cell_type": "markdown",
   "metadata": {},
   "source": [
    "Devido a razões de desempenho e ao propósito do trabalho, somente alguns atributos (listados abaixo) foram selecionados."
   ]
  },
  {
   "cell_type": "code",
   "execution_count": 4,
   "metadata": {},
   "outputs": [],
   "source": [
    "# somente variáveis consideradas relevantes para o trabalho\n",
    "colunas_a_estudar = ['id','data_inversa','uf','br','municipio','causa_acidente','tipo_acidente','classificacao_acidente','fase_dia','condicao_metereologica','tipo_pista','uso_solo','tipo_envolvido','idade','sexo']"
   ]
  },
  {
   "cell_type": "markdown",
   "metadata": {},
   "source": [
    "O código abaixo carrega as fontes de dados e extrai os registros ocorridos no RN de acordo com atributos julgados relevantes."
   ]
  },
  {
   "cell_type": "code",
   "execution_count": 5,
   "metadata": {},
   "outputs": [],
   "source": [
    "# ler cada arquivo de fonte de dados, extrair registros ocorridos no RN e selecionar apenas os atributos de interesse.\n",
    "acidentes_rn_sep = [pd.read_csv('acidentes/'+df,sep=None,encoding='ansi',usecols=colunas_a_estudar).query('uf==\"RN\"') for df in acidentes_fontes]"
   ]
  },
  {
   "cell_type": "markdown",
   "metadata": {},
   "source": [
    "Salvar registros ocorridos no estado do Rio Grande do Norte com os atributos relevantes em uma pasta local *acidentes-rn*"
   ]
  },
  {
   "cell_type": "code",
   "execution_count": 7,
   "metadata": {},
   "outputs": [],
   "source": [
    "# salvar registros ocorridos no RN como arquivos .csv\n",
    "for ano,arquivo in enumerate(acidentes_rn_sep,2007):\n",
    "    arquivo.to_csv('acidentes-rn/acidentesrn'+str(ano)+'.csv',index=False)"
   ]
  },
  {
   "cell_type": "markdown",
   "metadata": {},
   "source": [
    "[Voltar ao Índice](#%C3%8Dndice)"
   ]
  },
  {
   "cell_type": "markdown",
   "metadata": {},
   "source": [
    "### 2. Pré-processamento"
   ]
  },
  {
   "cell_type": "markdown",
   "metadata": {},
   "source": [
    "Ler arquivos com registros e atributos selecionados na seção [anterior](#1.-Sele%C3%A7%C3%A3o-de-Dados)."
   ]
  },
  {
   "cell_type": "code",
   "execution_count": 4,
   "metadata": {},
   "outputs": [],
   "source": [
    "acidentes_rn = [pd.read_csv('acidentes-rn/'+df) for df in os.listdir('acidentes-rn')]"
   ]
  },
  {
   "cell_type": "markdown",
   "metadata": {},
   "source": [
    "Os conjuntos de dados estão separados de acordo com o ano, o código abaixo integra, em um único *Data Frame*, todos os registros. "
   ]
  },
  {
   "cell_type": "code",
   "execution_count": 5,
   "metadata": {},
   "outputs": [],
   "source": [
    "# integração de dados\n",
    "acidentes_rn = pd.concat(acidentes_rn,ignore_index=True)"
   ]
  },
  {
   "cell_type": "markdown",
   "metadata": {},
   "source": [
    "Exibir os primeiros registros do conjunto de dado integrado."
   ]
  },
  {
   "cell_type": "code",
   "execution_count": 6,
   "metadata": {},
   "outputs": [
    {
     "data": {
      "text/html": [
       "<div>\n",
       "<style scoped>\n",
       "    .dataframe tbody tr th:only-of-type {\n",
       "        vertical-align: middle;\n",
       "    }\n",
       "\n",
       "    .dataframe tbody tr th {\n",
       "        vertical-align: top;\n",
       "    }\n",
       "\n",
       "    .dataframe thead th {\n",
       "        text-align: right;\n",
       "    }\n",
       "</style>\n",
       "<table border=\"1\" class=\"dataframe\">\n",
       "  <thead>\n",
       "    <tr style=\"text-align: right;\">\n",
       "      <th></th>\n",
       "      <th>id</th>\n",
       "      <th>data_inversa</th>\n",
       "      <th>uf</th>\n",
       "      <th>br</th>\n",
       "      <th>municipio</th>\n",
       "      <th>causa_acidente</th>\n",
       "      <th>tipo_acidente</th>\n",
       "      <th>classificacao_acidente</th>\n",
       "      <th>fase_dia</th>\n",
       "      <th>condicao_metereologica</th>\n",
       "      <th>tipo_pista</th>\n",
       "      <th>uso_solo</th>\n",
       "      <th>tipo_envolvido</th>\n",
       "      <th>idade</th>\n",
       "      <th>sexo</th>\n",
       "    </tr>\n",
       "  </thead>\n",
       "  <tbody>\n",
       "    <tr>\n",
       "      <th>0</th>\n",
       "      <td>173746.0</td>\n",
       "      <td>01/01/2007</td>\n",
       "      <td>RN</td>\n",
       "      <td>101.0</td>\n",
       "      <td>EXTREMOZ</td>\n",
       "      <td>Falta de atenção</td>\n",
       "      <td>Saída de Pista</td>\n",
       "      <td>Sem Vítimas</td>\n",
       "      <td>Plena noite</td>\n",
       "      <td>Ceu Claro</td>\n",
       "      <td>Simples</td>\n",
       "      <td>Rural</td>\n",
       "      <td>Condutor</td>\n",
       "      <td>40.0</td>\n",
       "      <td>Masculino</td>\n",
       "    </tr>\n",
       "    <tr>\n",
       "      <th>1</th>\n",
       "      <td>173937.0</td>\n",
       "      <td>01/01/2007</td>\n",
       "      <td>RN</td>\n",
       "      <td>304.0</td>\n",
       "      <td>MACAIBA</td>\n",
       "      <td>Outras</td>\n",
       "      <td>Colisão com objeto móvel</td>\n",
       "      <td>Com Vítimas Feridas</td>\n",
       "      <td>Plena noite</td>\n",
       "      <td>Ceu Claro</td>\n",
       "      <td>Simples</td>\n",
       "      <td>Rural</td>\n",
       "      <td>Condutor</td>\n",
       "      <td>23.0</td>\n",
       "      <td>Masculino</td>\n",
       "    </tr>\n",
       "    <tr>\n",
       "      <th>2</th>\n",
       "      <td>173943.0</td>\n",
       "      <td>01/01/2007</td>\n",
       "      <td>RN</td>\n",
       "      <td>101.0</td>\n",
       "      <td>SAO GONCALO DO AMARANTE</td>\n",
       "      <td>Não guardar distância de segurança</td>\n",
       "      <td>Colisão traseira</td>\n",
       "      <td>Sem Vítimas</td>\n",
       "      <td>Anoitecer</td>\n",
       "      <td>Ceu Claro</td>\n",
       "      <td>Dupla</td>\n",
       "      <td>Urbano</td>\n",
       "      <td>Condutor</td>\n",
       "      <td>-1.0</td>\n",
       "      <td>Masculino</td>\n",
       "    </tr>\n",
       "    <tr>\n",
       "      <th>3</th>\n",
       "      <td>173943.0</td>\n",
       "      <td>01/01/2007</td>\n",
       "      <td>RN</td>\n",
       "      <td>101.0</td>\n",
       "      <td>SAO GONCALO DO AMARANTE</td>\n",
       "      <td>Não guardar distância de segurança</td>\n",
       "      <td>Colisão traseira</td>\n",
       "      <td>Sem Vítimas</td>\n",
       "      <td>Anoitecer</td>\n",
       "      <td>Ceu Claro</td>\n",
       "      <td>Dupla</td>\n",
       "      <td>Urbano</td>\n",
       "      <td>Condutor</td>\n",
       "      <td>-1.0</td>\n",
       "      <td>Masculino</td>\n",
       "    </tr>\n",
       "    <tr>\n",
       "      <th>4</th>\n",
       "      <td>173965.0</td>\n",
       "      <td>01/01/2007</td>\n",
       "      <td>RN</td>\n",
       "      <td>101.0</td>\n",
       "      <td>PARNAMIRIM</td>\n",
       "      <td>Ingestão de álcool</td>\n",
       "      <td>Colisão traseira</td>\n",
       "      <td>Sem Vítimas</td>\n",
       "      <td>Pleno dia</td>\n",
       "      <td>Ceu Claro</td>\n",
       "      <td>Dupla</td>\n",
       "      <td>Rural</td>\n",
       "      <td>Condutor</td>\n",
       "      <td>32.0</td>\n",
       "      <td>Masculino</td>\n",
       "    </tr>\n",
       "  </tbody>\n",
       "</table>\n",
       "</div>"
      ],
      "text/plain": [
       "         id data_inversa  uf     br                municipio  \\\n",
       "0  173746.0   01/01/2007  RN  101.0                 EXTREMOZ   \n",
       "1  173937.0   01/01/2007  RN  304.0                  MACAIBA   \n",
       "2  173943.0   01/01/2007  RN  101.0  SAO GONCALO DO AMARANTE   \n",
       "3  173943.0   01/01/2007  RN  101.0  SAO GONCALO DO AMARANTE   \n",
       "4  173965.0   01/01/2007  RN  101.0               PARNAMIRIM   \n",
       "\n",
       "                       causa_acidente             tipo_acidente  \\\n",
       "0                    Falta de atenção            Saída de Pista   \n",
       "1                              Outras  Colisão com objeto móvel   \n",
       "2  Não guardar distância de segurança          Colisão traseira   \n",
       "3  Não guardar distância de segurança          Colisão traseira   \n",
       "4                  Ingestão de álcool          Colisão traseira   \n",
       "\n",
       "  classificacao_acidente     fase_dia condicao_metereologica tipo_pista  \\\n",
       "0    Sem Vítimas          Plena noite              Ceu Claro   Simples    \n",
       "1    Com Vítimas Feridas  Plena noite              Ceu Claro   Simples    \n",
       "2    Sem Vítimas            Anoitecer              Ceu Claro   Dupla      \n",
       "3    Sem Vítimas            Anoitecer              Ceu Claro   Dupla      \n",
       "4    Sem Vítimas            Pleno dia              Ceu Claro   Dupla      \n",
       "\n",
       "  uso_solo tipo_envolvido  idade       sexo  \n",
       "0   Rural        Condutor   40.0  Masculino  \n",
       "1   Rural        Condutor   23.0  Masculino  \n",
       "2   Urbano       Condutor   -1.0  Masculino  \n",
       "3   Urbano       Condutor   -1.0  Masculino  \n",
       "4   Rural        Condutor   32.0  Masculino  "
      ]
     },
     "execution_count": 6,
     "metadata": {},
     "output_type": "execute_result"
    }
   ],
   "source": [
    "# observar início do conjunto de dados\n",
    "acidentes_rn.head()"
   ]
  },
  {
   "cell_type": "markdown",
   "metadata": {},
   "source": [
    "Verificar atributos e os tipos desses dados, presentes na tabela."
   ]
  },
  {
   "cell_type": "code",
   "execution_count": 7,
   "metadata": {},
   "outputs": [
    {
     "data": {
      "text/plain": [
       "id                        float64\n",
       "data_inversa               object\n",
       "uf                         object\n",
       "br                        float64\n",
       "municipio                  object\n",
       "causa_acidente             object\n",
       "tipo_acidente              object\n",
       "classificacao_acidente     object\n",
       "fase_dia                   object\n",
       "condicao_metereologica     object\n",
       "tipo_pista                 object\n",
       "uso_solo                   object\n",
       "tipo_envolvido             object\n",
       "idade                     float64\n",
       "sexo                       object\n",
       "dtype: object"
      ]
     },
     "execution_count": 7,
     "metadata": {},
     "output_type": "execute_result"
    }
   ],
   "source": [
    "# tipos dos atributos\n",
    "acidentes_rn.dtypes"
   ]
  },
  {
   "cell_type": "markdown",
   "metadata": {},
   "source": [
    "A quantidade de registos (linhas) e de atributos (colunas) é obtido como se segue."
   ]
  },
  {
   "cell_type": "code",
   "execution_count": 8,
   "metadata": {},
   "outputs": [
    {
     "name": "stdout",
     "output_type": "stream",
     "text": [
      "registros:  78356  atributos:  15\n"
     ]
    }
   ],
   "source": [
    "# quantidade de registros e de atributos\n",
    "registros,atributos = acidentes_rn.shape\n",
    "\n",
    "print('registros: ',registros,' atributos: ',atributos)"
   ]
  },
  {
   "cell_type": "markdown",
   "metadata": {},
   "source": [
    "Verificar em quais atributos há valores nulos (não presentes)."
   ]
  },
  {
   "cell_type": "code",
   "execution_count": 9,
   "metadata": {},
   "outputs": [
    {
     "data": {
      "text/plain": [
       "id                        False\n",
       "data_inversa              False\n",
       "uf                        False\n",
       "br                         True\n",
       "municipio                 False\n",
       "causa_acidente            False\n",
       "tipo_acidente             False\n",
       "classificacao_acidente    False\n",
       "fase_dia                  False\n",
       "condicao_metereologica    False\n",
       "tipo_pista                False\n",
       "uso_solo                  False\n",
       "tipo_envolvido            False\n",
       "idade                      True\n",
       "sexo                       True\n",
       "dtype: bool"
      ]
     },
     "execution_count": 9,
     "metadata": {},
     "output_type": "execute_result"
    }
   ],
   "source": [
    "# verificar valores ausentes\n",
    "acidentes_rn.isnull().any()"
   ]
  },
  {
   "cell_type": "markdown",
   "metadata": {},
   "source": [
    "É preferível que a coluna *id* presente no conjunto de dados seja tratada como índice, pois essa variável diferencia as ocorrências de acidentes. Para que isso seja realizado, primeiramente essa coluna será considerada um tipo categórico."
   ]
  },
  {
   "cell_type": "code",
   "execution_count": 10,
   "metadata": {},
   "outputs": [
    {
     "data": {
      "text/plain": [
       "dtype('O')"
      ]
     },
     "execution_count": 10,
     "metadata": {},
     "output_type": "execute_result"
    }
   ],
   "source": [
    "# definir o id dos acidentes como um tipo de categoria (str)\n",
    "acidentes_rn['id'] = acidentes_rn['id'].astype('int32').astype('str')\n",
    "\n",
    "# verificar resultado\n",
    "acidentes_rn['id'].dtype"
   ]
  },
  {
   "cell_type": "markdown",
   "metadata": {},
   "source": [
    "O comando abaixo seleciona, então, a coluna *id* para ser o *index* da tabela."
   ]
  },
  {
   "cell_type": "code",
   "execution_count": 11,
   "metadata": {},
   "outputs": [
    {
     "data": {
      "text/plain": [
       "Index(['173746', '173937', '173943', '173943', '173965', '173965', '173965',\n",
       "       '173991', '173991', '174009',\n",
       "       ...\n",
       "       '186997', '187108', '187108', '187108', '187108', '188265', '188265',\n",
       "       '188460', '188460', '191176'],\n",
       "      dtype='object', name='id', length=78356)"
      ]
     },
     "execution_count": 11,
     "metadata": {},
     "output_type": "execute_result"
    }
   ],
   "source": [
    "# definir coluna 'id' como índice da tabela\n",
    "acidentes_rn.set_index('id',inplace=True)\n",
    "\n",
    "# exibir novo índice\n",
    "acidentes_rn.index"
   ]
  },
  {
   "cell_type": "markdown",
   "metadata": {},
   "source": [
    "Ao analisar os atributos, verifica-se que a variável *uf* se torna irrelevante, haja vista que há apenas registros ocorridos no RN agora. O comando abaixo remove essa coluna do conjunto de dados."
   ]
  },
  {
   "cell_type": "code",
   "execution_count": 12,
   "metadata": {},
   "outputs": [
    {
     "data": {
      "text/plain": [
       "Index(['data_inversa', 'br', 'municipio', 'causa_acidente', 'tipo_acidente',\n",
       "       'classificacao_acidente', 'fase_dia', 'condicao_metereologica',\n",
       "       'tipo_pista', 'uso_solo', 'tipo_envolvido', 'idade', 'sexo'],\n",
       "      dtype='object')"
      ]
     },
     "execution_count": 12,
     "metadata": {},
     "output_type": "execute_result"
    }
   ],
   "source": [
    "# remover coluna 'uf'\n",
    "acidentes_rn.drop('uf',axis=1,inplace=True)\n",
    "\n",
    "# verificar colunas da base de dados, percebe-se a ausência da coluna removida.\n",
    "acidentes_rn.columns"
   ]
  },
  {
   "cell_type": "markdown",
   "metadata": {},
   "source": [
    "O atributo *data_inversa* é muito importante para uma análise histórica dos acidentes, felizmente, não há valores ausentes nessa coluna, por isso, não se encontra problemas na manipulção desse atributo, contudo, para simplificar ainda mais esse processo, o comando abaixo foi executado, o qual converte os valores cronológicos em objetos facilmente manipuláveis."
   ]
  },
  {
   "cell_type": "code",
   "execution_count": 13,
   "metadata": {},
   "outputs": [],
   "source": [
    "# converter coluna 'data_inversa' para um objeto que o pandas manipula facilmente\n",
    "acidentes_rn['data_inversa']=pd.to_datetime(acidentes_rn['data_inversa'],dayfirst=True)"
   ]
  },
  {
   "cell_type": "markdown",
   "metadata": {},
   "source": [
    "Extrair informações como dia, mês e ano do acidente a partir da coluna *data_inversa*. "
   ]
  },
  {
   "cell_type": "code",
   "execution_count": 14,
   "metadata": {},
   "outputs": [],
   "source": [
    "# dias da semana em que os acidentes ocorreram\n",
    "dias = acidentes_rn['data_inversa'].dt.day_name(locale='pt').rename('dia')\n",
    "\n",
    "# meses em que os acidentes ocorreram\n",
    "meses = acidentes_rn['data_inversa'].dt.month_name(locale='pt').rename('mes')\n",
    "\n",
    "# anos em que os acidentes ocorreram\n",
    "anos = acidentes_rn['data_inversa'].dt.year.rename('ano').astype('str')"
   ]
  },
  {
   "cell_type": "markdown",
   "metadata": {},
   "source": [
    "O código abaixo remove o atributo *data_inversa* (que se torna obsoleto) e insere dias, meses e anos de ocorrência."
   ]
  },
  {
   "cell_type": "code",
   "execution_count": 15,
   "metadata": {},
   "outputs": [],
   "source": [
    "# remover coluna 'data_inversa'\n",
    "acidentes_rn.drop('data_inversa',axis=1,inplace=True)\n",
    "\n",
    "# inserir colunas dia, mes, ano\n",
    "acidentes_rn =pd.concat([anos,meses,dias,acidentes_rn],axis=1)"
   ]
  },
  {
   "cell_type": "markdown",
   "metadata": {},
   "source": [
    "O comando abaixo, novamente, exibe os primeiros registros do *Data Frame* principal, percebe-se a presença das novas colunas."
   ]
  },
  {
   "cell_type": "code",
   "execution_count": 16,
   "metadata": {},
   "outputs": [
    {
     "data": {
      "text/html": [
       "<div>\n",
       "<style scoped>\n",
       "    .dataframe tbody tr th:only-of-type {\n",
       "        vertical-align: middle;\n",
       "    }\n",
       "\n",
       "    .dataframe tbody tr th {\n",
       "        vertical-align: top;\n",
       "    }\n",
       "\n",
       "    .dataframe thead th {\n",
       "        text-align: right;\n",
       "    }\n",
       "</style>\n",
       "<table border=\"1\" class=\"dataframe\">\n",
       "  <thead>\n",
       "    <tr style=\"text-align: right;\">\n",
       "      <th></th>\n",
       "      <th>ano</th>\n",
       "      <th>mes</th>\n",
       "      <th>dia</th>\n",
       "      <th>br</th>\n",
       "      <th>municipio</th>\n",
       "      <th>causa_acidente</th>\n",
       "      <th>tipo_acidente</th>\n",
       "      <th>classificacao_acidente</th>\n",
       "      <th>fase_dia</th>\n",
       "      <th>condicao_metereologica</th>\n",
       "      <th>tipo_pista</th>\n",
       "      <th>uso_solo</th>\n",
       "      <th>tipo_envolvido</th>\n",
       "      <th>idade</th>\n",
       "      <th>sexo</th>\n",
       "    </tr>\n",
       "    <tr>\n",
       "      <th>id</th>\n",
       "      <th></th>\n",
       "      <th></th>\n",
       "      <th></th>\n",
       "      <th></th>\n",
       "      <th></th>\n",
       "      <th></th>\n",
       "      <th></th>\n",
       "      <th></th>\n",
       "      <th></th>\n",
       "      <th></th>\n",
       "      <th></th>\n",
       "      <th></th>\n",
       "      <th></th>\n",
       "      <th></th>\n",
       "      <th></th>\n",
       "    </tr>\n",
       "  </thead>\n",
       "  <tbody>\n",
       "    <tr>\n",
       "      <th>173746</th>\n",
       "      <td>2007</td>\n",
       "      <td>Janeiro</td>\n",
       "      <td>Segunda-feira</td>\n",
       "      <td>101.0</td>\n",
       "      <td>EXTREMOZ</td>\n",
       "      <td>Falta de atenção</td>\n",
       "      <td>Saída de Pista</td>\n",
       "      <td>Sem Vítimas</td>\n",
       "      <td>Plena noite</td>\n",
       "      <td>Ceu Claro</td>\n",
       "      <td>Simples</td>\n",
       "      <td>Rural</td>\n",
       "      <td>Condutor</td>\n",
       "      <td>40.0</td>\n",
       "      <td>Masculino</td>\n",
       "    </tr>\n",
       "    <tr>\n",
       "      <th>173937</th>\n",
       "      <td>2007</td>\n",
       "      <td>Janeiro</td>\n",
       "      <td>Segunda-feira</td>\n",
       "      <td>304.0</td>\n",
       "      <td>MACAIBA</td>\n",
       "      <td>Outras</td>\n",
       "      <td>Colisão com objeto móvel</td>\n",
       "      <td>Com Vítimas Feridas</td>\n",
       "      <td>Plena noite</td>\n",
       "      <td>Ceu Claro</td>\n",
       "      <td>Simples</td>\n",
       "      <td>Rural</td>\n",
       "      <td>Condutor</td>\n",
       "      <td>23.0</td>\n",
       "      <td>Masculino</td>\n",
       "    </tr>\n",
       "    <tr>\n",
       "      <th>173943</th>\n",
       "      <td>2007</td>\n",
       "      <td>Janeiro</td>\n",
       "      <td>Segunda-feira</td>\n",
       "      <td>101.0</td>\n",
       "      <td>SAO GONCALO DO AMARANTE</td>\n",
       "      <td>Não guardar distância de segurança</td>\n",
       "      <td>Colisão traseira</td>\n",
       "      <td>Sem Vítimas</td>\n",
       "      <td>Anoitecer</td>\n",
       "      <td>Ceu Claro</td>\n",
       "      <td>Dupla</td>\n",
       "      <td>Urbano</td>\n",
       "      <td>Condutor</td>\n",
       "      <td>-1.0</td>\n",
       "      <td>Masculino</td>\n",
       "    </tr>\n",
       "    <tr>\n",
       "      <th>173943</th>\n",
       "      <td>2007</td>\n",
       "      <td>Janeiro</td>\n",
       "      <td>Segunda-feira</td>\n",
       "      <td>101.0</td>\n",
       "      <td>SAO GONCALO DO AMARANTE</td>\n",
       "      <td>Não guardar distância de segurança</td>\n",
       "      <td>Colisão traseira</td>\n",
       "      <td>Sem Vítimas</td>\n",
       "      <td>Anoitecer</td>\n",
       "      <td>Ceu Claro</td>\n",
       "      <td>Dupla</td>\n",
       "      <td>Urbano</td>\n",
       "      <td>Condutor</td>\n",
       "      <td>-1.0</td>\n",
       "      <td>Masculino</td>\n",
       "    </tr>\n",
       "    <tr>\n",
       "      <th>173965</th>\n",
       "      <td>2007</td>\n",
       "      <td>Janeiro</td>\n",
       "      <td>Segunda-feira</td>\n",
       "      <td>101.0</td>\n",
       "      <td>PARNAMIRIM</td>\n",
       "      <td>Ingestão de álcool</td>\n",
       "      <td>Colisão traseira</td>\n",
       "      <td>Sem Vítimas</td>\n",
       "      <td>Pleno dia</td>\n",
       "      <td>Ceu Claro</td>\n",
       "      <td>Dupla</td>\n",
       "      <td>Rural</td>\n",
       "      <td>Condutor</td>\n",
       "      <td>32.0</td>\n",
       "      <td>Masculino</td>\n",
       "    </tr>\n",
       "  </tbody>\n",
       "</table>\n",
       "</div>"
      ],
      "text/plain": [
       "         ano      mes            dia     br                municipio  \\\n",
       "id                                                                     \n",
       "173746  2007  Janeiro  Segunda-feira  101.0                 EXTREMOZ   \n",
       "173937  2007  Janeiro  Segunda-feira  304.0                  MACAIBA   \n",
       "173943  2007  Janeiro  Segunda-feira  101.0  SAO GONCALO DO AMARANTE   \n",
       "173943  2007  Janeiro  Segunda-feira  101.0  SAO GONCALO DO AMARANTE   \n",
       "173965  2007  Janeiro  Segunda-feira  101.0               PARNAMIRIM   \n",
       "\n",
       "                            causa_acidente             tipo_acidente  \\\n",
       "id                                                                     \n",
       "173746                    Falta de atenção            Saída de Pista   \n",
       "173937                              Outras  Colisão com objeto móvel   \n",
       "173943  Não guardar distância de segurança          Colisão traseira   \n",
       "173943  Não guardar distância de segurança          Colisão traseira   \n",
       "173965                  Ingestão de álcool          Colisão traseira   \n",
       "\n",
       "       classificacao_acidente     fase_dia condicao_metereologica tipo_pista  \\\n",
       "id                                                                             \n",
       "173746    Sem Vítimas          Plena noite              Ceu Claro   Simples    \n",
       "173937    Com Vítimas Feridas  Plena noite              Ceu Claro   Simples    \n",
       "173943    Sem Vítimas            Anoitecer              Ceu Claro   Dupla      \n",
       "173943    Sem Vítimas            Anoitecer              Ceu Claro   Dupla      \n",
       "173965    Sem Vítimas            Pleno dia              Ceu Claro   Dupla      \n",
       "\n",
       "       uso_solo tipo_envolvido  idade       sexo  \n",
       "id                                                \n",
       "173746   Rural        Condutor   40.0  Masculino  \n",
       "173937   Rural        Condutor   23.0  Masculino  \n",
       "173943   Urbano       Condutor   -1.0  Masculino  \n",
       "173943   Urbano       Condutor   -1.0  Masculino  \n",
       "173965   Rural        Condutor   32.0  Masculino  "
      ]
     },
     "execution_count": 16,
     "metadata": {},
     "output_type": "execute_result"
    }
   ],
   "source": [
    "acidentes_rn.head()"
   ]
  },
  {
   "cell_type": "markdown",
   "metadata": {},
   "source": [
    "Alguns registros, por algum motivo, não indicam a BR do estado na qual ocorreu o acidente, isso pode ser um grande problema para análise, felizmente, o número de registros sem essa informação é mínimo - como se pode observar abaixo."
   ]
  },
  {
   "cell_type": "code",
   "execution_count": 17,
   "metadata": {},
   "outputs": [
    {
     "data": {
      "text/html": [
       "<div>\n",
       "<style scoped>\n",
       "    .dataframe tbody tr th:only-of-type {\n",
       "        vertical-align: middle;\n",
       "    }\n",
       "\n",
       "    .dataframe tbody tr th {\n",
       "        vertical-align: top;\n",
       "    }\n",
       "\n",
       "    .dataframe thead th {\n",
       "        text-align: right;\n",
       "    }\n",
       "</style>\n",
       "<table border=\"1\" class=\"dataframe\">\n",
       "  <thead>\n",
       "    <tr style=\"text-align: right;\">\n",
       "      <th></th>\n",
       "      <th>ano</th>\n",
       "      <th>mes</th>\n",
       "      <th>dia</th>\n",
       "      <th>br</th>\n",
       "      <th>municipio</th>\n",
       "      <th>causa_acidente</th>\n",
       "      <th>tipo_acidente</th>\n",
       "      <th>classificacao_acidente</th>\n",
       "      <th>fase_dia</th>\n",
       "      <th>condicao_metereologica</th>\n",
       "      <th>tipo_pista</th>\n",
       "      <th>uso_solo</th>\n",
       "      <th>tipo_envolvido</th>\n",
       "      <th>idade</th>\n",
       "      <th>sexo</th>\n",
       "    </tr>\n",
       "    <tr>\n",
       "      <th>id</th>\n",
       "      <th></th>\n",
       "      <th></th>\n",
       "      <th></th>\n",
       "      <th></th>\n",
       "      <th></th>\n",
       "      <th></th>\n",
       "      <th></th>\n",
       "      <th></th>\n",
       "      <th></th>\n",
       "      <th></th>\n",
       "      <th></th>\n",
       "      <th></th>\n",
       "      <th></th>\n",
       "      <th></th>\n",
       "      <th></th>\n",
       "    </tr>\n",
       "  </thead>\n",
       "  <tbody>\n",
       "    <tr>\n",
       "      <th>43336</th>\n",
       "      <td>2017</td>\n",
       "      <td>Junho</td>\n",
       "      <td>Domingo</td>\n",
       "      <td>NaN</td>\n",
       "      <td>MOSSORO                                       ...</td>\n",
       "      <td>Defeito na Via                                ...</td>\n",
       "      <td>Colisão transversal                           ...</td>\n",
       "      <td>Com Vítimas Feridas</td>\n",
       "      <td>Plena Noite</td>\n",
       "      <td>Céu Claro</td>\n",
       "      <td>Simples</td>\n",
       "      <td>Sim</td>\n",
       "      <td>Condutor</td>\n",
       "      <td>28.0</td>\n",
       "      <td>Masculino</td>\n",
       "    </tr>\n",
       "    <tr>\n",
       "      <th>43336</th>\n",
       "      <td>2017</td>\n",
       "      <td>Junho</td>\n",
       "      <td>Domingo</td>\n",
       "      <td>NaN</td>\n",
       "      <td>MOSSORO                                       ...</td>\n",
       "      <td>Defeito na Via                                ...</td>\n",
       "      <td>Colisão transversal                           ...</td>\n",
       "      <td>Com Vítimas Feridas</td>\n",
       "      <td>Plena Noite</td>\n",
       "      <td>Céu Claro</td>\n",
       "      <td>Simples</td>\n",
       "      <td>Sim</td>\n",
       "      <td>Testemunha</td>\n",
       "      <td>NaN</td>\n",
       "      <td>Não Informado</td>\n",
       "    </tr>\n",
       "    <tr>\n",
       "      <th>43336</th>\n",
       "      <td>2017</td>\n",
       "      <td>Junho</td>\n",
       "      <td>Domingo</td>\n",
       "      <td>NaN</td>\n",
       "      <td>MOSSORO                                       ...</td>\n",
       "      <td>Defeito na Via                                ...</td>\n",
       "      <td>Colisão transversal                           ...</td>\n",
       "      <td>Com Vítimas Feridas</td>\n",
       "      <td>Plena Noite</td>\n",
       "      <td>Céu Claro</td>\n",
       "      <td>Simples</td>\n",
       "      <td>Sim</td>\n",
       "      <td>Testemunha</td>\n",
       "      <td>NaN</td>\n",
       "      <td>Não Informado</td>\n",
       "    </tr>\n",
       "    <tr>\n",
       "      <th>43336</th>\n",
       "      <td>2017</td>\n",
       "      <td>Junho</td>\n",
       "      <td>Domingo</td>\n",
       "      <td>NaN</td>\n",
       "      <td>MOSSORO                                       ...</td>\n",
       "      <td>Defeito na Via                                ...</td>\n",
       "      <td>Colisão transversal                           ...</td>\n",
       "      <td>Com Vítimas Feridas</td>\n",
       "      <td>Plena Noite</td>\n",
       "      <td>Céu Claro</td>\n",
       "      <td>Simples</td>\n",
       "      <td>Sim</td>\n",
       "      <td>Condutor</td>\n",
       "      <td>45.0</td>\n",
       "      <td>Masculino</td>\n",
       "    </tr>\n",
       "    <tr>\n",
       "      <th>43336</th>\n",
       "      <td>2017</td>\n",
       "      <td>Junho</td>\n",
       "      <td>Domingo</td>\n",
       "      <td>NaN</td>\n",
       "      <td>MOSSORO                                       ...</td>\n",
       "      <td>Defeito na Via                                ...</td>\n",
       "      <td>Colisão transversal                           ...</td>\n",
       "      <td>Com Vítimas Feridas</td>\n",
       "      <td>Plena Noite</td>\n",
       "      <td>Céu Claro</td>\n",
       "      <td>Simples</td>\n",
       "      <td>Sim</td>\n",
       "      <td>Passageiro</td>\n",
       "      <td>37.0</td>\n",
       "      <td>Masculino</td>\n",
       "    </tr>\n",
       "    <tr>\n",
       "      <th>43336</th>\n",
       "      <td>2017</td>\n",
       "      <td>Junho</td>\n",
       "      <td>Domingo</td>\n",
       "      <td>NaN</td>\n",
       "      <td>MOSSORO                                       ...</td>\n",
       "      <td>Defeito na Via                                ...</td>\n",
       "      <td>Colisão transversal                           ...</td>\n",
       "      <td>Com Vítimas Feridas</td>\n",
       "      <td>Plena Noite</td>\n",
       "      <td>Céu Claro</td>\n",
       "      <td>Simples</td>\n",
       "      <td>Sim</td>\n",
       "      <td>Passageiro</td>\n",
       "      <td>38.0</td>\n",
       "      <td>Masculino</td>\n",
       "    </tr>\n",
       "    <tr>\n",
       "      <th>65637</th>\n",
       "      <td>2017</td>\n",
       "      <td>Agosto</td>\n",
       "      <td>Domingo</td>\n",
       "      <td>NaN</td>\n",
       "      <td>MOSSORO                                       ...</td>\n",
       "      <td>Ingestão de Álcool                            ...</td>\n",
       "      <td>Colisão com objeto em movimento               ...</td>\n",
       "      <td>Com Vítimas Feridas</td>\n",
       "      <td>Plena Noite</td>\n",
       "      <td>Céu Claro</td>\n",
       "      <td>Simples</td>\n",
       "      <td>Não</td>\n",
       "      <td>Condutor</td>\n",
       "      <td>NaN</td>\n",
       "      <td>Não Informado</td>\n",
       "    </tr>\n",
       "    <tr>\n",
       "      <th>65637</th>\n",
       "      <td>2017</td>\n",
       "      <td>Agosto</td>\n",
       "      <td>Domingo</td>\n",
       "      <td>NaN</td>\n",
       "      <td>MOSSORO                                       ...</td>\n",
       "      <td>Ingestão de Álcool                            ...</td>\n",
       "      <td>Colisão com objeto em movimento               ...</td>\n",
       "      <td>Com Vítimas Feridas</td>\n",
       "      <td>Plena Noite</td>\n",
       "      <td>Céu Claro</td>\n",
       "      <td>Simples</td>\n",
       "      <td>Não</td>\n",
       "      <td>Condutor</td>\n",
       "      <td>31.0</td>\n",
       "      <td>Masculino</td>\n",
       "    </tr>\n",
       "    <tr>\n",
       "      <th>78134</th>\n",
       "      <td>2017</td>\n",
       "      <td>Outubro</td>\n",
       "      <td>Sábado</td>\n",
       "      <td>NaN</td>\n",
       "      <td>EXTREMOZ                                      ...</td>\n",
       "      <td>Falta de Atenção à Condução                   ...</td>\n",
       "      <td>Colisão frontal                               ...</td>\n",
       "      <td>Com Vítimas Feridas</td>\n",
       "      <td>Pleno dia</td>\n",
       "      <td>Céu Claro</td>\n",
       "      <td>Dupla</td>\n",
       "      <td>Não</td>\n",
       "      <td>Condutor</td>\n",
       "      <td>23.0</td>\n",
       "      <td>Masculino</td>\n",
       "    </tr>\n",
       "    <tr>\n",
       "      <th>78134</th>\n",
       "      <td>2017</td>\n",
       "      <td>Outubro</td>\n",
       "      <td>Sábado</td>\n",
       "      <td>NaN</td>\n",
       "      <td>EXTREMOZ                                      ...</td>\n",
       "      <td>Falta de Atenção à Condução                   ...</td>\n",
       "      <td>Colisão frontal                               ...</td>\n",
       "      <td>Com Vítimas Feridas</td>\n",
       "      <td>Pleno dia</td>\n",
       "      <td>Céu Claro</td>\n",
       "      <td>Dupla</td>\n",
       "      <td>Não</td>\n",
       "      <td>Condutor</td>\n",
       "      <td>33.0</td>\n",
       "      <td>Masculino</td>\n",
       "    </tr>\n",
       "    <tr>\n",
       "      <th>108110</th>\n",
       "      <td>2018</td>\n",
       "      <td>Fevereiro</td>\n",
       "      <td>Sexta-feira</td>\n",
       "      <td>NaN</td>\n",
       "      <td>AUGUSTO SEVERO</td>\n",
       "      <td>Defeito na Via</td>\n",
       "      <td>Colisão com objeto estático</td>\n",
       "      <td>Com Vítimas Feridas</td>\n",
       "      <td>Pleno dia</td>\n",
       "      <td>Céu Claro</td>\n",
       "      <td>Simples</td>\n",
       "      <td>Sim</td>\n",
       "      <td>Passageiro</td>\n",
       "      <td>30.0</td>\n",
       "      <td>Masculino</td>\n",
       "    </tr>\n",
       "    <tr>\n",
       "      <th>108110</th>\n",
       "      <td>2018</td>\n",
       "      <td>Fevereiro</td>\n",
       "      <td>Sexta-feira</td>\n",
       "      <td>NaN</td>\n",
       "      <td>AUGUSTO SEVERO</td>\n",
       "      <td>Defeito na Via</td>\n",
       "      <td>Colisão com objeto estático</td>\n",
       "      <td>Com Vítimas Feridas</td>\n",
       "      <td>Pleno dia</td>\n",
       "      <td>Céu Claro</td>\n",
       "      <td>Simples</td>\n",
       "      <td>Sim</td>\n",
       "      <td>Condutor</td>\n",
       "      <td>36.0</td>\n",
       "      <td>Masculino</td>\n",
       "    </tr>\n",
       "    <tr>\n",
       "      <th>129115</th>\n",
       "      <td>2018</td>\n",
       "      <td>Abril</td>\n",
       "      <td>Quinta-feira</td>\n",
       "      <td>NaN</td>\n",
       "      <td>JOAO CAMARA</td>\n",
       "      <td>Defeito na Via</td>\n",
       "      <td>Colisão com objeto estático</td>\n",
       "      <td>Com Vítimas Feridas</td>\n",
       "      <td>Plena Noite</td>\n",
       "      <td>Céu Claro</td>\n",
       "      <td>Simples</td>\n",
       "      <td>Sim</td>\n",
       "      <td>Condutor</td>\n",
       "      <td>38.0</td>\n",
       "      <td>Masculino</td>\n",
       "    </tr>\n",
       "  </tbody>\n",
       "</table>\n",
       "</div>"
      ],
      "text/plain": [
       "         ano        mes           dia  br  \\\n",
       "id                                          \n",
       "43336   2017      Junho       Domingo NaN   \n",
       "43336   2017      Junho       Domingo NaN   \n",
       "43336   2017      Junho       Domingo NaN   \n",
       "43336   2017      Junho       Domingo NaN   \n",
       "43336   2017      Junho       Domingo NaN   \n",
       "43336   2017      Junho       Domingo NaN   \n",
       "65637   2017     Agosto       Domingo NaN   \n",
       "65637   2017     Agosto       Domingo NaN   \n",
       "78134   2017    Outubro        Sábado NaN   \n",
       "78134   2017    Outubro        Sábado NaN   \n",
       "108110  2018  Fevereiro   Sexta-feira NaN   \n",
       "108110  2018  Fevereiro   Sexta-feira NaN   \n",
       "129115  2018      Abril  Quinta-feira NaN   \n",
       "\n",
       "                                                municipio  \\\n",
       "id                                                          \n",
       "43336   MOSSORO                                       ...   \n",
       "43336   MOSSORO                                       ...   \n",
       "43336   MOSSORO                                       ...   \n",
       "43336   MOSSORO                                       ...   \n",
       "43336   MOSSORO                                       ...   \n",
       "43336   MOSSORO                                       ...   \n",
       "65637   MOSSORO                                       ...   \n",
       "65637   MOSSORO                                       ...   \n",
       "78134   EXTREMOZ                                      ...   \n",
       "78134   EXTREMOZ                                      ...   \n",
       "108110                                     AUGUSTO SEVERO   \n",
       "108110                                     AUGUSTO SEVERO   \n",
       "129115                                        JOAO CAMARA   \n",
       "\n",
       "                                           causa_acidente  \\\n",
       "id                                                          \n",
       "43336   Defeito na Via                                ...   \n",
       "43336   Defeito na Via                                ...   \n",
       "43336   Defeito na Via                                ...   \n",
       "43336   Defeito na Via                                ...   \n",
       "43336   Defeito na Via                                ...   \n",
       "43336   Defeito na Via                                ...   \n",
       "65637   Ingestão de Álcool                            ...   \n",
       "65637   Ingestão de Álcool                            ...   \n",
       "78134   Falta de Atenção à Condução                   ...   \n",
       "78134   Falta de Atenção à Condução                   ...   \n",
       "108110                                     Defeito na Via   \n",
       "108110                                     Defeito na Via   \n",
       "129115                                     Defeito na Via   \n",
       "\n",
       "                                            tipo_acidente  \\\n",
       "id                                                          \n",
       "43336   Colisão transversal                           ...   \n",
       "43336   Colisão transversal                           ...   \n",
       "43336   Colisão transversal                           ...   \n",
       "43336   Colisão transversal                           ...   \n",
       "43336   Colisão transversal                           ...   \n",
       "43336   Colisão transversal                           ...   \n",
       "65637   Colisão com objeto em movimento               ...   \n",
       "65637   Colisão com objeto em movimento               ...   \n",
       "78134   Colisão frontal                               ...   \n",
       "78134   Colisão frontal                               ...   \n",
       "108110                        Colisão com objeto estático   \n",
       "108110                        Colisão com objeto estático   \n",
       "129115                        Colisão com objeto estático   \n",
       "\n",
       "       classificacao_acidente              fase_dia condicao_metereologica  \\\n",
       "id                                                                           \n",
       "43336     Com Vítimas Feridas  Plena Noite            Céu Claro              \n",
       "43336     Com Vítimas Feridas  Plena Noite            Céu Claro              \n",
       "43336     Com Vítimas Feridas  Plena Noite            Céu Claro              \n",
       "43336     Com Vítimas Feridas  Plena Noite            Céu Claro              \n",
       "43336     Com Vítimas Feridas  Plena Noite            Céu Claro              \n",
       "43336     Com Vítimas Feridas  Plena Noite            Céu Claro              \n",
       "65637     Com Vítimas Feridas  Plena Noite            Céu Claro              \n",
       "65637     Com Vítimas Feridas  Plena Noite            Céu Claro              \n",
       "78134     Com Vítimas Feridas  Pleno dia              Céu Claro              \n",
       "78134     Com Vítimas Feridas  Pleno dia              Céu Claro              \n",
       "108110    Com Vítimas Feridas             Pleno dia              Céu Claro   \n",
       "108110    Com Vítimas Feridas             Pleno dia              Céu Claro   \n",
       "129115    Com Vítimas Feridas           Plena Noite              Céu Claro   \n",
       "\n",
       "                  tipo_pista    uso_solo        tipo_envolvido  idade  \\\n",
       "id                                                                      \n",
       "43336   Simples               Sim         Condutor               28.0   \n",
       "43336   Simples               Sim         Testemunha              NaN   \n",
       "43336   Simples               Sim         Testemunha              NaN   \n",
       "43336   Simples               Sim         Condutor               45.0   \n",
       "43336   Simples               Sim         Passageiro             37.0   \n",
       "43336   Simples               Sim         Passageiro             38.0   \n",
       "65637   Simples               Não         Condutor                NaN   \n",
       "65637   Simples               Não         Condutor               31.0   \n",
       "78134   Dupla                 Não         Condutor               23.0   \n",
       "78134   Dupla                 Não         Condutor               33.0   \n",
       "108110               Simples         Sim            Passageiro   30.0   \n",
       "108110               Simples         Sim              Condutor   36.0   \n",
       "129115               Simples         Sim              Condutor   38.0   \n",
       "\n",
       "                        sexo  \n",
       "id                            \n",
       "43336   Masculino             \n",
       "43336   Não Informado         \n",
       "43336   Não Informado         \n",
       "43336   Masculino             \n",
       "43336   Masculino             \n",
       "43336   Masculino             \n",
       "65637   Não Informado         \n",
       "65637   Masculino             \n",
       "78134   Masculino             \n",
       "78134   Masculino             \n",
       "108110             Masculino  \n",
       "108110             Masculino  \n",
       "129115             Masculino  "
      ]
     },
     "execution_count": 17,
     "metadata": {},
     "output_type": "execute_result"
    }
   ],
   "source": [
    "# registros sem informação da br\n",
    "br_nulos = acidentes_rn[acidentes_rn['br'].isnull()]\n",
    "\n",
    "# exibir registros\n",
    "br_nulos"
   ]
  },
  {
   "cell_type": "markdown",
   "metadata": {},
   "source": [
    "Como a quantidade de elementos com ausência do atributo *br* é muito pequena, decidiu-se atribuir manualmente esses valores. Obviamente, o melhor recurso disponível na fonte de dados para estimar esses valores ausentes é o atributo dos municípios. Desse modo, os campos faltosos foram preenchidos com o número da *br* com maior quantidade de registros em cada município (moda)."
   ]
  },
  {
   "cell_type": "code",
   "execution_count": 18,
   "metadata": {},
   "outputs": [],
   "source": [
    "# calcular modas da quantidade de ocorrências em cada município.\n",
    "br_modas = acidentes_rn['br'].groupby(acidentes_rn['municipio']).agg(pd.Series.mode)\n",
    "\n",
    "# receber modas dos municípios presentes nos registros com dados faltosos\n",
    "br_nulos_modas = br_modas[br_nulos['municipio']]\n",
    "\n",
    "# modificar índice\n",
    "br_nulos_modas.index = br_nulos.index\n",
    "\n",
    "# modificar valores\n",
    "acidentes_rn.loc[br_nulos.index.unique(),'br'] = br_nulos_modas"
   ]
  },
  {
   "cell_type": "markdown",
   "metadata": {},
   "source": [
    "Pode-se observar que agora não é mais encontrado valores ausentes na coluna *br*."
   ]
  },
  {
   "cell_type": "code",
   "execution_count": 19,
   "metadata": {},
   "outputs": [
    {
     "data": {
      "text/plain": [
       "ano                       False\n",
       "mes                       False\n",
       "dia                       False\n",
       "br                        False\n",
       "municipio                 False\n",
       "causa_acidente            False\n",
       "tipo_acidente             False\n",
       "classificacao_acidente    False\n",
       "fase_dia                  False\n",
       "condicao_metereologica    False\n",
       "tipo_pista                False\n",
       "uso_solo                  False\n",
       "tipo_envolvido            False\n",
       "idade                      True\n",
       "sexo                       True\n",
       "dtype: bool"
      ]
     },
     "execution_count": 19,
     "metadata": {},
     "output_type": "execute_result"
    }
   ],
   "source": [
    "acidentes_rn.isnull().any()"
   ]
  },
  {
   "cell_type": "markdown",
   "metadata": {},
   "source": [
    "Deseja-se verficiar quais são as rodovias federais do Rio Grande do Norte presentes nos registros."
   ]
  },
  {
   "cell_type": "code",
   "execution_count": 20,
   "metadata": {},
   "outputs": [
    {
     "data": {
      "text/plain": [
       "array([101., 304., 226., 110., 406., 405., 427., 343., 501., 268., 104.])"
      ]
     },
     "execution_count": 20,
     "metadata": {},
     "output_type": "execute_result"
    }
   ],
   "source": [
    "# verificar quais rodovias estão envolvidas nos acidentes\n",
    "acidentes_rn['br'].unique()"
   ]
  },
  {
   "cell_type": "markdown",
   "metadata": {},
   "source": [
    "Como se observa, a coluna - número da rodovia - não está bem formatada, pois os valores dessas estão sendo considerados números de ponto flutuante, a seguir, esses valores serão convertidos para tipos categóricos."
   ]
  },
  {
   "cell_type": "code",
   "execution_count": 21,
   "metadata": {},
   "outputs": [
    {
     "data": {
      "text/plain": [
       "array(['101', '304', '226', '110', '406', '405', '427', '343', '501',\n",
       "       '268', '104'], dtype=object)"
      ]
     },
     "execution_count": 21,
     "metadata": {},
     "output_type": "execute_result"
    }
   ],
   "source": [
    "# conversão para inteiros e, em seguida, para caracteres\n",
    "acidentes_rn['br'] = acidentes_rn['br'].astype('int').astype('str')\n",
    "\n",
    "# observar resultado\n",
    "acidentes_rn['br'].unique()"
   ]
  },
  {
   "cell_type": "markdown",
   "metadata": {},
   "source": [
    "Nota-se, ainda sobre a coluna *br*, que há classes inconsistentes, no estado do Rio Grande do Norte estão presentes apenas 9 rodovias federais, não 11, além disso, segundo o DNIT, não existe uma **BR-501** e as **BR-268**, **BR-343** não atravessam o território potiguar."
   ]
  },
  {
   "cell_type": "code",
   "execution_count": 22,
   "metadata": {},
   "outputs": [
    {
     "data": {
      "text/html": [
       "<div>\n",
       "<style scoped>\n",
       "    .dataframe tbody tr th:only-of-type {\n",
       "        vertical-align: middle;\n",
       "    }\n",
       "\n",
       "    .dataframe tbody tr th {\n",
       "        vertical-align: top;\n",
       "    }\n",
       "\n",
       "    .dataframe thead th {\n",
       "        text-align: right;\n",
       "    }\n",
       "</style>\n",
       "<table border=\"1\" class=\"dataframe\">\n",
       "  <thead>\n",
       "    <tr style=\"text-align: right;\">\n",
       "      <th></th>\n",
       "      <th>ano</th>\n",
       "      <th>mes</th>\n",
       "      <th>dia</th>\n",
       "      <th>br</th>\n",
       "      <th>municipio</th>\n",
       "      <th>causa_acidente</th>\n",
       "      <th>tipo_acidente</th>\n",
       "      <th>classificacao_acidente</th>\n",
       "      <th>fase_dia</th>\n",
       "      <th>condicao_metereologica</th>\n",
       "      <th>tipo_pista</th>\n",
       "      <th>uso_solo</th>\n",
       "      <th>tipo_envolvido</th>\n",
       "      <th>idade</th>\n",
       "      <th>sexo</th>\n",
       "    </tr>\n",
       "    <tr>\n",
       "      <th>id</th>\n",
       "      <th></th>\n",
       "      <th></th>\n",
       "      <th></th>\n",
       "      <th></th>\n",
       "      <th></th>\n",
       "      <th></th>\n",
       "      <th></th>\n",
       "      <th></th>\n",
       "      <th></th>\n",
       "      <th></th>\n",
       "      <th></th>\n",
       "      <th></th>\n",
       "      <th></th>\n",
       "      <th></th>\n",
       "      <th></th>\n",
       "    </tr>\n",
       "  </thead>\n",
       "  <tbody>\n",
       "    <tr>\n",
       "      <th>1121095</th>\n",
       "      <td>2012</td>\n",
       "      <td>Maio</td>\n",
       "      <td>Sábado</td>\n",
       "      <td>343</td>\n",
       "      <td>MOSSORO</td>\n",
       "      <td>Outras</td>\n",
       "      <td>Atropelamento de pessoa</td>\n",
       "      <td>Com Vítimas Feridas</td>\n",
       "      <td>Pleno dia</td>\n",
       "      <td>Sol</td>\n",
       "      <td>Dupla</td>\n",
       "      <td>Urbano</td>\n",
       "      <td>Condutor</td>\n",
       "      <td>36.0</td>\n",
       "      <td>Feminino</td>\n",
       "    </tr>\n",
       "    <tr>\n",
       "      <th>1121095</th>\n",
       "      <td>2012</td>\n",
       "      <td>Maio</td>\n",
       "      <td>Sábado</td>\n",
       "      <td>343</td>\n",
       "      <td>MOSSORO</td>\n",
       "      <td>Outras</td>\n",
       "      <td>Atropelamento de pessoa</td>\n",
       "      <td>Com Vítimas Feridas</td>\n",
       "      <td>Pleno dia</td>\n",
       "      <td>Sol</td>\n",
       "      <td>Dupla</td>\n",
       "      <td>Urbano</td>\n",
       "      <td>Passageiro</td>\n",
       "      <td>30.0</td>\n",
       "      <td>Feminino</td>\n",
       "    </tr>\n",
       "    <tr>\n",
       "      <th>1121095</th>\n",
       "      <td>2012</td>\n",
       "      <td>Maio</td>\n",
       "      <td>Sábado</td>\n",
       "      <td>343</td>\n",
       "      <td>MOSSORO</td>\n",
       "      <td>Outras</td>\n",
       "      <td>Atropelamento de pessoa</td>\n",
       "      <td>Com Vítimas Feridas</td>\n",
       "      <td>Pleno dia</td>\n",
       "      <td>Sol</td>\n",
       "      <td>Dupla</td>\n",
       "      <td>Urbano</td>\n",
       "      <td>Pedestre</td>\n",
       "      <td>70.0</td>\n",
       "      <td>Masculino</td>\n",
       "    </tr>\n",
       "    <tr>\n",
       "      <th>1135692</th>\n",
       "      <td>2012</td>\n",
       "      <td>Julho</td>\n",
       "      <td>Domingo</td>\n",
       "      <td>501</td>\n",
       "      <td>NATAL</td>\n",
       "      <td>Desobediência à sinalização</td>\n",
       "      <td>Colisão Transversal</td>\n",
       "      <td>Sem Vítimas</td>\n",
       "      <td>Plena noite</td>\n",
       "      <td>Nublado</td>\n",
       "      <td>Dupla</td>\n",
       "      <td>Urbano</td>\n",
       "      <td>Condutor</td>\n",
       "      <td>73.0</td>\n",
       "      <td>Masculino</td>\n",
       "    </tr>\n",
       "    <tr>\n",
       "      <th>1135692</th>\n",
       "      <td>2012</td>\n",
       "      <td>Julho</td>\n",
       "      <td>Domingo</td>\n",
       "      <td>501</td>\n",
       "      <td>NATAL</td>\n",
       "      <td>Desobediência à sinalização</td>\n",
       "      <td>Colisão Transversal</td>\n",
       "      <td>Sem Vítimas</td>\n",
       "      <td>Plena noite</td>\n",
       "      <td>Nublado</td>\n",
       "      <td>Dupla</td>\n",
       "      <td>Urbano</td>\n",
       "      <td>Condutor</td>\n",
       "      <td>-1.0</td>\n",
       "      <td>Masculino</td>\n",
       "    </tr>\n",
       "    <tr>\n",
       "      <th>1337667</th>\n",
       "      <td>2013</td>\n",
       "      <td>Julho</td>\n",
       "      <td>Sábado</td>\n",
       "      <td>268</td>\n",
       "      <td>CEARA-MIRIM</td>\n",
       "      <td>Outras</td>\n",
       "      <td>Colisão frontal</td>\n",
       "      <td>Com Vítimas Feridas</td>\n",
       "      <td>Plena noite</td>\n",
       "      <td>Ceu Claro</td>\n",
       "      <td>Simples</td>\n",
       "      <td>Rural</td>\n",
       "      <td>Condutor</td>\n",
       "      <td>33.0</td>\n",
       "      <td>Masculino</td>\n",
       "    </tr>\n",
       "    <tr>\n",
       "      <th>1337667</th>\n",
       "      <td>2013</td>\n",
       "      <td>Julho</td>\n",
       "      <td>Sábado</td>\n",
       "      <td>268</td>\n",
       "      <td>CEARA-MIRIM</td>\n",
       "      <td>Outras</td>\n",
       "      <td>Colisão frontal</td>\n",
       "      <td>Com Vítimas Feridas</td>\n",
       "      <td>Plena noite</td>\n",
       "      <td>Ceu Claro</td>\n",
       "      <td>Simples</td>\n",
       "      <td>Rural</td>\n",
       "      <td>Condutor</td>\n",
       "      <td>-1.0</td>\n",
       "      <td>Masculino</td>\n",
       "    </tr>\n",
       "  </tbody>\n",
       "</table>\n",
       "</div>"
      ],
      "text/plain": [
       "          ano    mes      dia   br    municipio               causa_acidente  \\\n",
       "id                                                                             \n",
       "1121095  2012   Maio   Sábado  343      MOSSORO                       Outras   \n",
       "1121095  2012   Maio   Sábado  343      MOSSORO                       Outras   \n",
       "1121095  2012   Maio   Sábado  343      MOSSORO                       Outras   \n",
       "1135692  2012  Julho  Domingo  501        NATAL  Desobediência à sinalização   \n",
       "1135692  2012  Julho  Domingo  501        NATAL  Desobediência à sinalização   \n",
       "1337667  2013  Julho   Sábado  268  CEARA-MIRIM                       Outras   \n",
       "1337667  2013  Julho   Sábado  268  CEARA-MIRIM                       Outras   \n",
       "\n",
       "                   tipo_acidente classificacao_acidente     fase_dia  \\\n",
       "id                                                                     \n",
       "1121095  Atropelamento de pessoa    Com Vítimas Feridas    Pleno dia   \n",
       "1121095  Atropelamento de pessoa    Com Vítimas Feridas    Pleno dia   \n",
       "1121095  Atropelamento de pessoa    Com Vítimas Feridas    Pleno dia   \n",
       "1135692      Colisão Transversal    Sem Vítimas          Plena noite   \n",
       "1135692      Colisão Transversal    Sem Vítimas          Plena noite   \n",
       "1337667          Colisão frontal    Com Vítimas Feridas  Plena noite   \n",
       "1337667          Colisão frontal    Com Vítimas Feridas  Plena noite   \n",
       "\n",
       "        condicao_metereologica tipo_pista uso_solo tipo_envolvido  idade  \\\n",
       "id                                                                         \n",
       "1121095                    Sol   Dupla      Urbano       Condutor   36.0   \n",
       "1121095                    Sol   Dupla      Urbano     Passageiro   30.0   \n",
       "1121095                    Sol   Dupla      Urbano       Pedestre   70.0   \n",
       "1135692                Nublado   Dupla      Urbano       Condutor   73.0   \n",
       "1135692                Nublado   Dupla      Urbano       Condutor   -1.0   \n",
       "1337667              Ceu Claro   Simples    Rural        Condutor   33.0   \n",
       "1337667              Ceu Claro   Simples    Rural        Condutor   -1.0   \n",
       "\n",
       "              sexo  \n",
       "id                  \n",
       "1121095   Feminino  \n",
       "1121095   Feminino  \n",
       "1121095  Masculino  \n",
       "1135692  Masculino  \n",
       "1135692  Masculino  \n",
       "1337667  Masculino  \n",
       "1337667  Masculino  "
      ]
     },
     "execution_count": 22,
     "metadata": {},
     "output_type": "execute_result"
    }
   ],
   "source": [
    "# registros com valores inconsistentes\n",
    "br_inconsistentes = acidentes_rn[acidentes_rn['br'].isin(['268','343','501'])]\n",
    "\n",
    "# exibir esses registros\n",
    "br_inconsistentes"
   ]
  },
  {
   "cell_type": "markdown",
   "metadata": {},
   "source": [
    "Os valores inconsistentes para o atributo *br* foram tratados como se fossem dados incompletos, isto é nulos, portanto, utilizou-se novamente a moda estatística para estimar esses valores."
   ]
  },
  {
   "cell_type": "code",
   "execution_count": 23,
   "metadata": {},
   "outputs": [
    {
     "data": {
      "text/plain": [
       "array(['101', '304', '226', '110', '406', '405', '427', '104'],\n",
       "      dtype=object)"
      ]
     },
     "execution_count": 23,
     "metadata": {},
     "output_type": "execute_result"
    }
   ],
   "source": [
    "# receber modas dos municípios presentes nos registros com dados inconsistentes\n",
    "br_inconsistentes_modas = br_modas[br_inconsistentes['municipio']]\n",
    "\n",
    "# modificar index\n",
    "br_inconsistentes_modas.index = br_inconsistentes.index\n",
    "\n",
    "# substituir valores inconsistentes\n",
    "acidentes_rn.loc[br_inconsistentes.index.unique(),'br'] = br_inconsistentes_modas.astype('int').astype('str')\n",
    "\n",
    "# observar resultado novamente\n",
    "acidentes_rn['br'].unique()"
   ]
  },
  {
   "cell_type": "markdown",
   "metadata": {},
   "source": [
    "A variável *idade* é um importante atributo para se montar o perfil das vítimas de acidentes, como visto anteriormente, nessa coluna, alguns valores estão ausentes, o número de registros com esse problema é significativo, por isso, a esses foram atribuidos o valor *-1* para que sejam tratados posteriormente."
   ]
  },
  {
   "cell_type": "code",
   "execution_count": 24,
   "metadata": {},
   "outputs": [
    {
     "data": {
      "text/plain": [
       "11524"
      ]
     },
     "execution_count": 24,
     "metadata": {},
     "output_type": "execute_result"
    }
   ],
   "source": [
    "# substituir valores núlos por -1\n",
    "acidentes_rn['idade'].fillna(-1,inplace=True)\n",
    "\n",
    "# considerar idades como valores inteiros\n",
    "acidentes_rn['idade'] = acidentes_rn['idade'].astype('int')\n",
    "\n",
    "# exibir quantidade de registros nulos\n",
    "acidentes_rn[acidentes_rn['idade']==-1].shape[0]"
   ]
  },
  {
   "cell_type": "markdown",
   "metadata": {},
   "source": [
    "O bloco a seguir revela quais os valores assumidos pelas idades das vítimas, observa-se valores ruidosos como idades muito acima de 100 anos, esses valores foram tratados como nulos (maiores que 110 anos)."
   ]
  },
  {
   "cell_type": "code",
   "execution_count": 25,
   "metadata": {},
   "outputs": [
    {
     "data": {
      "text/plain": [
       "array([  40,   23,   -1,   32,   24,   28,   42,   33,   26,   21,   55,\n",
       "         20,   71,   49,   41,   46,   58,   63,   51,   15,   17,   44,\n",
       "         25,   35,   45,   34,   68,   31,   27,   66,   47,   14,   19,\n",
       "         48,   50,   43,   22,   29,   64,   30,   38,   36,   52,   37,\n",
       "         53,   70,   54,   59,   65,   39,   56,   57,    5,   60,   61,\n",
       "         18,    0,   13,   69,   62,   67,   16,   77,   76,   10,   11,\n",
       "         12,   75,    9,   80,   81,    2,   90,   86,    6,    3,   74,\n",
       "         78,   72,    7,    4,   73,   79,   88,    1,    8,   84,   82,\n",
       "         87,   91,   83,  109,   94,   85,  125,   89,  111,  127,  106,\n",
       "         95,  128,  906, 1916,  117,  939], dtype=int64)"
      ]
     },
     "execution_count": 25,
     "metadata": {},
     "output_type": "execute_result"
    }
   ],
   "source": [
    "# observar valores de idades\n",
    "acidentes_rn['idade'].unique()"
   ]
  },
  {
   "cell_type": "code",
   "execution_count": 26,
   "metadata": {},
   "outputs": [
    {
     "data": {
      "text/plain": [
       "array([ 40,  23,  -1,  32,  24,  28,  42,  33,  26,  21,  55,  20,  71,\n",
       "        49,  41,  46,  58,  63,  51,  15,  17,  44,  25,  35,  45,  34,\n",
       "        68,  31,  27,  66,  47,  14,  19,  48,  50,  43,  22,  29,  64,\n",
       "        30,  38,  36,  52,  37,  53,  70,  54,  59,  65,  39,  56,  57,\n",
       "         5,  60,  61,  18,   0,  13,  69,  62,  67,  16,  77,  76,  10,\n",
       "        11,  12,  75,   9,  80,  81,   2,  90,  86,   6,   3,  74,  78,\n",
       "        72,   7,   4,  73,  79,  88,   1,   8,  84,  82,  87,  91,  83,\n",
       "       109,  94,  85,  89, 106,  95], dtype=int64)"
      ]
     },
     "execution_count": 26,
     "metadata": {},
     "output_type": "execute_result"
    }
   ],
   "source": [
    "# modificar valores de idades maiores que 110 anos para -1 (valor desconhecido)\n",
    "acidentes_rn.loc[acidentes_rn['idade']>=110,'idade'] = -1\n",
    "\n",
    "# observar resultado\n",
    "acidentes_rn['idade'].unique()"
   ]
  },
  {
   "cell_type": "markdown",
   "metadata": {},
   "source": [
    "O sexo é mais um atributo relevante relativo ao estudo do perfil dos acidentados. Com há valores nulos presentes nessa coluna também, um tratamento semelhante ao das idades será realizado, os valores nulos serão categorizados como **IGNORADO**, dessa maneira, esses dados serão tratados posteriormente com mais facilidade."
   ]
  },
  {
   "cell_type": "code",
   "execution_count": 27,
   "metadata": {},
   "outputs": [],
   "source": [
    "# considerar valores nulos como Ignorado\n",
    "acidentes_rn['sexo'].fillna('Ignorado',inplace=True)"
   ]
  },
  {
   "cell_type": "markdown",
   "metadata": {},
   "source": [
    "O bloco abaixo é responsável por exibir os valores presentes na coluna *sexo*. Como esperado, essa coluna também possui uma má formatação, exemplo, alguns valores são categorizados como **Masculino** ou **Feminino**, outros pelas letras **F** e **M**, ademais, algumas categorias estão com espaços em brancos o que causa distinção mesmo de items iguais, todos esses problemas serão resolvidos em seguida. "
   ]
  },
  {
   "cell_type": "code",
   "execution_count": 28,
   "metadata": {},
   "outputs": [
    {
     "data": {
      "text/plain": [
       "array(['Masculino', 'Não Informado', 'Feminino', 'Ignorado', 'Inválido',\n",
       "       'M', 'F', 'I', 'Masculino           ', 'Feminino            ',\n",
       "       'Não Informado       ', 'Ignorado            '], dtype=object)"
      ]
     },
     "execution_count": 28,
     "metadata": {},
     "output_type": "execute_result"
    }
   ],
   "source": [
    "# valores da coluna sexo\n",
    "acidentes_rn['sexo'].unique()"
   ]
  },
  {
   "cell_type": "markdown",
   "metadata": {},
   "source": [
    "Os valores **Não Informado**, **I** e **Inválido** serão genericamente considerados **Ignorado**."
   ]
  },
  {
   "cell_type": "code",
   "execution_count": 29,
   "metadata": {},
   "outputs": [],
   "source": [
    "# padronizar caracteres dos atributos\n",
    "acidentes_rn.loc[:,'sexo'] = acidentes_rn.loc[:,'sexo'].map(str.title).map(str.strip)\n",
    "\n",
    "# considerar M como Masculino e F como feminino\n",
    "acidentes_rn['sexo'].replace(['M','F'],['Masculino','Feminino'],inplace=True)\n",
    "\n",
    "# considerar não informado, I e inválido como Ignorado\n",
    "acidentes_rn['sexo'].replace(['Não Informado','I','Inválido'],'Ignorado',inplace=True)"
   ]
  },
  {
   "cell_type": "markdown",
   "metadata": {},
   "source": [
    "O seguinte bloco verifica se os problemas relacionados a coluna *sexo* foram corrigidos."
   ]
  },
  {
   "cell_type": "code",
   "execution_count": 30,
   "metadata": {},
   "outputs": [
    {
     "data": {
      "text/plain": [
       "array(['Masculino', 'Ignorado', 'Feminino'], dtype=object)"
      ]
     },
     "execution_count": 30,
     "metadata": {},
     "output_type": "execute_result"
    }
   ],
   "source": [
    "acidentes_rn['sexo'].unique()"
   ]
  },
  {
   "cell_type": "markdown",
   "metadata": {},
   "source": [
    "Para padronizar os caracteres dos demais atributos, a linha abaixo foi executada."
   ]
  },
  {
   "cell_type": "code",
   "execution_count": 31,
   "metadata": {},
   "outputs": [],
   "source": [
    "# padronizar todos os atributos exceto os já tratados ano,mes,dia,br,idade,sexo\n",
    "acidentes_rn.loc[:,'municipio':'tipo_envolvido'] = acidentes_rn.loc[:,'municipio':'tipo_envolvido'].applymap(str.title).applymap(str.strip)"
   ]
  },
  {
   "cell_type": "markdown",
   "metadata": {},
   "source": [
    "Verificar tipo de envolvidos em acidentes."
   ]
  },
  {
   "cell_type": "code",
   "execution_count": 32,
   "metadata": {},
   "outputs": [
    {
     "data": {
      "text/plain": [
       "array(['Cavaleiro', 'Ciclista', 'Condutor', 'Passageiro', 'Pedestre',\n",
       "       'Testemunha', 'Vítima'], dtype=object)"
      ]
     },
     "execution_count": 32,
     "metadata": {},
     "output_type": "execute_result"
    }
   ],
   "source": [
    "# exibir valores que a varíavel 'tipo_envolvido' assume\n",
    "acidentes_rn['tipo_envolvido'].sort_values().unique()"
   ]
  },
  {
   "cell_type": "markdown",
   "metadata": {},
   "source": [
    "Verificar municípios presentes nos registros."
   ]
  },
  {
   "cell_type": "code",
   "execution_count": 33,
   "metadata": {},
   "outputs": [
    {
     "data": {
      "text/plain": [
       "array(['Acari', 'Acu', 'Almino Afonso', 'Angicos', 'Antonio Martins',\n",
       "       'Apodi', 'Areia Branca', 'Ares', 'Assu', 'Augusto Severo',\n",
       "       'Baia Formosa', 'Bom Jesus', 'Caicara Do Norte',\n",
       "       'Caicara Do Rio Do Vento', 'Caico', 'Campo Grande',\n",
       "       'Campo Redondo', 'Canguaretama', 'Ceara-Mirim', 'Currais Novos',\n",
       "       'Extremoz', 'Felipe Guerra', 'Fernando Pedroza', 'Florania',\n",
       "       'Goianinha', 'Governador Dix-Sept Rosado', 'Guamare',\n",
       "       'Ielmo Marinho', 'Ipanguacu', 'Itaja', 'Itau', 'Jandaira',\n",
       "       'Janduis', 'Jardim Do Serido', 'Joao Camara', 'Jose Da Penha',\n",
       "       'Jucurutu', 'Lajes', 'Lajes Pintadas', 'Luis Gomes', 'Macaiba',\n",
       "       'Macau', 'Major Sales', 'Marcelino Vieira', 'Martins',\n",
       "       'Maxaranguape', 'Messias Targino', 'Mossoro', 'Natal',\n",
       "       'Nisia Floresta', 'Parau', 'Parnamirim', 'Patu', 'Pau Dos Ferros',\n",
       "       'Pedro Avelino', 'Poco Branco', 'Rafael Fernandes',\n",
       "       'Riacho De Santana', 'Riachuelo', 'Rio Do Fogo',\n",
       "       'Rodolfo Fernandes', 'Santa Cruz', 'Santa Maria',\n",
       "       'Santana Do Matos', 'Sao Fernando', 'Sao Francisco Do Oeste',\n",
       "       'Sao Goncalo Do Amarante', 'Sao Jose De Mipibu',\n",
       "       'Sao Paulo Do Potengi', 'Sao Pedro', 'Sao Rafael', 'Sao Tome',\n",
       "       'Sao Vicente', 'Senador Eloi De Souza', 'Senador Georgino Avelino',\n",
       "       'Serra Caiada', 'Serra Negra Do Norte', 'Serrinha',\n",
       "       'Serrinha Dos Pintos', 'Severiano Melo', 'Taboleiro Grande',\n",
       "       'Taipu', 'Tangara', 'Tenente Laurentino Cruz',\n",
       "       'Timbauba Dos Batistas', 'Touros', 'Triunfo Potiguar', 'Upanema'],\n",
       "      dtype=object)"
      ]
     },
     "execution_count": 33,
     "metadata": {},
     "output_type": "execute_result"
    }
   ],
   "source": [
    "# exibir municípios para verificar se estão padronizados\n",
    "acidentes_rn['municipio'].sort_values().unique()"
   ]
  },
  {
   "cell_type": "markdown",
   "metadata": {},
   "source": [
    "Verificar as causas de acidentes atribuidas as ocorrências."
   ]
  },
  {
   "cell_type": "code",
   "execution_count": 34,
   "metadata": {},
   "outputs": [
    {
     "data": {
      "text/plain": [
       "array(['Agressão Externa', 'Animais Na Pista',\n",
       "       'Avarias E/Ou Desgaste Excessivo No Pneu',\n",
       "       'Carga Excessiva E/Ou Mal Acondicionada', 'Condutor Dormindo',\n",
       "       'Defeito Mecânico Em Veículo', 'Defeito Mecânico No Veículo',\n",
       "       'Defeito Na Via',\n",
       "       'Deficiência Ou Não Acionamento Do Sistema De Iluminação/Sinalização Do Veículo',\n",
       "       'Desobediência À Sinalização',\n",
       "       'Desobediência Às Normas De Trânsito Pelo Condutor',\n",
       "       'Desobediência Às Normas De Trânsito Pelo Pedestre', 'Dormindo',\n",
       "       'Falta De Atenção', 'Falta De Atenção Do Pedestre',\n",
       "       'Falta De Atenção À Condução', 'Fenômenos Da Natureza',\n",
       "       'Ingestão De Substâncias Psicoativas', 'Ingestão De Álcool',\n",
       "       'Ingestão De Álcool E/Ou Substâncias Psicoativas Pelo Pedestre',\n",
       "       'Mal Súbito', 'Não Guardar Distância De Segurança',\n",
       "       'Objeto Estático Sobre O Leito Carroçável', 'Outras',\n",
       "       'Pista Escorregadia', 'Restrição De Visibilidade',\n",
       "       'Sinalização Da Via Insuficiente Ou Inadequada',\n",
       "       'Ultrapassagem Indevida', 'Velocidade Incompatível'], dtype=object)"
      ]
     },
     "execution_count": 34,
     "metadata": {},
     "output_type": "execute_result"
    }
   ],
   "source": [
    "# exibir as causas de acidentes compiladas a partir dos dados\n",
    "acidentes_rn['causa_acidente'].sort_values().unique()"
   ]
  },
  {
   "cell_type": "markdown",
   "metadata": {},
   "source": [
    "Devido a alteração do sistema de coleta de dados, muitos valores para as causas de acidentes estão presentes apenas no conjunto dos dois últimos anos, outros refletem a mesma informação, para a resolução desse problema, muitos valores foram substituidos."
   ]
  },
  {
   "cell_type": "code",
   "execution_count": 35,
   "metadata": {},
   "outputs": [
    {
     "data": {
      "text/plain": [
       "array(['Animais Na Pista', 'Defeito Mecânico Em Veículo',\n",
       "       'Desobediência Às Normas De Trânsito', 'Dormindo',\n",
       "       'Falta De Atenção',\n",
       "       'Ingestão De Álcool E/Ou Substâncias Psicoativas',\n",
       "       'Não Guardar Distância De Segurança', 'Outras',\n",
       "       'Ultrapassagem Indevida', 'Velocidade Incompatível'], dtype=object)"
      ]
     },
     "execution_count": 35,
     "metadata": {},
     "output_type": "execute_result"
    }
   ],
   "source": [
    "# substiuição de valores redundantes\n",
    "acidentes_rn.replace({'Defeito Mecânico No Veículo':'Defeito Mecânico Em Veículo',\n",
    "                      'Avarias E/Ou Desgaste Excessivo No Pneu':'Defeito Mecânico Em Veículo',\n",
    "                      'Condutor Dormindo':'Dormindo',\n",
    "                      'Falta De Atenção Do Pedestre':'Falta De Atenção',\n",
    "                      'Falta De Atenção À Condução':'Falta De Atenção',\n",
    "                      'Desobediência À Sinalização':'Desobediência Às Normas De Trânsito',\n",
    "                      'Desobediência Às Normas De Trânsito Pelo Condutor':'Desobediência Às Normas De Trânsito',\n",
    "                      'Desobediência Às Normas De Trânsito Pelo Pedestre': 'Desobediência Às Normas De Trânsito',\n",
    "                      'Ingestão De Substâncias Psicoativas': 'Ingestão De Álcool E/Ou Substâncias Psicoativas',\n",
    "                      'Ingestão De Álcool E/Ou Substâncias Psicoativas Pelo Pedestre': 'Ingestão De Álcool E/Ou Substâncias Psicoativas',\n",
    "                      'Ingestão De Álcool': 'Ingestão De Álcool E/Ou Substâncias Psicoativas'\n",
    "                       }, inplace=True)\n",
    "\n",
    "# valores imcompatíveis serão considerados genericamente 'outras' causas.\n",
    "acidentes_rn.replace(['Agressão Externa',\n",
    "                      'Carga Excessiva E/Ou Mal Acondicionada',\n",
    "                      'Defeito Na Via',\n",
    "                      'Deficiência Ou Não Acionamento Do Sistema De Iluminação/Sinalização Do Veículo',\n",
    "                      'Fenômenos Da Natureza',\n",
    "                      'Mal Súbito',\n",
    "                      'Objeto Estático Sobre O Leito Carroçável',\n",
    "                      'Pista Escorregadia',\n",
    "                      'Restrição De Visibilidade',\n",
    "                      'Sinalização Da Via Insuficiente Ou Inadequada'\n",
    "                      ],'Outras', inplace=True)\n",
    "# exibir novos valores\n",
    "acidentes_rn['causa_acidente'].sort_values().unique()"
   ]
  },
  {
   "cell_type": "markdown",
   "metadata": {},
   "source": [
    "Observar os tipos de acidentes ocorridos."
   ]
  },
  {
   "cell_type": "code",
   "execution_count": 36,
   "metadata": {},
   "outputs": [
    {
     "data": {
      "text/plain": [
       "array(['Atropelamento De Animal', 'Atropelamento De Pedestre',\n",
       "       'Atropelamento De Pessoa', 'Capotamento', 'Colisão Com Bicicleta',\n",
       "       'Colisão Com Objeto Em Movimento', 'Colisão Com Objeto Estático',\n",
       "       'Colisão Com Objeto Fixo', 'Colisão Com Objeto Móvel',\n",
       "       'Colisão Frontal', 'Colisão Lateral', 'Colisão Transversal',\n",
       "       'Colisão Traseira', 'Danos Eventuais', 'Derramamento De Carga',\n",
       "       'Engavetamento', 'Incêndio',\n",
       "       'Queda De Motocicleta / Bicicleta / Veículo',\n",
       "       'Queda De Ocupante De Veículo', 'Saída De Leito Carroçável',\n",
       "       'Saída De Pista', 'Tombamento'], dtype=object)"
      ]
     },
     "execution_count": 36,
     "metadata": {},
     "output_type": "execute_result"
    }
   ],
   "source": [
    "# exibir os tipos de acidentes\n",
    "acidentes_rn['tipo_acidente'].sort_values().unique()"
   ]
  },
  {
   "cell_type": "markdown",
   "metadata": {},
   "source": [
    "Percebe-se que há redundâncias entre os valores dos tipos de acidentes, o bloco abaixo resolve esse problema."
   ]
  },
  {
   "cell_type": "code",
   "execution_count": 37,
   "metadata": {},
   "outputs": [
    {
     "data": {
      "text/plain": [
       "array(['Atropelamento De Animal', 'Atropelamento De Pessoa',\n",
       "       'Capotamento', 'Colisão Com Bicicleta', 'Colisão Com Objeto Fixo',\n",
       "       'Colisão Com Objeto Móvel', 'Colisão Frontal', 'Colisão Lateral',\n",
       "       'Colisão Transversal', 'Colisão Traseira', 'Danos Eventuais',\n",
       "       'Derramamento De Carga', 'Engavetamento', 'Incêndio',\n",
       "       'Queda De Ocupante De Veículo', 'Saída De Pista', 'Tombamento'],\n",
       "      dtype=object)"
      ]
     },
     "execution_count": 37,
     "metadata": {},
     "output_type": "execute_result"
    }
   ],
   "source": [
    "# corrigir redundâncias\n",
    "acidentes_rn['tipo_acidente'].replace(['Atropelamento De Pedestre',\n",
    "                                       'Colisão Com Objeto Estático',\n",
    "                                       'Colisão Com Objeto Em Movimento',\n",
    "                                       'Queda De Motocicleta / Bicicleta / Veículo',\n",
    "                                       'Saída De Leito Carroçável'\n",
    "                                      ],['Atropelamento De Pessoa',\n",
    "                                         'Colisão Com Objeto Fixo',\n",
    "                                         'Colisão Com Objeto Móvel',\n",
    "                                         'Queda De Ocupante De Veículo',\n",
    "                                         'Saída De Pista'],inplace=True)\n",
    "\n",
    "acidentes_rn['tipo_acidente'].sort_values().sort_values().unique()"
   ]
  },
  {
   "cell_type": "markdown",
   "metadata": {},
   "source": [
    "Observar as classificações atribuidas aos acidentes."
   ]
  },
  {
   "cell_type": "code",
   "execution_count": 38,
   "metadata": {},
   "outputs": [
    {
     "data": {
      "text/plain": [
       "array(['Com Vítimas Fatais', 'Com Vítimas Feridas', 'Ignorado',\n",
       "       'Sem Vítimas'], dtype=object)"
      ]
     },
     "execution_count": 38,
     "metadata": {},
     "output_type": "execute_result"
    }
   ],
   "source": [
    "# exibir classificações dos acidentes\n",
    "acidentes_rn['classificacao_acidente'].sort_values().unique()"
   ]
  },
  {
   "cell_type": "markdown",
   "metadata": {},
   "source": [
    "Horários categóricos nos quais os acidentes ocorreram."
   ]
  },
  {
   "cell_type": "code",
   "execution_count": 39,
   "metadata": {},
   "outputs": [
    {
     "data": {
      "text/plain": [
       "array(['(Null)', 'Amanhecer', 'Anoitecer', 'Plena Noite', 'Pleno Dia'],\n",
       "      dtype=object)"
      ]
     },
     "execution_count": 39,
     "metadata": {},
     "output_type": "execute_result"
    }
   ],
   "source": [
    "# exibir as fases do dias\n",
    "acidentes_rn['fase_dia'].sort_values().unique()"
   ]
  },
  {
   "cell_type": "markdown",
   "metadata": {},
   "source": [
    "Percebe-se que mesmo não detectado anteriormente, a coluna *fase_dia* possui valores nulos, provavelmente isso ocorreu pois esses dados foram considerados cadeias de caracteres. Pode-se observar que somente um registro de acidente possui esse atrbuto nulo, além disso, na fonte de dados original há o horário exato em que o acidente ocorreu (**14:50 h**), dessa maneira é fácil a esse elemento atribuir um valor manualmente como **PLENO DIA**."
   ]
  },
  {
   "cell_type": "code",
   "execution_count": 40,
   "metadata": {},
   "outputs": [
    {
     "data": {
      "text/plain": [
       "array(['Amanhecer', 'Anoitecer', 'Plena Noite', 'Pleno Dia'], dtype=object)"
      ]
     },
     "execution_count": 40,
     "metadata": {},
     "output_type": "execute_result"
    }
   ],
   "source": [
    "# definir valor com fase de dia nulo como 'Pleno Dia'\n",
    "acidentes_rn.loc[acidentes_rn['fase_dia']=='(Null)','fase_dia'] = 'Pleno Dia'\n",
    "\n",
    "# observar o resultado\n",
    "acidentes_rn['fase_dia'].sort_values().unique()"
   ]
  },
  {
   "cell_type": "markdown",
   "metadata": {},
   "source": [
    "Observar as condicões metereológicas sobre as quais os acidentes ocorreram"
   ]
  },
  {
   "cell_type": "code",
   "execution_count": 41,
   "metadata": {},
   "outputs": [
    {
     "data": {
      "text/plain": [
       "array(['(Null)', 'Ceu Claro', 'Chuva', 'Céu Claro', 'Garoa/Chuvisco',\n",
       "       'Granizo', 'Ignorada', 'Ignorado', 'Nevoeiro/Neblina', 'Nublado',\n",
       "       'Sol', 'Vento'], dtype=object)"
      ]
     },
     "execution_count": 41,
     "metadata": {},
     "output_type": "execute_result"
    }
   ],
   "source": [
    "# exibir condições metereológicas dos acidentes\n",
    "acidentes_rn['condicao_metereologica'].sort_values().unique()"
   ]
  },
  {
   "cell_type": "markdown",
   "metadata": {},
   "source": [
    "O mesmo problema se apresenta novamente, há valores ausentes no atributo considerado, além disso, houve acidentes que ocorreram sob a codição metereológica **GRANIZO**, considerando o clima do estado do RN é possível considerar as ocorrências dessa classe como dados ruidosos. O comando abaixo exibe os registros com essas classificações, como se pode observar apenas quatro foram encontradas, como é um grupo muito pequeno, foi atribuida manualmente a essas linhas a classificação **IGNORADO**."
   ]
  },
  {
   "cell_type": "code",
   "execution_count": 42,
   "metadata": {},
   "outputs": [
    {
     "data": {
      "text/html": [
       "<div>\n",
       "<style scoped>\n",
       "    .dataframe tbody tr th:only-of-type {\n",
       "        vertical-align: middle;\n",
       "    }\n",
       "\n",
       "    .dataframe tbody tr th {\n",
       "        vertical-align: top;\n",
       "    }\n",
       "\n",
       "    .dataframe thead th {\n",
       "        text-align: right;\n",
       "    }\n",
       "</style>\n",
       "<table border=\"1\" class=\"dataframe\">\n",
       "  <thead>\n",
       "    <tr style=\"text-align: right;\">\n",
       "      <th></th>\n",
       "      <th>ano</th>\n",
       "      <th>mes</th>\n",
       "      <th>dia</th>\n",
       "      <th>br</th>\n",
       "      <th>municipio</th>\n",
       "      <th>causa_acidente</th>\n",
       "      <th>tipo_acidente</th>\n",
       "      <th>classificacao_acidente</th>\n",
       "      <th>fase_dia</th>\n",
       "      <th>condicao_metereologica</th>\n",
       "      <th>tipo_pista</th>\n",
       "      <th>uso_solo</th>\n",
       "      <th>tipo_envolvido</th>\n",
       "      <th>idade</th>\n",
       "      <th>sexo</th>\n",
       "    </tr>\n",
       "    <tr>\n",
       "      <th>id</th>\n",
       "      <th></th>\n",
       "      <th></th>\n",
       "      <th></th>\n",
       "      <th></th>\n",
       "      <th></th>\n",
       "      <th></th>\n",
       "      <th></th>\n",
       "      <th></th>\n",
       "      <th></th>\n",
       "      <th></th>\n",
       "      <th></th>\n",
       "      <th></th>\n",
       "      <th></th>\n",
       "      <th></th>\n",
       "      <th></th>\n",
       "    </tr>\n",
       "  </thead>\n",
       "  <tbody>\n",
       "    <tr>\n",
       "      <th>83224358</th>\n",
       "      <td>2014</td>\n",
       "      <td>Julho</td>\n",
       "      <td>Segunda-feira</td>\n",
       "      <td>226</td>\n",
       "      <td>Currais Novos</td>\n",
       "      <td>Outras</td>\n",
       "      <td>Atropelamento De Pessoa</td>\n",
       "      <td>Com Vítimas Feridas</td>\n",
       "      <td>Pleno Dia</td>\n",
       "      <td>Granizo</td>\n",
       "      <td>Dupla</td>\n",
       "      <td>Urbano</td>\n",
       "      <td>Condutor</td>\n",
       "      <td>19</td>\n",
       "      <td>Feminino</td>\n",
       "    </tr>\n",
       "    <tr>\n",
       "      <th>83224358</th>\n",
       "      <td>2014</td>\n",
       "      <td>Julho</td>\n",
       "      <td>Segunda-feira</td>\n",
       "      <td>226</td>\n",
       "      <td>Currais Novos</td>\n",
       "      <td>Outras</td>\n",
       "      <td>Atropelamento De Pessoa</td>\n",
       "      <td>Com Vítimas Feridas</td>\n",
       "      <td>Pleno Dia</td>\n",
       "      <td>Granizo</td>\n",
       "      <td>Dupla</td>\n",
       "      <td>Urbano</td>\n",
       "      <td>Pedestre</td>\n",
       "      <td>64</td>\n",
       "      <td>Feminino</td>\n",
       "    </tr>\n",
       "    <tr>\n",
       "      <th>83402950</th>\n",
       "      <td>2015</td>\n",
       "      <td>Outubro</td>\n",
       "      <td>Quarta-feira</td>\n",
       "      <td>110</td>\n",
       "      <td>Mossoro</td>\n",
       "      <td>Outras</td>\n",
       "      <td>Queda De Ocupante De Veículo</td>\n",
       "      <td>Com Vítimas Feridas</td>\n",
       "      <td>Plena Noite</td>\n",
       "      <td>(Null)</td>\n",
       "      <td>Dupla</td>\n",
       "      <td>Urbano</td>\n",
       "      <td>Condutor</td>\n",
       "      <td>47</td>\n",
       "      <td>Masculino</td>\n",
       "    </tr>\n",
       "    <tr>\n",
       "      <th>83402950</th>\n",
       "      <td>2015</td>\n",
       "      <td>Outubro</td>\n",
       "      <td>Quarta-feira</td>\n",
       "      <td>110</td>\n",
       "      <td>Mossoro</td>\n",
       "      <td>Outras</td>\n",
       "      <td>Queda De Ocupante De Veículo</td>\n",
       "      <td>Com Vítimas Feridas</td>\n",
       "      <td>Plena Noite</td>\n",
       "      <td>(Null)</td>\n",
       "      <td>Dupla</td>\n",
       "      <td>Urbano</td>\n",
       "      <td>Passageiro</td>\n",
       "      <td>38</td>\n",
       "      <td>Masculino</td>\n",
       "    </tr>\n",
       "  </tbody>\n",
       "</table>\n",
       "</div>"
      ],
      "text/plain": [
       "           ano      mes            dia   br      municipio causa_acidente  \\\n",
       "id                                                                          \n",
       "83224358  2014    Julho  Segunda-feira  226  Currais Novos         Outras   \n",
       "83224358  2014    Julho  Segunda-feira  226  Currais Novos         Outras   \n",
       "83402950  2015  Outubro   Quarta-feira  110        Mossoro         Outras   \n",
       "83402950  2015  Outubro   Quarta-feira  110        Mossoro         Outras   \n",
       "\n",
       "                         tipo_acidente classificacao_acidente     fase_dia  \\\n",
       "id                                                                           \n",
       "83224358       Atropelamento De Pessoa    Com Vítimas Feridas    Pleno Dia   \n",
       "83224358       Atropelamento De Pessoa    Com Vítimas Feridas    Pleno Dia   \n",
       "83402950  Queda De Ocupante De Veículo    Com Vítimas Feridas  Plena Noite   \n",
       "83402950  Queda De Ocupante De Veículo    Com Vítimas Feridas  Plena Noite   \n",
       "\n",
       "         condicao_metereologica tipo_pista uso_solo tipo_envolvido  idade  \\\n",
       "id                                                                          \n",
       "83224358                Granizo      Dupla   Urbano       Condutor     19   \n",
       "83224358                Granizo      Dupla   Urbano       Pedestre     64   \n",
       "83402950                 (Null)      Dupla   Urbano       Condutor     47   \n",
       "83402950                 (Null)      Dupla   Urbano     Passageiro     38   \n",
       "\n",
       "               sexo  \n",
       "id                   \n",
       "83224358   Feminino  \n",
       "83224358   Feminino  \n",
       "83402950  Masculino  \n",
       "83402950  Masculino  "
      ]
     },
     "execution_count": 42,
     "metadata": {},
     "output_type": "execute_result"
    }
   ],
   "source": [
    "# exibir linhas com condição metereológica nula ou granizo\n",
    "acidentes_rn[acidentes_rn['condicao_metereologica'].isin(['(Null)','Granizo'])]"
   ]
  },
  {
   "cell_type": "code",
   "execution_count": 43,
   "metadata": {},
   "outputs": [],
   "source": [
    "# atribuir classe 'Ignorado' a esses registros\n",
    "acidentes_rn.loc[acidentes_rn['condicao_metereologica'].isin(['(Null)','Granizo']),'condicao_metereologica'] = 'Ignorado'"
   ]
  },
  {
   "cell_type": "markdown",
   "metadata": {},
   "source": [
    "Percebe-se, ainda, que há outros problemas no atributo de condição metereológica, os valores **CEU CLARO** e **CÉU CLARO** são considerados distintos somente devido ao acento, além disso, existe também um classe **IGNORADA** e redundâncias entre valores, a linha a seguir resolve essa situação."
   ]
  },
  {
   "cell_type": "code",
   "execution_count": 44,
   "metadata": {},
   "outputs": [
    {
     "data": {
      "text/plain": [
       "array(['Chuva', 'Céu Claro', 'Ignorado', 'Nublado', 'Sol', 'Vento'],\n",
       "      dtype=object)"
      ]
     },
     "execution_count": 44,
     "metadata": {},
     "output_type": "execute_result"
    }
   ],
   "source": [
    "# trocar valores problemáticos\n",
    "acidentes_rn['condicao_metereologica'].replace({'Ceu Claro':'Céu Claro',\n",
    "                                                'Garoa/Chuvisco':'Chuva',\n",
    "                                                'Ignorada':'Ignorado',\n",
    "                                                'Nevoeiro/Neblina':'Nublado'},inplace=True)\n",
    "\n",
    "# verificar se os problemas foram corrigidos\n",
    "acidentes_rn['condicao_metereologica'].sort_values().unique()"
   ]
  },
  {
   "cell_type": "markdown",
   "metadata": {},
   "source": [
    "Examinar os tipos de pistas"
   ]
  },
  {
   "cell_type": "code",
   "execution_count": 45,
   "metadata": {},
   "outputs": [
    {
     "data": {
      "text/plain": [
       "array(['Simples', 'Dupla', 'Múltipla'], dtype=object)"
      ]
     },
     "execution_count": 45,
     "metadata": {},
     "output_type": "execute_result"
    }
   ],
   "source": [
    "acidentes_rn['tipo_pista'].unique()"
   ]
  },
  {
   "cell_type": "markdown",
   "metadata": {},
   "source": [
    "O atributo **uso_solo** indica se o acidente ocorreu com solo **URBANO** ou **RURAL**, alguns registros possuem o valor **SIM** para indicar se o acidente ocorreu em solo urbano e, logicamente, **NÃO**, para o rural. Os próximos comandos exibe isso e em seguida padroniza esses dados."
   ]
  },
  {
   "cell_type": "code",
   "execution_count": 46,
   "metadata": {},
   "outputs": [
    {
     "data": {
      "text/plain": [
       "array(['Rural', 'Urbano', 'Não', 'Sim'], dtype=object)"
      ]
     },
     "execution_count": 46,
     "metadata": {},
     "output_type": "execute_result"
    }
   ],
   "source": [
    "# exibir valores possíveis\n",
    "acidentes_rn['uso_solo'].unique()"
   ]
  },
  {
   "cell_type": "code",
   "execution_count": 47,
   "metadata": {},
   "outputs": [
    {
     "data": {
      "text/plain": [
       "array(['Rural', 'Urbano'], dtype=object)"
      ]
     },
     "execution_count": 47,
     "metadata": {},
     "output_type": "execute_result"
    }
   ],
   "source": [
    "# padronizar valores\n",
    "acidentes_rn['uso_solo'].replace(['Sim','Não'],['Urbano','Rural'],inplace=True)\n",
    "\n",
    "# exibir resultado\n",
    "acidentes_rn['uso_solo'].unique()"
   ]
  },
  {
   "cell_type": "markdown",
   "metadata": {},
   "source": [
    "O próximo código exibe novamente os primeiros registros presentes no *Data Frame*, agora processado."
   ]
  },
  {
   "cell_type": "code",
   "execution_count": 48,
   "metadata": {},
   "outputs": [
    {
     "data": {
      "text/html": [
       "<div>\n",
       "<style scoped>\n",
       "    .dataframe tbody tr th:only-of-type {\n",
       "        vertical-align: middle;\n",
       "    }\n",
       "\n",
       "    .dataframe tbody tr th {\n",
       "        vertical-align: top;\n",
       "    }\n",
       "\n",
       "    .dataframe thead th {\n",
       "        text-align: right;\n",
       "    }\n",
       "</style>\n",
       "<table border=\"1\" class=\"dataframe\">\n",
       "  <thead>\n",
       "    <tr style=\"text-align: right;\">\n",
       "      <th></th>\n",
       "      <th>ano</th>\n",
       "      <th>mes</th>\n",
       "      <th>dia</th>\n",
       "      <th>br</th>\n",
       "      <th>municipio</th>\n",
       "      <th>causa_acidente</th>\n",
       "      <th>tipo_acidente</th>\n",
       "      <th>classificacao_acidente</th>\n",
       "      <th>fase_dia</th>\n",
       "      <th>condicao_metereologica</th>\n",
       "      <th>tipo_pista</th>\n",
       "      <th>uso_solo</th>\n",
       "      <th>tipo_envolvido</th>\n",
       "      <th>idade</th>\n",
       "      <th>sexo</th>\n",
       "    </tr>\n",
       "    <tr>\n",
       "      <th>id</th>\n",
       "      <th></th>\n",
       "      <th></th>\n",
       "      <th></th>\n",
       "      <th></th>\n",
       "      <th></th>\n",
       "      <th></th>\n",
       "      <th></th>\n",
       "      <th></th>\n",
       "      <th></th>\n",
       "      <th></th>\n",
       "      <th></th>\n",
       "      <th></th>\n",
       "      <th></th>\n",
       "      <th></th>\n",
       "      <th></th>\n",
       "    </tr>\n",
       "  </thead>\n",
       "  <tbody>\n",
       "    <tr>\n",
       "      <th>173746</th>\n",
       "      <td>2007</td>\n",
       "      <td>Janeiro</td>\n",
       "      <td>Segunda-feira</td>\n",
       "      <td>101</td>\n",
       "      <td>Extremoz</td>\n",
       "      <td>Falta De Atenção</td>\n",
       "      <td>Saída De Pista</td>\n",
       "      <td>Sem Vítimas</td>\n",
       "      <td>Plena Noite</td>\n",
       "      <td>Céu Claro</td>\n",
       "      <td>Simples</td>\n",
       "      <td>Rural</td>\n",
       "      <td>Condutor</td>\n",
       "      <td>40</td>\n",
       "      <td>Masculino</td>\n",
       "    </tr>\n",
       "    <tr>\n",
       "      <th>173937</th>\n",
       "      <td>2007</td>\n",
       "      <td>Janeiro</td>\n",
       "      <td>Segunda-feira</td>\n",
       "      <td>304</td>\n",
       "      <td>Macaiba</td>\n",
       "      <td>Outras</td>\n",
       "      <td>Colisão Com Objeto Móvel</td>\n",
       "      <td>Com Vítimas Feridas</td>\n",
       "      <td>Plena Noite</td>\n",
       "      <td>Céu Claro</td>\n",
       "      <td>Simples</td>\n",
       "      <td>Rural</td>\n",
       "      <td>Condutor</td>\n",
       "      <td>23</td>\n",
       "      <td>Masculino</td>\n",
       "    </tr>\n",
       "    <tr>\n",
       "      <th>173943</th>\n",
       "      <td>2007</td>\n",
       "      <td>Janeiro</td>\n",
       "      <td>Segunda-feira</td>\n",
       "      <td>101</td>\n",
       "      <td>Sao Goncalo Do Amarante</td>\n",
       "      <td>Não Guardar Distância De Segurança</td>\n",
       "      <td>Colisão Traseira</td>\n",
       "      <td>Sem Vítimas</td>\n",
       "      <td>Anoitecer</td>\n",
       "      <td>Céu Claro</td>\n",
       "      <td>Dupla</td>\n",
       "      <td>Urbano</td>\n",
       "      <td>Condutor</td>\n",
       "      <td>-1</td>\n",
       "      <td>Masculino</td>\n",
       "    </tr>\n",
       "    <tr>\n",
       "      <th>173943</th>\n",
       "      <td>2007</td>\n",
       "      <td>Janeiro</td>\n",
       "      <td>Segunda-feira</td>\n",
       "      <td>101</td>\n",
       "      <td>Sao Goncalo Do Amarante</td>\n",
       "      <td>Não Guardar Distância De Segurança</td>\n",
       "      <td>Colisão Traseira</td>\n",
       "      <td>Sem Vítimas</td>\n",
       "      <td>Anoitecer</td>\n",
       "      <td>Céu Claro</td>\n",
       "      <td>Dupla</td>\n",
       "      <td>Urbano</td>\n",
       "      <td>Condutor</td>\n",
       "      <td>-1</td>\n",
       "      <td>Masculino</td>\n",
       "    </tr>\n",
       "    <tr>\n",
       "      <th>173965</th>\n",
       "      <td>2007</td>\n",
       "      <td>Janeiro</td>\n",
       "      <td>Segunda-feira</td>\n",
       "      <td>101</td>\n",
       "      <td>Parnamirim</td>\n",
       "      <td>Ingestão De Álcool E/Ou Substâncias Psicoativas</td>\n",
       "      <td>Colisão Traseira</td>\n",
       "      <td>Sem Vítimas</td>\n",
       "      <td>Pleno Dia</td>\n",
       "      <td>Céu Claro</td>\n",
       "      <td>Dupla</td>\n",
       "      <td>Rural</td>\n",
       "      <td>Condutor</td>\n",
       "      <td>32</td>\n",
       "      <td>Masculino</td>\n",
       "    </tr>\n",
       "  </tbody>\n",
       "</table>\n",
       "</div>"
      ],
      "text/plain": [
       "         ano      mes            dia   br                municipio  \\\n",
       "id                                                                   \n",
       "173746  2007  Janeiro  Segunda-feira  101                 Extremoz   \n",
       "173937  2007  Janeiro  Segunda-feira  304                  Macaiba   \n",
       "173943  2007  Janeiro  Segunda-feira  101  Sao Goncalo Do Amarante   \n",
       "173943  2007  Janeiro  Segunda-feira  101  Sao Goncalo Do Amarante   \n",
       "173965  2007  Janeiro  Segunda-feira  101               Parnamirim   \n",
       "\n",
       "                                         causa_acidente  \\\n",
       "id                                                        \n",
       "173746                                 Falta De Atenção   \n",
       "173937                                           Outras   \n",
       "173943               Não Guardar Distância De Segurança   \n",
       "173943               Não Guardar Distância De Segurança   \n",
       "173965  Ingestão De Álcool E/Ou Substâncias Psicoativas   \n",
       "\n",
       "                   tipo_acidente classificacao_acidente     fase_dia  \\\n",
       "id                                                                     \n",
       "173746            Saída De Pista            Sem Vítimas  Plena Noite   \n",
       "173937  Colisão Com Objeto Móvel    Com Vítimas Feridas  Plena Noite   \n",
       "173943          Colisão Traseira            Sem Vítimas    Anoitecer   \n",
       "173943          Colisão Traseira            Sem Vítimas    Anoitecer   \n",
       "173965          Colisão Traseira            Sem Vítimas    Pleno Dia   \n",
       "\n",
       "       condicao_metereologica tipo_pista uso_solo tipo_envolvido  idade  \\\n",
       "id                                                                        \n",
       "173746              Céu Claro    Simples    Rural       Condutor     40   \n",
       "173937              Céu Claro    Simples    Rural       Condutor     23   \n",
       "173943              Céu Claro      Dupla   Urbano       Condutor     -1   \n",
       "173943              Céu Claro      Dupla   Urbano       Condutor     -1   \n",
       "173965              Céu Claro      Dupla    Rural       Condutor     32   \n",
       "\n",
       "             sexo  \n",
       "id                 \n",
       "173746  Masculino  \n",
       "173937  Masculino  \n",
       "173943  Masculino  \n",
       "173943  Masculino  \n",
       "173965  Masculino  "
      ]
     },
     "execution_count": 48,
     "metadata": {},
     "output_type": "execute_result"
    }
   ],
   "source": [
    "# exibir linhas iniciais de registros após todo processamento\n",
    "acidentes_rn.head()"
   ]
  },
  {
   "cell_type": "markdown",
   "metadata": {},
   "source": [
    "Para salvar esse conjunto de dados processado, o bloco abaixo foi executado, um arquivo 'datatran-rn.csv' será criado."
   ]
  },
  {
   "cell_type": "code",
   "execution_count": 49,
   "metadata": {},
   "outputs": [],
   "source": [
    "# salvar conjunto de dados processados como um arquivo .csv\n",
    "acidentes_rn.to_csv('acidentes-rn.csv')"
   ]
  },
  {
   "cell_type": "markdown",
   "metadata": {},
   "source": [
    "[Voltar ao Índice](#%C3%8Dndice)"
   ]
  },
  {
   "cell_type": "markdown",
   "metadata": {},
   "source": [
    "### 3. Exploração"
   ]
  },
  {
   "cell_type": "markdown",
   "metadata": {},
   "source": [
    "O arquivo *acidentes_rn.csv* contém os dados devidamente processados, procedimento realizado na seção de [pré-processamento](#2.-Pr%C3%A9-processamento)."
   ]
  },
  {
   "cell_type": "code",
   "execution_count": 50,
   "metadata": {},
   "outputs": [],
   "source": [
    "# ler arquivo com dados processados\n",
    "acidentes_rn = pd.read_csv('acidentes-rn.csv',index_col='id')"
   ]
  },
  {
   "cell_type": "markdown",
   "metadata": {},
   "source": [
    "Exibir primeiros registros da fonte de dados pré-processado."
   ]
  },
  {
   "cell_type": "code",
   "execution_count": 51,
   "metadata": {},
   "outputs": [
    {
     "data": {
      "text/html": [
       "<div>\n",
       "<style scoped>\n",
       "    .dataframe tbody tr th:only-of-type {\n",
       "        vertical-align: middle;\n",
       "    }\n",
       "\n",
       "    .dataframe tbody tr th {\n",
       "        vertical-align: top;\n",
       "    }\n",
       "\n",
       "    .dataframe thead th {\n",
       "        text-align: right;\n",
       "    }\n",
       "</style>\n",
       "<table border=\"1\" class=\"dataframe\">\n",
       "  <thead>\n",
       "    <tr style=\"text-align: right;\">\n",
       "      <th></th>\n",
       "      <th>ano</th>\n",
       "      <th>mes</th>\n",
       "      <th>dia</th>\n",
       "      <th>br</th>\n",
       "      <th>municipio</th>\n",
       "      <th>causa_acidente</th>\n",
       "      <th>tipo_acidente</th>\n",
       "      <th>classificacao_acidente</th>\n",
       "      <th>fase_dia</th>\n",
       "      <th>condicao_metereologica</th>\n",
       "      <th>tipo_pista</th>\n",
       "      <th>uso_solo</th>\n",
       "      <th>tipo_envolvido</th>\n",
       "      <th>idade</th>\n",
       "      <th>sexo</th>\n",
       "    </tr>\n",
       "    <tr>\n",
       "      <th>id</th>\n",
       "      <th></th>\n",
       "      <th></th>\n",
       "      <th></th>\n",
       "      <th></th>\n",
       "      <th></th>\n",
       "      <th></th>\n",
       "      <th></th>\n",
       "      <th></th>\n",
       "      <th></th>\n",
       "      <th></th>\n",
       "      <th></th>\n",
       "      <th></th>\n",
       "      <th></th>\n",
       "      <th></th>\n",
       "      <th></th>\n",
       "    </tr>\n",
       "  </thead>\n",
       "  <tbody>\n",
       "    <tr>\n",
       "      <th>173746</th>\n",
       "      <td>2007</td>\n",
       "      <td>Janeiro</td>\n",
       "      <td>Segunda-feira</td>\n",
       "      <td>101</td>\n",
       "      <td>Extremoz</td>\n",
       "      <td>Falta De Atenção</td>\n",
       "      <td>Saída De Pista</td>\n",
       "      <td>Sem Vítimas</td>\n",
       "      <td>Plena Noite</td>\n",
       "      <td>Céu Claro</td>\n",
       "      <td>Simples</td>\n",
       "      <td>Rural</td>\n",
       "      <td>Condutor</td>\n",
       "      <td>40</td>\n",
       "      <td>Masculino</td>\n",
       "    </tr>\n",
       "    <tr>\n",
       "      <th>173937</th>\n",
       "      <td>2007</td>\n",
       "      <td>Janeiro</td>\n",
       "      <td>Segunda-feira</td>\n",
       "      <td>304</td>\n",
       "      <td>Macaiba</td>\n",
       "      <td>Outras</td>\n",
       "      <td>Colisão Com Objeto Móvel</td>\n",
       "      <td>Com Vítimas Feridas</td>\n",
       "      <td>Plena Noite</td>\n",
       "      <td>Céu Claro</td>\n",
       "      <td>Simples</td>\n",
       "      <td>Rural</td>\n",
       "      <td>Condutor</td>\n",
       "      <td>23</td>\n",
       "      <td>Masculino</td>\n",
       "    </tr>\n",
       "    <tr>\n",
       "      <th>173943</th>\n",
       "      <td>2007</td>\n",
       "      <td>Janeiro</td>\n",
       "      <td>Segunda-feira</td>\n",
       "      <td>101</td>\n",
       "      <td>Sao Goncalo Do Amarante</td>\n",
       "      <td>Não Guardar Distância De Segurança</td>\n",
       "      <td>Colisão Traseira</td>\n",
       "      <td>Sem Vítimas</td>\n",
       "      <td>Anoitecer</td>\n",
       "      <td>Céu Claro</td>\n",
       "      <td>Dupla</td>\n",
       "      <td>Urbano</td>\n",
       "      <td>Condutor</td>\n",
       "      <td>-1</td>\n",
       "      <td>Masculino</td>\n",
       "    </tr>\n",
       "    <tr>\n",
       "      <th>173943</th>\n",
       "      <td>2007</td>\n",
       "      <td>Janeiro</td>\n",
       "      <td>Segunda-feira</td>\n",
       "      <td>101</td>\n",
       "      <td>Sao Goncalo Do Amarante</td>\n",
       "      <td>Não Guardar Distância De Segurança</td>\n",
       "      <td>Colisão Traseira</td>\n",
       "      <td>Sem Vítimas</td>\n",
       "      <td>Anoitecer</td>\n",
       "      <td>Céu Claro</td>\n",
       "      <td>Dupla</td>\n",
       "      <td>Urbano</td>\n",
       "      <td>Condutor</td>\n",
       "      <td>-1</td>\n",
       "      <td>Masculino</td>\n",
       "    </tr>\n",
       "    <tr>\n",
       "      <th>173965</th>\n",
       "      <td>2007</td>\n",
       "      <td>Janeiro</td>\n",
       "      <td>Segunda-feira</td>\n",
       "      <td>101</td>\n",
       "      <td>Parnamirim</td>\n",
       "      <td>Ingestão De Álcool E/Ou Substâncias Psicoativas</td>\n",
       "      <td>Colisão Traseira</td>\n",
       "      <td>Sem Vítimas</td>\n",
       "      <td>Pleno Dia</td>\n",
       "      <td>Céu Claro</td>\n",
       "      <td>Dupla</td>\n",
       "      <td>Rural</td>\n",
       "      <td>Condutor</td>\n",
       "      <td>32</td>\n",
       "      <td>Masculino</td>\n",
       "    </tr>\n",
       "  </tbody>\n",
       "</table>\n",
       "</div>"
      ],
      "text/plain": [
       "         ano      mes            dia   br                municipio  \\\n",
       "id                                                                   \n",
       "173746  2007  Janeiro  Segunda-feira  101                 Extremoz   \n",
       "173937  2007  Janeiro  Segunda-feira  304                  Macaiba   \n",
       "173943  2007  Janeiro  Segunda-feira  101  Sao Goncalo Do Amarante   \n",
       "173943  2007  Janeiro  Segunda-feira  101  Sao Goncalo Do Amarante   \n",
       "173965  2007  Janeiro  Segunda-feira  101               Parnamirim   \n",
       "\n",
       "                                         causa_acidente  \\\n",
       "id                                                        \n",
       "173746                                 Falta De Atenção   \n",
       "173937                                           Outras   \n",
       "173943               Não Guardar Distância De Segurança   \n",
       "173943               Não Guardar Distância De Segurança   \n",
       "173965  Ingestão De Álcool E/Ou Substâncias Psicoativas   \n",
       "\n",
       "                   tipo_acidente classificacao_acidente     fase_dia  \\\n",
       "id                                                                     \n",
       "173746            Saída De Pista            Sem Vítimas  Plena Noite   \n",
       "173937  Colisão Com Objeto Móvel    Com Vítimas Feridas  Plena Noite   \n",
       "173943          Colisão Traseira            Sem Vítimas    Anoitecer   \n",
       "173943          Colisão Traseira            Sem Vítimas    Anoitecer   \n",
       "173965          Colisão Traseira            Sem Vítimas    Pleno Dia   \n",
       "\n",
       "       condicao_metereologica tipo_pista uso_solo tipo_envolvido  idade  \\\n",
       "id                                                                        \n",
       "173746              Céu Claro    Simples    Rural       Condutor     40   \n",
       "173937              Céu Claro    Simples    Rural       Condutor     23   \n",
       "173943              Céu Claro      Dupla   Urbano       Condutor     -1   \n",
       "173943              Céu Claro      Dupla   Urbano       Condutor     -1   \n",
       "173965              Céu Claro      Dupla    Rural       Condutor     32   \n",
       "\n",
       "             sexo  \n",
       "id                 \n",
       "173746  Masculino  \n",
       "173937  Masculino  \n",
       "173943  Masculino  \n",
       "173943  Masculino  \n",
       "173965  Masculino  "
      ]
     },
     "execution_count": 51,
     "metadata": {},
     "output_type": "execute_result"
    }
   ],
   "source": [
    "# exibir primeiros resultados\n",
    "acidentes_rn.head()"
   ]
  },
  {
   "cell_type": "markdown",
   "metadata": {},
   "source": [
    "O bloco abaixo extrai somente as ocorrências, não considerando dados das vítimas."
   ]
  },
  {
   "cell_type": "code",
   "execution_count": 52,
   "metadata": {},
   "outputs": [],
   "source": [
    "# extrair ocorrências\n",
    "ocorrencias = acidentes_rn.groupby(level=0).first().drop(['idade','sexo','tipo_envolvido'],axis=1)"
   ]
  },
  {
   "cell_type": "markdown",
   "metadata": {},
   "source": [
    "Quantidade numérica de acidentes ocorridos em todo o RN em cada ano a partir de 2007."
   ]
  },
  {
   "cell_type": "code",
   "execution_count": 53,
   "metadata": {},
   "outputs": [
    {
     "data": {
      "image/png": "[encoded data removed]",
      "text/plain": [
       "<Figure size 432x288 with 1 Axes>"
      ]
     },
     "metadata": {
      "needs_background": "light"
     },
     "output_type": "display_data"
    }
   ],
   "source": [
    "# plotar gráfico de barras\n",
    "ax = ocorrencias['ano'].value_counts().sort_index().plot(kind='bar',color='darkred',title='Acidentes por Ano',rot='45');\n",
    "\n",
    "# inserir legenda lateral\n",
    "ax.set(ylabel='n° de acidentes');\n",
    "\n",
    "# salvar figura\n",
    "ax.get_figure().savefig('figuras/acidentes_por_ano.png',dpi=500,bbox_inches=\"tight\")"
   ]
  },
  {
   "cell_type": "code",
   "execution_count": 54,
   "metadata": {},
   "outputs": [
    {
     "name": "stdout",
     "output_type": "stream",
     "text": [
      "Quantidade de acidentes:  35822\n"
     ]
    }
   ],
   "source": [
    "print('Quantidade de acidentes: ',ocorrencias['ano'].value_counts().sum())"
   ]
  },
  {
   "cell_type": "markdown",
   "metadata": {},
   "source": [
    "Mapa de calor com a quantidade de acidentes registrados ocorridos em cada mês de cada ano"
   ]
  },
  {
   "cell_type": "code",
   "execution_count": 55,
   "metadata": {},
   "outputs": [
    {
     "data": {
      "image/png": "[encoded data removed]",
      "text/plain": [
       "<Figure size 648x432 with 2 Axes>"
      ]
     },
     "metadata": {
      "needs_background": "light"
     },
     "output_type": "display_data"
    }
   ],
   "source": [
    "# construir tabela\n",
    "acidentes_ano_mes = pd.crosstab(ocorrencias['mes'].astype(pd.CategoricalDtype(ocorrencias['mes'].unique(),ordered=True)),ocorrencias['ano'])\n",
    "\n",
    "# construir figura\n",
    "f, ax = plt.subplots(figsize=(9, 6))\n",
    "\n",
    "# título\n",
    "ax.set_title('Matriz Cronológica de Acidentes')\n",
    "\n",
    "# plotar mapa de calor\n",
    "sns.heatmap(acidentes_ano_mes, annot=True, fmt=\"d\", linewidths=.5, ax=ax,cmap='Reds');\n",
    "\n",
    "# salvar figuras\n",
    "f.savefig('figuras/matriz_acidentes.png',dpi=500,bbox_inches='tight');"
   ]
  },
  {
   "cell_type": "markdown",
   "metadata": {},
   "source": [
    "Construir um gráficos de setores que indicam como os acidentes estão distribuidos em relação aos dias da semana e aos meses."
   ]
  },
  {
   "cell_type": "code",
   "execution_count": 56,
   "metadata": {},
   "outputs": [
    {
     "data": {
      "image/png": "[encoded data removed]",
      "text/plain": [
       "<Figure size 864x360 with 2 Axes>"
      ]
     },
     "metadata": {},
     "output_type": "display_data"
    }
   ],
   "source": [
    "# construir figura\n",
    "fig, axes = plt.subplots(nrows=1, ncols=2,figsize=(12,5))\n",
    "\n",
    "# plotagem do gráfico pizza para dias\n",
    "ocorrencias['dia'].value_counts().plot(kind='pie',title='Acidentes em Dias da Semana',autopct='%.2f%%',colormap='tab20',ax=axes[0]);\n",
    "\n",
    "# plotagem do gráfico pizza para meses\n",
    "ocorrencias['mes'].value_counts().plot(kind='pie',title='Acidentes em Cada Mês',autopct='%.2f%%',colormap='tab20b',ax=axes[1]);\n",
    "\n",
    "fig.subplots_adjust(wspace=0.4)\n",
    "\n",
    "fig.savefig('figuras/acidentes_dias_mes.png',dpi=500,bbox_inches='tight');"
   ]
  },
  {
   "cell_type": "markdown",
   "metadata": {},
   "source": [
    "Tabela que relaciona dias da semana com a fase do dia."
   ]
  },
  {
   "cell_type": "code",
   "execution_count": 57,
   "metadata": {},
   "outputs": [
    {
     "data": {
      "text/html": [
       "<div>\n",
       "<style scoped>\n",
       "    .dataframe tbody tr th:only-of-type {\n",
       "        vertical-align: middle;\n",
       "    }\n",
       "\n",
       "    .dataframe tbody tr th {\n",
       "        vertical-align: top;\n",
       "    }\n",
       "\n",
       "    .dataframe thead th {\n",
       "        text-align: right;\n",
       "    }\n",
       "</style>\n",
       "<table border=\"1\" class=\"dataframe\">\n",
       "  <thead>\n",
       "    <tr style=\"text-align: right;\">\n",
       "      <th>fase_dia</th>\n",
       "      <th>Amanhecer</th>\n",
       "      <th>Anoitecer</th>\n",
       "      <th>Plena Noite</th>\n",
       "      <th>Pleno Dia</th>\n",
       "      <th>total</th>\n",
       "    </tr>\n",
       "    <tr>\n",
       "      <th>dia</th>\n",
       "      <th></th>\n",
       "      <th></th>\n",
       "      <th></th>\n",
       "      <th></th>\n",
       "      <th></th>\n",
       "    </tr>\n",
       "  </thead>\n",
       "  <tbody>\n",
       "    <tr>\n",
       "      <th>Domingo</th>\n",
       "      <td>252</td>\n",
       "      <td>353</td>\n",
       "      <td>2135</td>\n",
       "      <td>2212</td>\n",
       "      <td>4952</td>\n",
       "    </tr>\n",
       "    <tr>\n",
       "      <th>Quarta-feira</th>\n",
       "      <td>93</td>\n",
       "      <td>265</td>\n",
       "      <td>1303</td>\n",
       "      <td>2995</td>\n",
       "      <td>4656</td>\n",
       "    </tr>\n",
       "    <tr>\n",
       "      <th>Quinta-feira</th>\n",
       "      <td>131</td>\n",
       "      <td>308</td>\n",
       "      <td>1379</td>\n",
       "      <td>2986</td>\n",
       "      <td>4804</td>\n",
       "    </tr>\n",
       "    <tr>\n",
       "      <th>Segunda-feira</th>\n",
       "      <td>191</td>\n",
       "      <td>295</td>\n",
       "      <td>1333</td>\n",
       "      <td>3512</td>\n",
       "      <td>5331</td>\n",
       "    </tr>\n",
       "    <tr>\n",
       "      <th>Sexta-feira</th>\n",
       "      <td>166</td>\n",
       "      <td>360</td>\n",
       "      <td>1926</td>\n",
       "      <td>3463</td>\n",
       "      <td>5915</td>\n",
       "    </tr>\n",
       "    <tr>\n",
       "      <th>Sábado</th>\n",
       "      <td>233</td>\n",
       "      <td>280</td>\n",
       "      <td>2118</td>\n",
       "      <td>3007</td>\n",
       "      <td>5638</td>\n",
       "    </tr>\n",
       "    <tr>\n",
       "      <th>Terça-feira</th>\n",
       "      <td>138</td>\n",
       "      <td>279</td>\n",
       "      <td>1225</td>\n",
       "      <td>2884</td>\n",
       "      <td>4526</td>\n",
       "    </tr>\n",
       "  </tbody>\n",
       "</table>\n",
       "</div>"
      ],
      "text/plain": [
       "fase_dia       Amanhecer  Anoitecer  Plena Noite  Pleno Dia  total\n",
       "dia                                                               \n",
       "Domingo              252        353         2135       2212   4952\n",
       "Quarta-feira          93        265         1303       2995   4656\n",
       "Quinta-feira         131        308         1379       2986   4804\n",
       "Segunda-feira        191        295         1333       3512   5331\n",
       "Sexta-feira          166        360         1926       3463   5915\n",
       "Sábado               233        280         2118       3007   5638\n",
       "Terça-feira          138        279         1225       2884   4526"
      ]
     },
     "execution_count": 57,
     "metadata": {},
     "output_type": "execute_result"
    }
   ],
   "source": [
    "acidentes_fase_dia = ocorrencias.groupby(['dia','fase_dia']).count().iloc[:,0].unstack()\n",
    "acidentes_fase_dia['total'] = acidentes_fase_dia.sum(axis=1)\n",
    "acidentes_fase_dia"
   ]
  },
  {
   "cell_type": "markdown",
   "metadata": {},
   "source": [
    "Explorar ocorrências por municípios e rodovias."
   ]
  },
  {
   "cell_type": "code",
   "execution_count": 58,
   "metadata": {},
   "outputs": [
    {
     "data": {
      "image/png": "[encoded data removed]",
      "text/plain": [
       "<Figure size 504x360 with 1 Axes>"
      ]
     },
     "metadata": {
      "needs_background": "light"
     },
     "output_type": "display_data"
    }
   ],
   "source": [
    "# municipios com maior número de ocorrências registradas\n",
    "municipios_acidentes = ocorrencias['municipio'].value_counts().head(10)\n",
    "\n",
    "# realizar plotagem\n",
    "ax = pd.crosstab(ocorrencias['municipio'],ocorrencias['br']).loc[municipios_acidentes.index].plot(kind='barh',stacked=True,title='Municipios Com Mais Acidentes Registrados',figsize=(7,5));\n",
    "\n",
    "ax.get_figure().savefig('figuras/acidentes_municipios_rodovias.png',dpi=500,bbox_inches='tight')"
   ]
  },
  {
   "cell_type": "markdown",
   "metadata": {},
   "source": [
    "Distribuição dos acidentes entre as rodovias."
   ]
  },
  {
   "cell_type": "code",
   "execution_count": 59,
   "metadata": {},
   "outputs": [
    {
     "data": {
      "image/png": "[encoded data removed]",
      "text/plain": [
       "<Figure size 360x360 with 1 Axes>"
      ]
     },
     "metadata": {},
     "output_type": "display_data"
    }
   ],
   "source": [
    "ax = ocorrencias['br'].value_counts().plot(kind='pie',autopct='%.2f%%',figsize=(5,5),colormap='plasma_r',title='Rodovias Mais Perigosas');\n",
    "\n",
    "ax.get_figure().savefig('figuras/rodovias_perigosas.png',dpi=500,bbox_inches='tight')"
   ]
  },
  {
   "cell_type": "markdown",
   "metadata": {},
   "source": [
    "Observar as causas de acidentes mais importantes e tipos de acidentes mais frequentes."
   ]
  },
  {
   "cell_type": "code",
   "execution_count": 70,
   "metadata": {},
   "outputs": [
    {
     "data": {
      "image/png": "[encoded data removed]",
      "text/plain": [
       "<Figure size 1080x360 with 2 Axes>"
      ]
     },
     "metadata": {},
     "output_type": "display_data"
    }
   ],
   "source": [
    "# construir figura\n",
    "fig, axes = plt.subplots(nrows=1, ncols=2,figsize=(15,5))\n",
    "\n",
    "# plotar gráfico de setores com as 10 causas mais frequentes\n",
    "ocorrencias['causa_acidente'].value_counts().head(10).rename('').plot(kind='pie',colormap='tab20c',title='Causas Mais Frequentes',ax=axes[0]);\n",
    "\n",
    "# plotar gráfico de setores com os tipos de acidentes mais frequentes\n",
    "ocorrencias['tipo_acidente'].value_counts().head(10).rename('').plot(kind='pie',colormap='tab10',title='Tipos Mais Frequentes',ax=axes[1]);\n",
    "\n",
    "# ajustar plotagens\n",
    "fig.subplots_adjust(wspace=1)\n",
    "\n",
    "fig.savefig('figuras/causas_tipos.png',dpi=500,bbox_inches='tight');"
   ]
  },
  {
   "cell_type": "markdown",
   "metadata": {},
   "source": [
    "Estudar a relação entre as causas e a classificação quando houve vítimas."
   ]
  },
  {
   "cell_type": "code",
   "execution_count": 61,
   "metadata": {},
   "outputs": [
    {
     "data": {
      "image/png": "[encoded data removed]",
      "text/plain": [
       "<Figure size 432x288 with 1 Axes>"
      ]
     },
     "metadata": {
      "needs_background": "light"
     },
     "output_type": "display_data"
    }
   ],
   "source": [
    "# plotar gráfico normalizado\n",
    "ax = pd.crosstab(ocorrencias['classificacao_acidente'],ocorrencias['causa_acidente']).apply(lambda r: r/r.sum(), axis=1).iloc[0:2].plot(kind='bar',rot=360,stacked=True,colormap='tab20b',title='Causas de Acidentes Com Vítimas');\n",
    "ax.legend(bbox_to_anchor = (1.1, 1));\n",
    "\n",
    "ax.get_figure().savefig('figuras/causas_vitimas.png',dpi=500,bbox_inches='tight')"
   ]
  },
  {
   "cell_type": "markdown",
   "metadata": {},
   "source": [
    "Estudar a relação entre os tipos e a classificação quando houve vítimas."
   ]
  },
  {
   "cell_type": "code",
   "execution_count": 62,
   "metadata": {},
   "outputs": [
    {
     "data": {
      "image/png": "[encoded data removed]",
      "text/plain": [
       "<Figure size 432x288 with 1 Axes>"
      ]
     },
     "metadata": {
      "needs_background": "light"
     },
     "output_type": "display_data"
    }
   ],
   "source": [
    "ax = pd.crosstab(ocorrencias['classificacao_acidente'],ocorrencias['tipo_acidente']).apply(lambda r: r/r.sum(), axis=1).iloc[0:2].plot(kind='bar',rot=360,stacked=True,title='Tipos de Acidentes Com Vítimas');\n",
    "ax.legend(bbox_to_anchor = (1.2, 1));\n",
    "\n",
    "ax.get_figure().savefig('figuras/tipo_vitmas.png',dpi=500,bbox_inches='tight');"
   ]
  },
  {
   "cell_type": "markdown",
   "metadata": {},
   "source": [
    "Comportamento cronológico das classificações dos acidentes."
   ]
  },
  {
   "cell_type": "code",
   "execution_count": 63,
   "metadata": {},
   "outputs": [
    {
     "data": {
      "image/png": "[encoded data removed]",
      "text/plain": [
       "<Figure size 1080x360 with 2 Axes>"
      ]
     },
     "metadata": {
      "needs_background": "light"
     },
     "output_type": "display_data"
    }
   ],
   "source": [
    "# construir figura\n",
    "fig, axes = plt.subplots(nrows=1, ncols=2,figsize=(15,5))\n",
    "\n",
    "# plotagem de gráfico linear\n",
    "pd.crosstab(ocorrencias['ano'],ocorrencias['classificacao_acidente']).plot(kind='line',title='Classificação dos Acidentes (A)',ax=axes[0]);\n",
    "\n",
    "# plotagem de gráfico de barras\n",
    "pd.crosstab(ocorrencias['ano'],ocorrencias['classificacao_acidente']).plot(kind='bar',title='Classificação dos Acidentes (B)',stacked=True,ax=axes[1]);\n",
    "\n",
    "fig.savefig('figuras/classificacao_acidentes.png',dpi=500,bbox_inches='tight')"
   ]
  },
  {
   "cell_type": "markdown",
   "metadata": {},
   "source": [
    "Distribuição de idades das vítimas."
   ]
  },
  {
   "cell_type": "code",
   "execution_count": 64,
   "metadata": {},
   "outputs": [
    {
     "data": {
      "image/png": "[encoded data removed]",
      "text/plain": [
       "<Figure size 432x288 with 1 Axes>"
      ]
     },
     "metadata": {
      "needs_background": "light"
     },
     "output_type": "display_data"
    }
   ],
   "source": [
    "ax = acidentes_rn[acidentes_rn['idade']>0]['idade'].plot(kind='hist',title='Distribuição de Idades',grid=True,color='red');\n",
    "\n",
    "ax.set(xlabel='idades',ylabel='frequência')\n",
    "\n",
    "ax.get_figure().savefig('figuras/idade.png',dpi=500,bbox_inches='tight')"
   ]
  },
  {
   "cell_type": "markdown",
   "metadata": {},
   "source": [
    "Sexo das vítimas."
   ]
  },
  {
   "cell_type": "code",
   "execution_count": 67,
   "metadata": {},
   "outputs": [
    {
     "data": {
      "image/png": "[encoded data removed]",
      "text/plain": [
       "<Figure size 1080x324 with 3 Axes>"
      ]
     },
     "metadata": {},
     "output_type": "display_data"
    }
   ],
   "source": [
    "ax = pd.crosstab(acidentes_rn['sexo'],acidentes_rn['tipo_envolvido'])[['Condutor','Passageiro','Pedestre']].plot(kind='pie',subplots=True,figsize=(15,4.5),legend=False,colormap='plasma_r',title='Pessoas Envolvidas');\n",
    "\n",
    "ax[0].get_figure().savefig('figuras/envolvidos.png',dpi=500,bbox_inches='tight');"
   ]
  },
  {
   "cell_type": "code",
   "execution_count": 68,
   "metadata": {},
   "outputs": [
    {
     "data": {
      "image/png": "[encoded data removed]",
      "text/plain": [
       "<Figure size 432x288 with 1 Axes>"
      ]
     },
     "metadata": {
      "needs_background": "light"
     },
     "output_type": "display_data"
    }
   ],
   "source": [
    "ax = pd.crosstab(ocorrencias['tipo_pista'],ocorrencias['classificacao_acidente']).plot(kind='bar',rot=360,title='Tipo de Pista x Classficação de Acidentes');\n",
    "\n",
    "ax.get_figure().savefig('figuras/tipo_pista.png',dpi=500,bbox_inches='tight');"
   ]
  },
  {
   "cell_type": "code",
   "execution_count": 69,
   "metadata": {},
   "outputs": [
    {
     "data": {
      "text/html": [
       "<div>\n",
       "<style scoped>\n",
       "    .dataframe tbody tr th:only-of-type {\n",
       "        vertical-align: middle;\n",
       "    }\n",
       "\n",
       "    .dataframe tbody tr th {\n",
       "        vertical-align: top;\n",
       "    }\n",
       "\n",
       "    .dataframe thead th {\n",
       "        text-align: right;\n",
       "    }\n",
       "</style>\n",
       "<table border=\"1\" class=\"dataframe\">\n",
       "  <thead>\n",
       "    <tr style=\"text-align: right;\">\n",
       "      <th></th>\n",
       "      <th>condicao_metereologica</th>\n",
       "      <th>Chuva</th>\n",
       "      <th>Céu Claro</th>\n",
       "      <th>Ignorado</th>\n",
       "      <th>Nublado</th>\n",
       "      <th>Sol</th>\n",
       "      <th>Vento</th>\n",
       "    </tr>\n",
       "    <tr>\n",
       "      <th>uso_solo</th>\n",
       "      <th>tipo_pista</th>\n",
       "      <th></th>\n",
       "      <th></th>\n",
       "      <th></th>\n",
       "      <th></th>\n",
       "      <th></th>\n",
       "      <th></th>\n",
       "    </tr>\n",
       "  </thead>\n",
       "  <tbody>\n",
       "    <tr>\n",
       "      <th rowspan=\"3\" valign=\"top\">Rural</th>\n",
       "      <th>Dupla</th>\n",
       "      <td>264.0</td>\n",
       "      <td>1184.0</td>\n",
       "      <td>25.0</td>\n",
       "      <td>208.0</td>\n",
       "      <td>222.0</td>\n",
       "      <td>11.0</td>\n",
       "    </tr>\n",
       "    <tr>\n",
       "      <th>Múltipla</th>\n",
       "      <td>12.0</td>\n",
       "      <td>34.0</td>\n",
       "      <td>NaN</td>\n",
       "      <td>12.0</td>\n",
       "      <td>5.0</td>\n",
       "      <td>NaN</td>\n",
       "    </tr>\n",
       "    <tr>\n",
       "      <th>Simples</th>\n",
       "      <td>550.0</td>\n",
       "      <td>6023.0</td>\n",
       "      <td>201.0</td>\n",
       "      <td>750.0</td>\n",
       "      <td>1040.0</td>\n",
       "      <td>81.0</td>\n",
       "    </tr>\n",
       "    <tr>\n",
       "      <th rowspan=\"3\" valign=\"top\">Urbano</th>\n",
       "      <th>Dupla</th>\n",
       "      <td>1047.0</td>\n",
       "      <td>9191.0</td>\n",
       "      <td>169.0</td>\n",
       "      <td>1522.0</td>\n",
       "      <td>2144.0</td>\n",
       "      <td>139.0</td>\n",
       "    </tr>\n",
       "    <tr>\n",
       "      <th>Múltipla</th>\n",
       "      <td>288.0</td>\n",
       "      <td>2283.0</td>\n",
       "      <td>51.0</td>\n",
       "      <td>334.0</td>\n",
       "      <td>698.0</td>\n",
       "      <td>12.0</td>\n",
       "    </tr>\n",
       "    <tr>\n",
       "      <th>Simples</th>\n",
       "      <td>311.0</td>\n",
       "      <td>5171.0</td>\n",
       "      <td>89.0</td>\n",
       "      <td>640.0</td>\n",
       "      <td>1057.0</td>\n",
       "      <td>54.0</td>\n",
       "    </tr>\n",
       "  </tbody>\n",
       "</table>\n",
       "</div>"
      ],
      "text/plain": [
       "condicao_metereologica   Chuva  Céu Claro  Ignorado  Nublado     Sol  Vento\n",
       "uso_solo tipo_pista                                                        \n",
       "Rural    Dupla           264.0     1184.0      25.0    208.0   222.0   11.0\n",
       "         Múltipla         12.0       34.0       NaN     12.0     5.0    NaN\n",
       "         Simples         550.0     6023.0     201.0    750.0  1040.0   81.0\n",
       "Urbano   Dupla          1047.0     9191.0     169.0   1522.0  2144.0  139.0\n",
       "         Múltipla        288.0     2283.0      51.0    334.0   698.0   12.0\n",
       "         Simples         311.0     5171.0      89.0    640.0  1057.0   54.0"
      ]
     },
     "execution_count": 69,
     "metadata": {},
     "output_type": "execute_result"
    }
   ],
   "source": [
    "ocorrencias.groupby(['uso_solo','tipo_pista','condicao_metereologica']).count().iloc[:,0].unstack()"
   ]
  },
  {
   "cell_type": "markdown",
   "metadata": {},
   "source": [
    "[Voltar ao Índice](#%C3%8Dndice)"
   ]
  },
  {
   "cell_type": "markdown",
   "metadata": {},
   "source": [
    "### 4. Transformação"
   ]
  },
  {
   "cell_type": "markdown",
   "metadata": {},
   "source": [
    "O arquivo *acidentes-rn.csv* contém os dados devidamente processados, procedimento realizado na seção de [pré-processamento](#2.-Pr%C3%A9-processamento)."
   ]
  },
  {
   "cell_type": "code",
   "execution_count": 71,
   "metadata": {},
   "outputs": [],
   "source": [
    "# ler arquivo com dados processados\n",
    "acidentes_rn = pd.read_csv('acidentes-rn.csv')"
   ]
  },
  {
   "cell_type": "markdown",
   "metadata": {},
   "source": [
    "Remover categorias que representam desconhecimentos da base de dados."
   ]
  },
  {
   "cell_type": "code",
   "execution_count": 72,
   "metadata": {},
   "outputs": [],
   "source": [
    "# remover registros com classificações ignoradas\n",
    "acidentes_rn = acidentes_rn[acidentes_rn['classificacao_acidente'] != 'Ignorado']\n",
    "\n",
    "# remover registros com condições metereológicas não especificadas\n",
    "acidentes_rn = acidentes_rn[acidentes_rn['condicao_metereologica'] != 'Ignorado']\n",
    "\n",
    "# remover registros de pessoas cujo sexo desconhece\n",
    "acidentes_rn = acidentes_rn[acidentes_rn['sexo'] != 'Ignorado']\n",
    "\n",
    "# remover instâncias de incidentes com classificações desconhecidas\n",
    "acidentes_rn = acidentes_rn[acidentes_rn['causa_acidente']!='Outras']\n",
    "\n",
    "# remover registros de pessoas com idades inválidas\n",
    "acidentes_rn = acidentes_rn[acidentes_rn['idade']!=-1]"
   ]
  },
  {
   "cell_type": "markdown",
   "metadata": {},
   "source": [
    "Realizar discretização dos dados numéricos relativos às idades dos envolvidos."
   ]
  },
  {
   "cell_type": "code",
   "execution_count": 73,
   "metadata": {},
   "outputs": [],
   "source": [
    "# realizar discretização dos dados\n",
    "acidentes_rn.loc[:,'idade'] = pd.cut(acidentes_rn['idade'].astype('int'),6,labels=[\n",
    "                                                     'criança ou adolescente de até 17 anos',\n",
    "                                                     'jovem adulto entre 18 e 35 anos',\n",
    "                                                     'adulto entre 35 e 53 anos',\n",
    "                                                     'pessoa de idade avançada entre 53 a 70 anos',\n",
    "                                                     'idoso entre 70 e 88 anos',\n",
    "                                                     'idoso de idade avançada com mais de 88 anos'])"
   ]
  },
  {
   "cell_type": "markdown",
   "metadata": {},
   "source": [
    "Categorizar dados numéricos que identificam as rodovias."
   ]
  },
  {
   "cell_type": "code",
   "execution_count": 74,
   "metadata": {},
   "outputs": [],
   "source": [
    "# acrescentar os caracteres 'BR' para melhor apresentação dos dados\n",
    "acidentes_rn.loc[:,'br'] = acidentes_rn['br'].map(lambda br: 'BR '+str(br))"
   ]
  },
  {
   "cell_type": "markdown",
   "metadata": {},
   "source": [
    "Exibir primeiros registros após as modificações feitas."
   ]
  },
  {
   "cell_type": "code",
   "execution_count": 75,
   "metadata": {},
   "outputs": [
    {
     "data": {
      "text/html": [
       "<div>\n",
       "<style scoped>\n",
       "    .dataframe tbody tr th:only-of-type {\n",
       "        vertical-align: middle;\n",
       "    }\n",
       "\n",
       "    .dataframe tbody tr th {\n",
       "        vertical-align: top;\n",
       "    }\n",
       "\n",
       "    .dataframe thead th {\n",
       "        text-align: right;\n",
       "    }\n",
       "</style>\n",
       "<table border=\"1\" class=\"dataframe\">\n",
       "  <thead>\n",
       "    <tr style=\"text-align: right;\">\n",
       "      <th></th>\n",
       "      <th>id</th>\n",
       "      <th>ano</th>\n",
       "      <th>mes</th>\n",
       "      <th>dia</th>\n",
       "      <th>br</th>\n",
       "      <th>municipio</th>\n",
       "      <th>causa_acidente</th>\n",
       "      <th>tipo_acidente</th>\n",
       "      <th>classificacao_acidente</th>\n",
       "      <th>fase_dia</th>\n",
       "      <th>condicao_metereologica</th>\n",
       "      <th>tipo_pista</th>\n",
       "      <th>uso_solo</th>\n",
       "      <th>tipo_envolvido</th>\n",
       "      <th>idade</th>\n",
       "      <th>sexo</th>\n",
       "    </tr>\n",
       "  </thead>\n",
       "  <tbody>\n",
       "    <tr>\n",
       "      <th>0</th>\n",
       "      <td>173746</td>\n",
       "      <td>2007</td>\n",
       "      <td>Janeiro</td>\n",
       "      <td>Segunda-feira</td>\n",
       "      <td>BR 101</td>\n",
       "      <td>Extremoz</td>\n",
       "      <td>Falta De Atenção</td>\n",
       "      <td>Saída De Pista</td>\n",
       "      <td>Sem Vítimas</td>\n",
       "      <td>Plena Noite</td>\n",
       "      <td>Céu Claro</td>\n",
       "      <td>Simples</td>\n",
       "      <td>Rural</td>\n",
       "      <td>Condutor</td>\n",
       "      <td>adulto entre 35 e 53 anos</td>\n",
       "      <td>Masculino</td>\n",
       "    </tr>\n",
       "    <tr>\n",
       "      <th>4</th>\n",
       "      <td>173965</td>\n",
       "      <td>2007</td>\n",
       "      <td>Janeiro</td>\n",
       "      <td>Segunda-feira</td>\n",
       "      <td>BR 101</td>\n",
       "      <td>Parnamirim</td>\n",
       "      <td>Ingestão De Álcool E/Ou Substâncias Psicoativas</td>\n",
       "      <td>Colisão Traseira</td>\n",
       "      <td>Sem Vítimas</td>\n",
       "      <td>Pleno Dia</td>\n",
       "      <td>Céu Claro</td>\n",
       "      <td>Dupla</td>\n",
       "      <td>Rural</td>\n",
       "      <td>Condutor</td>\n",
       "      <td>jovem adulto entre 18 e 35 anos</td>\n",
       "      <td>Masculino</td>\n",
       "    </tr>\n",
       "    <tr>\n",
       "      <th>5</th>\n",
       "      <td>173965</td>\n",
       "      <td>2007</td>\n",
       "      <td>Janeiro</td>\n",
       "      <td>Segunda-feira</td>\n",
       "      <td>BR 101</td>\n",
       "      <td>Parnamirim</td>\n",
       "      <td>Ingestão De Álcool E/Ou Substâncias Psicoativas</td>\n",
       "      <td>Colisão Traseira</td>\n",
       "      <td>Sem Vítimas</td>\n",
       "      <td>Pleno Dia</td>\n",
       "      <td>Céu Claro</td>\n",
       "      <td>Dupla</td>\n",
       "      <td>Rural</td>\n",
       "      <td>Condutor</td>\n",
       "      <td>jovem adulto entre 18 e 35 anos</td>\n",
       "      <td>Masculino</td>\n",
       "    </tr>\n",
       "    <tr>\n",
       "      <th>6</th>\n",
       "      <td>173965</td>\n",
       "      <td>2007</td>\n",
       "      <td>Janeiro</td>\n",
       "      <td>Segunda-feira</td>\n",
       "      <td>BR 101</td>\n",
       "      <td>Parnamirim</td>\n",
       "      <td>Ingestão De Álcool E/Ou Substâncias Psicoativas</td>\n",
       "      <td>Colisão Traseira</td>\n",
       "      <td>Sem Vítimas</td>\n",
       "      <td>Pleno Dia</td>\n",
       "      <td>Céu Claro</td>\n",
       "      <td>Dupla</td>\n",
       "      <td>Rural</td>\n",
       "      <td>Condutor</td>\n",
       "      <td>jovem adulto entre 18 e 35 anos</td>\n",
       "      <td>Masculino</td>\n",
       "    </tr>\n",
       "    <tr>\n",
       "      <th>7</th>\n",
       "      <td>173991</td>\n",
       "      <td>2007</td>\n",
       "      <td>Janeiro</td>\n",
       "      <td>Segunda-feira</td>\n",
       "      <td>BR 304</td>\n",
       "      <td>Mossoro</td>\n",
       "      <td>Não Guardar Distância De Segurança</td>\n",
       "      <td>Colisão Traseira</td>\n",
       "      <td>Sem Vítimas</td>\n",
       "      <td>Pleno Dia</td>\n",
       "      <td>Céu Claro</td>\n",
       "      <td>Simples</td>\n",
       "      <td>Urbano</td>\n",
       "      <td>Condutor</td>\n",
       "      <td>adulto entre 35 e 53 anos</td>\n",
       "      <td>Masculino</td>\n",
       "    </tr>\n",
       "  </tbody>\n",
       "</table>\n",
       "</div>"
      ],
      "text/plain": [
       "       id   ano      mes            dia      br   municipio  \\\n",
       "0  173746  2007  Janeiro  Segunda-feira  BR 101    Extremoz   \n",
       "4  173965  2007  Janeiro  Segunda-feira  BR 101  Parnamirim   \n",
       "5  173965  2007  Janeiro  Segunda-feira  BR 101  Parnamirim   \n",
       "6  173965  2007  Janeiro  Segunda-feira  BR 101  Parnamirim   \n",
       "7  173991  2007  Janeiro  Segunda-feira  BR 304     Mossoro   \n",
       "\n",
       "                                    causa_acidente     tipo_acidente  \\\n",
       "0                                 Falta De Atenção    Saída De Pista   \n",
       "4  Ingestão De Álcool E/Ou Substâncias Psicoativas  Colisão Traseira   \n",
       "5  Ingestão De Álcool E/Ou Substâncias Psicoativas  Colisão Traseira   \n",
       "6  Ingestão De Álcool E/Ou Substâncias Psicoativas  Colisão Traseira   \n",
       "7               Não Guardar Distância De Segurança  Colisão Traseira   \n",
       "\n",
       "  classificacao_acidente     fase_dia condicao_metereologica tipo_pista  \\\n",
       "0            Sem Vítimas  Plena Noite              Céu Claro    Simples   \n",
       "4            Sem Vítimas    Pleno Dia              Céu Claro      Dupla   \n",
       "5            Sem Vítimas    Pleno Dia              Céu Claro      Dupla   \n",
       "6            Sem Vítimas    Pleno Dia              Céu Claro      Dupla   \n",
       "7            Sem Vítimas    Pleno Dia              Céu Claro    Simples   \n",
       "\n",
       "  uso_solo tipo_envolvido                            idade       sexo  \n",
       "0    Rural       Condutor        adulto entre 35 e 53 anos  Masculino  \n",
       "4    Rural       Condutor  jovem adulto entre 18 e 35 anos  Masculino  \n",
       "5    Rural       Condutor  jovem adulto entre 18 e 35 anos  Masculino  \n",
       "6    Rural       Condutor  jovem adulto entre 18 e 35 anos  Masculino  \n",
       "7   Urbano       Condutor        adulto entre 35 e 53 anos  Masculino  "
      ]
     },
     "execution_count": 75,
     "metadata": {},
     "output_type": "execute_result"
    }
   ],
   "source": [
    "# exibir primeiros registros\n",
    "acidentes_rn.head()"
   ]
  },
  {
   "cell_type": "markdown",
   "metadata": {},
   "source": [
    "Criar novo banco de dados sem a presença de dados pessoais e remover atributos não mais úteis."
   ]
  },
  {
   "cell_type": "code",
   "execution_count": 76,
   "metadata": {},
   "outputs": [],
   "source": [
    "# selecionar somente atributos não pessoais.\n",
    "ocorrencias = acidentes_rn.drop_duplicates('id').drop(['idade','sexo','tipo_envolvido','id','ano'],axis=1)"
   ]
  },
  {
   "cell_type": "markdown",
   "metadata": {},
   "source": [
    "Criar novo banco de dados com a presença de dados pessoais e remover atributos não mais úteis."
   ]
  },
  {
   "cell_type": "code",
   "execution_count": 77,
   "metadata": {},
   "outputs": [],
   "source": [
    "# criar nova base de dados \n",
    "pessoas = acidentes_rn[['idade','sexo','tipo_envolvido','causa_acidente','classificacao_acidente','tipo_acidente','dia','mes','tipo_pista']]"
   ]
  },
  {
   "cell_type": "markdown",
   "metadata": {},
   "source": [
    "Preparar ferramenta do pacote Mlxtend para alterar a estrutura das bases de dados."
   ]
  },
  {
   "cell_type": "code",
   "execution_count": 78,
   "metadata": {},
   "outputs": [],
   "source": [
    "# instanciar objeto utilizado para alterar a estrutura da base de dados\n",
    "te = mlxtend.preprocessing.TransactionEncoder()"
   ]
  },
  {
   "cell_type": "markdown",
   "metadata": {},
   "source": [
    "Transformar base de dados em um modelo de transações."
   ]
  },
  {
   "cell_type": "code",
   "execution_count": 79,
   "metadata": {},
   "outputs": [],
   "source": [
    "# alterar estrutura da base de dados das ocorrências\n",
    "ocorrencias = te.fit(ocorrencias.values).transform(ocorrencias.values)\n",
    "ocorrencias = pd.DataFrame(ocorrencias, columns=te.columns_)\n",
    "\n",
    "# alterar estrutura da base de dados com dados pessoais\n",
    "pessoas = te.fit(pessoas.values).transform(pessoas.values)\n",
    "pessoas = pd.DataFrame(pessoas, columns=te.columns_)"
   ]
  },
  {
   "cell_type": "markdown",
   "metadata": {},
   "source": [
    "Salvar conjuntos de dados transformados como arquivos .csv"
   ]
  },
  {
   "cell_type": "code",
   "execution_count": 80,
   "metadata": {},
   "outputs": [],
   "source": [
    "# salvar ocorrências\n",
    "ocorrencias.to_csv('transacoes-ocorrencias.csv',index=False)\n",
    "\n",
    "# salvar dados com atributos pessoais\n",
    "pessoas.to_csv('transacoes-pessoas.csv',index=False)"
   ]
  },
  {
   "cell_type": "markdown",
   "metadata": {},
   "source": [
    "[Voltar ao Índice](#%C3%8Dndice)"
   ]
  },
  {
   "cell_type": "markdown",
   "metadata": {},
   "source": [
    "### 5. Mineração de Padrões Frequentes"
   ]
  },
  {
   "cell_type": "markdown",
   "metadata": {},
   "source": [
    "Ler arquivos com dados transformados."
   ]
  },
  {
   "cell_type": "code",
   "execution_count": 81,
   "metadata": {},
   "outputs": [],
   "source": [
    "# dados sem registros pessoais\n",
    "ocorrencias = pd.read_csv('transacoes-ocorrencias.csv')\n",
    "\n",
    "# dados com registros pessoais\n",
    "pessoas = pd.read_csv('transacoes-pessoas.csv')"
   ]
  },
  {
   "cell_type": "markdown",
   "metadata": {},
   "source": [
    "Preparar ferramentas do pacote Mlxtend para mineração."
   ]
  },
  {
   "cell_type": "code",
   "execution_count": 82,
   "metadata": {},
   "outputs": [],
   "source": [
    "# algoritmo apriori\n",
    "apriori = mlxtend.frequent_patterns.apriori;\n",
    "\n",
    "# função para encontrar as regras de associação\n",
    "association_rules = mlxtend.frequent_patterns.association_rules"
   ]
  },
  {
   "cell_type": "markdown",
   "metadata": {},
   "source": [
    "Calcular conjunto de *itemsets* frequentes para o primeiro caso."
   ]
  },
  {
   "cell_type": "code",
   "execution_count": 83,
   "metadata": {},
   "outputs": [],
   "source": [
    "itemsets_frequentes_1 = apriori(ocorrencias, min_support=0.01, use_colnames=True)"
   ]
  },
  {
   "cell_type": "markdown",
   "metadata": {},
   "source": [
    "Determinar grupo de regras com confiança mínima de 90%."
   ]
  },
  {
   "cell_type": "code",
   "execution_count": 84,
   "metadata": {},
   "outputs": [],
   "source": [
    "regras_1 = association_rules(itemsets_frequentes_1,metric='confidence',min_threshold=0.8)"
   ]
  },
  {
   "cell_type": "markdown",
   "metadata": {},
   "source": [
    "Calcular conjunto de *itemsets* frequentes para o segundo caso."
   ]
  },
  {
   "cell_type": "code",
   "execution_count": 85,
   "metadata": {},
   "outputs": [],
   "source": [
    "itemsets_frequentes_2 = apriori(pessoas, min_support=0.01, use_colnames=True)"
   ]
  },
  {
   "cell_type": "markdown",
   "metadata": {},
   "source": [
    "Determinar grupo de regras com confiança mínima de 90%."
   ]
  },
  {
   "cell_type": "code",
   "execution_count": 86,
   "metadata": {},
   "outputs": [],
   "source": [
    "regras_2 = association_rules(itemsets_frequentes_2,metric='confidence',min_threshold=0.8)"
   ]
  },
  {
   "cell_type": "markdown",
   "metadata": {},
   "source": [
    "Transformar e selecionar atributos dos conjuntos de regras."
   ]
  },
  {
   "cell_type": "code",
   "execution_count": 87,
   "metadata": {},
   "outputs": [],
   "source": [
    "# transformar objetos em caracteres\n",
    "regras_1.loc[:,['antecedents','consequents']] = regras_1[['antecedents','consequents']].applymap(','.join)\n",
    "regras_2.loc[:,['antecedents','consequents']] = regras_2[['antecedents','consequents']].applymap(','.join)\n",
    "\n",
    "# selecionar atributos\n",
    "regras_1 = regras_1[['antecedents','consequents','confidence','lift','conviction']]\n",
    "regras_2 = regras_2[['antecedents','consequents','confidence','lift','conviction']]"
   ]
  },
  {
   "cell_type": "markdown",
   "metadata": {},
   "source": [
    "Salvar regras de associação encontradas."
   ]
  },
  {
   "cell_type": "code",
   "execution_count": 88,
   "metadata": {},
   "outputs": [],
   "source": [
    "# salvar regras para a primeira situação (sem dados pessoais)\n",
    "regras_1.to_csv('regras-1.csv',index=False, header=['antecedentes','consequências','confiança','lift','convicção'])\n",
    "\n",
    "# salvar regras para a segunda situação (com dados pessoais)\n",
    "regras_2.to_csv('regras-2.csv',index=False, header=['antecedentes','consequências','confiança','lift','convicção'])"
   ]
  },
  {
   "cell_type": "markdown",
   "metadata": {},
   "source": [
    "[Voltar ao Índice](#%C3%8Dndice)"
   ]
  },
  {
   "cell_type": "markdown",
   "metadata": {},
   "source": [
    "### 6. Exploração dos Resultados da Mineração"
   ]
  },
  {
   "cell_type": "markdown",
   "metadata": {},
   "source": [
    "Ler regras de associação encontradas na etapa anterior."
   ]
  },
  {
   "cell_type": "code",
   "execution_count": 89,
   "metadata": {},
   "outputs": [],
   "source": [
    "# regras para as ocorrências\n",
    "regras_1 = pd.read_csv('regras-1.csv')\n",
    "\n",
    "# regras para os registros pessoais\n",
    "regras_2 = pd.read_csv('regras-2.csv')"
   ]
  },
  {
   "cell_type": "markdown",
   "metadata": {},
   "source": [
    "Melhorar a visualização dos valores."
   ]
  },
  {
   "cell_type": "code",
   "execution_count": 90,
   "metadata": {},
   "outputs": [],
   "source": [
    "# configurar visualização das colunas\n",
    "pd.set_option('max_colwidth',100)"
   ]
  },
  {
   "cell_type": "markdown",
   "metadata": {},
   "source": [
    "Explorar regras de associação encontradas para o primeiro caso."
   ]
  },
  {
   "cell_type": "code",
   "execution_count": 91,
   "metadata": {},
   "outputs": [
    {
     "data": {
      "text/plain": [
       "(17655, 5)"
      ]
     },
     "execution_count": 91,
     "metadata": {},
     "output_type": "execute_result"
    }
   ],
   "source": [
    "regras_1.shape"
   ]
  },
  {
   "cell_type": "code",
   "execution_count": 92,
   "metadata": {},
   "outputs": [
    {
     "data": {
      "text/html": [
       "<div>\n",
       "<style scoped>\n",
       "    .dataframe tbody tr th:only-of-type {\n",
       "        vertical-align: middle;\n",
       "    }\n",
       "\n",
       "    .dataframe tbody tr th {\n",
       "        vertical-align: top;\n",
       "    }\n",
       "\n",
       "    .dataframe thead th {\n",
       "        text-align: right;\n",
       "    }\n",
       "</style>\n",
       "<table border=\"1\" class=\"dataframe\">\n",
       "  <thead>\n",
       "    <tr style=\"text-align: right;\">\n",
       "      <th></th>\n",
       "      <th>antecedentes</th>\n",
       "      <th>consequências</th>\n",
       "      <th>confiança</th>\n",
       "      <th>lift</th>\n",
       "      <th>convicção</th>\n",
       "    </tr>\n",
       "  </thead>\n",
       "  <tbody>\n",
       "    <tr>\n",
       "      <th>3922</th>\n",
       "      <td>Múltipla,Sem Vítimas,Natal</td>\n",
       "      <td>Urbano</td>\n",
       "      <td>0.999361</td>\n",
       "      <td>1.353533</td>\n",
       "      <td>409.244167</td>\n",
       "    </tr>\n",
       "    <tr>\n",
       "      <th>2066</th>\n",
       "      <td>Múltipla,Pleno Dia,Natal</td>\n",
       "      <td>BR 101</td>\n",
       "      <td>0.999194</td>\n",
       "      <td>1.785029</td>\n",
       "      <td>546.333493</td>\n",
       "    </tr>\n",
       "    <tr>\n",
       "      <th>12632</th>\n",
       "      <td>Múltipla,Sem Vítimas,Céu Claro,Natal</td>\n",
       "      <td>Urbano,BR 101</td>\n",
       "      <td>0.998995</td>\n",
       "      <td>2.004235</td>\n",
       "      <td>499.050216</td>\n",
       "    </tr>\n",
       "    <tr>\n",
       "      <th>1051</th>\n",
       "      <td>Simples,Atropelamento De Animal,Sem Vítimas</td>\n",
       "      <td>Animais Na Pista</td>\n",
       "      <td>0.998469</td>\n",
       "      <td>15.909399</td>\n",
       "      <td>612.017937</td>\n",
       "    </tr>\n",
       "    <tr>\n",
       "      <th>2496</th>\n",
       "      <td>BR 226,Rural,Plena Noite</td>\n",
       "      <td>Simples</td>\n",
       "      <td>0.996885</td>\n",
       "      <td>2.345964</td>\n",
       "      <td>184.595518</td>\n",
       "    </tr>\n",
       "    <tr>\n",
       "      <th>3</th>\n",
       "      <td>Assu</td>\n",
       "      <td>BR 304</td>\n",
       "      <td>0.996633</td>\n",
       "      <td>4.850810</td>\n",
       "      <td>235.979267</td>\n",
       "    </tr>\n",
       "    <tr>\n",
       "      <th>3894</th>\n",
       "      <td>Sol,Março,Urbano</td>\n",
       "      <td>Pleno Dia</td>\n",
       "      <td>0.996063</td>\n",
       "      <td>1.635516</td>\n",
       "      <td>99.308805</td>\n",
       "    </tr>\n",
       "    <tr>\n",
       "      <th>16064</th>\n",
       "      <td>BR 101,Natal,Sol,Falta De Atenção,Colisão Traseira</td>\n",
       "      <td>Urbano,Pleno Dia</td>\n",
       "      <td>0.989717</td>\n",
       "      <td>2.106326</td>\n",
       "      <td>51.554310</td>\n",
       "    </tr>\n",
       "    <tr>\n",
       "      <th>1124</th>\n",
       "      <td>Assu,Rural</td>\n",
       "      <td>Simples,BR 304</td>\n",
       "      <td>0.988281</td>\n",
       "      <td>6.267711</td>\n",
       "      <td>71.878129</td>\n",
       "    </tr>\n",
       "    <tr>\n",
       "      <th>7757</th>\n",
       "      <td>Urbano,BR 110,Colisão Traseira,Sem Vítimas</td>\n",
       "      <td>Mossoro</td>\n",
       "      <td>0.984436</td>\n",
       "      <td>5.998636</td>\n",
       "      <td>53.705936</td>\n",
       "    </tr>\n",
       "    <tr>\n",
       "      <th>13626</th>\n",
       "      <td>Sol,Múltipla,Natal</td>\n",
       "      <td>Urbano,BR 101,Pleno Dia</td>\n",
       "      <td>0.983957</td>\n",
       "      <td>2.993488</td>\n",
       "      <td>41.844412</td>\n",
       "    </tr>\n",
       "    <tr>\n",
       "      <th>7273</th>\n",
       "      <td>Sol,Múltipla,Natal</td>\n",
       "      <td>BR 101,Pleno Dia</td>\n",
       "      <td>0.983957</td>\n",
       "      <td>2.703668</td>\n",
       "      <td>39.648104</td>\n",
       "    </tr>\n",
       "    <tr>\n",
       "      <th>10026</th>\n",
       "      <td>Atropelamento De Animal,Rural,Sem Vítimas,BR 304</td>\n",
       "      <td>Simples,Animais Na Pista</td>\n",
       "      <td>0.974453</td>\n",
       "      <td>19.252168</td>\n",
       "      <td>37.161633</td>\n",
       "    </tr>\n",
       "    <tr>\n",
       "      <th>2450</th>\n",
       "      <td>Dupla,BR 110</td>\n",
       "      <td>Mossoro,Urbano</td>\n",
       "      <td>0.957265</td>\n",
       "      <td>7.744750</td>\n",
       "      <td>20.507718</td>\n",
       "    </tr>\n",
       "    <tr>\n",
       "      <th>413</th>\n",
       "      <td>Caico</td>\n",
       "      <td>BR 427,Simples</td>\n",
       "      <td>0.957096</td>\n",
       "      <td>39.275442</td>\n",
       "      <td>22.739712</td>\n",
       "    </tr>\n",
       "    <tr>\n",
       "      <th>7943</th>\n",
       "      <td>Urbano,Sem Vítimas,Chuva,Não Guardar Distância De Segurança</td>\n",
       "      <td>Colisão Traseira</td>\n",
       "      <td>0.953737</td>\n",
       "      <td>2.298001</td>\n",
       "      <td>12.644378</td>\n",
       "    </tr>\n",
       "    <tr>\n",
       "      <th>3487</th>\n",
       "      <td>Simples,Outubro,Plena Noite</td>\n",
       "      <td>Céu Claro</td>\n",
       "      <td>0.946372</td>\n",
       "      <td>1.396710</td>\n",
       "      <td>6.012321</td>\n",
       "    </tr>\n",
       "    <tr>\n",
       "      <th>575</th>\n",
       "      <td>Urbano,Queda De Ocupante De Veículo</td>\n",
       "      <td>Com Vítimas Feridas</td>\n",
       "      <td>0.927536</td>\n",
       "      <td>2.510606</td>\n",
       "      <td>8.701630</td>\n",
       "    </tr>\n",
       "    <tr>\n",
       "      <th>14054</th>\n",
       "      <td>Natal,Sexta-feira,Céu Claro,Falta De Atenção,Colisão Traseira</td>\n",
       "      <td>Sem Vítimas</td>\n",
       "      <td>0.916968</td>\n",
       "      <td>1.533814</td>\n",
       "      <td>4.843468</td>\n",
       "    </tr>\n",
       "    <tr>\n",
       "      <th>4106</th>\n",
       "      <td>Simples,Pleno Dia,Saída De Pista</td>\n",
       "      <td>Rural</td>\n",
       "      <td>0.909385</td>\n",
       "      <td>3.475378</td>\n",
       "      <td>8.148053</td>\n",
       "    </tr>\n",
       "    <tr>\n",
       "      <th>16219</th>\n",
       "      <td>BR 101,Natal,Não Guardar Distância De Segurança,Plena Noite,Sem Vítimas</td>\n",
       "      <td>Urbano,Colisão Traseira</td>\n",
       "      <td>0.908616</td>\n",
       "      <td>2.574653</td>\n",
       "      <td>7.081032</td>\n",
       "    </tr>\n",
       "    <tr>\n",
       "      <th>17043</th>\n",
       "      <td>Natal,Múltipla,Céu Claro,Falta De Atenção,Colisão Traseira</td>\n",
       "      <td>Urbano,Sem Vítimas</td>\n",
       "      <td>0.906977</td>\n",
       "      <td>1.926306</td>\n",
       "      <td>5.688499</td>\n",
       "    </tr>\n",
       "    <tr>\n",
       "      <th>17358</th>\n",
       "      <td>Natal,Múltipla,Céu Claro,Falta De Atenção,Colisão Traseira</td>\n",
       "      <td>Urbano,BR 101,Sem Vítimas</td>\n",
       "      <td>0.904651</td>\n",
       "      <td>2.478410</td>\n",
       "      <td>6.659622</td>\n",
       "    </tr>\n",
       "    <tr>\n",
       "      <th>15258</th>\n",
       "      <td>Natal,Múltipla,Céu Claro,Falta De Atenção,Colisão Traseira</td>\n",
       "      <td>BR 101,Sem Vítimas</td>\n",
       "      <td>0.904651</td>\n",
       "      <td>2.280716</td>\n",
       "      <td>6.327793</td>\n",
       "    </tr>\n",
       "    <tr>\n",
       "      <th>10044</th>\n",
       "      <td>Simples,Animais Na Pista,Sem Vítimas,Plena Noite,Céu Claro</td>\n",
       "      <td>Atropelamento De Animal</td>\n",
       "      <td>0.895089</td>\n",
       "      <td>17.518276</td>\n",
       "      <td>9.044886</td>\n",
       "    </tr>\n",
       "    <tr>\n",
       "      <th>16224</th>\n",
       "      <td>Sem Vítimas,Natal,Plena Noite,Não Guardar Distância De Segurança</td>\n",
       "      <td>Urbano,BR 101,Colisão Traseira</td>\n",
       "      <td>0.892308</td>\n",
       "      <td>3.181348</td>\n",
       "      <td>6.681248</td>\n",
       "    </tr>\n",
       "    <tr>\n",
       "      <th>11706</th>\n",
       "      <td>Sem Vítimas,Natal,Plena Noite,Não Guardar Distância De Segurança</td>\n",
       "      <td>BR 101,Colisão Traseira</td>\n",
       "      <td>0.892308</td>\n",
       "      <td>2.999362</td>\n",
       "      <td>6.523222</td>\n",
       "    </tr>\n",
       "    <tr>\n",
       "      <th>17161</th>\n",
       "      <td>Natal,Não Guardar Distância De Segurança,Sol,Urbano,Colisão Traseira</td>\n",
       "      <td>Pleno Dia,Sem Vítimas</td>\n",
       "      <td>0.886926</td>\n",
       "      <td>2.281057</td>\n",
       "      <td>5.405103</td>\n",
       "    </tr>\n",
       "    <tr>\n",
       "      <th>5876</th>\n",
       "      <td>Sao Goncalo Do Amarante,Urbano,BR 101,Com Vítimas Feridas</td>\n",
       "      <td>Dupla</td>\n",
       "      <td>0.884507</td>\n",
       "      <td>1.908212</td>\n",
       "      <td>4.645074</td>\n",
       "    </tr>\n",
       "    <tr>\n",
       "      <th>10017</th>\n",
       "      <td>Simples,Atropelamento De Animal,Plena Noite,BR 304</td>\n",
       "      <td>Animais Na Pista,Rural</td>\n",
       "      <td>0.882716</td>\n",
       "      <td>19.365599</td>\n",
       "      <td>8.137672</td>\n",
       "    </tr>\n",
       "    <tr>\n",
       "      <th>17567</th>\n",
       "      <td>BR 101,Natal,Sol,Falta De Atenção,Colisão Traseira</td>\n",
       "      <td>Urbano,Pleno Dia,Sem Vítimas</td>\n",
       "      <td>0.881748</td>\n",
       "      <td>2.769027</td>\n",
       "      <td>5.763691</td>\n",
       "    </tr>\n",
       "    <tr>\n",
       "      <th>11163</th>\n",
       "      <td>Sao Goncalo Do Amarante,BR 101,Colisão Traseira,Não Guardar Distância De Segurança</td>\n",
       "      <td>Dupla,Urbano</td>\n",
       "      <td>0.869565</td>\n",
       "      <td>2.075613</td>\n",
       "      <td>4.454765</td>\n",
       "    </tr>\n",
       "    <tr>\n",
       "      <th>9996</th>\n",
       "      <td>Simples,Atropelamento De Animal,Plena Noite,BR 304</td>\n",
       "      <td>Animais Na Pista,Céu Claro</td>\n",
       "      <td>0.867284</td>\n",
       "      <td>17.437632</td>\n",
       "      <td>7.160126</td>\n",
       "    </tr>\n",
       "    <tr>\n",
       "      <th>7929</th>\n",
       "      <td>Sol,Rural,BR 304</td>\n",
       "      <td>Simples,Pleno Dia</td>\n",
       "      <td>0.863402</td>\n",
       "      <td>3.626897</td>\n",
       "      <td>5.578010</td>\n",
       "    </tr>\n",
       "    <tr>\n",
       "      <th>123</th>\n",
       "      <td>Assu</td>\n",
       "      <td>Rural,BR 304</td>\n",
       "      <td>0.861953</td>\n",
       "      <td>8.514761</td>\n",
       "      <td>6.510599</td>\n",
       "    </tr>\n",
       "    <tr>\n",
       "      <th>1125</th>\n",
       "      <td>Assu,BR 304</td>\n",
       "      <td>Simples,Rural</td>\n",
       "      <td>0.854730</td>\n",
       "      <td>3.965084</td>\n",
       "      <td>5.399838</td>\n",
       "    </tr>\n",
       "    <tr>\n",
       "      <th>8904</th>\n",
       "      <td>Sol,Sem Vítimas,Não Guardar Distância De Segurança</td>\n",
       "      <td>Pleno Dia,Colisão Traseira</td>\n",
       "      <td>0.854467</td>\n",
       "      <td>3.040372</td>\n",
       "      <td>4.940179</td>\n",
       "    </tr>\n",
       "    <tr>\n",
       "      <th>1126</th>\n",
       "      <td>Assu</td>\n",
       "      <td>Simples,Rural,BR 304</td>\n",
       "      <td>0.851852</td>\n",
       "      <td>9.447743</td>\n",
       "      <td>6.141389</td>\n",
       "    </tr>\n",
       "    <tr>\n",
       "      <th>17568</th>\n",
       "      <td>Natal,Sol,Urbano,Falta De Atenção,Colisão Traseira</td>\n",
       "      <td>BR 101,Pleno Dia,Sem Vítimas</td>\n",
       "      <td>0.849010</td>\n",
       "      <td>3.157863</td>\n",
       "      <td>4.842332</td>\n",
       "    </tr>\n",
       "    <tr>\n",
       "      <th>17388</th>\n",
       "      <td>BR 101,Céu Claro,Urbano,Múltipla,Plena Noite,Sem Vítimas,Colisão Traseira</td>\n",
       "      <td>Natal</td>\n",
       "      <td>0.848185</td>\n",
       "      <td>2.872262</td>\n",
       "      <td>4.641815</td>\n",
       "    </tr>\n",
       "    <tr>\n",
       "      <th>17571</th>\n",
       "      <td>Sol,Colisão Traseira,Falta De Atenção,Natal</td>\n",
       "      <td>Urbano,BR 101,Pleno Dia,Sem Vítimas</td>\n",
       "      <td>0.846914</td>\n",
       "      <td>3.393076</td>\n",
       "      <td>4.901803</td>\n",
       "    </tr>\n",
       "    <tr>\n",
       "      <th>17391</th>\n",
       "      <td>BR 101,Múltipla,Sem Vítimas,Plena Noite,Céu Claro,Colisão Traseira</td>\n",
       "      <td>Urbano,Natal</td>\n",
       "      <td>0.845395</td>\n",
       "      <td>2.926151</td>\n",
       "      <td>4.599389</td>\n",
       "    </tr>\n",
       "    <tr>\n",
       "      <th>13862</th>\n",
       "      <td>Pleno Dia,Sem Vítimas,BR 304,Não Guardar Distância De Segurança</td>\n",
       "      <td>Simples,Colisão Traseira</td>\n",
       "      <td>0.842391</td>\n",
       "      <td>7.095134</td>\n",
       "      <td>5.591519</td>\n",
       "    </tr>\n",
       "    <tr>\n",
       "      <th>10027</th>\n",
       "      <td>Animais Na Pista,Rural,Sem Vítimas,BR 304</td>\n",
       "      <td>Simples,Atropelamento De Animal</td>\n",
       "      <td>0.842271</td>\n",
       "      <td>20.233911</td>\n",
       "      <td>6.076087</td>\n",
       "    </tr>\n",
       "    <tr>\n",
       "      <th>17394</th>\n",
       "      <td>Urbano,Múltipla,Sem Vítimas,Plena Noite,Céu Claro,Colisão Traseira</td>\n",
       "      <td>BR 101,Natal</td>\n",
       "      <td>0.839869</td>\n",
       "      <td>3.066454</td>\n",
       "      <td>4.534486</td>\n",
       "    </tr>\n",
       "    <tr>\n",
       "      <th>2608</th>\n",
       "      <td>BR 427,Com Vítimas Feridas</td>\n",
       "      <td>Simples,Céu Claro</td>\n",
       "      <td>0.838798</td>\n",
       "      <td>2.763826</td>\n",
       "      <td>4.320714</td>\n",
       "    </tr>\n",
       "    <tr>\n",
       "      <th>17396</th>\n",
       "      <td>Múltipla,Sem Vítimas,Plena Noite,Céu Claro,Colisão Traseira</td>\n",
       "      <td>Urbano,BR 101,Natal</td>\n",
       "      <td>0.837134</td>\n",
       "      <td>3.112302</td>\n",
       "      <td>4.488489</td>\n",
       "    </tr>\n",
       "    <tr>\n",
       "      <th>17165</th>\n",
       "      <td>Sol,Sem Vítimas,Natal,Não Guardar Distância De Segurança</td>\n",
       "      <td>Urbano,Pleno Dia,Colisão Traseira</td>\n",
       "      <td>0.836667</td>\n",
       "      <td>3.474936</td>\n",
       "      <td>4.648336</td>\n",
       "    </tr>\n",
       "    <tr>\n",
       "      <th>11324</th>\n",
       "      <td>Sao Goncalo Do Amarante,Urbano,Colisão Traseira,Sem Vítimas</td>\n",
       "      <td>Dupla,BR 101</td>\n",
       "      <td>0.832461</td>\n",
       "      <td>2.180864</td>\n",
       "      <td>3.690410</td>\n",
       "    </tr>\n",
       "    <tr>\n",
       "      <th>9146</th>\n",
       "      <td>Mossoro,Dupla,Plena Noite</td>\n",
       "      <td>Urbano,Céu Claro</td>\n",
       "      <td>0.822581</td>\n",
       "      <td>1.671063</td>\n",
       "      <td>2.861864</td>\n",
       "    </tr>\n",
       "    <tr>\n",
       "      <th>7946</th>\n",
       "      <td>Urbano,Chuva,Não Guardar Distância De Segurança</td>\n",
       "      <td>Colisão Traseira,Sem Vítimas</td>\n",
       "      <td>0.822086</td>\n",
       "      <td>2.549362</td>\n",
       "      <td>3.808201</td>\n",
       "    </tr>\n",
       "    <tr>\n",
       "      <th>2625</th>\n",
       "      <td>Chuva,Não Guardar Distância De Segurança</td>\n",
       "      <td>Sem Vítimas,Colisão Traseira</td>\n",
       "      <td>0.813008</td>\n",
       "      <td>2.521212</td>\n",
       "      <td>3.623327</td>\n",
       "    </tr>\n",
       "    <tr>\n",
       "      <th>10028</th>\n",
       "      <td>Atropelamento De Animal,Sem Vítimas,BR 304</td>\n",
       "      <td>Simples,Animais Na Pista,Rural</td>\n",
       "      <td>0.811550</td>\n",
       "      <td>19.955524</td>\n",
       "      <td>5.090649</td>\n",
       "    </tr>\n",
       "    <tr>\n",
       "      <th>4520</th>\n",
       "      <td>Atropelamento De Animal,Rural,Céu Claro,BR 304</td>\n",
       "      <td>Plena Noite</td>\n",
       "      <td>0.811502</td>\n",
       "      <td>2.697319</td>\n",
       "      <td>3.709024</td>\n",
       "    </tr>\n",
       "    <tr>\n",
       "      <th>9991</th>\n",
       "      <td>Atropelamento De Animal,Rural,Céu Claro,BR 304</td>\n",
       "      <td>Animais Na Pista,Plena Noite</td>\n",
       "      <td>0.808307</td>\n",
       "      <td>18.945256</td>\n",
       "      <td>4.994096</td>\n",
       "    </tr>\n",
       "    <tr>\n",
       "      <th>1161</th>\n",
       "      <td>BR 101,Atropelamento De Pessoa</td>\n",
       "      <td>Urbano,Com Vítimas Feridas</td>\n",
       "      <td>0.801153</td>\n",
       "      <td>3.144810</td>\n",
       "      <td>3.747832</td>\n",
       "    </tr>\n",
       "  </tbody>\n",
       "</table>\n",
       "</div>"
      ],
      "text/plain": [
       "                                                                             antecedentes  \\\n",
       "3922                                                           Múltipla,Sem Vítimas,Natal   \n",
       "2066                                                             Múltipla,Pleno Dia,Natal   \n",
       "12632                                                Múltipla,Sem Vítimas,Céu Claro,Natal   \n",
       "1051                                          Simples,Atropelamento De Animal,Sem Vítimas   \n",
       "2496                                                             BR 226,Rural,Plena Noite   \n",
       "3                                                                                    Assu   \n",
       "3894                                                                     Sol,Março,Urbano   \n",
       "16064                                  BR 101,Natal,Sol,Falta De Atenção,Colisão Traseira   \n",
       "1124                                                                           Assu,Rural   \n",
       "7757                                           Urbano,BR 110,Colisão Traseira,Sem Vítimas   \n",
       "13626                                                                  Sol,Múltipla,Natal   \n",
       "7273                                                                   Sol,Múltipla,Natal   \n",
       "10026                                    Atropelamento De Animal,Rural,Sem Vítimas,BR 304   \n",
       "2450                                                                         Dupla,BR 110   \n",
       "413                                                                                 Caico   \n",
       "7943                          Urbano,Sem Vítimas,Chuva,Não Guardar Distância De Segurança   \n",
       "3487                                                          Simples,Outubro,Plena Noite   \n",
       "575                                                   Urbano,Queda De Ocupante De Veículo   \n",
       "14054                       Natal,Sexta-feira,Céu Claro,Falta De Atenção,Colisão Traseira   \n",
       "4106                                                     Simples,Pleno Dia,Saída De Pista   \n",
       "16219             BR 101,Natal,Não Guardar Distância De Segurança,Plena Noite,Sem Vítimas   \n",
       "17043                          Natal,Múltipla,Céu Claro,Falta De Atenção,Colisão Traseira   \n",
       "17358                          Natal,Múltipla,Céu Claro,Falta De Atenção,Colisão Traseira   \n",
       "15258                          Natal,Múltipla,Céu Claro,Falta De Atenção,Colisão Traseira   \n",
       "10044                          Simples,Animais Na Pista,Sem Vítimas,Plena Noite,Céu Claro   \n",
       "16224                    Sem Vítimas,Natal,Plena Noite,Não Guardar Distância De Segurança   \n",
       "11706                    Sem Vítimas,Natal,Plena Noite,Não Guardar Distância De Segurança   \n",
       "17161                Natal,Não Guardar Distância De Segurança,Sol,Urbano,Colisão Traseira   \n",
       "5876                            Sao Goncalo Do Amarante,Urbano,BR 101,Com Vítimas Feridas   \n",
       "10017                                  Simples,Atropelamento De Animal,Plena Noite,BR 304   \n",
       "17567                                  BR 101,Natal,Sol,Falta De Atenção,Colisão Traseira   \n",
       "11163  Sao Goncalo Do Amarante,BR 101,Colisão Traseira,Não Guardar Distância De Segurança   \n",
       "9996                                   Simples,Atropelamento De Animal,Plena Noite,BR 304   \n",
       "7929                                                                     Sol,Rural,BR 304   \n",
       "123                                                                                  Assu   \n",
       "1125                                                                          Assu,BR 304   \n",
       "8904                                   Sol,Sem Vítimas,Não Guardar Distância De Segurança   \n",
       "1126                                                                                 Assu   \n",
       "17568                                  Natal,Sol,Urbano,Falta De Atenção,Colisão Traseira   \n",
       "17388           BR 101,Céu Claro,Urbano,Múltipla,Plena Noite,Sem Vítimas,Colisão Traseira   \n",
       "17571                                         Sol,Colisão Traseira,Falta De Atenção,Natal   \n",
       "17391                  BR 101,Múltipla,Sem Vítimas,Plena Noite,Céu Claro,Colisão Traseira   \n",
       "13862                     Pleno Dia,Sem Vítimas,BR 304,Não Guardar Distância De Segurança   \n",
       "10027                                           Animais Na Pista,Rural,Sem Vítimas,BR 304   \n",
       "17394                  Urbano,Múltipla,Sem Vítimas,Plena Noite,Céu Claro,Colisão Traseira   \n",
       "2608                                                           BR 427,Com Vítimas Feridas   \n",
       "17396                         Múltipla,Sem Vítimas,Plena Noite,Céu Claro,Colisão Traseira   \n",
       "17165                            Sol,Sem Vítimas,Natal,Não Guardar Distância De Segurança   \n",
       "11324                         Sao Goncalo Do Amarante,Urbano,Colisão Traseira,Sem Vítimas   \n",
       "9146                                                            Mossoro,Dupla,Plena Noite   \n",
       "7946                                      Urbano,Chuva,Não Guardar Distância De Segurança   \n",
       "2625                                             Chuva,Não Guardar Distância De Segurança   \n",
       "10028                                          Atropelamento De Animal,Sem Vítimas,BR 304   \n",
       "4520                                       Atropelamento De Animal,Rural,Céu Claro,BR 304   \n",
       "9991                                       Atropelamento De Animal,Rural,Céu Claro,BR 304   \n",
       "1161                                                       BR 101,Atropelamento De Pessoa   \n",
       "\n",
       "                             consequências  confiança       lift   convicção  \n",
       "3922                                Urbano   0.999361   1.353533  409.244167  \n",
       "2066                                BR 101   0.999194   1.785029  546.333493  \n",
       "12632                        Urbano,BR 101   0.998995   2.004235  499.050216  \n",
       "1051                      Animais Na Pista   0.998469  15.909399  612.017937  \n",
       "2496                               Simples   0.996885   2.345964  184.595518  \n",
       "3                                   BR 304   0.996633   4.850810  235.979267  \n",
       "3894                             Pleno Dia   0.996063   1.635516   99.308805  \n",
       "16064                     Urbano,Pleno Dia   0.989717   2.106326   51.554310  \n",
       "1124                        Simples,BR 304   0.988281   6.267711   71.878129  \n",
       "7757                               Mossoro   0.984436   5.998636   53.705936  \n",
       "13626              Urbano,BR 101,Pleno Dia   0.983957   2.993488   41.844412  \n",
       "7273                      BR 101,Pleno Dia   0.983957   2.703668   39.648104  \n",
       "10026             Simples,Animais Na Pista   0.974453  19.252168   37.161633  \n",
       "2450                        Mossoro,Urbano   0.957265   7.744750   20.507718  \n",
       "413                         BR 427,Simples   0.957096  39.275442   22.739712  \n",
       "7943                      Colisão Traseira   0.953737   2.298001   12.644378  \n",
       "3487                             Céu Claro   0.946372   1.396710    6.012321  \n",
       "575                    Com Vítimas Feridas   0.927536   2.510606    8.701630  \n",
       "14054                          Sem Vítimas   0.916968   1.533814    4.843468  \n",
       "4106                                 Rural   0.909385   3.475378    8.148053  \n",
       "16219              Urbano,Colisão Traseira   0.908616   2.574653    7.081032  \n",
       "17043                   Urbano,Sem Vítimas   0.906977   1.926306    5.688499  \n",
       "17358            Urbano,BR 101,Sem Vítimas   0.904651   2.478410    6.659622  \n",
       "15258                   BR 101,Sem Vítimas   0.904651   2.280716    6.327793  \n",
       "10044              Atropelamento De Animal   0.895089  17.518276    9.044886  \n",
       "16224       Urbano,BR 101,Colisão Traseira   0.892308   3.181348    6.681248  \n",
       "11706              BR 101,Colisão Traseira   0.892308   2.999362    6.523222  \n",
       "17161                Pleno Dia,Sem Vítimas   0.886926   2.281057    5.405103  \n",
       "5876                                 Dupla   0.884507   1.908212    4.645074  \n",
       "10017               Animais Na Pista,Rural   0.882716  19.365599    8.137672  \n",
       "17567         Urbano,Pleno Dia,Sem Vítimas   0.881748   2.769027    5.763691  \n",
       "11163                         Dupla,Urbano   0.869565   2.075613    4.454765  \n",
       "9996            Animais Na Pista,Céu Claro   0.867284  17.437632    7.160126  \n",
       "7929                     Simples,Pleno Dia   0.863402   3.626897    5.578010  \n",
       "123                           Rural,BR 304   0.861953   8.514761    6.510599  \n",
       "1125                         Simples,Rural   0.854730   3.965084    5.399838  \n",
       "8904            Pleno Dia,Colisão Traseira   0.854467   3.040372    4.940179  \n",
       "1126                  Simples,Rural,BR 304   0.851852   9.447743    6.141389  \n",
       "17568         BR 101,Pleno Dia,Sem Vítimas   0.849010   3.157863    4.842332  \n",
       "17388                                Natal   0.848185   2.872262    4.641815  \n",
       "17571  Urbano,BR 101,Pleno Dia,Sem Vítimas   0.846914   3.393076    4.901803  \n",
       "17391                         Urbano,Natal   0.845395   2.926151    4.599389  \n",
       "13862             Simples,Colisão Traseira   0.842391   7.095134    5.591519  \n",
       "10027      Simples,Atropelamento De Animal   0.842271  20.233911    6.076087  \n",
       "17394                         BR 101,Natal   0.839869   3.066454    4.534486  \n",
       "2608                     Simples,Céu Claro   0.838798   2.763826    4.320714  \n",
       "17396                  Urbano,BR 101,Natal   0.837134   3.112302    4.488489  \n",
       "17165    Urbano,Pleno Dia,Colisão Traseira   0.836667   3.474936    4.648336  \n",
       "11324                         Dupla,BR 101   0.832461   2.180864    3.690410  \n",
       "9146                      Urbano,Céu Claro   0.822581   1.671063    2.861864  \n",
       "7946          Colisão Traseira,Sem Vítimas   0.822086   2.549362    3.808201  \n",
       "2625          Sem Vítimas,Colisão Traseira   0.813008   2.521212    3.623327  \n",
       "10028       Simples,Animais Na Pista,Rural   0.811550  19.955524    5.090649  \n",
       "4520                           Plena Noite   0.811502   2.697319    3.709024  \n",
       "9991          Animais Na Pista,Plena Noite   0.808307  18.945256    4.994096  \n",
       "1161            Urbano,Com Vítimas Feridas   0.801153   3.144810    3.747832  "
      ]
     },
     "execution_count": 92,
     "metadata": {},
     "output_type": "execute_result"
    }
   ],
   "source": [
    "regras_1[regras_1['confiança']<1].sort_values(by=['confiança','lift','convicção'],ascending=False).drop_duplicates('consequências').head(62)"
   ]
  },
  {
   "cell_type": "code",
   "execution_count": 93,
   "metadata": {},
   "outputs": [
    {
     "data": {
      "text/html": [
       "<div>\n",
       "<style scoped>\n",
       "    .dataframe tbody tr th:only-of-type {\n",
       "        vertical-align: middle;\n",
       "    }\n",
       "\n",
       "    .dataframe tbody tr th {\n",
       "        vertical-align: top;\n",
       "    }\n",
       "\n",
       "    .dataframe thead th {\n",
       "        text-align: right;\n",
       "    }\n",
       "</style>\n",
       "<table border=\"1\" class=\"dataframe\">\n",
       "  <thead>\n",
       "    <tr style=\"text-align: right;\">\n",
       "      <th></th>\n",
       "      <th>antecedentes</th>\n",
       "      <th>consequências</th>\n",
       "      <th>confiança</th>\n",
       "      <th>lift</th>\n",
       "      <th>convicção</th>\n",
       "    </tr>\n",
       "  </thead>\n",
       "  <tbody>\n",
       "    <tr>\n",
       "      <th>3823</th>\n",
       "      <td>Falta De Atenção,Sexta-feira,Plena Noite</td>\n",
       "      <td>Urbano</td>\n",
       "      <td>0.800000</td>\n",
       "      <td>1.083519</td>\n",
       "      <td>1.308325</td>\n",
       "    </tr>\n",
       "    <tr>\n",
       "      <th>3109</th>\n",
       "      <td>Colisão Traseira,Nublado,Não Guardar Distância De Segurança</td>\n",
       "      <td>Sem Vítimas</td>\n",
       "      <td>0.800000</td>\n",
       "      <td>1.338162</td>\n",
       "      <td>2.010826</td>\n",
       "    </tr>\n",
       "    <tr>\n",
       "      <th>10381</th>\n",
       "      <td>Urbano,Dezembro,Céu Claro,Pleno Dia,Colisão Traseira</td>\n",
       "      <td>BR 101</td>\n",
       "      <td>0.800000</td>\n",
       "      <td>1.429175</td>\n",
       "      <td>2.201182</td>\n",
       "    </tr>\n",
       "    <tr>\n",
       "      <th>9664</th>\n",
       "      <td>Falta De Atenção,Quarta-feira,Natal</td>\n",
       "      <td>Urbano,Sem Vítimas</td>\n",
       "      <td>0.800000</td>\n",
       "      <td>1.699101</td>\n",
       "      <td>2.645813</td>\n",
       "    </tr>\n",
       "    <tr>\n",
       "      <th>6874</th>\n",
       "      <td>Sol,Parnamirim,BR 101,Urbano</td>\n",
       "      <td>Dupla</td>\n",
       "      <td>0.800000</td>\n",
       "      <td>1.725898</td>\n",
       "      <td>2.682367</td>\n",
       "    </tr>\n",
       "    <tr>\n",
       "      <th>13292</th>\n",
       "      <td>Parnamirim,BR 101,Terça-feira,Pleno Dia</td>\n",
       "      <td>Dupla,Urbano</td>\n",
       "      <td>0.800000</td>\n",
       "      <td>1.909564</td>\n",
       "      <td>2.905281</td>\n",
       "    </tr>\n",
       "    <tr>\n",
       "      <th>7437</th>\n",
       "      <td>Natal,Sexta-feira,Não Guardar Distância De Segurança</td>\n",
       "      <td>BR 101,Sem Vítimas</td>\n",
       "      <td>0.800000</td>\n",
       "      <td>2.016880</td>\n",
       "      <td>3.016739</td>\n",
       "    </tr>\n",
       "    <tr>\n",
       "      <th>13294</th>\n",
       "      <td>Urbano,Parnamirim,Terça-feira,Pleno Dia</td>\n",
       "      <td>Dupla,BR 101</td>\n",
       "      <td>0.800000</td>\n",
       "      <td>2.095824</td>\n",
       "      <td>3.091443</td>\n",
       "    </tr>\n",
       "    <tr>\n",
       "      <th>13727</th>\n",
       "      <td>Natal,Sexta-feira,Não Guardar Distância De Segurança</td>\n",
       "      <td>Urbano,BR 101,Sem Vítimas</td>\n",
       "      <td>0.800000</td>\n",
       "      <td>2.191704</td>\n",
       "      <td>3.174936</td>\n",
       "    </tr>\n",
       "    <tr>\n",
       "      <th>14164</th>\n",
       "      <td>Parnamirim,Céu Claro,Pleno Dia,Não Guardar Distância De Segurança</td>\n",
       "      <td>Urbano,Colisão Traseira</td>\n",
       "      <td>0.800000</td>\n",
       "      <td>2.266878</td>\n",
       "      <td>3.235459</td>\n",
       "    </tr>\n",
       "    <tr>\n",
       "      <th>850</th>\n",
       "      <td>Sábado,Rural</td>\n",
       "      <td>Simples</td>\n",
       "      <td>0.800200</td>\n",
       "      <td>1.883106</td>\n",
       "      <td>2.878195</td>\n",
       "    </tr>\n",
       "    <tr>\n",
       "      <th>601</th>\n",
       "      <td>Simples,Setembro</td>\n",
       "      <td>Céu Claro</td>\n",
       "      <td>0.800239</td>\n",
       "      <td>1.181038</td>\n",
       "      <td>1.614067</td>\n",
       "    </tr>\n",
       "    <tr>\n",
       "      <th>12436</th>\n",
       "      <td>Dupla,Segunda-feira,Pleno Dia,Céu Claro</td>\n",
       "      <td>Urbano,BR 101</td>\n",
       "      <td>0.800259</td>\n",
       "      <td>1.605522</td>\n",
       "      <td>2.511047</td>\n",
       "    </tr>\n",
       "    <tr>\n",
       "      <th>10306</th>\n",
       "      <td>Sol,Colisão Lateral,Sem Vítimas,Urbano</td>\n",
       "      <td>BR 101,Pleno Dia</td>\n",
       "      <td>0.800412</td>\n",
       "      <td>2.199331</td>\n",
       "      <td>3.186887</td>\n",
       "    </tr>\n",
       "    <tr>\n",
       "      <th>8735</th>\n",
       "      <td>Urbano,Múltipla,Pleno Dia,Não Guardar Distância De Segurança</td>\n",
       "      <td>Colisão Traseira</td>\n",
       "      <td>0.800420</td>\n",
       "      <td>1.928590</td>\n",
       "      <td>2.931014</td>\n",
       "    </tr>\n",
       "    <tr>\n",
       "      <th>10432</th>\n",
       "      <td>Dupla,Parnamirim,Céu Claro,Não Guardar Distância De Segurança</td>\n",
       "      <td>BR 101,Colisão Traseira</td>\n",
       "      <td>0.800429</td>\n",
       "      <td>2.690525</td>\n",
       "      <td>3.520058</td>\n",
       "    </tr>\n",
       "    <tr>\n",
       "      <th>11956</th>\n",
       "      <td>BR 101,Segunda-feira,Não Guardar Distância De Segurança,Urbano,Colisão Traseira</td>\n",
       "      <td>Pleno Dia</td>\n",
       "      <td>0.800448</td>\n",
       "      <td>1.314321</td>\n",
       "      <td>1.959291</td>\n",
       "    </tr>\n",
       "    <tr>\n",
       "      <th>11107</th>\n",
       "      <td>Dupla,Parnamirim,Não Guardar Distância De Segurança</td>\n",
       "      <td>Urbano,BR 101,Colisão Traseira</td>\n",
       "      <td>0.800508</td>\n",
       "      <td>2.854055</td>\n",
       "      <td>3.606761</td>\n",
       "    </tr>\n",
       "    <tr>\n",
       "      <th>7792</th>\n",
       "      <td>BR 110,Céu Claro,Sem Vítimas</td>\n",
       "      <td>Mossoro,Urbano</td>\n",
       "      <td>0.800532</td>\n",
       "      <td>6.476702</td>\n",
       "      <td>4.393676</td>\n",
       "    </tr>\n",
       "    <tr>\n",
       "      <th>9085</th>\n",
       "      <td>Mossoro,Sol,Com Vítimas Feridas</td>\n",
       "      <td>Urbano,Pleno Dia</td>\n",
       "      <td>0.800546</td>\n",
       "      <td>1.703731</td>\n",
       "      <td>2.657869</td>\n",
       "    </tr>\n",
       "    <tr>\n",
       "      <th>1150</th>\n",
       "      <td>Simples,Atropelamento De Animal,Céu Claro</td>\n",
       "      <td>Rural</td>\n",
       "      <td>0.800712</td>\n",
       "      <td>3.060064</td>\n",
       "      <td>3.704859</td>\n",
       "    </tr>\n",
       "    <tr>\n",
       "      <th>7846</th>\n",
       "      <td>Macaiba,Colisão Traseira,Sem Vítimas</td>\n",
       "      <td>Simples,BR 304</td>\n",
       "      <td>0.800752</td>\n",
       "      <td>5.078394</td>\n",
       "      <td>4.227502</td>\n",
       "    </tr>\n",
       "    <tr>\n",
       "      <th>13101</th>\n",
       "      <td>Sol,Dupla,BR 101,Natal</td>\n",
       "      <td>Pleno Dia,Sem Vítimas</td>\n",
       "      <td>0.800872</td>\n",
       "      <td>2.059738</td>\n",
       "      <td>3.069272</td>\n",
       "    </tr>\n",
       "    <tr>\n",
       "      <th>3034</th>\n",
       "      <td>Múltipla,Plena Noite,Colisão Traseira</td>\n",
       "      <td>Natal</td>\n",
       "      <td>0.800875</td>\n",
       "      <td>2.712055</td>\n",
       "      <td>3.538978</td>\n",
       "    </tr>\n",
       "    <tr>\n",
       "      <th>8727</th>\n",
       "      <td>Múltipla,Plena Noite,Colisão Traseira</td>\n",
       "      <td>Urbano,Natal</td>\n",
       "      <td>0.800875</td>\n",
       "      <td>2.772056</td>\n",
       "      <td>3.571077</td>\n",
       "    </tr>\n",
       "    <tr>\n",
       "      <th>1161</th>\n",
       "      <td>BR 101,Atropelamento De Pessoa</td>\n",
       "      <td>Urbano,Com Vítimas Feridas</td>\n",
       "      <td>0.801153</td>\n",
       "      <td>3.144810</td>\n",
       "      <td>3.747832</td>\n",
       "    </tr>\n",
       "    <tr>\n",
       "      <th>16361</th>\n",
       "      <td>Sol,Parnamirim,Colisão Traseira,Urbano</td>\n",
       "      <td>BR 101,Pleno Dia,Sem Vítimas</td>\n",
       "      <td>0.801170</td>\n",
       "      <td>2.979922</td>\n",
       "      <td>3.677225</td>\n",
       "    </tr>\n",
       "    <tr>\n",
       "      <th>13347</th>\n",
       "      <td>Sol,Dupla,Segunda-feira</td>\n",
       "      <td>Urbano,BR 101,Pleno Dia</td>\n",
       "      <td>0.801242</td>\n",
       "      <td>2.437615</td>\n",
       "      <td>3.377482</td>\n",
       "    </tr>\n",
       "    <tr>\n",
       "      <th>13810</th>\n",
       "      <td>Sol,BR 101,Não Guardar Distância De Segurança</td>\n",
       "      <td>Urbano,Pleno Dia,Sem Vítimas</td>\n",
       "      <td>0.801358</td>\n",
       "      <td>2.516572</td>\n",
       "      <td>3.431139</td>\n",
       "    </tr>\n",
       "    <tr>\n",
       "      <th>10069</th>\n",
       "      <td>Céu Claro,Animais Na Pista,Sem Vítimas,BR 304</td>\n",
       "      <td>Simples,Rural</td>\n",
       "      <td>0.801917</td>\n",
       "      <td>3.720086</td>\n",
       "      <td>3.960136</td>\n",
       "    </tr>\n",
       "    <tr>\n",
       "      <th>88</th>\n",
       "      <td>Animais Na Pista,Rural</td>\n",
       "      <td>Atropelamento De Animal</td>\n",
       "      <td>0.801928</td>\n",
       "      <td>15.694969</td>\n",
       "      <td>4.790713</td>\n",
       "    </tr>\n",
       "    <tr>\n",
       "      <th>393</th>\n",
       "      <td>Macaiba,Simples</td>\n",
       "      <td>BR 304</td>\n",
       "      <td>0.802083</td>\n",
       "      <td>3.903899</td>\n",
       "      <td>4.014533</td>\n",
       "    </tr>\n",
       "    <tr>\n",
       "      <th>7851</th>\n",
       "      <td>Pleno Dia,BR 304,Não Guardar Distância De Segurança</td>\n",
       "      <td>Simples,Colisão Traseira</td>\n",
       "      <td>0.802548</td>\n",
       "      <td>6.759548</td>\n",
       "      <td>4.463216</td>\n",
       "    </tr>\n",
       "    <tr>\n",
       "      <th>14365</th>\n",
       "      <td>Sol,Dupla,Não Guardar Distância De Segurança</td>\n",
       "      <td>Urbano,Pleno Dia,Colisão Traseira</td>\n",
       "      <td>0.802603</td>\n",
       "      <td>3.333459</td>\n",
       "      <td>3.846200</td>\n",
       "    </tr>\n",
       "    <tr>\n",
       "      <th>9696</th>\n",
       "      <td>Sol,Rural,Falta De Atenção</td>\n",
       "      <td>Simples,Pleno Dia</td>\n",
       "      <td>0.803279</td>\n",
       "      <td>3.374337</td>\n",
       "      <td>3.873219</td>\n",
       "    </tr>\n",
       "    <tr>\n",
       "      <th>4407</th>\n",
       "      <td>Simples,Atropelamento De Animal,Com Vítimas Feridas</td>\n",
       "      <td>Animais Na Pista,Céu Claro</td>\n",
       "      <td>0.803419</td>\n",
       "      <td>16.153558</td>\n",
       "      <td>4.833950</td>\n",
       "    </tr>\n",
       "    <tr>\n",
       "      <th>11369</th>\n",
       "      <td>Falta De Atenção,Múltipla,Colisão Traseira,Sem Vítimas</td>\n",
       "      <td>BR 101,Natal</td>\n",
       "      <td>0.803974</td>\n",
       "      <td>2.935395</td>\n",
       "      <td>3.704145</td>\n",
       "    </tr>\n",
       "    <tr>\n",
       "      <th>16026</th>\n",
       "      <td>Falta De Atenção,Múltipla,Colisão Traseira,Sem Vítimas</td>\n",
       "      <td>Urbano,BR 101,Natal</td>\n",
       "      <td>0.803974</td>\n",
       "      <td>2.989019</td>\n",
       "      <td>3.729212</td>\n",
       "    </tr>\n",
       "    <tr>\n",
       "      <th>10061</th>\n",
       "      <td>Animais Na Pista,Rural,Plena Noite,Sem Vítimas</td>\n",
       "      <td>Simples,Atropelamento De Animal</td>\n",
       "      <td>0.804481</td>\n",
       "      <td>19.326065</td>\n",
       "      <td>4.901680</td>\n",
       "    </tr>\n",
       "    <tr>\n",
       "      <th>2542</th>\n",
       "      <td>Urbano,Desobediência Às Normas De Trânsito,BR 304</td>\n",
       "      <td>Mossoro</td>\n",
       "      <td>0.804945</td>\n",
       "      <td>4.904913</td>\n",
       "      <td>4.285408</td>\n",
       "    </tr>\n",
       "    <tr>\n",
       "      <th>12497</th>\n",
       "      <td>Falta De Atenção,Múltipla,BR 101,Plena Noite</td>\n",
       "      <td>Urbano,Céu Claro</td>\n",
       "      <td>0.805774</td>\n",
       "      <td>1.636921</td>\n",
       "      <td>2.614227</td>\n",
       "    </tr>\n",
       "    <tr>\n",
       "      <th>9991</th>\n",
       "      <td>Atropelamento De Animal,Rural,Céu Claro,BR 304</td>\n",
       "      <td>Animais Na Pista,Plena Noite</td>\n",
       "      <td>0.808307</td>\n",
       "      <td>18.945256</td>\n",
       "      <td>4.994096</td>\n",
       "    </tr>\n",
       "    <tr>\n",
       "      <th>95</th>\n",
       "      <td>Atropelamento De Animal</td>\n",
       "      <td>Simples,Animais Na Pista</td>\n",
       "      <td>0.809226</td>\n",
       "      <td>15.987801</td>\n",
       "      <td>4.976488</td>\n",
       "    </tr>\n",
       "    <tr>\n",
       "      <th>16953</th>\n",
       "      <td>Sol,Múltipla,Natal</td>\n",
       "      <td>Urbano,BR 101,Pleno Dia,Sem Vítimas</td>\n",
       "      <td>0.810160</td>\n",
       "      <td>3.245828</td>\n",
       "      <td>3.952809</td>\n",
       "    </tr>\n",
       "    <tr>\n",
       "      <th>9986</th>\n",
       "      <td>Atropelamento De Animal,BR 304,Animais Na Pista,Céu Claro,Rural</td>\n",
       "      <td>Plena Noite</td>\n",
       "      <td>0.810897</td>\n",
       "      <td>2.695311</td>\n",
       "      <td>3.697174</td>\n",
       "    </tr>\n",
       "    <tr>\n",
       "      <th>9282</th>\n",
       "      <td>Mossoro,Rural,Plena Noite</td>\n",
       "      <td>Simples,Céu Claro</td>\n",
       "      <td>0.811414</td>\n",
       "      <td>2.673598</td>\n",
       "      <td>3.693328</td>\n",
       "    </tr>\n",
       "    <tr>\n",
       "      <th>10028</th>\n",
       "      <td>Atropelamento De Animal,Sem Vítimas,BR 304</td>\n",
       "      <td>Simples,Animais Na Pista,Rural</td>\n",
       "      <td>0.811550</td>\n",
       "      <td>19.955524</td>\n",
       "      <td>5.090649</td>\n",
       "    </tr>\n",
       "    <tr>\n",
       "      <th>2625</th>\n",
       "      <td>Chuva,Não Guardar Distância De Segurança</td>\n",
       "      <td>Sem Vítimas,Colisão Traseira</td>\n",
       "      <td>0.813008</td>\n",
       "      <td>2.521212</td>\n",
       "      <td>3.623327</td>\n",
       "    </tr>\n",
       "    <tr>\n",
       "      <th>4460</th>\n",
       "      <td>Simples,Atropelamento De Animal,Sem Vítimas</td>\n",
       "      <td>Animais Na Pista,Rural</td>\n",
       "      <td>0.814701</td>\n",
       "      <td>17.873449</td>\n",
       "      <td>5.150704</td>\n",
       "    </tr>\n",
       "    <tr>\n",
       "      <th>11130</th>\n",
       "      <td>Sol,Dupla,BR 101,Não Guardar Distância De Segurança</td>\n",
       "      <td>Pleno Dia,Colisão Traseira</td>\n",
       "      <td>0.815534</td>\n",
       "      <td>2.901840</td>\n",
       "      <td>3.897519</td>\n",
       "    </tr>\n",
       "    <tr>\n",
       "      <th>149</th>\n",
       "      <td>Falta De Atenção,Atropelamento De Pessoa</td>\n",
       "      <td>Com Vítimas Feridas</td>\n",
       "      <td>0.820779</td>\n",
       "      <td>2.221642</td>\n",
       "      <td>3.518302</td>\n",
       "    </tr>\n",
       "    <tr>\n",
       "      <th>7946</th>\n",
       "      <td>Urbano,Chuva,Não Guardar Distância De Segurança</td>\n",
       "      <td>Colisão Traseira,Sem Vítimas</td>\n",
       "      <td>0.822086</td>\n",
       "      <td>2.549362</td>\n",
       "      <td>3.808201</td>\n",
       "    </tr>\n",
       "    <tr>\n",
       "      <th>1126</th>\n",
       "      <td>Assu</td>\n",
       "      <td>Simples,Rural,BR 304</td>\n",
       "      <td>0.851852</td>\n",
       "      <td>9.447743</td>\n",
       "      <td>6.141389</td>\n",
       "    </tr>\n",
       "    <tr>\n",
       "      <th>1123</th>\n",
       "      <td>Simples,Assu</td>\n",
       "      <td>Rural,BR 304</td>\n",
       "      <td>0.860544</td>\n",
       "      <td>8.500846</td>\n",
       "      <td>6.444835</td>\n",
       "    </tr>\n",
       "    <tr>\n",
       "      <th>413</th>\n",
       "      <td>Caico</td>\n",
       "      <td>BR 427,Simples</td>\n",
       "      <td>0.957096</td>\n",
       "      <td>39.275442</td>\n",
       "      <td>22.739712</td>\n",
       "    </tr>\n",
       "    <tr>\n",
       "      <th>1002</th>\n",
       "      <td>Atropelamento De Animal,Com Vítimas Feridas,Céu Claro</td>\n",
       "      <td>Animais Na Pista</td>\n",
       "      <td>0.981627</td>\n",
       "      <td>15.641053</td>\n",
       "      <td>51.012652</td>\n",
       "    </tr>\n",
       "  </tbody>\n",
       "</table>\n",
       "</div>"
      ],
      "text/plain": [
       "                                                                          antecedentes  \\\n",
       "3823                                          Falta De Atenção,Sexta-feira,Plena Noite   \n",
       "3109                       Colisão Traseira,Nublado,Não Guardar Distância De Segurança   \n",
       "10381                             Urbano,Dezembro,Céu Claro,Pleno Dia,Colisão Traseira   \n",
       "9664                                               Falta De Atenção,Quarta-feira,Natal   \n",
       "6874                                                      Sol,Parnamirim,BR 101,Urbano   \n",
       "13292                                          Parnamirim,BR 101,Terça-feira,Pleno Dia   \n",
       "7437                              Natal,Sexta-feira,Não Guardar Distância De Segurança   \n",
       "13294                                          Urbano,Parnamirim,Terça-feira,Pleno Dia   \n",
       "13727                             Natal,Sexta-feira,Não Guardar Distância De Segurança   \n",
       "14164                Parnamirim,Céu Claro,Pleno Dia,Não Guardar Distância De Segurança   \n",
       "850                                                                       Sábado,Rural   \n",
       "601                                                                   Simples,Setembro   \n",
       "12436                                          Dupla,Segunda-feira,Pleno Dia,Céu Claro   \n",
       "10306                                           Sol,Colisão Lateral,Sem Vítimas,Urbano   \n",
       "8735                      Urbano,Múltipla,Pleno Dia,Não Guardar Distância De Segurança   \n",
       "10432                    Dupla,Parnamirim,Céu Claro,Não Guardar Distância De Segurança   \n",
       "11956  BR 101,Segunda-feira,Não Guardar Distância De Segurança,Urbano,Colisão Traseira   \n",
       "11107                              Dupla,Parnamirim,Não Guardar Distância De Segurança   \n",
       "7792                                                      BR 110,Céu Claro,Sem Vítimas   \n",
       "9085                                                   Mossoro,Sol,Com Vítimas Feridas   \n",
       "1150                                         Simples,Atropelamento De Animal,Céu Claro   \n",
       "7846                                              Macaiba,Colisão Traseira,Sem Vítimas   \n",
       "13101                                                           Sol,Dupla,BR 101,Natal   \n",
       "3034                                             Múltipla,Plena Noite,Colisão Traseira   \n",
       "8727                                             Múltipla,Plena Noite,Colisão Traseira   \n",
       "1161                                                    BR 101,Atropelamento De Pessoa   \n",
       "16361                                           Sol,Parnamirim,Colisão Traseira,Urbano   \n",
       "13347                                                          Sol,Dupla,Segunda-feira   \n",
       "13810                                    Sol,BR 101,Não Guardar Distância De Segurança   \n",
       "10069                                    Céu Claro,Animais Na Pista,Sem Vítimas,BR 304   \n",
       "88                                                              Animais Na Pista,Rural   \n",
       "393                                                                    Macaiba,Simples   \n",
       "7851                               Pleno Dia,BR 304,Não Guardar Distância De Segurança   \n",
       "14365                                     Sol,Dupla,Não Guardar Distância De Segurança   \n",
       "9696                                                        Sol,Rural,Falta De Atenção   \n",
       "4407                               Simples,Atropelamento De Animal,Com Vítimas Feridas   \n",
       "11369                           Falta De Atenção,Múltipla,Colisão Traseira,Sem Vítimas   \n",
       "16026                           Falta De Atenção,Múltipla,Colisão Traseira,Sem Vítimas   \n",
       "10061                                   Animais Na Pista,Rural,Plena Noite,Sem Vítimas   \n",
       "2542                                 Urbano,Desobediência Às Normas De Trânsito,BR 304   \n",
       "12497                                     Falta De Atenção,Múltipla,BR 101,Plena Noite   \n",
       "9991                                    Atropelamento De Animal,Rural,Céu Claro,BR 304   \n",
       "95                                                             Atropelamento De Animal   \n",
       "16953                                                               Sol,Múltipla,Natal   \n",
       "9986                   Atropelamento De Animal,BR 304,Animais Na Pista,Céu Claro,Rural   \n",
       "9282                                                         Mossoro,Rural,Plena Noite   \n",
       "10028                                       Atropelamento De Animal,Sem Vítimas,BR 304   \n",
       "2625                                          Chuva,Não Guardar Distância De Segurança   \n",
       "4460                                       Simples,Atropelamento De Animal,Sem Vítimas   \n",
       "11130                              Sol,Dupla,BR 101,Não Guardar Distância De Segurança   \n",
       "149                                           Falta De Atenção,Atropelamento De Pessoa   \n",
       "7946                                   Urbano,Chuva,Não Guardar Distância De Segurança   \n",
       "1126                                                                              Assu   \n",
       "1123                                                                      Simples,Assu   \n",
       "413                                                                              Caico   \n",
       "1002                             Atropelamento De Animal,Com Vítimas Feridas,Céu Claro   \n",
       "\n",
       "                             consequências  confiança       lift  convicção  \n",
       "3823                                Urbano   0.800000   1.083519   1.308325  \n",
       "3109                           Sem Vítimas   0.800000   1.338162   2.010826  \n",
       "10381                               BR 101   0.800000   1.429175   2.201182  \n",
       "9664                    Urbano,Sem Vítimas   0.800000   1.699101   2.645813  \n",
       "6874                                 Dupla   0.800000   1.725898   2.682367  \n",
       "13292                         Dupla,Urbano   0.800000   1.909564   2.905281  \n",
       "7437                    BR 101,Sem Vítimas   0.800000   2.016880   3.016739  \n",
       "13294                         Dupla,BR 101   0.800000   2.095824   3.091443  \n",
       "13727            Urbano,BR 101,Sem Vítimas   0.800000   2.191704   3.174936  \n",
       "14164              Urbano,Colisão Traseira   0.800000   2.266878   3.235459  \n",
       "850                                Simples   0.800200   1.883106   2.878195  \n",
       "601                              Céu Claro   0.800239   1.181038   1.614067  \n",
       "12436                        Urbano,BR 101   0.800259   1.605522   2.511047  \n",
       "10306                     BR 101,Pleno Dia   0.800412   2.199331   3.186887  \n",
       "8735                      Colisão Traseira   0.800420   1.928590   2.931014  \n",
       "10432              BR 101,Colisão Traseira   0.800429   2.690525   3.520058  \n",
       "11956                            Pleno Dia   0.800448   1.314321   1.959291  \n",
       "11107       Urbano,BR 101,Colisão Traseira   0.800508   2.854055   3.606761  \n",
       "7792                        Mossoro,Urbano   0.800532   6.476702   4.393676  \n",
       "9085                      Urbano,Pleno Dia   0.800546   1.703731   2.657869  \n",
       "1150                                 Rural   0.800712   3.060064   3.704859  \n",
       "7846                        Simples,BR 304   0.800752   5.078394   4.227502  \n",
       "13101                Pleno Dia,Sem Vítimas   0.800872   2.059738   3.069272  \n",
       "3034                                 Natal   0.800875   2.712055   3.538978  \n",
       "8727                          Urbano,Natal   0.800875   2.772056   3.571077  \n",
       "1161            Urbano,Com Vítimas Feridas   0.801153   3.144810   3.747832  \n",
       "16361         BR 101,Pleno Dia,Sem Vítimas   0.801170   2.979922   3.677225  \n",
       "13347              Urbano,BR 101,Pleno Dia   0.801242   2.437615   3.377482  \n",
       "13810         Urbano,Pleno Dia,Sem Vítimas   0.801358   2.516572   3.431139  \n",
       "10069                        Simples,Rural   0.801917   3.720086   3.960136  \n",
       "88                 Atropelamento De Animal   0.801928  15.694969   4.790713  \n",
       "393                                 BR 304   0.802083   3.903899   4.014533  \n",
       "7851              Simples,Colisão Traseira   0.802548   6.759548   4.463216  \n",
       "14365    Urbano,Pleno Dia,Colisão Traseira   0.802603   3.333459   3.846200  \n",
       "9696                     Simples,Pleno Dia   0.803279   3.374337   3.873219  \n",
       "4407            Animais Na Pista,Céu Claro   0.803419  16.153558   4.833950  \n",
       "11369                         BR 101,Natal   0.803974   2.935395   3.704145  \n",
       "16026                  Urbano,BR 101,Natal   0.803974   2.989019   3.729212  \n",
       "10061      Simples,Atropelamento De Animal   0.804481  19.326065   4.901680  \n",
       "2542                               Mossoro   0.804945   4.904913   4.285408  \n",
       "12497                     Urbano,Céu Claro   0.805774   1.636921   2.614227  \n",
       "9991          Animais Na Pista,Plena Noite   0.808307  18.945256   4.994096  \n",
       "95                Simples,Animais Na Pista   0.809226  15.987801   4.976488  \n",
       "16953  Urbano,BR 101,Pleno Dia,Sem Vítimas   0.810160   3.245828   3.952809  \n",
       "9986                           Plena Noite   0.810897   2.695311   3.697174  \n",
       "9282                     Simples,Céu Claro   0.811414   2.673598   3.693328  \n",
       "10028       Simples,Animais Na Pista,Rural   0.811550  19.955524   5.090649  \n",
       "2625          Sem Vítimas,Colisão Traseira   0.813008   2.521212   3.623327  \n",
       "4460                Animais Na Pista,Rural   0.814701  17.873449   5.150704  \n",
       "11130           Pleno Dia,Colisão Traseira   0.815534   2.901840   3.897519  \n",
       "149                    Com Vítimas Feridas   0.820779   2.221642   3.518302  \n",
       "7946          Colisão Traseira,Sem Vítimas   0.822086   2.549362   3.808201  \n",
       "1126                  Simples,Rural,BR 304   0.851852   9.447743   6.141389  \n",
       "1123                          Rural,BR 304   0.860544   8.500846   6.444835  \n",
       "413                         BR 427,Simples   0.957096  39.275442  22.739712  \n",
       "1002                      Animais Na Pista   0.981627  15.641053  51.012652  "
      ]
     },
     "execution_count": 93,
     "metadata": {},
     "output_type": "execute_result"
    }
   ],
   "source": [
    "regras_1[regras_1['confiança']<1].sort_values(by=['confiança','lift','convicção'],ascending=True).drop_duplicates('consequências').head(62)"
   ]
  },
  {
   "cell_type": "markdown",
   "metadata": {},
   "source": [
    "Explorar regras de associação encontradas para o segundo caso."
   ]
  },
  {
   "cell_type": "code",
   "execution_count": 94,
   "metadata": {},
   "outputs": [
    {
     "data": {
      "text/plain": [
       "(7708, 5)"
      ]
     },
     "execution_count": 94,
     "metadata": {},
     "output_type": "execute_result"
    }
   ],
   "source": [
    "regras_2.shape"
   ]
  },
  {
   "cell_type": "code",
   "execution_count": 95,
   "metadata": {},
   "outputs": [
    {
     "data": {
      "text/html": [
       "<div>\n",
       "<style scoped>\n",
       "    .dataframe tbody tr th:only-of-type {\n",
       "        vertical-align: middle;\n",
       "    }\n",
       "\n",
       "    .dataframe tbody tr th {\n",
       "        vertical-align: top;\n",
       "    }\n",
       "\n",
       "    .dataframe thead th {\n",
       "        text-align: right;\n",
       "    }\n",
       "</style>\n",
       "<table border=\"1\" class=\"dataframe\">\n",
       "  <thead>\n",
       "    <tr style=\"text-align: right;\">\n",
       "      <th></th>\n",
       "      <th>antecedentes</th>\n",
       "      <th>consequências</th>\n",
       "      <th>confiança</th>\n",
       "      <th>lift</th>\n",
       "      <th>convicção</th>\n",
       "    </tr>\n",
       "  </thead>\n",
       "  <tbody>\n",
       "    <tr>\n",
       "      <th>3547</th>\n",
       "      <td>Masculino,Abril,Sem Vítimas,Não Guardar Distância De Segurança</td>\n",
       "      <td>Condutor</td>\n",
       "      <td>1.000000</td>\n",
       "      <td>1.115465</td>\n",
       "      <td>inf</td>\n",
       "    </tr>\n",
       "    <tr>\n",
       "      <th>1175</th>\n",
       "      <td>Simples,Atropelamento De Animal,Sem Vítimas</td>\n",
       "      <td>Animais Na Pista</td>\n",
       "      <td>0.998650</td>\n",
       "      <td>23.619223</td>\n",
       "      <td>709.669587</td>\n",
       "    </tr>\n",
       "    <tr>\n",
       "      <th>5923</th>\n",
       "      <td>Simples,Condutor,adulto entre 35 e 53 anos,Ingestão De Álcool E/Ou Substâncias Psicoativas</td>\n",
       "      <td>Masculino</td>\n",
       "      <td>0.967742</td>\n",
       "      <td>1.162056</td>\n",
       "      <td>5.183694</td>\n",
       "    </tr>\n",
       "    <tr>\n",
       "      <th>6406</th>\n",
       "      <td>Simples,Atropelamento De Animal,Condutor,Sem Vítimas</td>\n",
       "      <td>Masculino,Animais Na Pista</td>\n",
       "      <td>0.964444</td>\n",
       "      <td>26.766695</td>\n",
       "      <td>27.111614</td>\n",
       "    </tr>\n",
       "    <tr>\n",
       "      <th>220</th>\n",
       "      <td>Colisão Frontal,Ultrapassagem Indevida</td>\n",
       "      <td>Simples</td>\n",
       "      <td>0.944649</td>\n",
       "      <td>2.262811</td>\n",
       "      <td>10.524427</td>\n",
       "    </tr>\n",
       "    <tr>\n",
       "      <th>1995</th>\n",
       "      <td>Janeiro,Sem Vítimas,Não Guardar Distância De Segurança</td>\n",
       "      <td>Colisão Traseira</td>\n",
       "      <td>0.941103</td>\n",
       "      <td>2.060142</td>\n",
       "      <td>9.222597</td>\n",
       "    </tr>\n",
       "    <tr>\n",
       "      <th>3652</th>\n",
       "      <td>Masculino,Atropelamento De Animal,Sem Vítimas</td>\n",
       "      <td>Animais Na Pista,Condutor</td>\n",
       "      <td>0.938903</td>\n",
       "      <td>27.564412</td>\n",
       "      <td>15.809840</td>\n",
       "    </tr>\n",
       "    <tr>\n",
       "      <th>6966</th>\n",
       "      <td>Janeiro,Masculino,Sem Vítimas,Não Guardar Distância De Segurança</td>\n",
       "      <td>Condutor,Colisão Traseira</td>\n",
       "      <td>0.927515</td>\n",
       "      <td>2.129804</td>\n",
       "      <td>7.787893</td>\n",
       "    </tr>\n",
       "    <tr>\n",
       "      <th>7509</th>\n",
       "      <td>Falta De Atenção,Simples,Sem Vítimas,pessoa de idade avançada entre 53 a 70 anos</td>\n",
       "      <td>Masculino,Condutor</td>\n",
       "      <td>0.926740</td>\n",
       "      <td>1.182776</td>\n",
       "      <td>2.954821</td>\n",
       "    </tr>\n",
       "    <tr>\n",
       "      <th>26</th>\n",
       "      <td>Queda De Ocupante De Veículo</td>\n",
       "      <td>Com Vítimas Feridas</td>\n",
       "      <td>0.918301</td>\n",
       "      <td>2.406091</td>\n",
       "      <td>7.568522</td>\n",
       "    </tr>\n",
       "    <tr>\n",
       "      <th>12</th>\n",
       "      <td>Pedestre</td>\n",
       "      <td>Atropelamento De Pessoa</td>\n",
       "      <td>0.914485</td>\n",
       "      <td>44.138323</td>\n",
       "      <td>11.451597</td>\n",
       "    </tr>\n",
       "    <tr>\n",
       "      <th>4405</th>\n",
       "      <td>Feminino,Condutor,Múltipla,Colisão Traseira</td>\n",
       "      <td>Sem Vítimas</td>\n",
       "      <td>0.892715</td>\n",
       "      <td>1.543923</td>\n",
       "      <td>3.931478</td>\n",
       "    </tr>\n",
       "    <tr>\n",
       "      <th>6413</th>\n",
       "      <td>Simples,Atropelamento De Animal,Sem Vítimas</td>\n",
       "      <td>Masculino,Animais Na Pista,Condutor</td>\n",
       "      <td>0.878543</td>\n",
       "      <td>27.478336</td>\n",
       "      <td>7.970096</td>\n",
       "    </tr>\n",
       "    <tr>\n",
       "      <th>6929</th>\n",
       "      <td>Falta De Atenção,Múltipla,adulto entre 35 e 53 anos,Colisão Traseira</td>\n",
       "      <td>Condutor,Sem Vítimas</td>\n",
       "      <td>0.877037</td>\n",
       "      <td>1.538571</td>\n",
       "      <td>3.496717</td>\n",
       "    </tr>\n",
       "    <tr>\n",
       "      <th>3682</th>\n",
       "      <td>Masculino,Atropelamento De Animal,Sem Vítimas</td>\n",
       "      <td>Simples,Animais Na Pista</td>\n",
       "      <td>0.864090</td>\n",
       "      <td>25.548922</td>\n",
       "      <td>7.108950</td>\n",
       "    </tr>\n",
       "    <tr>\n",
       "      <th>7693</th>\n",
       "      <td>Condutor,Não Guardar Distância De Segurança,Simples,Sem Vítimas,adulto entre 35 e 53 anos</td>\n",
       "      <td>Masculino,Colisão Traseira</td>\n",
       "      <td>0.854637</td>\n",
       "      <td>2.248278</td>\n",
       "      <td>4.264282</td>\n",
       "    </tr>\n",
       "    <tr>\n",
       "      <th>7696</th>\n",
       "      <td>Simples,Sem Vítimas,adulto entre 35 e 53 anos,Não Guardar Distância De Segurança</td>\n",
       "      <td>Masculino,Condutor,Colisão Traseira</td>\n",
       "      <td>0.848259</td>\n",
       "      <td>2.285384</td>\n",
       "      <td>4.144114</td>\n",
       "    </tr>\n",
       "    <tr>\n",
       "      <th>3679</th>\n",
       "      <td>Masculino,Simples,Animais Na Pista,Sem Vítimas</td>\n",
       "      <td>Atropelamento De Animal</td>\n",
       "      <td>0.836957</td>\n",
       "      <td>25.488758</td>\n",
       "      <td>5.931937</td>\n",
       "    </tr>\n",
       "    <tr>\n",
       "      <th>6407</th>\n",
       "      <td>Animais Na Pista,Atropelamento De Animal,Condutor,Sem Vítimas</td>\n",
       "      <td>Masculino,Simples</td>\n",
       "      <td>0.821970</td>\n",
       "      <td>2.320861</td>\n",
       "      <td>3.627664</td>\n",
       "    </tr>\n",
       "    <tr>\n",
       "      <th>6412</th>\n",
       "      <td>Atropelamento De Animal,Condutor,Sem Vítimas</td>\n",
       "      <td>Masculino,Simples,Animais Na Pista</td>\n",
       "      <td>0.819899</td>\n",
       "      <td>28.021859</td>\n",
       "      <td>5.389987</td>\n",
       "    </tr>\n",
       "    <tr>\n",
       "      <th>6411</th>\n",
       "      <td>Animais Na Pista,Atropelamento De Animal,Masculino,Sem Vítimas</td>\n",
       "      <td>Simples,Condutor</td>\n",
       "      <td>0.813750</td>\n",
       "      <td>2.301963</td>\n",
       "      <td>3.471127</td>\n",
       "    </tr>\n",
       "    <tr>\n",
       "      <th>6414</th>\n",
       "      <td>Masculino,Atropelamento De Animal,Sem Vítimas</td>\n",
       "      <td>Simples,Animais Na Pista,Condutor</td>\n",
       "      <td>0.811721</td>\n",
       "      <td>29.810218</td>\n",
       "      <td>5.166635</td>\n",
       "    </tr>\n",
       "  </tbody>\n",
       "</table>\n",
       "</div>"
      ],
      "text/plain": [
       "                                                                                    antecedentes  \\\n",
       "3547                              Masculino,Abril,Sem Vítimas,Não Guardar Distância De Segurança   \n",
       "1175                                                 Simples,Atropelamento De Animal,Sem Vítimas   \n",
       "5923  Simples,Condutor,adulto entre 35 e 53 anos,Ingestão De Álcool E/Ou Substâncias Psicoativas   \n",
       "6406                                        Simples,Atropelamento De Animal,Condutor,Sem Vítimas   \n",
       "220                                                       Colisão Frontal,Ultrapassagem Indevida   \n",
       "1995                                      Janeiro,Sem Vítimas,Não Guardar Distância De Segurança   \n",
       "3652                                               Masculino,Atropelamento De Animal,Sem Vítimas   \n",
       "6966                            Janeiro,Masculino,Sem Vítimas,Não Guardar Distância De Segurança   \n",
       "7509            Falta De Atenção,Simples,Sem Vítimas,pessoa de idade avançada entre 53 a 70 anos   \n",
       "26                                                                  Queda De Ocupante De Veículo   \n",
       "12                                                                                      Pedestre   \n",
       "4405                                                 Feminino,Condutor,Múltipla,Colisão Traseira   \n",
       "6413                                                 Simples,Atropelamento De Animal,Sem Vítimas   \n",
       "6929                        Falta De Atenção,Múltipla,adulto entre 35 e 53 anos,Colisão Traseira   \n",
       "3682                                               Masculino,Atropelamento De Animal,Sem Vítimas   \n",
       "7693   Condutor,Não Guardar Distância De Segurança,Simples,Sem Vítimas,adulto entre 35 e 53 anos   \n",
       "7696            Simples,Sem Vítimas,adulto entre 35 e 53 anos,Não Guardar Distância De Segurança   \n",
       "3679                                              Masculino,Simples,Animais Na Pista,Sem Vítimas   \n",
       "6407                               Animais Na Pista,Atropelamento De Animal,Condutor,Sem Vítimas   \n",
       "6412                                                Atropelamento De Animal,Condutor,Sem Vítimas   \n",
       "6411                              Animais Na Pista,Atropelamento De Animal,Masculino,Sem Vítimas   \n",
       "6414                                               Masculino,Atropelamento De Animal,Sem Vítimas   \n",
       "\n",
       "                            consequências  confiança       lift   convicção  \n",
       "3547                             Condutor   1.000000   1.115465         inf  \n",
       "1175                     Animais Na Pista   0.998650  23.619223  709.669587  \n",
       "5923                            Masculino   0.967742   1.162056    5.183694  \n",
       "6406           Masculino,Animais Na Pista   0.964444  26.766695   27.111614  \n",
       "220                               Simples   0.944649   2.262811   10.524427  \n",
       "1995                     Colisão Traseira   0.941103   2.060142    9.222597  \n",
       "3652            Animais Na Pista,Condutor   0.938903  27.564412   15.809840  \n",
       "6966            Condutor,Colisão Traseira   0.927515   2.129804    7.787893  \n",
       "7509                   Masculino,Condutor   0.926740   1.182776    2.954821  \n",
       "26                    Com Vítimas Feridas   0.918301   2.406091    7.568522  \n",
       "12                Atropelamento De Pessoa   0.914485  44.138323   11.451597  \n",
       "4405                          Sem Vítimas   0.892715   1.543923    3.931478  \n",
       "6413  Masculino,Animais Na Pista,Condutor   0.878543  27.478336    7.970096  \n",
       "6929                 Condutor,Sem Vítimas   0.877037   1.538571    3.496717  \n",
       "3682             Simples,Animais Na Pista   0.864090  25.548922    7.108950  \n",
       "7693           Masculino,Colisão Traseira   0.854637   2.248278    4.264282  \n",
       "7696  Masculino,Condutor,Colisão Traseira   0.848259   2.285384    4.144114  \n",
       "3679              Atropelamento De Animal   0.836957  25.488758    5.931937  \n",
       "6407                    Masculino,Simples   0.821970   2.320861    3.627664  \n",
       "6412   Masculino,Simples,Animais Na Pista   0.819899  28.021859    5.389987  \n",
       "6411                     Simples,Condutor   0.813750   2.301963    3.471127  \n",
       "6414    Simples,Animais Na Pista,Condutor   0.811721  29.810218    5.166635  "
      ]
     },
     "execution_count": 95,
     "metadata": {},
     "output_type": "execute_result"
    }
   ],
   "source": [
    "regras_2.sort_values(by=['confiança','lift','convicção'],ascending=False).drop_duplicates('consequências')"
   ]
  },
  {
   "cell_type": "code",
   "execution_count": 96,
   "metadata": {},
   "outputs": [
    {
     "data": {
      "text/html": [
       "<div>\n",
       "<style scoped>\n",
       "    .dataframe tbody tr th:only-of-type {\n",
       "        vertical-align: middle;\n",
       "    }\n",
       "\n",
       "    .dataframe tbody tr th {\n",
       "        vertical-align: top;\n",
       "    }\n",
       "\n",
       "    .dataframe thead th {\n",
       "        text-align: right;\n",
       "    }\n",
       "</style>\n",
       "<table border=\"1\" class=\"dataframe\">\n",
       "  <thead>\n",
       "    <tr style=\"text-align: right;\">\n",
       "      <th></th>\n",
       "      <th>antecedentes</th>\n",
       "      <th>consequências</th>\n",
       "      <th>confiança</th>\n",
       "      <th>lift</th>\n",
       "      <th>convicção</th>\n",
       "    </tr>\n",
       "  </thead>\n",
       "  <tbody>\n",
       "    <tr>\n",
       "      <th>10</th>\n",
       "      <td>Atropelamento De Pessoa</td>\n",
       "      <td>Com Vítimas Feridas</td>\n",
       "      <td>0.831232</td>\n",
       "      <td>2.177957</td>\n",
       "      <td>3.663862</td>\n",
       "    </tr>\n",
       "    <tr>\n",
       "      <th>26</th>\n",
       "      <td>Queda De Ocupante De Veículo</td>\n",
       "      <td>Com Vítimas Feridas</td>\n",
       "      <td>0.918301</td>\n",
       "      <td>2.406091</td>\n",
       "      <td>7.568522</td>\n",
       "    </tr>\n",
       "    <tr>\n",
       "      <th>201</th>\n",
       "      <td>Dupla,Atropelamento De Pessoa</td>\n",
       "      <td>Com Vítimas Feridas</td>\n",
       "      <td>0.864909</td>\n",
       "      <td>2.266197</td>\n",
       "      <td>4.577249</td>\n",
       "    </tr>\n",
       "    <tr>\n",
       "      <th>202</th>\n",
       "      <td>Falta De Atenção,Atropelamento De Pessoa</td>\n",
       "      <td>Com Vítimas Feridas</td>\n",
       "      <td>0.823872</td>\n",
       "      <td>2.158673</td>\n",
       "      <td>3.510759</td>\n",
       "    </tr>\n",
       "    <tr>\n",
       "      <th>203</th>\n",
       "      <td>Masculino,Atropelamento De Pessoa</td>\n",
       "      <td>Com Vítimas Feridas</td>\n",
       "      <td>0.817964</td>\n",
       "      <td>2.143193</td>\n",
       "      <td>3.396820</td>\n",
       "    </tr>\n",
       "    <tr>\n",
       "      <th>284</th>\n",
       "      <td>Colisão Transversal,Passageiro</td>\n",
       "      <td>Com Vítimas Feridas</td>\n",
       "      <td>0.818086</td>\n",
       "      <td>2.143513</td>\n",
       "      <td>3.399101</td>\n",
       "    </tr>\n",
       "    <tr>\n",
       "      <th>447</th>\n",
       "      <td>Dupla,Passageiro</td>\n",
       "      <td>Com Vítimas Feridas</td>\n",
       "      <td>0.861871</td>\n",
       "      <td>2.258235</td>\n",
       "      <td>4.476548</td>\n",
       "    </tr>\n",
       "    <tr>\n",
       "      <th>448</th>\n",
       "      <td>Falta De Atenção,Passageiro</td>\n",
       "      <td>Com Vítimas Feridas</td>\n",
       "      <td>0.808046</td>\n",
       "      <td>2.117206</td>\n",
       "      <td>3.221309</td>\n",
       "    </tr>\n",
       "    <tr>\n",
       "      <th>1585</th>\n",
       "      <td>Feminino,Passageiro,Colisão Traseira</td>\n",
       "      <td>Com Vítimas Feridas</td>\n",
       "      <td>0.823817</td>\n",
       "      <td>2.158530</td>\n",
       "      <td>3.509671</td>\n",
       "    </tr>\n",
       "    <tr>\n",
       "      <th>2256</th>\n",
       "      <td>Dupla,Passageiro,Falta De Atenção</td>\n",
       "      <td>Com Vítimas Feridas</td>\n",
       "      <td>0.861592</td>\n",
       "      <td>2.257505</td>\n",
       "      <td>4.467530</td>\n",
       "    </tr>\n",
       "    <tr>\n",
       "      <th>2257</th>\n",
       "      <td>Dupla,Feminino,Passageiro</td>\n",
       "      <td>Com Vítimas Feridas</td>\n",
       "      <td>0.877527</td>\n",
       "      <td>2.299257</td>\n",
       "      <td>5.048803</td>\n",
       "    </tr>\n",
       "    <tr>\n",
       "      <th>2272</th>\n",
       "      <td>jovem adulto entre 18 e 35 anos,Dupla,Passageiro</td>\n",
       "      <td>Com Vítimas Feridas</td>\n",
       "      <td>0.864365</td>\n",
       "      <td>2.264771</td>\n",
       "      <td>4.558877</td>\n",
       "    </tr>\n",
       "    <tr>\n",
       "      <th>2273</th>\n",
       "      <td>Falta De Atenção,Feminino,Passageiro</td>\n",
       "      <td>Com Vítimas Feridas</td>\n",
       "      <td>0.840976</td>\n",
       "      <td>2.203487</td>\n",
       "      <td>3.888355</td>\n",
       "    </tr>\n",
       "    <tr>\n",
       "      <th>2281</th>\n",
       "      <td>jovem adulto entre 18 e 35 anos,Falta De Atenção,Passageiro</td>\n",
       "      <td>Com Vítimas Feridas</td>\n",
       "      <td>0.809689</td>\n",
       "      <td>2.121510</td>\n",
       "      <td>3.249113</td>\n",
       "    </tr>\n",
       "    <tr>\n",
       "      <th>2282</th>\n",
       "      <td>jovem adulto entre 18 e 35 anos,Feminino,Passageiro</td>\n",
       "      <td>Com Vítimas Feridas</td>\n",
       "      <td>0.811321</td>\n",
       "      <td>2.125787</td>\n",
       "      <td>3.277220</td>\n",
       "    </tr>\n",
       "    <tr>\n",
       "      <th>5285</th>\n",
       "      <td>Falta De Atenção,Feminino,Passageiro,Simples</td>\n",
       "      <td>Com Vítimas Feridas</td>\n",
       "      <td>0.824013</td>\n",
       "      <td>2.159043</td>\n",
       "      <td>3.513577</td>\n",
       "    </tr>\n",
       "  </tbody>\n",
       "</table>\n",
       "</div>"
      ],
      "text/plain": [
       "                                                     antecedentes  \\\n",
       "10                                        Atropelamento De Pessoa   \n",
       "26                                   Queda De Ocupante De Veículo   \n",
       "201                                 Dupla,Atropelamento De Pessoa   \n",
       "202                      Falta De Atenção,Atropelamento De Pessoa   \n",
       "203                             Masculino,Atropelamento De Pessoa   \n",
       "284                                Colisão Transversal,Passageiro   \n",
       "447                                              Dupla,Passageiro   \n",
       "448                                   Falta De Atenção,Passageiro   \n",
       "1585                         Feminino,Passageiro,Colisão Traseira   \n",
       "2256                            Dupla,Passageiro,Falta De Atenção   \n",
       "2257                                    Dupla,Feminino,Passageiro   \n",
       "2272             jovem adulto entre 18 e 35 anos,Dupla,Passageiro   \n",
       "2273                         Falta De Atenção,Feminino,Passageiro   \n",
       "2281  jovem adulto entre 18 e 35 anos,Falta De Atenção,Passageiro   \n",
       "2282          jovem adulto entre 18 e 35 anos,Feminino,Passageiro   \n",
       "5285                 Falta De Atenção,Feminino,Passageiro,Simples   \n",
       "\n",
       "            consequências  confiança      lift  convicção  \n",
       "10    Com Vítimas Feridas   0.831232  2.177957   3.663862  \n",
       "26    Com Vítimas Feridas   0.918301  2.406091   7.568522  \n",
       "201   Com Vítimas Feridas   0.864909  2.266197   4.577249  \n",
       "202   Com Vítimas Feridas   0.823872  2.158673   3.510759  \n",
       "203   Com Vítimas Feridas   0.817964  2.143193   3.396820  \n",
       "284   Com Vítimas Feridas   0.818086  2.143513   3.399101  \n",
       "447   Com Vítimas Feridas   0.861871  2.258235   4.476548  \n",
       "448   Com Vítimas Feridas   0.808046  2.117206   3.221309  \n",
       "1585  Com Vítimas Feridas   0.823817  2.158530   3.509671  \n",
       "2256  Com Vítimas Feridas   0.861592  2.257505   4.467530  \n",
       "2257  Com Vítimas Feridas   0.877527  2.299257   5.048803  \n",
       "2272  Com Vítimas Feridas   0.864365  2.264771   4.558877  \n",
       "2273  Com Vítimas Feridas   0.840976  2.203487   3.888355  \n",
       "2281  Com Vítimas Feridas   0.809689  2.121510   3.249113  \n",
       "2282  Com Vítimas Feridas   0.811321  2.125787   3.277220  \n",
       "5285  Com Vítimas Feridas   0.824013  2.159043   3.513577  "
      ]
     },
     "execution_count": 96,
     "metadata": {},
     "output_type": "execute_result"
    }
   ],
   "source": [
    "regras_2[regras_2['consequências'] == 'Com Vítimas Feridas']"
   ]
  },
  {
   "cell_type": "markdown",
   "metadata": {},
   "source": [
    "[Voltar ao Índice](#%C3%8Dndice)"
   ]
  }
 ],
 "metadata": {
  "kernelspec": {
   "display_name": "Python 3",
   "language": "python",
   "name": "python3"
  },
  "language_info": {
   "codemirror_mode": {
    "name": "ipython",
    "version": 3
   },
   "file_extension": ".py",
   "mimetype": "text/x-python",
   "name": "python",
   "nbconvert_exporter": "python",
   "pygments_lexer": "ipython3",
   "version": "3.7.0"
  }
 },
 "nbformat": 4,
 "nbformat_minor": 2
}
